{
 "cells": [
  {
   "cell_type": "markdown",
   "id": "7e07d89d-c945-4073-806a-a48fb4d73262",
   "metadata": {},
   "source": [
    "# Ch 6 (?)"
   ]
  },
  {
   "cell_type": "markdown",
   "id": "e4122891-01b7-43aa-86b6-5b67ada4dee9",
   "metadata": {},
   "source": [
    "# IMPORTS"
   ]
  },
  {
   "cell_type": "code",
   "execution_count": 1,
   "id": "d18bf6a8-7997-498f-b253-94d0f4d9685a",
   "metadata": {
    "tags": []
   },
   "outputs": [],
   "source": [
    "import random\n",
    "import pickle\n",
    "import glob\n",
    "\n",
    "import random\n",
    "import ast\n",
    "\n",
    "import numpy as np\n",
    "import pandas as pd\n",
    "\n",
    "import matplotlib.pyplot as plt\n",
    "import matplotlib.transforms as transforms\n",
    "\n",
    "from collections import Counter\n",
    "\n",
    "from time import time\n",
    "from time import sleep\n",
    "from time import strftime\n",
    "from time import localtime\n",
    "from tqdm import tqdm\n",
    "\n",
    "from datetime import date, timedelta, datetime\n",
    "\n",
    "# from mydecorators import logger, stopwatch\n",
    "\n",
    "\n",
    "\n"
   ]
  },
  {
   "cell_type": "code",
   "execution_count": 2,
   "id": "cd0bf6cb-bd5a-42e6-ae71-4cdb1d454b5e",
   "metadata": {
    "tags": []
   },
   "outputs": [],
   "source": [
    "def streak_counter(llist):\n",
    "  result_dict = {\n",
    "    ### 0 for Loss\n",
    "    0: [],\n",
    "    ### 1 for Win \n",
    "    1: []    \n",
    "  }\n",
    "\n",
    "  streak_size = 1\n",
    "\n",
    "  for i in range(len(llist)):\n",
    "    if i != len(llist)-1:\n",
    "      if llist[i] != llist[i+1]:\n",
    "        result_dict[llist[i]].append(streak_size)\n",
    "        streak_size = 1\n",
    "\n",
    "      elif llist[i] == llist[i+1]:\n",
    "        streak_size += 1\n",
    "    else:\n",
    "      result_dict[llist[i]].append(streak_size)\n",
    "\n",
    "  return result_dict\n"
   ]
  },
  {
   "cell_type": "code",
   "execution_count": 3,
   "id": "9d84595d-a76a-4fd7-ba35-384ff58e1f26",
   "metadata": {
    "tags": []
   },
   "outputs": [],
   "source": [
    "### function for calulating the average of number of consecutive results\n",
    "def avg_cal(ddict):\n",
    "  return np.mean(ddict[0]), np.mean(ddict[1])\n",
    "\n"
   ]
  },
  {
   "cell_type": "code",
   "execution_count": 4,
   "id": "023453c5-b388-4058-a2db-edcebb80663d",
   "metadata": {
    "tags": []
   },
   "outputs": [],
   "source": [
    "### streak generator\n",
    "#### using list.extend\n",
    "\n",
    "def streak_gen(streak_size, result_size):    ### number of games\n",
    "  result_streak = []\n",
    "\n",
    "  n_games = result_size\n",
    "\n",
    "  n_games_played = 0\n",
    "\n",
    "  while n_games_played <= n_games:\n",
    "\n",
    "    streak_size = streak_size\n",
    "    streak = random.choices(['WS','LS'], weights=(0.5,0.5))[0]\n",
    "\n",
    "    if streak == 'WS':\n",
    "      wr = 0.85\n",
    "      lr = 0.15\n",
    "      # print(lr,wr)\n",
    "      \n",
    "      streak_games = random.choices([0,1], weights=(lr, wr), k=streak_size)\n",
    "      result_streak.extend(streak_games)\n",
    "\n",
    "    else:\n",
    "      wr = 0.15\n",
    "      lr = 0.85\n",
    "      # print(lr,wr)\n",
    "      streak_games = random.choices([0,1], weights=(lr, wr), k=streak_size)\n",
    "      result_streak.extend(streak_games)\n",
    "\n",
    "    n_games_played += streak_size\n",
    "\n",
    "\n",
    "  return result_streak[:result_size]"
   ]
  },
  {
   "cell_type": "code",
   "execution_count": null,
   "id": "bff307b3-1556-40b1-803f-b0906e0df638",
   "metadata": {},
   "outputs": [],
   "source": []
  },
  {
   "cell_type": "markdown",
   "id": "da837022-88b7-43a4-96fa-9031b4ab81af",
   "metadata": {},
   "source": [
    "# Generate GAME HISTORIES"
   ]
  },
  {
   "cell_type": "markdown",
   "id": "4daa4a43-fe3d-4951-a151-1a9e00553ff0",
   "metadata": {},
   "source": [
    "## PerfectMM - One Million Games (to use as POPULATION ?)"
   ]
  },
  {
   "cell_type": "code",
   "execution_count": 5,
   "id": "e64c6373-d925-4988-b7d8-dc5181c7e9c5",
   "metadata": {
    "tags": []
   },
   "outputs": [
    {
     "name": "stdout",
     "output_type": "stream",
     "text": [
      "2024-03-23 16:16:15\n",
      "\n",
      "\n",
      "\n",
      "----------------------------------------------------\n",
      "done in 7.064s.\n",
      "2024-03-23 16:16:22\n"
     ]
    }
   ],
   "source": [
    "start = time()\n",
    "print(strftime('%Y-%m-%d %H:%M:%S', localtime()))\n",
    "print('\\n')\n",
    "##############################################################################################################################\n",
    "\n",
    "### set random seed\n",
    "random.seed(135)\n",
    "np.random.seed(135)\n",
    "\n",
    "# prob_list = np.linspace(0.49,0.51, 100)\n",
    "prob_list = [0.5]\n",
    "\n",
    "### when each game is between 49 ~ 51 % (independent)\n",
    "#### 3000 games per player, 1000 players, totalling 3 million games played\n",
    "\n",
    "avg_list_0 = []\n",
    "avg_list_1 = []\n",
    "\n",
    "one_million_games = []\n",
    "\n",
    "# number_of_players = 1000\n",
    "# games_per_player = 3000\n",
    "number_of_players = 1\n",
    "games_per_player = 1000000\n",
    "\n",
    "for _ in range(number_of_players):\n",
    "    result_n = []\n",
    "\n",
    "    for _ in range(games_per_player):\n",
    "        prob_of_0 = random.choice(prob_list)\n",
    "        prob_of_1 = 1 - prob_of_0\n",
    "        \n",
    "        one_game = np.random.choice([0,1], 1, p = [prob_of_0, prob_of_1])[0]\n",
    "        result_n.append(one_game)\n",
    "    \n",
    "    streak_counter_result = streak_counter(result_n)\n",
    "    \n",
    "    ### add to one_million_games (3000 players)\n",
    "    one_million_games.append(result_n)\n",
    "    # print(streak_counter_result)\n",
    "\n",
    "    avg_cal_result = avg_cal(streak_counter_result)\n",
    "    # print(avg_cal_result)\n",
    "    avg_list_0.append(avg_cal_result[0])\n",
    "    avg_list_1.append(avg_cal_result[1])\n",
    "    \n",
    "    \n",
    "##############################################################################################################################\n",
    "print('\\n----------------------------------------------------')\n",
    "print(\"done in %0.3fs.\" % (time() - start))\n",
    "print(strftime('%Y-%m-%d %H:%M:%S', localtime()))"
   ]
  },
  {
   "cell_type": "code",
   "execution_count": 6,
   "id": "2319251e-6b45-489f-8bce-fcf11a639c02",
   "metadata": {
    "tags": []
   },
   "outputs": [],
   "source": [
    "# one_million_games[0][:10]"
   ]
  },
  {
   "cell_type": "code",
   "execution_count": 7,
   "id": "09714245-bbd4-4922-826c-d84f744cc956",
   "metadata": {
    "tags": []
   },
   "outputs": [],
   "source": [
    "### one_million_games[0][:10]\n",
    "\n",
    "# perfectmm_counted = streak_counter(one_million_games[0][:])\n",
    "perfectmm_counted = streak_counter(one_million_games[0])"
   ]
  },
  {
   "cell_type": "code",
   "execution_count": 8,
   "id": "af18b8b4-9ec2-4816-9dcf-5d2af4b4f3e1",
   "metadata": {
    "tags": []
   },
   "outputs": [
    {
     "name": "stdout",
     "output_type": "stream",
     "text": [
      "MAX MIN of Losing Streaks\n",
      "17\n",
      "1\n",
      "MAX MIN of Win Streaks\n",
      "20\n",
      "1\n",
      "Averages\n",
      "L: 2.003923721884669\n",
      "W: 2.0039557691305725\n",
      "Standard Deviations\n",
      "L: 1.4168229150676865\n",
      "W: 1.419380547217041\n"
     ]
    }
   ],
   "source": [
    "print('MAX MIN of Losing Streaks')\n",
    "print(np.max(perfectmm_counted[0]))\n",
    "print(np.min(perfectmm_counted[0]))\n",
    "\n",
    "print('MAX MIN of Win Streaks')\n",
    "print(np.max(perfectmm_counted[1]))\n",
    "print(np.min(perfectmm_counted[1]))\n",
    "\n",
    "print('Averages')\n",
    "print(f'L: {np.mean(perfectmm_counted[0])}')\n",
    "print(f'W: {np.mean(perfectmm_counted[1])}')\n",
    "\n",
    "print('Standard Deviations')\n",
    "print(f'L: {np.std(perfectmm_counted[0])}')\n",
    "print(f'W: {np.std(perfectmm_counted[1])}')"
   ]
  },
  {
   "cell_type": "code",
   "execution_count": 9,
   "id": "48a16173-5ea5-4892-9c4b-b03d724160c5",
   "metadata": {
    "tags": []
   },
   "outputs": [
    {
     "name": "stdout",
     "output_type": "stream",
     "text": [
      "sum of L streak : 499995\n",
      "sum of W streak : 500005\n"
     ]
    }
   ],
   "source": [
    "print(f'sum of L streak : {np.sum(perfectmm_counted[0])}')\n",
    "print(f'sum of W streak : {np.sum(perfectmm_counted[1])}')"
   ]
  },
  {
   "cell_type": "code",
   "execution_count": 10,
   "id": "c607d4f7-f9e7-47dc-a401-c083721eec54",
   "metadata": {
    "tags": []
   },
   "outputs": [],
   "source": [
    "# print(np.max(streak_counter(one_million_games[0][:])[0]))\n",
    "# print(np.min(streak_counter(one_million_games[0][:])[0]))\n",
    "\n",
    "# print(np.max(streak_counter(one_million_games[0][:])[1]))\n",
    "# print(np.min(streak_counter(one_million_games[0][:])[1]))\n",
    "\n",
    "\n",
    "\n",
    "# print(np.mean(streak_counter(one_million_games[0])[0]))\n",
    "# print(np.mean(streak_counter(one_million_games[0])[1]))\n",
    "\n",
    "# print(np.std(streak_counter(one_million_games[0])[0]))\n",
    "# print(np.std(streak_counter(one_million_games[0])[1]))"
   ]
  },
  {
   "cell_type": "code",
   "execution_count": null,
   "id": "2ad623a9-0ede-4bcd-b1ca-b39bbe07b7a3",
   "metadata": {},
   "outputs": [],
   "source": []
  },
  {
   "cell_type": "markdown",
   "id": "8e14d190-033a-4e70-a580-3e37361e9f11",
   "metadata": {},
   "source": [
    "## NearPerfectMM - One Million Games"
   ]
  },
  {
   "cell_type": "code",
   "execution_count": 11,
   "id": "d5629285-2329-43ff-a82a-e2c1c35c5d20",
   "metadata": {
    "tags": []
   },
   "outputs": [
    {
     "name": "stdout",
     "output_type": "stream",
     "text": [
      "2024-03-23 16:16:22\n",
      "\n",
      "\n",
      "\n",
      "----------------------------------------------------\n",
      "done in 6.959s.\n",
      "2024-03-23 16:16:29\n"
     ]
    }
   ],
   "source": [
    "start = time()\n",
    "print(strftime('%Y-%m-%d %H:%M:%S', localtime()))\n",
    "print('\\n')\n",
    "##############################################################################################################################\n",
    "\n",
    "### set random seed\n",
    "random.seed(2237)\n",
    "np.random.seed(2237)\n",
    "\n",
    "prob_list = np.linspace(0.49,0.51, 100)\n",
    "\n",
    "### when each game is between 49 ~ 51 % (independent)\n",
    "#### 3000 games per player, 1000 players, totalling 3 million games played\n",
    "\n",
    "avg_list_0 = []\n",
    "avg_list_1 = []\n",
    "\n",
    "nearperfect_all_records = []\n",
    "\n",
    "number_of_players = 1\n",
    "games_per_player = 1000000\n",
    "\n",
    "\n",
    "for _ in range(number_of_players):\n",
    "    result_n = []\n",
    "\n",
    "    for _ in range(games_per_player):\n",
    "        prob_of_0 = random.choice(prob_list)\n",
    "        prob_of_1 = 1 - prob_of_0\n",
    "\n",
    "        one_game = np.random.choice([0,1], 1, p = [prob_of_0, prob_of_1])[0]\n",
    "        result_n.append(one_game)\n",
    "    \n",
    "    streak_counter_result = streak_counter(result_n)\n",
    "    \n",
    "    ### add to nearperfect_all_records (3000 players)\n",
    "    nearperfect_all_records.append(result_n)\n",
    "    # print(streak_counter_result)\n",
    "\n",
    "    avg_cal_result = avg_cal(streak_counter_result)\n",
    "    # print(avg_cal_result)\n",
    "    avg_list_0.append(avg_cal_result[0])\n",
    "    avg_list_1.append(avg_cal_result[1])\n",
    "    \n",
    "    \n",
    "##############################################################################################################################\n",
    "print('\\n----------------------------------------------------')\n",
    "print(\"done in %0.3fs.\" % (time() - start))\n",
    "print(strftime('%Y-%m-%d %H:%M:%S', localtime()))"
   ]
  },
  {
   "cell_type": "code",
   "execution_count": 12,
   "id": "ae4f2d5d-4fb3-46f6-affb-8861194b9761",
   "metadata": {
    "tags": []
   },
   "outputs": [
    {
     "name": "stdout",
     "output_type": "stream",
     "text": [
      "2.0011037704157535\n",
      "1.9980644026042582\n"
     ]
    }
   ],
   "source": [
    "print(np.mean(avg_list_0))\n",
    "print(np.mean(avg_list_1))\n"
   ]
  },
  {
   "cell_type": "code",
   "execution_count": 13,
   "id": "f40a2124-1c5e-4c05-bd34-97c20766a290",
   "metadata": {
    "tags": []
   },
   "outputs": [],
   "source": [
    "# nearperfectmm_counted = streak_counter(nearperfect_all_records[0][:])\n",
    "nearperfectmm_counted = streak_counter(nearperfect_all_records[0])"
   ]
  },
  {
   "cell_type": "code",
   "execution_count": 14,
   "id": "a2a355d3-5aa6-41fc-8b3e-5d61bd8ba3ab",
   "metadata": {
    "tags": []
   },
   "outputs": [
    {
     "name": "stdout",
     "output_type": "stream",
     "text": [
      "MAX MIN of Losing Streaks\n",
      "20\n",
      "1\n",
      "MAX MIN of Win Streaks\n",
      "23\n",
      "1\n",
      "Averages\n",
      "L: 2.0011037704157535\n",
      "W: 1.9980644026042582\n",
      "Standard Deviations\n",
      "L: 1.4167982423222778\n",
      "W: 1.4148511856294026\n"
     ]
    }
   ],
   "source": [
    "print('MAX MIN of Losing Streaks')\n",
    "print(np.max(nearperfectmm_counted[0]))\n",
    "print(np.min(nearperfectmm_counted[0]))\n",
    "\n",
    "print('MAX MIN of Win Streaks')\n",
    "print(np.max(nearperfectmm_counted[1]))\n",
    "print(np.min(nearperfectmm_counted[1]))\n",
    "\n",
    "print('Averages')\n",
    "print(f'L: {np.mean(nearperfectmm_counted[0])}')\n",
    "print(f'W: {np.mean(nearperfectmm_counted[1])}')\n",
    "\n",
    "print('Standard Deviations')\n",
    "print(f'L: {np.std(nearperfectmm_counted[0])}')\n",
    "print(f'W: {np.std(nearperfectmm_counted[1])}')"
   ]
  },
  {
   "cell_type": "code",
   "execution_count": 15,
   "id": "284a73a1-5654-421f-b84c-e5c15d7180fd",
   "metadata": {
    "tags": []
   },
   "outputs": [
    {
     "name": "stdout",
     "output_type": "stream",
     "text": [
      "sum of L streak : 500380\n",
      "sum of W streak : 499620\n"
     ]
    }
   ],
   "source": [
    "print(f'sum of L streak : {np.sum(nearperfectmm_counted[0])}')\n",
    "print(f'sum of W streak : {np.sum(nearperfectmm_counted[1])}')"
   ]
  },
  {
   "cell_type": "code",
   "execution_count": 16,
   "id": "0cc3e0f7-6266-495d-8bd3-80951a7f031b",
   "metadata": {
    "tags": []
   },
   "outputs": [],
   "source": [
    "# ### streak_all_records = million games from StreakMM\n",
    "\n",
    "# print(np.max(streak_counter(nearperfect_all_records[0][:])[0]))\n",
    "# print(np.min(streak_counter(nearperfect_all_records[0][:])[0]))\n",
    "\n",
    "# print(np.max(streak_counter(nearperfect_all_records[0][:])[1]))\n",
    "# print(np.min(streak_counter(nearperfect_all_records[0][:])[1]))\n",
    "\n",
    "\n",
    "\n",
    "# print(np.mean(streak_counter(nearperfect_all_records[0])[0]))\n",
    "# print(np.mean(streak_counter(nearperfect_all_records[0])[1]))\n",
    "\n",
    "# print(np.std(streak_counter(nearperfect_all_records[0])[0]))\n",
    "# print(np.std(streak_counter(nearperfect_all_records[0])[1]))"
   ]
  },
  {
   "cell_type": "code",
   "execution_count": null,
   "id": "edfb0cdb-5725-4161-98b3-7d01075b0e1b",
   "metadata": {},
   "outputs": [],
   "source": []
  },
  {
   "cell_type": "code",
   "execution_count": null,
   "id": "5bb1dba5-252e-44b2-bbda-ab3251e8f18d",
   "metadata": {},
   "outputs": [],
   "source": []
  },
  {
   "cell_type": "markdown",
   "id": "afa6c3ba-6fcb-4e62-b9f2-2927cbe7378d",
   "metadata": {},
   "source": [
    "## StreakMM - One Million Games"
   ]
  },
  {
   "cell_type": "code",
   "execution_count": 17,
   "id": "377c9071-9799-4098-ad65-6f4883045c5c",
   "metadata": {
    "tags": []
   },
   "outputs": [
    {
     "name": "stdout",
     "output_type": "stream",
     "text": [
      "2024-03-23 16:16:29\n",
      "\n",
      "\n",
      "\n",
      "----------------------------------------------------\n",
      "done in 0.287s.\n",
      "2024-03-23 16:16:30\n"
     ]
    }
   ],
   "source": [
    "start = time()\n",
    "print(strftime('%Y-%m-%d %H:%M:%S', localtime()))\n",
    "print('\\n')\n",
    "##############################################################################################################################\n",
    "\n",
    "### set random seed\n",
    "random.seed(1576)\n",
    "np.random.seed(1576)\n",
    "\n",
    "### when streaks exist\n",
    "### ws:ls = 50:50\n",
    "### 85% of win/loss depending on the streak\n",
    "\n",
    "avg_list_0 = []\n",
    "avg_list_1 = []\n",
    "\n",
    "streak_all_records = []\n",
    "for _ in range(1):\n",
    "    result_n = streak_gen(6, 1_000_000)\n",
    "    \n",
    "    # streak_all_records.append(pd.Series(result_n))\n",
    "    streak_all_records.append(result_n)\n",
    "    \n",
    "    streak_counter_result = streak_counter(result_n)\n",
    "    # print(streak_counter_result)\n",
    "\n",
    "    avg_cal_result = avg_cal(streak_counter_result)\n",
    "    # print(avg_cal_result)\n",
    "    avg_list_0.append(avg_cal_result[0])\n",
    "    avg_list_1.append(avg_cal_result[1])\n",
    "    \n",
    "    \n",
    "##############################################################################################################################\n",
    "print('\\n----------------------------------------------------')\n",
    "print(\"done in %0.3fs.\" % (time() - start))\n",
    "print(strftime('%Y-%m-%d %H:%M:%S', localtime()))"
   ]
  },
  {
   "cell_type": "code",
   "execution_count": 18,
   "id": "948541e5-75ab-4594-924d-9d1a26b70bfe",
   "metadata": {
    "tags": []
   },
   "outputs": [
    {
     "data": {
      "text/plain": [
       "(3.3715100600834003, 3.3870505542038387)"
      ]
     },
     "execution_count": 18,
     "metadata": {},
     "output_type": "execute_result"
    }
   ],
   "source": [
    "avg_cal_result\n"
   ]
  },
  {
   "cell_type": "code",
   "execution_count": 19,
   "id": "a8618db8-5aaf-402a-89ed-98b2f296caae",
   "metadata": {
    "tags": []
   },
   "outputs": [
    {
     "name": "stdout",
     "output_type": "stream",
     "text": [
      "3.3715100600834003\n",
      "3.3870505542038387\n"
     ]
    }
   ],
   "source": [
    "print(np.mean(avg_list_0))\n",
    "print(np.mean(avg_list_1))\n"
   ]
  },
  {
   "cell_type": "code",
   "execution_count": 20,
   "id": "b30bb53a-710d-45ee-ae9f-f90075fbdaf6",
   "metadata": {
    "tags": []
   },
   "outputs": [],
   "source": [
    "# streakmm_counted = streak_counter(streak_all_records[0][:])\n",
    "streakmm_counted = streak_counter(streak_all_records[0])"
   ]
  },
  {
   "cell_type": "code",
   "execution_count": 21,
   "id": "c4272edf-3e13-4c49-b239-4820f3d33505",
   "metadata": {
    "tags": []
   },
   "outputs": [
    {
     "name": "stdout",
     "output_type": "stream",
     "text": [
      "MAX MIN of Losing Streaks\n",
      "52\n",
      "1\n",
      "MAX MIN of Win Streaks\n",
      "39\n",
      "1\n",
      "Averages\n",
      "L: 3.3715100600834003\n",
      "W: 3.3870505542038387\n",
      "Standard Deviations\n",
      "L: 3.400960275967006\n",
      "W: 3.4216191520092782\n"
     ]
    }
   ],
   "source": [
    "print('MAX MIN of Losing Streaks')\n",
    "print(np.max(streakmm_counted[0]))\n",
    "print(np.min(streakmm_counted[0]))\n",
    "\n",
    "print('MAX MIN of Win Streaks')\n",
    "print(np.max(streakmm_counted[1]))\n",
    "print(np.min(streakmm_counted[1]))\n",
    "\n",
    "print('Averages')\n",
    "print(f'L: {np.mean(streakmm_counted[0])}')\n",
    "print(f'W: {np.mean(streakmm_counted[1])}')\n",
    "\n",
    "print('Standard Deviations')\n",
    "print(f'L: {np.std(streakmm_counted[0])}')\n",
    "print(f'W: {np.std(streakmm_counted[1])}')"
   ]
  },
  {
   "cell_type": "code",
   "execution_count": 22,
   "id": "e8222167-0654-4279-90e9-308c0d8f6304",
   "metadata": {
    "tags": []
   },
   "outputs": [
    {
     "name": "stdout",
     "output_type": "stream",
     "text": [
      "sum of L streak : 498852\n",
      "sum of W streak : 501148\n"
     ]
    }
   ],
   "source": [
    "print(f'sum of L streak : {np.sum(streakmm_counted[0])}')\n",
    "print(f'sum of W streak : {np.sum(streakmm_counted[1])}')"
   ]
  },
  {
   "cell_type": "code",
   "execution_count": 23,
   "id": "9e00c45d-a945-49c4-8e11-9e781f1ca006",
   "metadata": {
    "tags": []
   },
   "outputs": [],
   "source": [
    "# ### streak_all_records = million games from StreakMM\n",
    "\n",
    "# print(np.max(streak_counter(streak_all_records[0][:])[0]))\n",
    "# print(np.min(streak_counter(streak_all_records[0][:])[0]))\n",
    "\n",
    "# print(np.max(streak_counter(streak_all_records[0][:])[1]))\n",
    "# print(np.min(streak_counter(streak_all_records[0][:])[1]))\n",
    "\n",
    "\n",
    "\n",
    "# print(np.mean(streak_counter(streak_all_records[0])[0]))\n",
    "# print(np.mean(streak_counter(streak_all_records[0])[1]))\n",
    "\n",
    "# print(np.std(streak_counter(streak_all_records[0])[0]))\n",
    "# print(np.std(streak_counter(streak_all_records[0])[1]))"
   ]
  },
  {
   "cell_type": "code",
   "execution_count": null,
   "id": "c38dd74d-e7fc-455b-8187-a44c9683ab68",
   "metadata": {},
   "outputs": [],
   "source": []
  },
  {
   "cell_type": "markdown",
   "id": "486ff061-3a5d-4522-9c55-4ee598746cbf",
   "metadata": {},
   "source": [
    "### Counter"
   ]
  },
  {
   "cell_type": "code",
   "execution_count": 24,
   "id": "8c9f57cf-6ffc-4cd5-93ac-efcb4bb30959",
   "metadata": {
    "tags": []
   },
   "outputs": [
    {
     "name": "stdout",
     "output_type": "stream",
     "text": [
      "L streak counted : Counter({1: 124404, 2: 62676, 3: 30936, 4: 15672, 5: 7940, 6: 3955, 7: 2003, 8: 979, 9: 461, 10: 248, 11: 111, 12: 55, 13: 28, 14: 24, 15: 9, 16: 4, 17: 3})\n",
      "L streak counted : Counter({1: 124601, 2: 62144, 3: 31575, 4: 15466, 5: 7824, 6: 3812, 7: 2093, 8: 1013, 9: 523, 10: 228, 11: 104, 12: 58, 13: 39, 14: 12, 15: 6, 16: 6, 20: 2, 17: 2, 18: 1})\n"
     ]
    }
   ],
   "source": [
    "print(f'L streak counted : {Counter(perfectmm_counted[0])}')\n",
    "print(f'L streak counted : {Counter(perfectmm_counted[1])}')"
   ]
  },
  {
   "cell_type": "code",
   "execution_count": 25,
   "id": "53c257c8-edd7-4cdf-a38a-0389e2613a24",
   "metadata": {
    "tags": []
   },
   "outputs": [
    {
     "name": "stdout",
     "output_type": "stream",
     "text": [
      "L streak counted : Counter({1: 125225, 2: 62204, 3: 31120, 4: 15849, 5: 7717, 6: 4078, 7: 1916, 8: 961, 9: 476, 10: 254, 11: 117, 12: 77, 13: 34, 14: 10, 15: 8, 16: 4, 17: 1, 20: 1})\n",
      "L streak counted : Counter({1: 125231, 2: 62650, 3: 30970, 4: 15522, 5: 7842, 6: 3902, 7: 1946, 8: 1003, 9: 493, 10: 274, 11: 107, 12: 56, 13: 21, 14: 20, 15: 8, 16: 3, 18: 2, 23: 1, 17: 1})\n"
     ]
    }
   ],
   "source": [
    "print(f'L streak counted : {Counter(nearperfectmm_counted[0])}')\n",
    "print(f'L streak counted : {Counter(nearperfectmm_counted[1])}')"
   ]
  },
  {
   "cell_type": "code",
   "execution_count": 26,
   "id": "84f003cc-c5f6-4df8-b344-d935a5219855",
   "metadata": {
    "tags": []
   },
   "outputs": [
    {
     "name": "stdout",
     "output_type": "stream",
     "text": [
      "L streak counted : Counter({1: 63848, 2: 21473, 3: 13441, 6: 10454, 4: 10201, 5: 8198, 7: 5306, 8: 3398, 9: 2420, 12: 1995, 10: 1896, 11: 1586, 13: 981, 14: 590, 15: 467, 18: 377, 16: 316, 17: 300, 19: 205, 20: 103, 21: 82, 22: 76, 24: 63, 23: 56, 25: 37, 27: 15, 29: 14, 30: 13, 28: 13, 26: 12, 33: 7, 31: 6, 32: 3, 36: 2, 34: 2, 35: 2, 40: 1, 39: 1, 52: 1})\n",
      "L streak counted : Counter({1: 63688, 2: 21255, 3: 13532, 6: 10441, 4: 10327, 5: 8261, 7: 5374, 8: 3301, 9: 2492, 12: 1983, 10: 1874, 11: 1520, 13: 1021, 14: 644, 15: 480, 18: 392, 16: 358, 17: 270, 19: 198, 20: 128, 21: 79, 22: 77, 24: 71, 23: 60, 25: 36, 26: 30, 27: 16, 30: 10, 31: 8, 29: 7, 28: 6, 34: 5, 36: 5, 32: 4, 37: 3, 33: 2, 38: 1, 39: 1})\n"
     ]
    }
   ],
   "source": [
    "print(f'L streak counted : {Counter(streakmm_counted[0])}')\n",
    "print(f'L streak counted : {Counter(streakmm_counted[1])}')"
   ]
  },
  {
   "cell_type": "code",
   "execution_count": null,
   "id": "bdad0216-82e5-470a-bac9-83f72c5faace",
   "metadata": {},
   "outputs": [],
   "source": []
  },
  {
   "cell_type": "markdown",
   "id": "d93158a8-8e1d-4496-b277-edd21c842367",
   "metadata": {},
   "source": [
    "# Ch 7 - Distribution Plots"
   ]
  },
  {
   "cell_type": "markdown",
   "id": "aaca80e3-2eca-423d-b325-c13dc009351d",
   "metadata": {},
   "source": [
    "## PerfectMM"
   ]
  },
  {
   "cell_type": "code",
   "execution_count": 53,
   "id": "ba8c61ce-8583-4f71-959e-6b22966e7b24",
   "metadata": {
    "tags": []
   },
   "outputs": [
    {
     "data": {
      "image/png": "[encoded data removed]",
      "text/plain": [
       "<Figure size 640x480 with 1 Axes>"
      ]
     },
     "metadata": {},
     "output_type": "display_data"
    }
   ],
   "source": [
    "# plt.hist(perfectmm_counted[0], bins=30)\n",
    "plt.hist(perfectmm_counted[0], edgecolor='yellow', bins=np.arange(1, 56, 1))\n",
    "# plt.hist(perfectmm_counted[0], bins=np.arange(1, 56, 1), width=1)\n",
    "plt.show()"
   ]
  },
  {
   "cell_type": "code",
   "execution_count": 28,
   "id": "f9bbd571-418a-4aab-8e5e-1e8168d77b40",
   "metadata": {
    "tags": []
   },
   "outputs": [
    {
     "data": {
      "image/png": "[encoded data removed]",
      "text/plain": [
       "<Figure size 640x480 with 1 Axes>"
      ]
     },
     "metadata": {},
     "output_type": "display_data"
    }
   ],
   "source": [
    "# plt.hist(perfectmm_counted[0], bins=30)\n",
    "plt.hist(perfectmm_counted[0], bins=np.arange(1, 55.5, 0.5))\n",
    "plt.show()"
   ]
  },
  {
   "cell_type": "code",
   "execution_count": null,
   "id": "b4fa76f6-db12-4f65-a0f9-eeb86de504a5",
   "metadata": {
    "tags": []
   },
   "outputs": [],
   "source": []
  },
  {
   "cell_type": "code",
   "execution_count": null,
   "id": "828f2d1b-c8b5-4f94-91ac-2db0b5484f1a",
   "metadata": {},
   "outputs": [],
   "source": []
  },
  {
   "cell_type": "code",
   "execution_count": 29,
   "id": "ea81999f-01b2-403c-a85c-c5accb725377",
   "metadata": {
    "tags": []
   },
   "outputs": [
    {
     "data": {
      "image/png": "[encoded data removed]",
      "text/plain": [
       "<Figure size 640x480 with 1 Axes>"
      ]
     },
     "metadata": {},
     "output_type": "display_data"
    }
   ],
   "source": [
    "# plt.hist(perfectmm_counted[1], bins=15)\n",
    "plt.hist(perfectmm_counted[1], bins=np.arange(1, 55.5, 0.5))\n",
    "plt.show()"
   ]
  },
  {
   "cell_type": "code",
   "execution_count": null,
   "id": "845b4dfe-d03c-4e08-a58c-589503b9943b",
   "metadata": {},
   "outputs": [],
   "source": []
  },
  {
   "cell_type": "code",
   "execution_count": null,
   "id": "f414d936-6b0d-42bb-b100-9d6ca1d0337c",
   "metadata": {},
   "outputs": [],
   "source": []
  },
  {
   "cell_type": "markdown",
   "id": "bb566f38-6ab3-41e7-a74e-c9ee5ccdeca5",
   "metadata": {},
   "source": [
    "## NearPerfectMM"
   ]
  },
  {
   "cell_type": "code",
   "execution_count": 55,
   "id": "78792ecd-cd53-4063-8d6f-d5d4e8f21aa9",
   "metadata": {
    "tags": []
   },
   "outputs": [
    {
     "data": {
      "image/png": "[encoded data removed]",
      "text/plain": [
       "<Figure size 640x480 with 1 Axes>"
      ]
     },
     "metadata": {},
     "output_type": "display_data"
    }
   ],
   "source": [
    "# plt.hist(nearperfectmm_counted[0], bins=15)\n",
    "plt.hist(nearperfectmm_counted[0], edgecolor='white', bins=np.arange(1, 56, 1))\n",
    "plt.show()"
   ]
  },
  {
   "cell_type": "code",
   "execution_count": 31,
   "id": "aae44c36-5b29-4e13-a15f-72db1a9bc775",
   "metadata": {
    "tags": []
   },
   "outputs": [
    {
     "data": {
      "image/png": "[encoded data removed]",
      "text/plain": [
       "<Figure size 640x480 with 1 Axes>"
      ]
     },
     "metadata": {},
     "output_type": "display_data"
    }
   ],
   "source": [
    "# plt.hist(nearperfectmm_counted[1], bins=15)\n",
    "plt.hist(nearperfectmm_counted[1], bins=np.arange(1, 55.5, 0.5))\n",
    "plt.show()"
   ]
  },
  {
   "cell_type": "code",
   "execution_count": null,
   "id": "73882935-9797-4dbc-8c7a-64cfb1351507",
   "metadata": {},
   "outputs": [],
   "source": []
  },
  {
   "cell_type": "code",
   "execution_count": null,
   "id": "f86abae1-e25f-495a-89b0-bca2c18e1876",
   "metadata": {},
   "outputs": [],
   "source": []
  },
  {
   "cell_type": "markdown",
   "id": "73b6b57d-df9e-4211-8741-db4d3b2339bf",
   "metadata": {},
   "source": [
    "## StreakMM"
   ]
  },
  {
   "cell_type": "code",
   "execution_count": 56,
   "id": "2e36db10-88d4-49c9-9444-8b4a93265832",
   "metadata": {
    "tags": []
   },
   "outputs": [
    {
     "data": {
      "image/png": "[encoded data removed]",
      "text/plain": [
       "<Figure size 640x480 with 1 Axes>"
      ]
     },
     "metadata": {},
     "output_type": "display_data"
    }
   ],
   "source": [
    "# plt.hist(streakmm_counted[0], bins=70)\n",
    "plt.hist(streakmm_counted[0], edgecolor='white', bins=np.arange(1, 56, 1))\n",
    "plt.show()"
   ]
  },
  {
   "cell_type": "code",
   "execution_count": 33,
   "id": "6581b3e7-0fae-4fed-866f-6e06b9255531",
   "metadata": {
    "tags": []
   },
   "outputs": [
    {
     "data": {
      "image/png": "[encoded data removed]",
      "text/plain": [
       "<Figure size 640x480 with 1 Axes>"
      ]
     },
     "metadata": {},
     "output_type": "display_data"
    }
   ],
   "source": [
    "# plt.hist(streakmm_counted[0], bins=15)\n",
    "plt.hist(streakmm_counted[1], bins=np.arange(1, 55.5, 0.5))\n",
    "plt.show()"
   ]
  },
  {
   "cell_type": "code",
   "execution_count": null,
   "id": "08c76ebd-cd5c-44ad-9067-361e94da91db",
   "metadata": {},
   "outputs": [],
   "source": []
  },
  {
   "cell_type": "code",
   "execution_count": null,
   "id": "9c292a14-4e48-4249-a132-9a03c6109685",
   "metadata": {},
   "outputs": [],
   "source": []
  },
  {
   "cell_type": "code",
   "execution_count": 34,
   "id": "9cb59bd7-e4bc-40f8-b418-fe6e3e01ca5e",
   "metadata": {
    "tags": []
   },
   "outputs": [
    {
     "data": {
      "image/png": "[encoded data removed]",
      "text/plain": [
       "<Figure size 640x480 with 1 Axes>"
      ]
     },
     "metadata": {},
     "output_type": "display_data"
    }
   ],
   "source": [
    "bins = np.linspace(1, 60, 30)\n",
    "plt.hist(perfectmm_counted[0], bins, alpha=0.5, label='perfectmm')\n",
    "plt.hist(nearperfectmm_counted[0], bins, alpha=0.5, label='nearperfectmm')\n",
    "plt.hist(streakmm_counted[0], bins, alpha=0.5, label='streakmm')\n",
    "plt.legend(loc='upper right')\n",
    "plt.show()"
   ]
  },
  {
   "cell_type": "code",
   "execution_count": 35,
   "id": "ee794cbe-fe76-46c5-a35a-eaed686d04c0",
   "metadata": {
    "tags": []
   },
   "outputs": [
    {
     "data": {
      "image/png": "[encoded data removed]",
      "text/plain": [
       "<Figure size 640x480 with 1 Axes>"
      ]
     },
     "metadata": {},
     "output_type": "display_data"
    }
   ],
   "source": [
    "bins = np.linspace(1, 60, 30)\n",
    "alpha = 0.9\n",
    "plt.hist(perfectmm_counted[0], bins, alpha=alpha, label='perfectmm')\n",
    "plt.hist(nearperfectmm_counted[0], bins, alpha=alpha, label='nearperfectmm')\n",
    "# plt.hist(streakmm_counted[0], bins, alpha=alpha, label='streakmm')\n",
    "plt.legend(loc='upper right')\n",
    "plt.show()"
   ]
  },
  {
   "cell_type": "code",
   "execution_count": null,
   "id": "6b388ade-15ec-4896-8740-e9eda192a940",
   "metadata": {},
   "outputs": [],
   "source": []
  },
  {
   "cell_type": "code",
   "execution_count": 36,
   "id": "bf81c8bb-909d-46be-9ad6-d68358b42d9b",
   "metadata": {
    "tags": []
   },
   "outputs": [
    {
     "data": {
      "image/png": "[encoded data removed]",
      "text/plain": [
       "<Figure size 640x480 with 1 Axes>"
      ]
     },
     "metadata": {},
     "output_type": "display_data"
    }
   ],
   "source": [
    "bins = np.linspace(1, 60, 30)\n",
    "plt.hist(perfectmm_counted[0], bins, alpha=0.5, label='perfectmm')\n",
    "# plt.hist(nearperfectmm_counted[0], bins, alpha=0.5, label='nearperfectmm')\n",
    "# plt.hist(streakmm_counted[0], bins, alpha=0.5, label='streakmm')\n",
    "plt.legend(loc='upper right')\n",
    "plt.show()"
   ]
  },
  {
   "cell_type": "code",
   "execution_count": 37,
   "id": "04fd594b-8f0c-493f-893c-7c5f72c8d91f",
   "metadata": {
    "tags": []
   },
   "outputs": [
    {
     "data": {
      "image/png": "[encoded data removed]",
      "text/plain": [
       "<Figure size 640x480 with 1 Axes>"
      ]
     },
     "metadata": {},
     "output_type": "display_data"
    }
   ],
   "source": [
    "bins = np.linspace(1, 60, 30)\n",
    "# plt.hist(perfectmm_counted[0], bins, alpha=0.5, label='perfectmm')\n",
    "plt.hist(nearperfectmm_counted[0], bins, alpha=0.5, label='nearperfectmm')\n",
    "# plt.hist(streakmm_counted[0], bins, alpha=0.5, label='streakmm')\n",
    "plt.legend(loc='upper right')\n",
    "plt.show()"
   ]
  },
  {
   "cell_type": "code",
   "execution_count": 38,
   "id": "c345bbf9-860b-4b05-bc0f-dad0d9508b7d",
   "metadata": {
    "tags": []
   },
   "outputs": [
    {
     "data": {
      "image/png": "[encoded data removed]",
      "text/plain": [
       "<Figure size 640x480 with 1 Axes>"
      ]
     },
     "metadata": {},
     "output_type": "display_data"
    }
   ],
   "source": [
    "bins = np.linspace(1, 60, 30)\n",
    "# plt.hist(perfectmm_counted[0], bins, alpha=0.5, label='perfectmm')\n",
    "# plt.hist(nearperfectmm_counted[0], bins, alpha=0.5, label='nearperfectmm')\n",
    "plt.hist(streakmm_counted[0], bins, alpha=0.5, label='streakmm')\n",
    "plt.legend(loc='upper right')\n",
    "plt.show()"
   ]
  },
  {
   "cell_type": "code",
   "execution_count": null,
   "id": "5c4c1508-fb4d-45ad-8816-a8e1eb66e015",
   "metadata": {},
   "outputs": [],
   "source": []
  },
  {
   "cell_type": "code",
   "execution_count": 39,
   "id": "56195e7f-5393-4b88-9d9b-683144bdd556",
   "metadata": {
    "tags": []
   },
   "outputs": [
    {
     "data": {
      "image/png": "[encoded data removed]",
      "text/plain": [
       "<Figure size 1200x600 with 1 Axes>"
      ]
     },
     "metadata": {},
     "output_type": "display_data"
    }
   ],
   "source": [
    "# bins = np.linspace(0, 60, 30)\n",
    "# plt.hist(perfectmm_counted[0], bins, alpha=0.5, label='perfectmm')\n",
    "# plt.hist(nearperfectmm_counted[0], bins, alpha=0.5, label='nearperfectmm')\n",
    "# plt.hist(streakmm_counted[0], bins, alpha=0.5, label='streakmm')\n",
    "combined = [perfectmm_counted[0], nearperfectmm_counted[0], streakmm_counted[0]]\n",
    "labels = ['perfectmm', 'nearperfectmm', 'streakmm']\n",
    "\n",
    "plt.figure(figsize=(12,6))\n",
    "# plt.hist(combined, bins=np.arange(1,56,1), alpha=0.9, label=labels, rwidth=0.5)\n",
    "# plt.hist(combined, bins=np.arange(1,56,1), alpha=0.9, label=labels, stacked=False, histtype='bar', width=0.3)\n",
    "plt.hist(combined, bins=np.arange(1,56,1), alpha=1, label=labels, stacked=False, histtype='step', color=['blue', 'black', 'red'])\n",
    "# plt.hist(combined, bins=np.arange(1,56,1), alpha=1, label=labels, stacked=False, histtype='step', color=['blue', 'black', 'red'], log=True)\n",
    "plt.legend(loc='upper right')\n",
    "plt.show()"
   ]
  },
  {
   "cell_type": "code",
   "execution_count": 40,
   "id": "4da74b93-5b8d-4b4b-9e94-f9ff220010a4",
   "metadata": {
    "tags": []
   },
   "outputs": [
    {
     "data": {
      "image/png": "[encoded data removed]",
      "text/plain": [
       "<Figure size 640x480 with 1 Axes>"
      ]
     },
     "metadata": {},
     "output_type": "display_data"
    }
   ],
   "source": [
    "bins = np.linspace(1, 56, 56)\n",
    "# plt.hist(perfectmm_counted[0], bins, alpha=0.5, label='perfectmm')\n",
    "# plt.hist(nearperfectmm_counted[0], bins, alpha=0.5, label='nearperfectmm')\n",
    "# plt.hist(streakmm_counted[0], bins, alpha=0.5, label='streakmm')\n",
    "combined = [perfectmm_counted[1], nearperfectmm_counted[1], streakmm_counted[1]]\n",
    "labels = ['perfectmm', 'nearperfectmm', 'streakmm']\n",
    "\n",
    "plt.hist(combined, bins, alpha=0.9, label=labels)\n",
    "plt.legend(loc='upper right')\n",
    "plt.show()"
   ]
  },
  {
   "cell_type": "code",
   "execution_count": null,
   "id": "8c351d47-d332-4c49-a78d-54538502775d",
   "metadata": {},
   "outputs": [],
   "source": []
  },
  {
   "cell_type": "code",
   "execution_count": null,
   "id": "8d9b9ba2-430c-4f9d-b733-db9e23c996f9",
   "metadata": {},
   "outputs": [],
   "source": []
  },
  {
   "cell_type": "code",
   "execution_count": 41,
   "id": "cf7c210d-3dc8-4d4d-b6f8-f18441c9686b",
   "metadata": {
    "tags": []
   },
   "outputs": [
    {
     "data": {
      "image/png": "[encoded data removed]",
      "text/plain": [
       "<Figure size 640x480 with 1 Axes>"
      ]
     },
     "metadata": {},
     "output_type": "display_data"
    }
   ],
   "source": [
    "# bins = np.linspace(0, 60, 30)\n",
    "# bins=np.arange(1, 55.5, 0.5)\n",
    "# plt.hist(perfectmm_counted[0], bins, alpha=0.5, label='perfectmm')\n",
    "# plt.hist(nearperfectmm_counted[0], bins, alpha=0.5, label='nearperfectmm')\n",
    "# plt.hist(streakmm_counted[0], bins, alpha=0.5, label='streakmm')\n",
    "combined = [perfectmm_counted[0], nearperfectmm_counted[0], streakmm_counted[0]]\n",
    "labels = ['perfectmm', 'nearperfectmm', 'streakmm']\n",
    "\n",
    "# plt.hist(combined, bins, alpha=0.9, label=labels, width=0.3)\n",
    "# plt.hist(combined, bins='doane', alpha=0.9, label=labels)\n",
    "plt.hist(combined, alpha=0.9, label=labels, bins=100)\n",
    "plt.legend(loc='upper right')\n",
    "plt.show()"
   ]
  },
  {
   "cell_type": "code",
   "execution_count": null,
   "id": "0a939233-5840-44a0-8126-2f196023e5ac",
   "metadata": {},
   "outputs": [],
   "source": []
  },
  {
   "cell_type": "code",
   "execution_count": 42,
   "id": "ea5cfaee-be73-42e3-8cad-76e3729a7960",
   "metadata": {
    "tags": []
   },
   "outputs": [
    {
     "data": {
      "text/plain": [
       "2.55"
      ]
     },
     "execution_count": 42,
     "metadata": {},
     "output_type": "execute_result"
    }
   ],
   "source": [
    "6*0.85*0.5"
   ]
  },
  {
   "cell_type": "code",
   "execution_count": 43,
   "id": "4b57d37e-1169-4f76-9cdd-5b61362fc3fb",
   "metadata": {
    "tags": []
   },
   "outputs": [
    {
     "data": {
      "text/plain": [
       "0.44999999999999996"
      ]
     },
     "execution_count": 43,
     "metadata": {},
     "output_type": "execute_result"
    }
   ],
   "source": [
    "6*0.15*0.5"
   ]
  },
  {
   "cell_type": "code",
   "execution_count": null,
   "id": "8d102104-1e1d-468b-a3db-a81e90e2df0f",
   "metadata": {},
   "outputs": [],
   "source": []
  },
  {
   "cell_type": "code",
   "execution_count": null,
   "id": "0b302797-8e77-4752-af74-e2a2b07fd355",
   "metadata": {},
   "outputs": [],
   "source": []
  },
  {
   "cell_type": "markdown",
   "id": "40d720ec-2389-4519-9638-c5cf635610ac",
   "metadata": {},
   "source": [
    "## Modifying Skewed Data ?"
   ]
  },
  {
   "cell_type": "code",
   "execution_count": 44,
   "id": "69265cb0-bd7b-47f5-b7bd-0873c41d2df1",
   "metadata": {
    "tags": []
   },
   "outputs": [
    {
     "data": {
      "text/plain": [
       "0.6931471805599453"
      ]
     },
     "execution_count": 44,
     "metadata": {},
     "output_type": "execute_result"
    }
   ],
   "source": [
    "# dict(Counter(perfectmm_counted[0]))[1]\n",
    "np.log(2)"
   ]
  },
  {
   "cell_type": "code",
   "execution_count": 45,
   "id": "d7b2457d-45b5-4466-8e13-a7b63f8d5fd1",
   "metadata": {
    "tags": []
   },
   "outputs": [],
   "source": [
    "logged_perfectmm_0 = np.log(perfectmm_counted[0])"
   ]
  },
  {
   "cell_type": "code",
   "execution_count": 46,
   "id": "21e2a740-222f-468b-b055-baec393bafe0",
   "metadata": {
    "tags": []
   },
   "outputs": [
    {
     "data": {
      "image/png": "[encoded data removed]",
      "text/plain": [
       "<Figure size 640x480 with 1 Axes>"
      ]
     },
     "metadata": {},
     "output_type": "display_data"
    }
   ],
   "source": [
    "# plt.hist(perfectmm_counted[0], bins=30)\n",
    "plt.hist(logged_perfectmm_0, bins=5)\n",
    "# plt.hist(logged_perfectmm_0)\n",
    "plt.show()"
   ]
  },
  {
   "cell_type": "code",
   "execution_count": 47,
   "id": "255cff4c-fd23-4da6-b78f-59d208bc2b10",
   "metadata": {
    "tags": []
   },
   "outputs": [
    {
     "data": {
      "image/png": "[encoded data removed]",
      "text/plain": [
       "<Figure size 640x480 with 1 Axes>"
      ]
     },
     "metadata": {},
     "output_type": "display_data"
    }
   ],
   "source": [
    "logged_streakmm_0 = np.log(streakmm_counted[0])\n",
    "\n",
    "# plt.hist(perfectmm_counted[0], bins=30)\n",
    "plt.hist(logged_streakmm_0, bins=5)\n",
    "plt.show()"
   ]
  },
  {
   "cell_type": "code",
   "execution_count": 48,
   "id": "42e6645c-ddac-4caf-bd5b-90f872b829da",
   "metadata": {
    "tags": []
   },
   "outputs": [
    {
     "data": {
      "text/plain": [
       "array([1.79175947, 1.09861229, 1.94591015, ..., 0.69314718, 1.60943791,\n",
       "       2.19722458])"
      ]
     },
     "execution_count": 48,
     "metadata": {},
     "output_type": "execute_result"
    }
   ],
   "source": [
    "logged_streakmm_0"
   ]
  },
  {
   "cell_type": "code",
   "execution_count": 49,
   "id": "19cfe0ff-4eb7-49dc-9cf4-ce0fd5381540",
   "metadata": {
    "tags": []
   },
   "outputs": [
    {
     "data": {
      "text/plain": [
       "[2, 1, 1, 5, 1, 3, 1, 1, 2, 2, 2, 1, 1, 2, 1, 1, 1, 1, 1, 4]"
      ]
     },
     "execution_count": 49,
     "metadata": {},
     "output_type": "execute_result"
    }
   ],
   "source": [
    "perfectmm_counted[0][:20]"
   ]
  },
  {
   "cell_type": "code",
   "execution_count": 50,
   "id": "b61a31b6-803e-48b1-9eec-8bd886201842",
   "metadata": {
    "tags": []
   },
   "outputs": [
    {
     "data": {
      "text/plain": [
       "1.791759469228055"
      ]
     },
     "execution_count": 50,
     "metadata": {},
     "output_type": "execute_result"
    }
   ],
   "source": [
    "np.log(6)"
   ]
  },
  {
   "cell_type": "code",
   "execution_count": null,
   "id": "62a1f0cb-488c-4c1a-9f95-e0c1eeb7e6cf",
   "metadata": {},
   "outputs": [],
   "source": []
  },
  {
   "cell_type": "code",
   "execution_count": null,
   "id": "3c65d3dc-fad5-4a85-b544-5a29a1240942",
   "metadata": {},
   "outputs": [],
   "source": []
  },
  {
   "cell_type": "code",
   "execution_count": null,
   "id": "2cd9bafe-7401-4ca5-8423-21e7ff02b92e",
   "metadata": {},
   "outputs": [],
   "source": []
  },
  {
   "cell_type": "markdown",
   "id": "676435ae-2855-444e-b6e9-a16dac0f55af",
   "metadata": {},
   "source": [
    "# Using Counter Dicts"
   ]
  },
  {
   "cell_type": "code",
   "execution_count": 57,
   "id": "9889d632-883a-4065-b1bb-bc8ac395b118",
   "metadata": {
    "tags": []
   },
   "outputs": [
    {
     "data": {
      "text/plain": [
       "Counter({1: 124404,\n",
       "         2: 62676,\n",
       "         3: 30936,\n",
       "         4: 15672,\n",
       "         5: 7940,\n",
       "         6: 3955,\n",
       "         7: 2003,\n",
       "         8: 979,\n",
       "         9: 461,\n",
       "         10: 248,\n",
       "         11: 111,\n",
       "         12: 55,\n",
       "         13: 28,\n",
       "         14: 24,\n",
       "         15: 9,\n",
       "         16: 4,\n",
       "         17: 3})"
      ]
     },
     "execution_count": 57,
     "metadata": {},
     "output_type": "execute_result"
    }
   ],
   "source": [
    "Counter(perfectmm_counted[0])"
   ]
  },
  {
   "cell_type": "code",
   "execution_count": 67,
   "id": "c16e28a5-423b-443b-91f1-c2325a115a1a",
   "metadata": {
    "tags": []
   },
   "outputs": [
    {
     "name": "stdout",
     "output_type": "stream",
     "text": [
      "[1, 2, 3, 4, 5, 6, 7, 8, 9, 10, 11, 12, 13, 14, 15, 16, 17]\n",
      "[124404, 62676, 30936, 15672, 7940, 3955, 2003, 979, 461, 248, 111, 55, 28, 24, 9, 4, 3]\n"
     ]
    }
   ],
   "source": [
    "perfect_dict_0 = Counter(perfectmm_counted[0])\n",
    "# perfect_dict_1 = Counter(perfectmm_counted[1])\n",
    "\n",
    "# sorted(perfect_dict_0.items())\n",
    "\n",
    "streak_sizes = sorted(list(perfect_dict_0.keys()))\n",
    "# frequencies = list(perfect_dict_0.values())\n",
    "frequencies = [perfect_dict_0[x] for x in streak_sizes]\n",
    "\n",
    "print(streak_sizes)\n",
    "print(frequencies)"
   ]
  },
  {
   "cell_type": "code",
   "execution_count": 83,
   "id": "d2f009f1-5517-4d5b-bc3f-403d762f4d67",
   "metadata": {
    "tags": []
   },
   "outputs": [
    {
     "data": {
      "image/png": "[encoded data removed]",
      "text/plain": [
       "<Figure size 600x400 with 1 Axes>"
      ]
     },
     "metadata": {},
     "output_type": "display_data"
    }
   ],
   "source": [
    "plt.figure(figsize=(6,4))\n",
    "plt.bar(streak_sizes, frequencies)\n",
    "plt.xticks(np.arange(0, 55, 5))\n",
    "# plt.yticks(np.arange(min(y), max(y)+1, 4))\n",
    "plt.show()"
   ]
  },
  {
   "cell_type": "code",
   "execution_count": null,
   "id": "82d38880-2719-4a4e-971d-187ce5945522",
   "metadata": {},
   "outputs": [],
   "source": []
  },
  {
   "cell_type": "code",
   "execution_count": null,
   "id": "07caac28-22a9-4b02-84ee-48d29408f7d9",
   "metadata": {},
   "outputs": [],
   "source": []
  }
 ],
 "metadata": {
  "kernelspec": {
   "display_name": "Python 3 (ipykernel)",
   "language": "python",
   "name": "python3"
  },
  "language_info": {
   "codemirror_mode": {
    "name": "ipython",
    "version": 3
   },
   "file_extension": ".py",
   "mimetype": "text/x-python",
   "name": "python",
   "nbconvert_exporter": "python",
   "pygments_lexer": "ipython3",
   "version": "3.11.5"
  }
 },
 "nbformat": 4,
 "nbformat_minor": 5
}
