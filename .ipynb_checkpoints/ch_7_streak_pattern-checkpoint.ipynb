{
 "cells": [
  {
   "cell_type": "markdown",
   "id": "f1f21e5c-68ab-434c-bd79-2d0955c17b97",
   "metadata": {},
   "source": [
    "# IMPORTS"
   ]
  },
  {
   "cell_type": "code",
   "execution_count": 1,
   "id": "7c554971-f945-4422-97bb-392cc1b48fbf",
   "metadata": {
    "tags": []
   },
   "outputs": [],
   "source": [
    "import random\n",
    "import pickle\n",
    "import glob\n",
    "\n",
    "import random\n",
    "import ast\n",
    "\n",
    "import numpy as np\n",
    "import pandas as pd\n",
    "\n",
    "import matplotlib.pyplot as plt\n",
    "import matplotlib.transforms as transforms\n",
    "\n",
    "from time import time\n",
    "from time import sleep\n",
    "from time import strftime\n",
    "from time import localtime\n",
    "from tqdm import tqdm\n",
    "\n",
    "from datetime import date, timedelta, datetime\n",
    "\n",
    "# from mydecorators import logger, stopwatch\n",
    "\n",
    "\n",
    "\n"
   ]
  },
  {
   "cell_type": "code",
   "execution_count": 2,
   "id": "4d4dae1a-15cd-4d25-ac98-fb5bb7b2b18e",
   "metadata": {
    "tags": []
   },
   "outputs": [],
   "source": [
    "def streak_counter(llist):\n",
    "  result_dict = {\n",
    "    ### 0 for Loss\n",
    "    0: [],\n",
    "    ### 1 for Win \n",
    "    1: []    \n",
    "  }\n",
    "\n",
    "  streak_size = 1\n",
    "\n",
    "  for i in range(len(llist)):\n",
    "    if i != len(llist)-1:\n",
    "      if llist[i] != llist[i+1]:\n",
    "        result_dict[llist[i]].append(streak_size)\n",
    "        streak_size = 1\n",
    "\n",
    "      elif llist[i] == llist[i+1]:\n",
    "        streak_size += 1\n",
    "    else:\n",
    "      result_dict[llist[i]].append(streak_size)\n",
    "\n",
    "  return result_dict\n"
   ]
  },
  {
   "cell_type": "code",
   "execution_count": 3,
   "id": "690e0cef-8315-403c-8471-7a6b15a31037",
   "metadata": {
    "tags": []
   },
   "outputs": [],
   "source": [
    "### function for calulating the average of number of consecutive results\n",
    "def avg_cal(ddict):\n",
    "  return np.mean(ddict[0]), np.mean(ddict[1])\n",
    "\n"
   ]
  },
  {
   "cell_type": "code",
   "execution_count": 4,
   "id": "014c622b-6dbe-4fb1-a5e4-5fd06b5cc8d9",
   "metadata": {
    "tags": []
   },
   "outputs": [],
   "source": [
    "### streak generator\n",
    "#### using list.extend\n",
    "\n",
    "def streak_gen(streak_size, result_size):    ### number of games\n",
    "  result_streak = []\n",
    "\n",
    "  n_games = result_size\n",
    "\n",
    "  n_games_played = 0\n",
    "\n",
    "  while n_games_played <= n_games:\n",
    "\n",
    "    streak_size = streak_size\n",
    "    streak = random.choices(['WS','LS'], weights=(0.5,0.5))[0]\n",
    "\n",
    "    if streak == 'WS':\n",
    "      wr = 0.85\n",
    "      lr = 0.15\n",
    "      # print(lr,wr)\n",
    "      \n",
    "      streak_games = random.choices([0,1], weights=(lr, wr), k=streak_size)\n",
    "      result_streak.extend(streak_games)\n",
    "\n",
    "    else:\n",
    "      wr = 0.15\n",
    "      lr = 0.85\n",
    "      # print(lr,wr)\n",
    "      streak_games = random.choices([0,1], weights=(lr, wr), k=streak_size)\n",
    "      result_streak.extend(streak_games)\n",
    "\n",
    "    n_games_played += streak_size\n",
    "\n",
    "\n",
    "  return result_streak[:result_size]"
   ]
  },
  {
   "cell_type": "code",
   "execution_count": null,
   "id": "9552c1fc-848b-475c-bd62-7d1de5201938",
   "metadata": {},
   "outputs": [],
   "source": []
  },
  {
   "cell_type": "markdown",
   "id": "7c202136-be06-4b1a-a711-8b540a9440b5",
   "metadata": {},
   "source": [
    "# Generate GAME HISTORIES"
   ]
  },
  {
   "cell_type": "markdown",
   "id": "de32e038-b321-46ab-a0fc-1c0ca0bf8b43",
   "metadata": {},
   "source": [
    "## PerfectMM - One Million Games (to use as POPULATION)"
   ]
  },
  {
   "cell_type": "code",
   "execution_count": 5,
   "id": "c4114c84-3249-40c7-8513-f2d99a086811",
   "metadata": {
    "tags": []
   },
   "outputs": [
    {
     "name": "stdout",
     "output_type": "stream",
     "text": [
      "2024-03-20 16:15:48\n",
      "\n",
      "\n",
      "\n",
      "----------------------------------------------------\n",
      "done in 6.956s.\n",
      "2024-03-20 16:15:55\n"
     ]
    }
   ],
   "source": [
    "start = time()\n",
    "print(strftime('%Y-%m-%d %H:%M:%S', localtime()))\n",
    "print('\\n')\n",
    "##############################################################################################################################\n",
    "\n",
    "### set random seed\n",
    "random.seed(135)\n",
    "np.random.seed(135)\n",
    "\n",
    "# prob_list = np.linspace(0.49,0.51, 100)\n",
    "prob_list = [0.5]\n",
    "\n",
    "### when each game is between 49 ~ 51 % (independent)\n",
    "#### 3000 games per player, 1000 players, totalling 3 million games played\n",
    "\n",
    "avg_list_0 = []\n",
    "avg_list_1 = []\n",
    "\n",
    "one_million_games = []\n",
    "\n",
    "# number_of_players = 1000\n",
    "# games_per_player = 3000\n",
    "number_of_players = 1\n",
    "games_per_player = 1000000\n",
    "\n",
    "for _ in range(number_of_players):\n",
    "    result_n = []\n",
    "\n",
    "    for _ in range(games_per_player):\n",
    "        prob_of_0 = random.choice(prob_list)\n",
    "        prob_of_1 = 1 - prob_of_0\n",
    "        \n",
    "        one_game = np.random.choice([0,1], 1, p = [prob_of_0, prob_of_1])[0]\n",
    "        result_n.append(one_game)\n",
    "    \n",
    "    streak_counter_result = streak_counter(result_n)\n",
    "    \n",
    "    ### add to one_million_games (3000 players)\n",
    "    one_million_games.append(result_n)\n",
    "    # print(streak_counter_result)\n",
    "\n",
    "    avg_cal_result = avg_cal(streak_counter_result)\n",
    "    # print(avg_cal_result)\n",
    "    avg_list_0.append(avg_cal_result[0])\n",
    "    avg_list_1.append(avg_cal_result[1])\n",
    "    \n",
    "    \n",
    "##############################################################################################################################\n",
    "print('\\n----------------------------------------------------')\n",
    "print(\"done in %0.3fs.\" % (time() - start))\n",
    "print(strftime('%Y-%m-%d %H:%M:%S', localtime()))"
   ]
  },
  {
   "cell_type": "code",
   "execution_count": 6,
   "id": "0864f544-16f7-4c47-a620-a8ab130f12dd",
   "metadata": {
    "tags": []
   },
   "outputs": [
    {
     "name": "stdout",
     "output_type": "stream",
     "text": [
      "1000000\n",
      "1\n"
     ]
    }
   ],
   "source": [
    "### check all records have 3000 games per player across 1000 players\n",
    "\n",
    "### number of games per player\n",
    "print(len(one_million_games[0]))\n",
    "### number of players\n",
    "print(len(one_million_games))"
   ]
  },
  {
   "cell_type": "code",
   "execution_count": 7,
   "id": "d36f63c0-e7dc-4365-b921-e7c9210ce305",
   "metadata": {
    "tags": []
   },
   "outputs": [],
   "source": [
    "### one_million_games[0][:10]\n",
    "\n",
    "# perfectmm_counted = streak_counter(one_million_games[0][:])\n",
    "perfectmm_counted = streak_counter(one_million_games[0])"
   ]
  },
  {
   "cell_type": "code",
   "execution_count": 8,
   "id": "83c88b02-c077-45ee-b895-f98154daf56b",
   "metadata": {
    "tags": []
   },
   "outputs": [
    {
     "data": {
      "text/plain": [
       "(2.003923721884669, 2.0039557691305725)"
      ]
     },
     "execution_count": 8,
     "metadata": {},
     "output_type": "execute_result"
    }
   ],
   "source": [
    "avg_cal_result\n",
    "\n",
    "# (2.000536867578006, 2.0059375951537683)\n",
    "# (1.9972764466627473, 2.0020676609036117)\n",
    "# (1.9998959058989327, 2.003723365922794)\n",
    "# (2.003923721884669, 2.0039557691305725)\n"
   ]
  },
  {
   "cell_type": "code",
   "execution_count": 9,
   "id": "6f6d995c-f88b-4576-87ff-ecd8809d460b",
   "metadata": {
    "tags": []
   },
   "outputs": [
    {
     "name": "stdout",
     "output_type": "stream",
     "text": [
      "MAX MIN of Losing Streaks\n",
      "17\n",
      "1\n",
      "MAX MIN of Win Streaks\n",
      "20\n",
      "1\n",
      "Averages\n",
      "L: 2.003923721884669\n",
      "W: 2.0039557691305725\n",
      "Standard Deviations\n",
      "L: 1.4168229150676865\n",
      "W: 1.419380547217041\n"
     ]
    }
   ],
   "source": [
    "print('MAX MIN of Losing Streaks')\n",
    "print(np.max(perfectmm_counted[0]))\n",
    "print(np.min(perfectmm_counted[0]))\n",
    "\n",
    "print('MAX MIN of Win Streaks')\n",
    "print(np.max(perfectmm_counted[1]))\n",
    "print(np.min(perfectmm_counted[1]))\n",
    "\n",
    "print('Averages')\n",
    "print(f'L: {np.mean(perfectmm_counted[0])}')\n",
    "print(f'W: {np.mean(perfectmm_counted[1])}')\n",
    "\n",
    "print('Standard Deviations')\n",
    "print(f'L: {np.std(perfectmm_counted[0])}')\n",
    "print(f'W: {np.std(perfectmm_counted[1])}')"
   ]
  },
  {
   "cell_type": "code",
   "execution_count": 10,
   "id": "c07bd289-7a74-4b1a-9abd-f775cffc78cc",
   "metadata": {
    "tags": []
   },
   "outputs": [
    {
     "name": "stdout",
     "output_type": "stream",
     "text": [
      "sum of L streak : 499995\n",
      "sum of W streak : 500005\n"
     ]
    }
   ],
   "source": [
    "print(f'sum of L streak : {np.sum(perfectmm_counted[0])}')\n",
    "print(f'sum of W streak : {np.sum(perfectmm_counted[1])}')"
   ]
  },
  {
   "cell_type": "code",
   "execution_count": null,
   "id": "11e4988c-8e82-4516-aa50-7b75b96a139f",
   "metadata": {},
   "outputs": [],
   "source": []
  },
  {
   "cell_type": "markdown",
   "id": "9fbbafad-e192-491a-8a6e-027632f95967",
   "metadata": {},
   "source": [
    "## NearPerfectMM - One Million Games"
   ]
  },
  {
   "cell_type": "code",
   "execution_count": null,
   "id": "855eea82-b066-4d9c-aad6-e243fee1b8a5",
   "metadata": {},
   "outputs": [],
   "source": []
  },
  {
   "cell_type": "code",
   "execution_count": null,
   "id": "78498e66-023f-429e-bdb1-d03d8e43e1f1",
   "metadata": {},
   "outputs": [],
   "source": []
  },
  {
   "cell_type": "code",
   "execution_count": null,
   "id": "973163df-e6ee-4de3-b098-2c3259947a46",
   "metadata": {},
   "outputs": [],
   "source": []
  },
  {
   "cell_type": "code",
   "execution_count": null,
   "id": "62b44c95-f9a6-4a9e-b71d-7380750b7a05",
   "metadata": {},
   "outputs": [],
   "source": []
  },
  {
   "cell_type": "code",
   "execution_count": null,
   "id": "9181d632-fc68-4aaa-b5c8-c07409712ba2",
   "metadata": {},
   "outputs": [],
   "source": []
  },
  {
   "cell_type": "code",
   "execution_count": null,
   "id": "89061c4d-00ca-424a-9b4e-37529eb5bc49",
   "metadata": {},
   "outputs": [],
   "source": []
  },
  {
   "cell_type": "code",
   "execution_count": null,
   "id": "b47e01e3-4a66-4f7a-b747-718f9df91b10",
   "metadata": {},
   "outputs": [],
   "source": []
  },
  {
   "cell_type": "code",
   "execution_count": null,
   "id": "0a0c63bf-eb0f-40bc-ad91-e82d8ac20156",
   "metadata": {},
   "outputs": [],
   "source": []
  }
 ],
 "metadata": {
  "kernelspec": {
   "display_name": "Python 3 (ipykernel)",
   "language": "python",
   "name": "python3"
  },
  "language_info": {
   "codemirror_mode": {
    "name": "ipython",
    "version": 3
   },
   "file_extension": ".py",
   "mimetype": "text/x-python",
   "name": "python",
   "nbconvert_exporter": "python",
   "pygments_lexer": "ipython3",
   "version": "3.11.5"
  }
 },
 "nbformat": 4,
 "nbformat_minor": 5
}
