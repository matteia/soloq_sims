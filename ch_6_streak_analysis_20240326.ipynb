{
 "cells": [
  {
   "cell_type": "markdown",
   "id": "b16ecc12-6da0-4ce5-8032-f64bb0fb94d5",
   "metadata": {
    "tags": []
   },
   "source": [
    "# IMPORTS"
   ]
  },
  {
   "cell_type": "code",
   "execution_count": 1,
   "id": "f93f9607-0987-4f68-abd8-9af7d57777c0",
   "metadata": {
    "tags": []
   },
   "outputs": [],
   "source": [
    "import random\n",
    "import pickle\n",
    "import glob\n",
    "\n",
    "import random\n",
    "import ast\n",
    "\n",
    "import numpy as np\n",
    "import pandas as pd\n",
    "\n",
    "import matplotlib.pyplot as plt\n",
    "import matplotlib.transforms as transforms\n",
    "\n",
    "from collections import Counter\n",
    "\n",
    "from time import time\n",
    "from time import sleep\n",
    "from time import strftime\n",
    "from time import localtime\n",
    "from tqdm import tqdm\n",
    "\n",
    "from datetime import date, timedelta, datetime\n",
    "\n",
    "# from mydecorators import logger, stopwatch\n",
    "\n",
    "\n",
    "\n"
   ]
  },
  {
   "cell_type": "code",
   "execution_count": 2,
   "id": "b6d5408c-3ab3-4cb1-af85-752527810699",
   "metadata": {
    "tags": []
   },
   "outputs": [],
   "source": [
    "def streak_counter(llist):\n",
    "  result_dict = {\n",
    "    ### 0 for Loss\n",
    "    0: [],\n",
    "    ### 1 for Win \n",
    "    1: []    \n",
    "  }\n",
    "\n",
    "  streak_size = 1\n",
    "\n",
    "  for i in range(len(llist)):\n",
    "    if i != len(llist)-1:\n",
    "      if llist[i] != llist[i+1]:\n",
    "        result_dict[llist[i]].append(streak_size)\n",
    "        streak_size = 1\n",
    "\n",
    "      elif llist[i] == llist[i+1]:\n",
    "        streak_size += 1\n",
    "    else:\n",
    "      result_dict[llist[i]].append(streak_size)\n",
    "\n",
    "  return result_dict\n"
   ]
  },
  {
   "cell_type": "code",
   "execution_count": 3,
   "id": "8407c406-5b84-4e5e-b87c-20d6802f7ada",
   "metadata": {
    "tags": []
   },
   "outputs": [],
   "source": [
    "### function for calulating the average of number of consecutive results\n",
    "def avg_cal(ddict):\n",
    "  return np.mean(ddict[0]), np.mean(ddict[1])\n",
    "\n"
   ]
  },
  {
   "cell_type": "code",
   "execution_count": 4,
   "id": "88993237-f68f-4e02-9379-9a3d8482a1b6",
   "metadata": {
    "tags": []
   },
   "outputs": [],
   "source": [
    "### streak generator\n",
    "#### using list.extend\n",
    "\n",
    "def streak_gen(streak_size, result_size):    ### number of games\n",
    "  result_streak = []\n",
    "\n",
    "  n_games = result_size\n",
    "\n",
    "  n_games_played = 0\n",
    "\n",
    "  while n_games_played <= n_games:\n",
    "\n",
    "    streak_size = streak_size\n",
    "    streak = random.choices(['WS','LS'], weights=(0.5,0.5))[0]\n",
    "\n",
    "    if streak == 'WS':\n",
    "      wr = 0.85\n",
    "      lr = 0.15\n",
    "      # print(lr,wr)\n",
    "      \n",
    "      streak_games = random.choices([0,1], weights=(lr, wr), k=streak_size)\n",
    "      result_streak.extend(streak_games)\n",
    "\n",
    "    else:\n",
    "      wr = 0.15\n",
    "      lr = 0.85\n",
    "      # print(lr,wr)\n",
    "      streak_games = random.choices([0,1], weights=(lr, wr), k=streak_size)\n",
    "      result_streak.extend(streak_games)\n",
    "\n",
    "    n_games_played += streak_size\n",
    "\n",
    "\n",
    "  return result_streak[:result_size]"
   ]
  },
  {
   "cell_type": "markdown",
   "id": "1e78a03f-605d-40f3-8d1c-41c694cd84c8",
   "metadata": {},
   "source": [
    "# Generate GAME HISTORIES"
   ]
  },
  {
   "cell_type": "markdown",
   "id": "5b7b7e7f-34cb-48bf-a29d-646196b4dfac",
   "metadata": {},
   "source": [
    "## PerfectMM - One Million Games (to use as POPULATION)"
   ]
  },
  {
   "cell_type": "code",
   "execution_count": 5,
   "id": "faa59f04-52f8-4422-b796-f16408549bd2",
   "metadata": {
    "tags": []
   },
   "outputs": [
    {
     "name": "stdout",
     "output_type": "stream",
     "text": [
      "2024-03-26 14:46:47\n",
      "\n",
      "\n",
      "\n",
      "----------------------------------------------------\n",
      "done in 6.471s.\n",
      "2024-03-26 14:46:53\n"
     ]
    }
   ],
   "source": [
    "start = time()\n",
    "print(strftime('%Y-%m-%d %H:%M:%S', localtime()))\n",
    "print('\\n')\n",
    "##############################################################################################################################\n",
    "\n",
    "### set random seed\n",
    "random.seed(135)\n",
    "np.random.seed(135)\n",
    "\n",
    "# prob_list = np.linspace(0.49,0.51, 100)\n",
    "prob_list = [0.5]\n",
    "\n",
    "### when each game is between 49 ~ 51 % (independent)\n",
    "#### 3000 games per player, 1000 players, totalling 3 million games played\n",
    "\n",
    "avg_list_0 = []\n",
    "avg_list_1 = []\n",
    "\n",
    "one_million_games = []\n",
    "\n",
    "# number_of_players = 1000\n",
    "# games_per_player = 3000\n",
    "number_of_players = 1\n",
    "games_per_player = 1000000\n",
    "\n",
    "for _ in range(number_of_players):\n",
    "    result_n = []\n",
    "\n",
    "    for _ in range(games_per_player):\n",
    "        prob_of_0 = random.choice(prob_list)\n",
    "        prob_of_1 = 1 - prob_of_0\n",
    "        \n",
    "        one_game = np.random.choice([0,1], 1, p = [prob_of_0, prob_of_1])[0]\n",
    "        result_n.append(one_game)\n",
    "    \n",
    "    streak_counter_result = streak_counter(result_n)\n",
    "    \n",
    "    ### add to one_million_games (3000 players)\n",
    "    one_million_games.append(result_n)\n",
    "    # print(streak_counter_result)\n",
    "\n",
    "    avg_cal_result = avg_cal(streak_counter_result)\n",
    "    # print(avg_cal_result)\n",
    "    avg_list_0.append(avg_cal_result[0])\n",
    "    avg_list_1.append(avg_cal_result[1])\n",
    "    \n",
    "    \n",
    "##############################################################################################################################\n",
    "print('\\n----------------------------------------------------')\n",
    "print(\"done in %0.3fs.\" % (time() - start))\n",
    "print(strftime('%Y-%m-%d %H:%M:%S', localtime()))"
   ]
  },
  {
   "cell_type": "code",
   "execution_count": 7,
   "id": "fd5eb8a8-7190-4427-801f-7cc26637e9c1",
   "metadata": {
    "tags": []
   },
   "outputs": [
    {
     "name": "stdout",
     "output_type": "stream",
     "text": [
      "1000000\n",
      "1\n"
     ]
    }
   ],
   "source": [
    "### check all records have 3000 games per player across 1000 players\n",
    "\n",
    "### number of games per player\n",
    "print(len(one_million_games[0]))\n",
    "### number of players\n",
    "print(len(one_million_games))"
   ]
  },
  {
   "cell_type": "code",
   "execution_count": 8,
   "id": "164cb372-8fa4-4fcc-81db-5169544fca61",
   "metadata": {
    "tags": []
   },
   "outputs": [
    {
     "data": {
      "text/plain": [
       "(2.003923721884669, 2.0039557691305725)"
      ]
     },
     "execution_count": 8,
     "metadata": {},
     "output_type": "execute_result"
    }
   ],
   "source": [
    "avg_cal_result\n",
    "\n",
    "# (2.000536867578006, 2.0059375951537683)\n",
    "# (1.9972764466627473, 2.0020676609036117)\n",
    "# (1.9998959058989327, 2.003723365922794)\n",
    "# (2.003923721884669, 2.0039557691305725)\n"
   ]
  },
  {
   "cell_type": "code",
   "execution_count": 9,
   "id": "e4bcb1ff-d9b1-483e-a616-fef017cfb296",
   "metadata": {
    "tags": []
   },
   "outputs": [
    {
     "name": "stdout",
     "output_type": "stream",
     "text": [
      "2.003923721884669\n",
      "2.0039557691305725\n"
     ]
    }
   ],
   "source": [
    "print(np.mean(avg_list_0))\n",
    "print(np.mean(avg_list_1))\n",
    "\n",
    "# ### when n=1 games=1000000\n",
    "# print(np.mean(streak_counter_result[0]))\n",
    "# print(np.mean(streak_counter_result[1]))\n",
    "\n",
    "\n",
    "# 2.0018657388686254\n",
    "# 2.0018657388686254"
   ]
  },
  {
   "cell_type": "code",
   "execution_count": 10,
   "id": "47408598-a14c-4801-bbc8-b67d74d3f568",
   "metadata": {
    "tags": []
   },
   "outputs": [
    {
     "name": "stdout",
     "output_type": "stream",
     "text": [
      "17\n",
      "1\n",
      "20\n",
      "1\n",
      "2.003923721884669\n",
      "2.0039557691305725\n",
      "1.4168229150676865\n",
      "1.419380547217041\n"
     ]
    }
   ],
   "source": [
    "print(np.max(streak_counter(one_million_games[0][:])[0]))\n",
    "print(np.min(streak_counter(one_million_games[0][:])[0]))\n",
    "\n",
    "print(np.max(streak_counter(one_million_games[0][:])[1]))\n",
    "print(np.min(streak_counter(one_million_games[0][:])[1]))\n",
    "\n",
    "\n",
    "\n",
    "print(np.mean(streak_counter(one_million_games[0])[0]))\n",
    "print(np.mean(streak_counter(one_million_games[0])[1]))\n",
    "\n",
    "print(np.std(streak_counter(one_million_games[0])[0]))\n",
    "print(np.std(streak_counter(one_million_games[0])[1]))"
   ]
  },
  {
   "cell_type": "code",
   "execution_count": 10,
   "id": "579e95d8-e3c2-4119-9b88-26a73919402c",
   "metadata": {
    "tags": []
   },
   "outputs": [
    {
     "name": "stdout",
     "output_type": "stream",
     "text": [
      "pop_mean_0: 2.003923721884669\n",
      "pop_mean_1: 2.0039557691305725\n",
      "pop_std_0: 1.4168229150676865\n",
      "pop_std_1: 1.419380547217041\n"
     ]
    }
   ],
   "source": [
    "### Metrics from One million games to be used as Population\n",
    "\n",
    "### mean of streak durations\n",
    "## 0 for loss // 1 for win\n",
    "pop_mean_0 = np.mean(streak_counter(one_million_games[0])[0])\n",
    "pop_mean_1 = np.mean(streak_counter(one_million_games[0])[1])\n",
    "\n",
    "### std of streak durations\n",
    "pop_std_0 = np.std(streak_counter(one_million_games[0])[0])\n",
    "pop_std_1 = np.std(streak_counter(one_million_games[0])[1])\n",
    "\n",
    "\n",
    "print(f'pop_mean_0: {pop_mean_0}')\n",
    "print(f'pop_mean_1: {pop_mean_1}')\n",
    "print(f'pop_std_0: {pop_std_0}')\n",
    "print(f'pop_std_1: {pop_std_1}')\n",
    "\n",
    "\n"
   ]
  },
  {
   "cell_type": "code",
   "execution_count": null,
   "id": "6ccedd1f-3837-4e2e-b6bb-302ea72fa079",
   "metadata": {},
   "outputs": [],
   "source": []
  },
  {
   "cell_type": "markdown",
   "id": "96f93bd1-8142-4ee0-acba-d96bb2ce938a",
   "metadata": {},
   "source": [
    "## PerfectMM - 1000 players // 300 games per player (to compare against Population)"
   ]
  },
  {
   "cell_type": "code",
   "execution_count": 11,
   "id": "1aeca391-aace-4eee-9c2d-478131144411",
   "metadata": {
    "tags": []
   },
   "outputs": [
    {
     "name": "stdout",
     "output_type": "stream",
     "text": [
      "2024-03-26 14:47:33\n",
      "\n",
      "\n",
      "\n",
      "----------------------------------------------------\n",
      "done in 2.093s.\n",
      "2024-03-26 14:47:35\n"
     ]
    }
   ],
   "source": [
    "start = time()\n",
    "print(strftime('%Y-%m-%d %H:%M:%S', localtime()))\n",
    "print('\\n')\n",
    "##############################################################################################################################\n",
    "\n",
    "### set random seed\n",
    "random.seed(6565)\n",
    "np.random.seed(6565)\n",
    "\n",
    "prob_list = [0.5]\n",
    "\n",
    "### when each game is between 49 ~ 51 % (independent)\n",
    "#### 3000 games per player, 1000 players, totalling 3 million games played\n",
    "\n",
    "avg_list_0 = []\n",
    "avg_list_1 = []\n",
    "\n",
    "perfect_all_records = []\n",
    "\n",
    "number_of_players = 1000\n",
    "games_per_player = 300\n",
    "\n",
    "\n",
    "for _ in range(number_of_players):\n",
    "    result_n = []\n",
    "\n",
    "    for _ in range(games_per_player):\n",
    "        prob_of_0 = random.choice(prob_list)\n",
    "        prob_of_1 = 1 - prob_of_0\n",
    "\n",
    "        one_game = np.random.choice([0,1], 1, p = [prob_of_0, prob_of_1])[0]\n",
    "        result_n.append(one_game)\n",
    "    \n",
    "    streak_counter_result = streak_counter(result_n)\n",
    "    \n",
    "    ### add to perfect_all_records (3000 players)\n",
    "    perfect_all_records.append(result_n)\n",
    "    # print(streak_counter_result)\n",
    "\n",
    "    avg_cal_result = avg_cal(streak_counter_result)\n",
    "    # print(avg_cal_result)\n",
    "    avg_list_0.append(avg_cal_result[0])\n",
    "    avg_list_1.append(avg_cal_result[1])\n",
    "    \n",
    "    \n",
    "##############################################################################################################################\n",
    "print('\\n----------------------------------------------------')\n",
    "print(\"done in %0.3fs.\" % (time() - start))\n",
    "print(strftime('%Y-%m-%d %H:%M:%S', localtime()))"
   ]
  },
  {
   "cell_type": "code",
   "execution_count": 12,
   "id": "94531b67-9189-4202-ba10-bc1d174643e9",
   "metadata": {
    "tags": []
   },
   "outputs": [
    {
     "data": {
      "text/plain": [
       "300"
      ]
     },
     "execution_count": 12,
     "metadata": {},
     "output_type": "execute_result"
    }
   ],
   "source": [
    "one_perfect = perfect_all_records[400]\n",
    "len(one_perfect)\n"
   ]
  },
  {
   "cell_type": "markdown",
   "id": "423a6b90-d3ff-4c0f-9424-0dbace6455f8",
   "metadata": {},
   "source": [
    "## NearPerfectMM - 1000 players // 300 games per player (to compare against Population)"
   ]
  },
  {
   "cell_type": "code",
   "execution_count": 13,
   "id": "2e0df16f-2a2b-4825-8be3-c609bc316985",
   "metadata": {
    "tags": []
   },
   "outputs": [
    {
     "name": "stdout",
     "output_type": "stream",
     "text": [
      "2024-03-26 14:47:37\n",
      "\n",
      "\n",
      "\n",
      "----------------------------------------------------\n",
      "done in 2.395s.\n",
      "2024-03-26 14:47:39\n"
     ]
    }
   ],
   "source": [
    "start = time()\n",
    "print(strftime('%Y-%m-%d %H:%M:%S', localtime()))\n",
    "print('\\n')\n",
    "##############################################################################################################################\n",
    "\n",
    "### set random seed\n",
    "random.seed(2237)\n",
    "np.random.seed(2237)\n",
    "\n",
    "prob_list = np.linspace(0.49,0.51, 100)\n",
    "\n",
    "### when each game is between 49 ~ 51 % (independent)\n",
    "#### 3000 games per player, 1000 players, totalling 3 million games played\n",
    "\n",
    "avg_list_0 = []\n",
    "avg_list_1 = []\n",
    "\n",
    "nearperfect_all_records = []\n",
    "\n",
    "number_of_players = 1000\n",
    "games_per_player = 300\n",
    "\n",
    "\n",
    "for _ in range(number_of_players):\n",
    "    result_n = []\n",
    "\n",
    "    for _ in range(games_per_player):\n",
    "        prob_of_0 = random.choice(prob_list)\n",
    "        prob_of_1 = 1 - prob_of_0\n",
    "\n",
    "        one_game = np.random.choice([0,1], 1, p = [prob_of_0, prob_of_1])[0]\n",
    "        result_n.append(one_game)\n",
    "    \n",
    "    streak_counter_result = streak_counter(result_n)\n",
    "    \n",
    "    ### add to nearperfect_all_records (3000 players)\n",
    "    nearperfect_all_records.append(result_n)\n",
    "    # print(streak_counter_result)\n",
    "\n",
    "    avg_cal_result = avg_cal(streak_counter_result)\n",
    "    # print(avg_cal_result)\n",
    "    avg_list_0.append(avg_cal_result[0])\n",
    "    avg_list_1.append(avg_cal_result[1])\n",
    "    \n",
    "    \n",
    "##############################################################################################################################\n",
    "print('\\n----------------------------------------------------')\n",
    "print(\"done in %0.3fs.\" % (time() - start))\n",
    "print(strftime('%Y-%m-%d %H:%M:%S', localtime()))"
   ]
  },
  {
   "cell_type": "code",
   "execution_count": 14,
   "id": "87fa5c84-4c65-4bdf-baa5-dadad58aa72e",
   "metadata": {
    "tags": []
   },
   "outputs": [
    {
     "data": {
      "text/plain": [
       "300"
      ]
     },
     "execution_count": 14,
     "metadata": {},
     "output_type": "execute_result"
    }
   ],
   "source": [
    "one_nearperfect = nearperfect_all_records[400]\n",
    "len(one_nearperfect)"
   ]
  },
  {
   "cell_type": "code",
   "execution_count": null,
   "id": "d751f173-5d7d-4cf0-9b53-430567cd110f",
   "metadata": {},
   "outputs": [],
   "source": []
  },
  {
   "cell_type": "markdown",
   "id": "e0c391bc-7b73-4214-ba1f-e256ad0f730b",
   "metadata": {},
   "source": [
    "## StreakMM - 1000 players // 300 games per player (to compare against Population)"
   ]
  },
  {
   "cell_type": "code",
   "execution_count": 15,
   "id": "16c44fa8-8ae0-455d-9f86-6e1ad5ff41e1",
   "metadata": {
    "tags": []
   },
   "outputs": [
    {
     "name": "stdout",
     "output_type": "stream",
     "text": [
      "2024-03-26 14:47:40\n",
      "\n",
      "\n",
      "\n",
      "----------------------------------------------------\n",
      "done in 0.105s.\n",
      "2024-03-26 14:47:40\n"
     ]
    }
   ],
   "source": [
    "start = time()\n",
    "print(strftime('%Y-%m-%d %H:%M:%S', localtime()))\n",
    "print('\\n')\n",
    "##############################################################################################################################\n",
    "\n",
    "### set random seed\n",
    "random.seed(3331)\n",
    "np.random.seed(3331)\n",
    "\n",
    "### when streaks exist\n",
    "### ws:ls = 50:50\n",
    "### 85% of win/loss depending on the streak\n",
    "\n",
    "avg_list_0 = []\n",
    "avg_list_1 = []\n",
    "\n",
    "streak_all_records = []\n",
    "for _ in range(1000):\n",
    "    result_n = streak_gen(6, 300)     # 3000 games played per player\n",
    "    \n",
    "    # streak_all_records.append(pd.Series(result_n))\n",
    "    streak_all_records.append(result_n)\n",
    "    \n",
    "    streak_counter_result = streak_counter(result_n)\n",
    "    # print(streak_counter_result)\n",
    "\n",
    "    avg_cal_result = avg_cal(streak_counter_result)\n",
    "    # print(avg_cal_result)\n",
    "    avg_list_0.append(avg_cal_result[0])\n",
    "    avg_list_1.append(avg_cal_result[1])\n",
    "    \n",
    "    \n",
    "##############################################################################################################################\n",
    "print('\\n----------------------------------------------------')\n",
    "print(\"done in %0.3fs.\" % (time() - start))\n",
    "print(strftime('%Y-%m-%d %H:%M:%S', localtime()))"
   ]
  },
  {
   "cell_type": "code",
   "execution_count": 16,
   "id": "5ce02a37-0667-4f2d-af15-d5663292f66e",
   "metadata": {
    "tags": []
   },
   "outputs": [
    {
     "data": {
      "text/plain": [
       "300"
      ]
     },
     "execution_count": 16,
     "metadata": {},
     "output_type": "execute_result"
    }
   ],
   "source": [
    "one_streakmm = streak_all_records[400]\n",
    "len(one_streakmm)"
   ]
  },
  {
   "cell_type": "markdown",
   "id": "e15725cc-9bdd-4a86-8515-063dccb7223e",
   "metadata": {},
   "source": [
    "# Analysis - Critical Count(s)"
   ]
  },
  {
   "cell_type": "markdown",
   "id": "80463724-ac57-46c8-bba6-ae270daaf446",
   "metadata": {},
   "source": [
    "## The definition of CRITICAL COUNT\n",
    "\n",
    "Critical Count : The frequency in which a record(eg. 300 games) yields streaks of either wins or defeats that surpasses the metrics provided by the Population data within a given sliding window(eg. 50 games). "
   ]
  },
  {
   "cell_type": "markdown",
   "id": "8c54ed9d-4f31-412c-97ef-2df99d1374b3",
   "metadata": {
    "tags": []
   },
   "source": [
    "## PerfectMM vs Population"
   ]
  },
  {
   "cell_type": "markdown",
   "id": "118cb4d0-7a70-4377-b3ab-c6f87bfddbb1",
   "metadata": {},
   "source": [
    "### Single PerfectMM vs Population"
   ]
  },
  {
   "cell_type": "code",
   "execution_count": 53,
   "id": "8f3d6def-5b80-4f34-913c-0ee7a488d29c",
   "metadata": {
    "tags": []
   },
   "outputs": [
    {
     "name": "stdout",
     "output_type": "stream",
     "text": [
      "i ~ i+50 : 72 ~ 122, z_0 : 2.223192276613692, z_1 : -0.4340925288337708\n",
      "i ~ i+50 : 73 ~ 123, z_0 : 2.223192276613692, z_1 : -0.008813168797416438\n",
      "i ~ i+50 : 74 ~ 124, z_0 : 1.9999972939141561, z_1 : 0.2139796309467124\n",
      "i ~ i+50 : 75 ~ 125, z_0 : 1.9999972939141561, z_1 : 0.2139796309467124\n",
      "i ~ i+50 : 76 ~ 126, z_0 : 1.9999972939141561, z_1 : -0.22166792912445887\n",
      "i ~ i+50 : 79 ~ 129, z_0 : 2.223192276613692, z_1 : -0.4340925288337708\n",
      "i ~ i+50 : 144 ~ 194, z_0 : 1.9999972939141561, z_1 : 0.2139796309467124\n",
      "i ~ i+50 : 145 ~ 195, z_0 : 2.223192276613692, z_1 : -0.008813168797416438\n",
      "i ~ i+50 : 146 ~ 196, z_0 : 2.446387259313228, z_1 : 0.22648332511806632\n",
      "i ~ i+50 : 147 ~ 197, z_0 : 2.223192276613692, z_1 : -0.008813168797416438\n",
      "i ~ i+50 : 148 ~ 198, z_0 : 2.5796417196132473, z_1 : 0.2139796309467124\n",
      "i ~ i+50 : 149 ~ 199, z_0 : 2.223192276613692, z_1 : 0.46132755627714156\n",
      "i ~ i+50 : 150 ~ 200, z_0 : 1.9999972939141561, z_1 : 0.2139796309467124\n",
      "i ~ i+50 : 151 ~ 201, z_0 : 2.344373550395777, z_1 : 0.43677243069084126\n",
      "i ~ i+50 : 152 ~ 202, z_0 : 2.344373550395777, z_1 : 0.9310160185952919\n",
      "i ~ i+50 : 153 ~ 203, z_0 : 2.344373550395777, z_1 : 0.9310160185952919\n",
      "i ~ i+50 : 154 ~ 204, z_0 : 2.344373550395777, z_1 : 0.9310160185952919\n",
      "critical_count : 17\n"
     ]
    }
   ],
   "source": [
    "llen = len(one_perfect)\n",
    "\n",
    "critical_count = 0\n",
    "\n",
    "for i in range(llen-50):\n",
    "    # print(i , i+50)\n",
    "    one_window = one_perfect[i:i+50]\n",
    "    \n",
    "    streak_counter_result = streak_counter(one_window)\n",
    "    lose_streak = streak_counter_result[0]\n",
    "    win_streak = streak_counter_result[1]\n",
    "    \n",
    "    ### ls = lose streak // ws = win streak\n",
    "    ### means within one window (50 games)\n",
    "    ls_mean = np.mean(lose_streak)\n",
    "    ws_mean = np.mean(win_streak)\n",
    "    \n",
    "    ### standard deviations within one window (50 games)\n",
    "    ls_std = np.std(lose_streak)\n",
    "    ws_std = np.std(win_streak)\n",
    "    \n",
    "    \n",
    "    ### z scores\n",
    "    ### (x_bar_1 - mu1) / (std1/np.sqrt(n1))\n",
    "    z_0 = (ls_mean - pop_mean_0) / (pop_std_0/np.sqrt(len(lose_streak)))\n",
    "    z_1 = (ws_mean - pop_mean_1) / (pop_std_1/np.sqrt(len(win_streak)))\n",
    "    \n",
    "    \n",
    "    if abs(z_0) >= 1.96 or abs(z_1) >= 1.96:\n",
    "        critical_count += 1\n",
    "        print(f'i ~ i+50 : {i} ~ {i+50}, z_0 : {z_0}, z_1 : {z_1}')\n",
    "        \n",
    "    # print(f'z_1 : {z_1}')\n",
    "    \n",
    "print(f'critical_count : {critical_count}')"
   ]
  },
  {
   "cell_type": "markdown",
   "id": "83a0a341-3074-4eae-a660-9893af627820",
   "metadata": {},
   "source": [
    "### Critical Counts for all PerfectMM Records"
   ]
  },
  {
   "cell_type": "code",
   "execution_count": 54,
   "id": "922c5c1e-c301-4544-99ba-10c9a5b6321a",
   "metadata": {
    "tags": []
   },
   "outputs": [],
   "source": [
    "crit_count_list = []\n",
    "\n",
    "for item in perfect_all_records:\n",
    "    one_record = item\n",
    "\n",
    "    llen = len(one_record)\n",
    "\n",
    "    critical_count = 0\n",
    "\n",
    "    for i in range(llen-50):\n",
    "        # print(i , i+50)\n",
    "        one_window = one_record[i:i+50]\n",
    "\n",
    "        streak_counter_result = streak_counter(one_window)\n",
    "        lose_streak = streak_counter_result[0]\n",
    "        win_streak = streak_counter_result[1]\n",
    "\n",
    "        ### ls = lose streak // ws = win streak\n",
    "        ### means within one window (50 games)\n",
    "        ls_mean = np.mean(lose_streak)\n",
    "        ws_mean = np.mean(win_streak)\n",
    "\n",
    "        ### standard deviations within one window (50 games)\n",
    "        ls_std = np.std(lose_streak)\n",
    "        ws_std = np.std(win_streak)\n",
    "\n",
    "\n",
    "        ### z scores\n",
    "        ### (x_bar_1 - mu1) / (std1/np.sqrt(n1))\n",
    "        z_0 = (ls_mean - pop_mean_0) / (pop_std_0/np.sqrt(len(lose_streak)))\n",
    "        z_1 = (ws_mean - pop_mean_1) / (pop_std_1/np.sqrt(len(win_streak)))\n",
    "\n",
    "\n",
    "        if abs(z_0) >= 1.96 or abs(z_1) >= 1.96:\n",
    "            critical_count += 1\n",
    "            # print(f'i ~ i+50 : {i} ~ {i+50}, z_0 : {z_0}, z_1 : {z_1}')\n",
    "\n",
    "        # print(f'z_1 : {z_1}')\n",
    "\n",
    "    crit_count_list.append(critical_count)\n",
    "    # print(f'critical_count : {critical_count}')\n",
    "    \n",
    "# print(crit_count_list)"
   ]
  },
  {
   "cell_type": "code",
   "execution_count": 55,
   "id": "30932885-bd72-4809-913a-db3bbd4f857f",
   "metadata": {
    "tags": []
   },
   "outputs": [
    {
     "name": "stdout",
     "output_type": "stream",
     "text": [
      "22.763\n",
      "20.68953433502069\n"
     ]
    }
   ],
   "source": [
    "print(np.mean(crit_count_list))\n",
    "print(np.std(crit_count_list))"
   ]
  },
  {
   "cell_type": "code",
   "execution_count": 56,
   "id": "b2aa66d8-a761-473c-80d5-adc32cb66036",
   "metadata": {
    "tags": []
   },
   "outputs": [
    {
     "name": "stdout",
     "output_type": "stream",
     "text": [
      "22.763\n",
      "20.68953433502069\n"
     ]
    }
   ],
   "source": [
    "perfectmm_pop_crit_count_mean = np.mean(crit_count_list)\n",
    "perfectmm_pop_crit_count_std = np.std(crit_count_list)\n",
    "\n",
    "print(perfectmm_pop_crit_count_mean)\n",
    "print(perfectmm_pop_crit_count_std)"
   ]
  },
  {
   "cell_type": "code",
   "execution_count": 57,
   "id": "2199f1b7-bf86-4f88-9f51-2b6f52453e0c",
   "metadata": {
    "tags": []
   },
   "outputs": [
    {
     "name": "stdout",
     "output_type": "stream",
     "text": [
      "0.0\n"
     ]
    }
   ],
   "source": [
    "z_crit_count = (np.mean(crit_count_list) - perfectmm_pop_crit_count_mean) / (perfectmm_pop_crit_count_std/np.sqrt(len(crit_count_list)))\n",
    "print(z_crit_count)"
   ]
  },
  {
   "cell_type": "code",
   "execution_count": 58,
   "id": "f138d24c-d681-4810-999a-3f89eea3367e",
   "metadata": {
    "tags": []
   },
   "outputs": [
    {
     "data": {
      "text/plain": [
       "[7, 4, 4, 0, 14, 46, 47, 47, 41, 0]"
      ]
     },
     "execution_count": 58,
     "metadata": {},
     "output_type": "execute_result"
    }
   ],
   "source": [
    "crit_count_list[:10]"
   ]
  },
  {
   "cell_type": "code",
   "execution_count": 59,
   "id": "d2a6ac39-db76-40b8-9367-669bdeb21148",
   "metadata": {
    "tags": []
   },
   "outputs": [
    {
     "name": "stdout",
     "output_type": "stream",
     "text": [
      "Counter({0: 123, 1: 31, 6: 29, 8: 29, 2: 26, 9: 26, 10: 24, 3: 24, 14: 23, 15: 23, 5: 23, 18: 21, 7: 20, 13: 20, 4: 18, 20: 18, 34: 18, 19: 17, 28: 17, 40: 16, 38: 16, 31: 16, 12: 16, 11: 16, 16: 15, 25: 15, 26: 14, 21: 14, 23: 13, 32: 13, 17: 13, 29: 12, 22: 12, 27: 12, 42: 12, 46: 11, 47: 11, 33: 11, 35: 11, 43: 10, 50: 9, 30: 9, 49: 9, 55: 9, 39: 9, 41: 8, 45: 8, 53: 7, 54: 7, 24: 7, 52: 7, 59: 7, 37: 7, 36: 6, 44: 6, 56: 6, 60: 5, 64: 4, 58: 3, 75: 3, 65: 3, 79: 3, 51: 3, 62: 3, 84: 3, 72: 3, 57: 3, 68: 2, 85: 2, 63: 2, 66: 2, 48: 2, 69: 2, 74: 2, 77: 2, 76: 2, 61: 2, 67: 2, 71: 1, 82: 1, 87: 1, 88: 1, 93: 1, 86: 1, 80: 1, 99: 1, 92: 1, 105: 1, 73: 1, 70: 1})\n"
     ]
    }
   ],
   "source": [
    "print(Counter(crit_count_list))"
   ]
  },
  {
   "cell_type": "code",
   "execution_count": 60,
   "id": "3e911fd9-3add-43a6-804d-7039f339dade",
   "metadata": {
    "tags": []
   },
   "outputs": [
    {
     "data": {
      "image/png": "[encoded data removed]",
      "text/plain": [
       "<Figure size 640x480 with 1 Axes>"
      ]
     },
     "metadata": {},
     "output_type": "display_data"
    }
   ],
   "source": [
    "plt.hist(crit_count_list, bins=100)\n",
    "plt.show()"
   ]
  },
  {
   "cell_type": "markdown",
   "id": "6646d413-8eb0-452c-893d-98a034645214",
   "metadata": {},
   "source": [
    "## NearPerfctMM vs Population"
   ]
  },
  {
   "cell_type": "markdown",
   "id": "b43b7bc9-4135-4e74-bbbc-05b6c2ba055f",
   "metadata": {},
   "source": [
    "### Single NearPerfectMM vs Population"
   ]
  },
  {
   "cell_type": "code",
   "execution_count": 61,
   "id": "5571cc3e-40cf-4bb6-98f5-f1b6758e24a7",
   "metadata": {
    "tags": []
   },
   "outputs": [
    {
     "data": {
      "text/plain": [
       "300"
      ]
     },
     "execution_count": 61,
     "metadata": {},
     "output_type": "execute_result"
    }
   ],
   "source": [
    "one_nearperfect = nearperfect_all_records[141]\n",
    "len(one_nearperfect)"
   ]
  },
  {
   "cell_type": "code",
   "execution_count": 62,
   "id": "edeb74b4-5835-4c06-8641-e0f8b7036eae",
   "metadata": {
    "tags": []
   },
   "outputs": [
    {
     "name": "stdout",
     "output_type": "stream",
     "text": [
      "i ~ i+50 : 108 ~ 158, z_0 : -0.7168820300243041, z_1 : -2.0619822922966753\n",
      "critical_count : 1\n"
     ]
    }
   ],
   "source": [
    "llen = len(one_nearperfect)\n",
    "\n",
    "critical_count = 0\n",
    "\n",
    "for i in range(llen-50):\n",
    "    # print(i , i+50)\n",
    "    one_window = one_nearperfect[i:i+50]\n",
    "    \n",
    "    streak_counter_result = streak_counter(one_window)\n",
    "    lose_streak = streak_counter_result[0]\n",
    "    win_streak = streak_counter_result[1]\n",
    "    \n",
    "    ### ls = lose streak // ws = win streak\n",
    "    ### means within one window (50 games)\n",
    "    ls_mean = np.mean(lose_streak)\n",
    "    ws_mean = np.mean(win_streak)\n",
    "    \n",
    "    ### standard deviations within one window (50 games)\n",
    "    ls_std = np.std(lose_streak)\n",
    "    ws_std = np.std(win_streak)\n",
    "    \n",
    "    \n",
    "    ### z scores\n",
    "    ### (x_bar_1 - mu1) / (std1/np.sqrt(n1))\n",
    "    z_0 = (ls_mean - pop_mean_0) / (pop_std_0/np.sqrt(len(lose_streak)))\n",
    "    z_1 = (ws_mean - pop_mean_1) / (pop_std_1/np.sqrt(len(win_streak)))\n",
    "    \n",
    "    \n",
    "    if abs(z_0) >= 1.96 or abs(z_1) >= 1.96:\n",
    "        critical_count += 1\n",
    "        print(f'i ~ i+50 : {i} ~ {i+50}, z_0 : {z_0}, z_1 : {z_1}')\n",
    "        \n",
    "    # print(f'z_1 : {z_1}')\n",
    "    \n",
    "print(f'critical_count : {critical_count}')"
   ]
  },
  {
   "cell_type": "markdown",
   "id": "484b6196-0155-41e9-a2ca-b5f9a06b00df",
   "metadata": {},
   "source": [
    "### Critical Counts for all NearPerfectMM Records"
   ]
  },
  {
   "cell_type": "code",
   "execution_count": 63,
   "id": "104e6dda-0cf1-4c9b-8b23-515e20bb0c88",
   "metadata": {
    "tags": []
   },
   "outputs": [],
   "source": [
    "crit_count_list = []\n",
    "\n",
    "for item in nearperfect_all_records:\n",
    "    one_record = item\n",
    "\n",
    "    llen = len(one_record)\n",
    "\n",
    "    critical_count = 0\n",
    "\n",
    "    for i in range(llen-50):\n",
    "        # print(i , i+50)\n",
    "        one_window = one_record[i:i+50]\n",
    "\n",
    "        streak_counter_result = streak_counter(one_window)\n",
    "        lose_streak = streak_counter_result[0]\n",
    "        win_streak = streak_counter_result[1]\n",
    "\n",
    "        ### ls = lose streak // ws = win streak\n",
    "        ### means within one window (50 games)\n",
    "        ls_mean = np.mean(lose_streak)\n",
    "        ws_mean = np.mean(win_streak)\n",
    "\n",
    "        ### standard deviations within one window (50 games)\n",
    "        ls_std = np.std(lose_streak)\n",
    "        ws_std = np.std(win_streak)\n",
    "\n",
    "\n",
    "        ### z scores\n",
    "        ### (x_bar_1 - mu1) / (std1/np.sqrt(n1))\n",
    "        z_0 = (ls_mean - pop_mean_0) / (pop_std_0/np.sqrt(len(lose_streak)))\n",
    "        z_1 = (ws_mean - pop_mean_1) / (pop_std_1/np.sqrt(len(win_streak)))\n",
    "\n",
    "\n",
    "        if abs(z_0) >= 1.96 or abs(z_1) >= 1.96:\n",
    "            critical_count += 1\n",
    "            # print(f'i ~ i+50 : {i} ~ {i+50}, z_0 : {z_0}, z_1 : {z_1}')\n",
    "\n",
    "        # print(f'z_1 : {z_1}')\n",
    "\n",
    "    crit_count_list.append(critical_count)\n",
    "    # print(f'critical_count : {critical_count}')\n",
    "    \n",
    "# print(crit_count_list)"
   ]
  },
  {
   "cell_type": "code",
   "execution_count": 64,
   "id": "7fb5bfd7-4058-4526-8e15-6d61824053dc",
   "metadata": {
    "tags": []
   },
   "outputs": [
    {
     "name": "stdout",
     "output_type": "stream",
     "text": [
      "22.193\n",
      "20.770068632529842\n"
     ]
    }
   ],
   "source": [
    "print(np.mean(crit_count_list))\n",
    "print(np.std(crit_count_list))"
   ]
  },
  {
   "cell_type": "code",
   "execution_count": 65,
   "id": "97d149c5-2962-4462-9734-dcd6a878f86b",
   "metadata": {
    "tags": []
   },
   "outputs": [
    {
     "name": "stdout",
     "output_type": "stream",
     "text": [
      "-0.8712125836708323\n"
     ]
    }
   ],
   "source": [
    "z_crit_count = (np.mean(crit_count_list) - perfectmm_pop_crit_count_mean) / (perfectmm_pop_crit_count_std/np.sqrt(len(crit_count_list)))\n",
    "print(z_crit_count)"
   ]
  },
  {
   "cell_type": "code",
   "execution_count": 66,
   "id": "da2e495f-ff5e-44bb-844e-dc8ed0242025",
   "metadata": {
    "tags": []
   },
   "outputs": [
    {
     "name": "stdout",
     "output_type": "stream",
     "text": [
      "Counter({0: 131, 2: 36, 5: 29, 4: 27, 1: 26, 7: 24, 16: 24, 24: 24, 11: 23, 14: 22, 3: 22, 10: 21, 18: 21, 26: 20, 6: 20, 20: 19, 29: 19, 8: 19, 13: 18, 27: 17, 15: 17, 21: 17, 17: 16, 12: 16, 22: 16, 35: 14, 9: 14, 25: 13, 32: 13, 23: 13, 46: 13, 39: 12, 19: 12, 31: 12, 33: 11, 41: 11, 28: 11, 38: 10, 37: 10, 36: 10, 49: 10, 45: 9, 54: 9, 55: 7, 44: 7, 43: 7, 53: 6, 42: 6, 52: 6, 69: 6, 51: 6, 59: 6, 40: 6, 30: 5, 63: 5, 34: 5, 56: 4, 72: 4, 65: 4, 60: 4, 84: 3, 61: 3, 70: 3, 76: 3, 77: 3, 66: 3, 62: 3, 48: 3, 47: 3, 64: 3, 50: 3, 58: 2, 57: 2, 97: 2, 102: 2, 79: 2, 80: 2, 75: 2, 95: 1, 82: 1, 67: 1, 74: 1, 68: 1, 93: 1, 88: 1, 105: 1})\n"
     ]
    }
   ],
   "source": [
    "print(Counter(crit_count_list))"
   ]
  },
  {
   "cell_type": "code",
   "execution_count": 67,
   "id": "bc0ddbf4-25ac-41d0-92fc-3d4da525942d",
   "metadata": {
    "tags": []
   },
   "outputs": [
    {
     "data": {
      "image/png": "[encoded data removed]",
      "text/plain": [
       "<Figure size 640x480 with 1 Axes>"
      ]
     },
     "metadata": {},
     "output_type": "display_data"
    }
   ],
   "source": [
    "plt.hist(crit_count_list, bins=100)\n",
    "plt.show()"
   ]
  },
  {
   "cell_type": "code",
   "execution_count": null,
   "id": "0125b2dd-7376-434a-8cd7-e42b42070635",
   "metadata": {},
   "outputs": [],
   "source": []
  },
  {
   "cell_type": "markdown",
   "id": "f3673e28-e1c8-4372-ae14-f2bf4011f78d",
   "metadata": {},
   "source": [
    "## StreakMM vs Population"
   ]
  },
  {
   "cell_type": "markdown",
   "id": "ef078610-617a-4500-be82-b9494eba7191",
   "metadata": {},
   "source": [
    "### Single StreakMM vs Population"
   ]
  },
  {
   "cell_type": "code",
   "execution_count": 68,
   "id": "3ad2dbec-4890-4e85-9167-f555139383b3",
   "metadata": {
    "tags": []
   },
   "outputs": [
    {
     "data": {
      "text/plain": [
       "300"
      ]
     },
     "execution_count": 68,
     "metadata": {},
     "output_type": "execute_result"
    }
   ],
   "source": [
    "one_streakmm = streak_all_records[666]\n",
    "len(one_streakmm)"
   ]
  },
  {
   "cell_type": "code",
   "execution_count": 69,
   "id": "94bdb39e-9f83-48c2-a210-67390ed1369e",
   "metadata": {
    "tags": []
   },
   "outputs": [
    {
     "name": "stdout",
     "output_type": "stream",
     "text": [
      "i ~ i+50 : 0 ~ 50, z_0 : 3.4857210836834467, z_1 : 0.9884769524394574\n",
      "i ~ i+50 : 1 ~ 51, z_0 : 2.814909888830717, z_1 : 0.9884769524394574\n",
      "i ~ i+50 : 2 ~ 52, z_0 : 2.5796417196132473, z_1 : 0.6961717874362168\n",
      "i ~ i+50 : 3 ~ 53, z_0 : 2.344373550395777, z_1 : 0.9310160185952919\n",
      "i ~ i+50 : 8 ~ 58, z_0 : 2.344373550395777, z_1 : 0.9310160185952919\n",
      "i ~ i+50 : 9 ~ 59, z_0 : 2.5796417196132473, z_1 : 0.6961717874362168\n",
      "i ~ i+50 : 10 ~ 60, z_0 : 2.814909888830717, z_1 : 0.46132755627714156\n",
      "i ~ i+50 : 11 ~ 61, z_0 : 3.050178058048187, z_1 : 0.22648332511806632\n",
      "i ~ i+50 : 12 ~ 62, z_0 : 3.050178058048187, z_1 : -0.23160596854154528\n",
      "i ~ i+50 : 13 ~ 63, z_0 : 3.050178058048187, z_1 : -0.23160596854154528\n",
      "i ~ i+50 : 14 ~ 64, z_0 : 3.050178058048187, z_1 : -0.23160596854154528\n",
      "i ~ i+50 : 15 ~ 65, z_0 : 2.6695822420127637, z_1 : -0.4543987682856736\n",
      "i ~ i+50 : 16 ~ 66, z_0 : 2.6695822420127637, z_1 : -0.8589417282523937\n",
      "i ~ i+50 : 17 ~ 67, z_0 : 2.331703730895983, z_1 : -1.0713663279617056\n",
      "i ~ i+50 : 18 ~ 68, z_0 : 2.331703730895983, z_1 : -1.0713663279617056\n",
      "i ~ i+50 : 19 ~ 69, z_0 : 2.118895664784659, z_1 : -0.8589417282523937\n",
      "i ~ i+50 : 21 ~ 71, z_0 : 2.223192276613692, z_1 : -0.4340925288337708\n",
      "i ~ i+50 : 22 ~ 72, z_0 : 2.223192276613692, z_1 : -0.008813168797416438\n",
      "i ~ i+50 : 23 ~ 73, z_0 : 2.223192276613692, z_1 : -0.008813168797416438\n",
      "i ~ i+50 : 24 ~ 74, z_0 : 2.223192276613692, z_1 : -0.008813168797416438\n",
      "i ~ i+50 : 25 ~ 75, z_0 : 1.9999972939141561, z_1 : 0.2139796309467124\n",
      "i ~ i+50 : 27 ~ 77, z_0 : 1.9999972939141561, z_1 : 0.2139796309467124\n",
      "i ~ i+50 : 28 ~ 78, z_0 : 2.223192276613692, z_1 : 0.46132755627714156\n",
      "i ~ i+50 : 29 ~ 79, z_0 : 2.223192276613692, z_1 : 0.46132755627714156\n",
      "i ~ i+50 : 30 ~ 80, z_0 : 2.814909888830717, z_1 : 0.46132755627714156\n",
      "i ~ i+50 : 31 ~ 81, z_0 : 3.050178058048187, z_1 : 0.22648332511806632\n",
      "i ~ i+50 : 32 ~ 82, z_0 : 3.285446227265656, z_1 : 0.49029710731408804\n",
      "i ~ i+50 : 33 ~ 83, z_0 : 3.984800237236498, z_1 : 0.49029710731408804\n",
      "i ~ i+50 : 34 ~ 84, z_0 : 4.2343398140130235, z_1 : 0.24120718475140338\n",
      "i ~ i+50 : 35 ~ 85, z_0 : 4.2343398140130235, z_1 : -0.24320513720008413\n",
      "i ~ i+50 : 36 ~ 86, z_0 : 4.2343398140130235, z_1 : 0.24120718475140338\n",
      "i ~ i+50 : 37 ~ 87, z_0 : 3.984800237236498, z_1 : 0.49029710731408804\n",
      "i ~ i+50 : 38 ~ 88, z_0 : 3.7352606604599723, z_1 : 0.7393870298767727\n",
      "i ~ i+50 : 39 ~ 89, z_0 : 3.4857210836834467, z_1 : 0.9884769524394574\n",
      "i ~ i+50 : 40 ~ 90, z_0 : 3.2361815069069206, z_1 : 1.237566875002142\n",
      "i ~ i+50 : 41 ~ 91, z_0 : 2.986641930130395, z_1 : 1.4866567975648268\n",
      "i ~ i+50 : 42 ~ 92, z_0 : 2.7371023533538694, z_1 : 1.7357467201275114\n",
      "i ~ i+50 : 43 ~ 93, z_0 : 3.1939012530538635, z_1 : 1.984836642690196\n",
      "i ~ i+50 : 44 ~ 94, z_0 : 3.1939012530538635, z_1 : 2.6555096560390132\n",
      "i ~ i+50 : 45 ~ 95, z_0 : 2.9271322242714835, z_1 : 2.921797984246905\n",
      "i ~ i+50 : 46 ~ 96, z_0 : 2.660363195489103, z_1 : 3.1880863124547956\n",
      "i ~ i+50 : 47 ~ 97, z_0 : 2.393594166706723, z_1 : 3.4543746406626865\n",
      "i ~ i+50 : 48 ~ 98, z_0 : 2.1268251379243432, z_1 : 3.7206629688705775\n",
      "i ~ i+50 : 49 ~ 99, z_0 : 2.58650778350071, z_1 : 3.986951297078469\n",
      "i ~ i+50 : 50 ~ 100, z_0 : 2.58650778350071, z_1 : 4.882785899499684\n",
      "i ~ i+50 : 51 ~ 101, z_0 : 3.150261192611658, z_1 : 5.170410167187662\n",
      "i ~ i+50 : 52 ~ 102, z_0 : 3.150261192611658, z_1 : 5.170410167187662\n",
      "i ~ i+50 : 53 ~ 103, z_0 : 2.58650778350071, z_1 : 5.98022352952678\n",
      "i ~ i+50 : 54 ~ 104, z_0 : 2.2983642998499256, z_1 : 5.170410167187662\n",
      "i ~ i+50 : 55 ~ 105, z_0 : 2.0102208161991406, z_1 : 5.458034434875641\n",
      "i ~ i+50 : 56 ~ 106, z_0 : 1.3265180515772033, z_1 : 5.458034434875641\n",
      "i ~ i+50 : 57 ~ 107, z_0 : 1.3265180515772033, z_1 : 5.458034434875641\n",
      "i ~ i+50 : 58 ~ 108, z_0 : 1.3265180515772033, z_1 : 5.458034434875641\n",
      "i ~ i+50 : 59 ~ 109, z_0 : 1.0597490227948234, z_1 : 4.78581628170214\n",
      "i ~ i+50 : 60 ~ 110, z_0 : 0.7929799940124428, z_1 : 5.052104609910033\n",
      "i ~ i+50 : 61 ~ 111, z_0 : 1.1457903652467867, z_1 : 5.318392938117922\n",
      "i ~ i+50 : 62 ~ 112, z_0 : 1.1457903652467867, z_1 : 5.318392938117922\n",
      "i ~ i+50 : 63 ~ 113, z_0 : 1.1457903652467867, z_1 : 5.318392938117922\n",
      "i ~ i+50 : 64 ~ 114, z_0 : 1.1457903652467867, z_1 : 6.320907237939575\n",
      "i ~ i+50 : 65 ~ 115, z_0 : 1.5720343346751002, z_1 : 6.608531505627552\n",
      "i ~ i+50 : 66 ~ 116, z_0 : 1.5720343346751002, z_1 : 7.8706831235101\n",
      "i ~ i+50 : 67 ~ 117, z_0 : 2.111874761771281, z_1 : 8.185759722507317\n",
      "i ~ i+50 : 68 ~ 118, z_0 : 2.111874761771281, z_1 : 8.185759722507317\n",
      "i ~ i+50 : 69 ~ 119, z_0 : 2.111874761771281, z_1 : 8.185759722507317\n",
      "i ~ i+50 : 70 ~ 120, z_0 : 2.111874761771281, z_1 : 8.185759722507317\n",
      "i ~ i+50 : 71 ~ 121, z_0 : 2.111874761771281, z_1 : 8.185759722507317\n",
      "i ~ i+50 : 72 ~ 122, z_0 : 2.111874761771281, z_1 : 9.857883771320482\n",
      "i ~ i+50 : 73 ~ 123, z_0 : 2.847678249526063, z_1 : 10.210150118059095\n",
      "i ~ i+50 : 74 ~ 124, z_0 : 2.847678249526063, z_1 : 10.210150118059095\n",
      "i ~ i+50 : 75 ~ 125, z_0 : 2.847678249526063, z_1 : 12.604799175837568\n",
      "i ~ i+50 : 76 ~ 126, z_0 : 2.4401818270376934, z_1 : 13.011561316069535\n",
      "i ~ i+50 : 77 ~ 127, z_0 : 2.0326854045493232, z_1 : 13.418323456301504\n",
      "i ~ i+50 : 78 ~ 128, z_0 : 1.625188982060954, z_1 : 13.825085596533473\n",
      "i ~ i+50 : 79 ~ 129, z_0 : 1.2176925595725838, z_1 : 14.231847736765438\n",
      "i ~ i+50 : 80 ~ 130, z_0 : 0.8101961370842139, z_1 : 14.638609876997409\n",
      "i ~ i+50 : 81 ~ 131, z_0 : 0.4026997145958444, z_1 : 15.045372017229377\n",
      "i ~ i+50 : 82 ~ 132, z_0 : -0.004796707892525616, z_1 : 15.452134157461343\n",
      "i ~ i+50 : 83 ~ 133, z_0 : -0.7113432688383567, z_1 : 15.452134157461343\n",
      "i ~ i+50 : 84 ~ 134, z_0 : -0.004796707892525616, z_1 : 15.452134157461343\n",
      "i ~ i+50 : 85 ~ 135, z_0 : 0.4026997145958444, z_1 : 15.045372017229377\n",
      "i ~ i+50 : 86 ~ 136, z_0 : 0.4026997145958444, z_1 : 12.323748198490772\n",
      "i ~ i+50 : 87 ~ 137, z_0 : -0.0055387611859473345, z_1 : 11.97148185175216\n",
      "i ~ i+50 : 88 ~ 138, z_0 : 0.3473634926402574, z_1 : 11.619215505013546\n",
      "i ~ i+50 : 89 ~ 139, z_0 : 0.7002657464664621, z_1 : 11.266949158274933\n",
      "i ~ i+50 : 90 ~ 140, z_0 : 0.7002657464664621, z_1 : 9.446066118496198\n",
      "i ~ i+50 : 91 ~ 141, z_0 : 0.7002657464664621, z_1 : 9.446066118496198\n",
      "i ~ i+50 : 92 ~ 142, z_0 : 0.7002657464664621, z_1 : 9.446066118496198\n",
      "i ~ i+50 : 93 ~ 143, z_0 : 0.7002657464664621, z_1 : 9.446066118496198\n",
      "i ~ i+50 : 94 ~ 144, z_0 : 0.7002657464664621, z_1 : 9.446066118496198\n",
      "i ~ i+50 : 95 ~ 145, z_0 : 0.30945284832585407, z_1 : 9.130989519498977\n",
      "i ~ i+50 : 96 ~ 146, z_0 : 0.6250982199131653, z_1 : 8.815912920501757\n",
      "i ~ i+50 : 97 ~ 147, z_0 : 0.9407435915004771, z_1 : 8.50083632150454\n",
      "i ~ i+50 : 98 ~ 148, z_0 : 1.2563889630877882, z_1 : 8.185759722507317\n",
      "i ~ i+50 : 99 ~ 149, z_0 : 1.5720343346751002, z_1 : 7.8706831235101\n",
      "i ~ i+50 : 100 ~ 150, z_0 : 1.8876797062624122, z_1 : 7.555606524512878\n",
      "i ~ i+50 : 101 ~ 151, z_0 : 1.8876797062624122, z_1 : 6.320907237939575\n",
      "i ~ i+50 : 102 ~ 152, z_0 : 1.433933848897572, z_1 : 7.240529925515659\n",
      "i ~ i+50 : 103 ~ 153, z_0 : 1.8876797062624122, z_1 : 6.320907237939575\n",
      "i ~ i+50 : 104 ~ 154, z_0 : 1.8876797062624122, z_1 : 6.320907237939575\n",
      "i ~ i+50 : 105 ~ 155, z_0 : 1.8876797062624122, z_1 : 7.555606524512878\n",
      "i ~ i+50 : 106 ~ 156, z_0 : 1.1457903652467867, z_1 : 7.555606524512878\n",
      "i ~ i+50 : 107 ~ 157, z_0 : 1.1457903652467867, z_1 : 7.555606524512878\n",
      "i ~ i+50 : 108 ~ 158, z_0 : 1.5720343346751002, z_1 : 6.608531505627552\n",
      "i ~ i+50 : 109 ~ 159, z_0 : 1.1457903652467867, z_1 : 6.320907237939575\n",
      "i ~ i+50 : 110 ~ 160, z_0 : 1.433933848897572, z_1 : 6.033282970251596\n",
      "i ~ i+50 : 111 ~ 161, z_0 : 1.7220773325483563, z_1 : 5.745658702563618\n",
      "i ~ i+50 : 112 ~ 162, z_0 : 2.0102208161991406, z_1 : 5.458034434875641\n",
      "i ~ i+50 : 113 ~ 163, z_0 : 2.2983642998499256, z_1 : 5.170410167187662\n",
      "i ~ i+50 : 114 ~ 164, z_0 : 2.2983642998499256, z_1 : 4.253239625286359\n",
      "i ~ i+50 : 115 ~ 165, z_0 : 2.2983642998499256, z_1 : 4.253239625286359\n",
      "i ~ i+50 : 116 ~ 166, z_0 : 2.2983642998499256, z_1 : 4.253239625286359\n",
      "i ~ i+50 : 117 ~ 167, z_0 : 2.2983642998499256, z_1 : 4.253239625286359\n",
      "i ~ i+50 : 118 ~ 168, z_0 : 2.2983642998499256, z_1 : 4.253239625286359\n",
      "i ~ i+50 : 119 ~ 169, z_0 : 1.8600561091419632, z_1 : 3.986951297078469\n",
      "i ~ i+50 : 120 ~ 170, z_0 : 2.1268251379243432, z_1 : 3.7206629688705775\n",
      "i ~ i+50 : 121 ~ 171, z_0 : 2.393594166706723, z_1 : 3.4543746406626865\n",
      "i ~ i+50 : 122 ~ 172, z_0 : 2.660363195489103, z_1 : 3.1880863124547956\n",
      "i ~ i+50 : 123 ~ 173, z_0 : 2.9271322242714835, z_1 : 2.921797984246905\n",
      "i ~ i+50 : 124 ~ 174, z_0 : 3.1939012530538635, z_1 : 2.6555096560390132\n",
      "i ~ i+50 : 125 ~ 175, z_0 : 3.1939012530538635, z_1 : 1.984836642690196\n",
      "i ~ i+50 : 126 ~ 176, z_0 : 3.1939012530538635, z_1 : 1.984836642690196\n",
      "i ~ i+50 : 127 ~ 177, z_0 : 3.1939012530538635, z_1 : 1.984836642690196\n",
      "i ~ i+50 : 128 ~ 178, z_0 : 3.1939012530538635, z_1 : 1.984836642690196\n",
      "i ~ i+50 : 129 ~ 179, z_0 : 3.1939012530538635, z_1 : 1.984836642690196\n",
      "i ~ i+50 : 130 ~ 180, z_0 : 3.1939012530538635, z_1 : 1.984836642690196\n",
      "i ~ i+50 : 131 ~ 181, z_0 : 3.1939012530538635, z_1 : 1.984836642690196\n",
      "i ~ i+50 : 132 ~ 182, z_0 : 2.7371023533538694, z_1 : 2.3892213278311223\n",
      "i ~ i+50 : 133 ~ 183, z_0 : 2.487562776577344, z_1 : 1.984836642690196\n",
      "i ~ i+50 : 134 ~ 184, z_0 : 1.8738372119608373, z_1 : 1.984836642690196\n",
      "i ~ i+50 : 135 ~ 185, z_0 : 2.487562776577344, z_1 : 1.984836642690196\n",
      "i ~ i+50 : 136 ~ 186, z_0 : 2.7371023533538694, z_1 : 2.3892213278311223\n",
      "i ~ i+50 : 137 ~ 187, z_0 : 2.7371023533538694, z_1 : 2.3892213278311223\n",
      "i ~ i+50 : 138 ~ 188, z_0 : 2.487562776577344, z_1 : 1.984836642690196\n",
      "i ~ i+50 : 139 ~ 189, z_0 : 2.487562776577344, z_1 : 1.984836642690196\n",
      "i ~ i+50 : 140 ~ 190, z_0 : 2.7371023533538694, z_1 : 1.7357467201275114\n",
      "i ~ i+50 : 141 ~ 191, z_0 : 2.7371023533538694, z_1 : 1.1658602497543662\n",
      "i ~ i+50 : 142 ~ 192, z_0 : 2.7371023533538694, z_1 : 1.1658602497543662\n",
      "i ~ i+50 : 143 ~ 193, z_0 : 2.344373550395777, z_1 : 0.9310160185952919\n",
      "i ~ i+50 : 144 ~ 194, z_0 : 2.344373550395777, z_1 : 0.9310160185952919\n",
      "i ~ i+50 : 145 ~ 195, z_0 : 2.109105381178307, z_1 : 1.1658602497543662\n",
      "i ~ i+50 : 152 ~ 202, z_0 : 1.738944046247767, z_1 : 2.105237174390667\n",
      "i ~ i+50 : 155 ~ 205, z_0 : 1.8738372119608373, z_1 : 1.984836642690196\n",
      "i ~ i+50 : 156 ~ 206, z_0 : 1.8738372119608373, z_1 : 1.984836642690196\n",
      "i ~ i+50 : 157 ~ 207, z_0 : 2.487562776577344, z_1 : 1.984836642690196\n",
      "i ~ i+50 : 158 ~ 208, z_0 : 2.7371023533538694, z_1 : 2.3892213278311223\n",
      "i ~ i+50 : 159 ~ 209, z_0 : 2.7371023533538694, z_1 : 2.3892213278311223\n",
      "i ~ i+50 : 160 ~ 210, z_0 : 2.7371023533538694, z_1 : 2.3892213278311223\n",
      "i ~ i+50 : 161 ~ 211, z_0 : 2.7371023533538694, z_1 : 2.3892213278311223\n",
      "i ~ i+50 : 162 ~ 212, z_0 : 2.7371023533538694, z_1 : 2.3892213278311223\n",
      "i ~ i+50 : 163 ~ 213, z_0 : 3.460670281836243, z_1 : 2.3892213278311223\n",
      "i ~ i+50 : 164 ~ 214, z_0 : 3.727439310618623, z_1 : 2.122932999623232\n",
      "i ~ i+50 : 165 ~ 215, z_0 : 3.9942083394010037, z_1 : 1.8566446714153408\n",
      "i ~ i+50 : 166 ~ 216, z_0 : 4.260977368183383, z_1 : 1.59035634320745\n",
      "i ~ i+50 : 167 ~ 217, z_0 : 4.260977368183383, z_1 : 0.9884769524394574\n",
      "i ~ i+50 : 168 ~ 218, z_0 : 3.7352606604599723, z_1 : 1.3240680149995592\n",
      "i ~ i+50 : 169 ~ 219, z_0 : 3.4857210836834467, z_1 : 0.9884769524394574\n",
      "i ~ i+50 : 170 ~ 220, z_0 : 3.2361815069069206, z_1 : 1.237566875002142\n",
      "i ~ i+50 : 171 ~ 221, z_0 : 2.986641930130395, z_1 : 1.4866567975648268\n",
      "i ~ i+50 : 172 ~ 222, z_0 : 2.7371023533538694, z_1 : 1.7357467201275114\n",
      "i ~ i+50 : 173 ~ 223, z_0 : 2.109105381178307, z_1 : 1.7357467201275114\n",
      "i ~ i+50 : 174 ~ 224, z_0 : 2.487562776577344, z_1 : 1.4007044809134415\n",
      "i ~ i+50 : 175 ~ 225, z_0 : 2.109105381178307, z_1 : 1.1658602497543662\n",
      "i ~ i+50 : 176 ~ 226, z_0 : 2.344373550395777, z_1 : 0.9310160185952919\n",
      "i ~ i+50 : 177 ~ 227, z_0 : 2.5796417196132473, z_1 : 0.6961717874362168\n",
      "i ~ i+50 : 178 ~ 228, z_0 : 2.5796417196132473, z_1 : 0.2139796309467124\n",
      "i ~ i+50 : 179 ~ 229, z_0 : 2.223192276613692, z_1 : -0.008813168797416438\n",
      "i ~ i+50 : 180 ~ 230, z_0 : 2.446387259313228, z_1 : -0.23160596854154528\n",
      "i ~ i+50 : 181 ~ 231, z_0 : 2.6695822420127637, z_1 : -0.008360906041008906\n",
      "i ~ i+50 : 182 ~ 232, z_0 : 3.285446227265656, z_1 : -0.008360906041008906\n",
      "i ~ i+50 : 183 ~ 233, z_0 : 3.520714396483126, z_1 : 0.24120718475140338\n",
      "i ~ i+50 : 184 ~ 234, z_0 : 3.520714396483126, z_1 : 0.24120718475140338\n",
      "i ~ i+50 : 185 ~ 235, z_0 : 3.285446227265656, z_1 : -0.008360906041008906\n",
      "i ~ i+50 : 186 ~ 236, z_0 : 3.050178058048187, z_1 : 0.22648332511806632\n",
      "i ~ i+50 : 187 ~ 237, z_0 : 3.4857210836834467, z_1 : 0.46132755627714156\n",
      "i ~ i+50 : 188 ~ 238, z_0 : 3.4857210836834467, z_1 : 0.9884769524394574\n",
      "i ~ i+50 : 189 ~ 239, z_0 : 2.814909888830717, z_1 : 0.9884769524394574\n",
      "i ~ i+50 : 190 ~ 240, z_0 : 3.2361815069069206, z_1 : 0.6961717874362168\n",
      "i ~ i+50 : 191 ~ 241, z_0 : 2.814909888830717, z_1 : 0.46132755627714156\n",
      "i ~ i+50 : 192 ~ 242, z_0 : 2.814909888830717, z_1 : 0.46132755627714156\n",
      "i ~ i+50 : 193 ~ 243, z_0 : 2.814909888830717, z_1 : 0.46132755627714156\n",
      "i ~ i+50 : 194 ~ 244, z_0 : 2.814909888830717, z_1 : -0.008813168797416438\n",
      "i ~ i+50 : 195 ~ 245, z_0 : 2.814909888830717, z_1 : -0.008813168797416438\n",
      "i ~ i+50 : 196 ~ 246, z_0 : 2.814909888830717, z_1 : -0.008813168797416438\n",
      "i ~ i+50 : 197 ~ 247, z_0 : 2.814909888830717, z_1 : -0.008813168797416438\n",
      "i ~ i+50 : 198 ~ 248, z_0 : 2.814909888830717, z_1 : 0.46132755627714156\n",
      "i ~ i+50 : 199 ~ 249, z_0 : 2.223192276613692, z_1 : 0.46132755627714156\n",
      "i ~ i+50 : 200 ~ 250, z_0 : 2.5796417196132473, z_1 : 0.2139796309467124\n",
      "i ~ i+50 : 201 ~ 251, z_0 : 2.5796417196132473, z_1 : 0.2139796309467124\n",
      "i ~ i+50 : 202 ~ 252, z_0 : 2.5796417196132473, z_1 : 0.6961717874362168\n",
      "i ~ i+50 : 203 ~ 253, z_0 : 2.344373550395777, z_1 : 0.9310160185952919\n",
      "i ~ i+50 : 204 ~ 254, z_0 : 2.109105381178307, z_1 : 1.1658602497543662\n",
      "i ~ i+50 : 208 ~ 258, z_0 : 1.1680327043084275, z_1 : 2.105237174390667\n",
      "i ~ i+50 : 209 ~ 259, z_0 : 0.660827397716942, z_1 : 2.105237174390667\n",
      "i ~ i+50 : 210 ~ 260, z_0 : 0.660827397716942, z_1 : 2.105237174390667\n",
      "i ~ i+50 : 211 ~ 261, z_0 : 0.660827397716942, z_1 : 2.105237174390667\n",
      "i ~ i+50 : 217 ~ 267, z_0 : 0.660827397716942, z_1 : 2.105237174390667\n",
      "i ~ i+50 : 218 ~ 268, z_0 : 1.1680327043084275, z_1 : 2.105237174390667\n",
      "i ~ i+50 : 223 ~ 273, z_0 : 1.9884836230242926, z_1 : 1.870392943231592\n",
      "i ~ i+50 : 224 ~ 274, z_0 : 1.9884836230242926, z_1 : 2.4830164878155654\n",
      "i ~ i+50 : 225 ~ 275, z_0 : 1.738944046247767, z_1 : 2.73210641037825\n",
      "i ~ i+50 : 226 ~ 276, z_0 : 1.4894044694712414, z_1 : 2.9811963329409346\n",
      "i ~ i+50 : 227 ~ 277, z_0 : 1.8600561091419632, z_1 : 3.2302862555036196\n",
      "i ~ i+50 : 228 ~ 278, z_0 : 1.8600561091419632, z_1 : 3.986951297078469\n",
      "i ~ i+50 : 229 ~ 279, z_0 : 1.2398648926947158, z_1 : 3.986951297078469\n",
      "i ~ i+50 : 230 ~ 280, z_0 : 1.2398648926947158, z_1 : 3.986951297078469\n",
      "i ~ i+50 : 231 ~ 281, z_0 : 1.2398648926947158, z_1 : 3.986951297078469\n",
      "i ~ i+50 : 232 ~ 282, z_0 : 1.2398648926947158, z_1 : 3.986951297078469\n",
      "i ~ i+50 : 233 ~ 283, z_0 : 1.2398648926947158, z_1 : 3.986951297078469\n",
      "i ~ i+50 : 234 ~ 284, z_0 : 1.8600561091419632, z_1 : 3.986951297078469\n",
      "i ~ i+50 : 235 ~ 285, z_0 : 2.1268251379243432, z_1 : 3.7206629688705775\n",
      "i ~ i+50 : 236 ~ 286, z_0 : 2.1268251379243432, z_1 : 2.9811963329409346\n",
      "i ~ i+50 : 237 ~ 287, z_0 : 1.738944046247767, z_1 : 2.73210641037825\n",
      "i ~ i+50 : 238 ~ 288, z_0 : 1.9884836230242926, z_1 : 3.1880863124547956\n",
      "i ~ i+50 : 239 ~ 289, z_0 : 2.393594166706723, z_1 : 2.73210641037825\n",
      "i ~ i+50 : 240 ~ 290, z_0 : 2.393594166706723, z_1 : 3.4543746406626865\n",
      "i ~ i+50 : 241 ~ 291, z_0 : 2.393594166706723, z_1 : 3.4543746406626865\n",
      "i ~ i+50 : 242 ~ 292, z_0 : 2.393594166706723, z_1 : 3.4543746406626865\n",
      "i ~ i+50 : 243 ~ 293, z_0 : 2.8746512671514948, z_1 : 3.7206629688705775\n",
      "i ~ i+50 : 244 ~ 294, z_0 : 2.8746512671514948, z_1 : 3.7206629688705775\n",
      "i ~ i+50 : 245 ~ 295, z_0 : 2.393594166706723, z_1 : 3.4543746406626865\n",
      "i ~ i+50 : 246 ~ 296, z_0 : 2.393594166706723, z_1 : 2.73210641037825\n",
      "i ~ i+50 : 247 ~ 297, z_0 : 1.9884836230242926, z_1 : 2.4830164878155654\n",
      "i ~ i+50 : 248 ~ 298, z_0 : 2.238023199800818, z_1 : 2.921797984246905\n",
      "i ~ i+50 : 249 ~ 299, z_0 : 2.9271322242714835, z_1 : 2.921797984246905\n",
      "critical_count : 224\n"
     ]
    }
   ],
   "source": [
    "llen = len(one_streakmm)\n",
    "\n",
    "critical_count = 0\n",
    "\n",
    "for i in range(llen-50):\n",
    "    # print(i , i+50)\n",
    "    one_window = one_streakmm[i:i+50]\n",
    "    \n",
    "    streak_counter_result = streak_counter(one_window)\n",
    "    lose_streak = streak_counter_result[0]\n",
    "    win_streak = streak_counter_result[1]\n",
    "    \n",
    "    ### ls = lose streak // ws = win streak\n",
    "    ### means within one window (50 games)\n",
    "    ls_mean = np.mean(lose_streak)\n",
    "    ws_mean = np.mean(win_streak)\n",
    "    \n",
    "    ### standard deviations within one window (50 games)\n",
    "    ls_std = np.std(lose_streak)\n",
    "    ws_std = np.std(win_streak)\n",
    "    \n",
    "    \n",
    "    ### z scores\n",
    "    ### (x_bar_1 - mu1) / (std1/np.sqrt(number_of_streak_durations))\n",
    "    z_0 = (ls_mean - pop_mean_0) / (pop_std_0/np.sqrt(len(lose_streak)))\n",
    "    z_1 = (ws_mean - pop_mean_1) / (pop_std_1/np.sqrt(len(win_streak)))\n",
    "    \n",
    "    \n",
    "    if abs(z_0) >= 1.96 or abs(z_1) >= 1.96:\n",
    "        critical_count += 1\n",
    "        print(f'i ~ i+50 : {i} ~ {i+50}, z_0 : {z_0}, z_1 : {z_1}')\n",
    "        \n",
    "    # print(f'z_1 : {z_1}')\n",
    "    \n",
    "print(f'critical_count : {critical_count}')"
   ]
  },
  {
   "cell_type": "markdown",
   "id": "93a8bc45-d0c3-4d45-a986-f234785db4ab",
   "metadata": {},
   "source": [
    "### Critical Counts for all StreakMM Records"
   ]
  },
  {
   "cell_type": "code",
   "execution_count": 70,
   "id": "c64fcfd4-325f-43cb-acfa-3d5f873792fa",
   "metadata": {
    "tags": []
   },
   "outputs": [],
   "source": [
    "crit_count_list = []\n",
    "\n",
    "for item in streak_all_records:\n",
    "    one_record = item\n",
    "\n",
    "    llen = len(one_record)\n",
    "\n",
    "    critical_count = 0\n",
    "\n",
    "    for i in range(llen-50):\n",
    "        # print(i , i+50)\n",
    "        one_window = one_record[i:i+50]\n",
    "\n",
    "        streak_counter_result = streak_counter(one_window)\n",
    "        lose_streak = streak_counter_result[0]\n",
    "        win_streak = streak_counter_result[1]\n",
    "\n",
    "        ### ls = lose streak // ws = win streak\n",
    "        ### means within one window (50 games)\n",
    "        ls_mean = np.mean(lose_streak)\n",
    "        ws_mean = np.mean(win_streak)\n",
    "\n",
    "        ### standard deviations within one window (50 games)\n",
    "        ls_std = np.std(lose_streak)\n",
    "        ws_std = np.std(win_streak)\n",
    "\n",
    "\n",
    "        ### z scores\n",
    "        ### (x_bar_1 - mu1) / (std1/np.sqrt(n1))\n",
    "        z_0 = (ls_mean - pop_mean_0) / (pop_std_0/np.sqrt(len(lose_streak)))\n",
    "        z_1 = (ws_mean - pop_mean_1) / (pop_std_1/np.sqrt(len(win_streak)))\n",
    "\n",
    "\n",
    "        if abs(z_0) >= 1.96 or abs(z_1) >= 1.96:\n",
    "            critical_count += 1\n",
    "            # print(f'i ~ i+50 : {i} ~ {i+50}, z_0 : {z_0}, z_1 : {z_1}')\n",
    "\n",
    "        # print(f'z_1 : {z_1}')\n",
    "\n",
    "    crit_count_list.append(critical_count)\n",
    "    # print(f'critical_count : {critical_count}')\n",
    "    \n",
    "# print(crit_count_list)"
   ]
  },
  {
   "cell_type": "code",
   "execution_count": 71,
   "id": "3227a550-cf92-4cce-99e5-05b1a8fd8307",
   "metadata": {
    "tags": []
   },
   "outputs": [
    {
     "name": "stdout",
     "output_type": "stream",
     "text": [
      "216.297\n",
      "27.548952629818796\n"
     ]
    }
   ],
   "source": [
    "print(np.mean(crit_count_list))\n",
    "print(np.std(crit_count_list))"
   ]
  },
  {
   "cell_type": "code",
   "execution_count": 72,
   "id": "e36a570c-0496-4aac-88e7-2a66ffa76d98",
   "metadata": {
    "tags": []
   },
   "outputs": [
    {
     "name": "stdout",
     "output_type": "stream",
     "text": [
      "295.8057125757031\n"
     ]
    }
   ],
   "source": [
    "z_crit_count = (np.mean(crit_count_list) - perfectmm_pop_crit_count_mean) / (perfectmm_pop_crit_count_std/np.sqrt(len(crit_count_list)))\n",
    "print(z_crit_count)"
   ]
  },
  {
   "cell_type": "code",
   "execution_count": 73,
   "id": "2363daec-4db9-4395-b3b5-c11713a7ca17",
   "metadata": {
    "tags": []
   },
   "outputs": [
    {
     "name": "stdout",
     "output_type": "stream",
     "text": [
      "Counter({250: 67, 247: 25, 209: 20, 230: 20, 239: 20, 241: 19, 217: 19, 225: 19, 232: 19, 228: 19, 245: 18, 219: 17, 233: 17, 240: 17, 212: 17, 235: 16, 218: 16, 249: 16, 234: 16, 236: 16, 214: 15, 215: 15, 244: 15, 227: 14, 229: 14, 224: 14, 231: 14, 242: 14, 237: 14, 238: 14, 222: 13, 226: 13, 202: 12, 243: 11, 220: 11, 213: 11, 211: 11, 248: 11, 204: 11, 221: 11, 216: 11, 246: 10, 210: 10, 193: 9, 208: 9, 207: 9, 205: 9, 183: 9, 192: 8, 182: 8, 197: 8, 184: 8, 206: 8, 186: 8, 176: 8, 196: 8, 177: 7, 201: 7, 190: 7, 198: 7, 173: 7, 200: 7, 180: 6, 203: 6, 174: 6, 223: 6, 195: 6, 189: 6, 179: 5, 188: 5, 191: 5, 187: 5, 185: 5, 172: 5, 199: 5, 170: 4, 181: 4, 162: 4, 167: 3, 164: 3, 147: 3, 154: 3, 169: 3, 143: 3, 137: 3, 159: 2, 145: 2, 158: 2, 157: 2, 178: 2, 194: 2, 175: 2, 160: 2, 166: 2, 153: 2, 163: 2, 171: 1, 155: 1, 161: 1, 156: 1, 138: 1, 116: 1, 126: 1, 134: 1, 89: 1, 120: 1, 115: 1, 165: 1, 149: 1, 127: 1, 104: 1, 168: 1, 131: 1, 151: 1, 87: 1, 142: 1, 140: 1})\n"
     ]
    }
   ],
   "source": [
    "print(Counter(crit_count_list))"
   ]
  },
  {
   "cell_type": "code",
   "execution_count": 76,
   "id": "3aa9bc72-d3aa-4343-91f6-871c2b4c8a4a",
   "metadata": {
    "tags": []
   },
   "outputs": [
    {
     "data": {
      "image/png": "[encoded data removed]",
      "text/plain": [
       "<Figure size 640x480 with 1 Axes>"
      ]
     },
     "metadata": {},
     "output_type": "display_data"
    }
   ],
   "source": [
    "plt.hist(crit_count_list, bins=300)\n",
    "plt.show()"
   ]
  },
  {
   "cell_type": "code",
   "execution_count": null,
   "id": "4e04ef7a-2dec-4255-adfb-c23478835a5a",
   "metadata": {},
   "outputs": [],
   "source": []
  },
  {
   "cell_type": "markdown",
   "id": "1190f2a5-2ae1-4c67-be90-669b1fe8a19c",
   "metadata": {},
   "source": [
    "## PerfectMM Critical Count Mean & Standard Deviation to be used as True Population  \n",
    "-> Defined above in 'PerfectMM vs Population'  \n",
    "-> Now renamed as ... true_pop_crit_count_mean & true_pop_crit_count_std  "
   ]
  },
  {
   "cell_type": "code",
   "execution_count": 108,
   "id": "871eec1c-4b15-428a-8c3e-da90e8317fcb",
   "metadata": {
    "tags": []
   },
   "outputs": [
    {
     "name": "stdout",
     "output_type": "stream",
     "text": [
      "22.763\n",
      "20.68953433502069\n"
     ]
    }
   ],
   "source": [
    "# perfectmm_pop_crit_count_mean = np.mean(crit_count_list)\n",
    "# perfectmm_pop_crit_count_std = np.std(crit_count_list)\n",
    "\n",
    "print(perfectmm_pop_crit_count_mean)\n",
    "print(perfectmm_pop_crit_count_std)\n",
    "\n",
    "# perfectmm_pop_crit_count_mean = 22.763\n",
    "# perfectmm_pop_crit_count_std = 20.68953433502069\n",
    "\n",
    "# print(np.mean(crit_count_list))\n",
    "# print(np.std(crit_count_list))"
   ]
  },
  {
   "cell_type": "code",
   "execution_count": 109,
   "id": "65e92279-a578-493a-902f-875f71c2df6b",
   "metadata": {
    "tags": []
   },
   "outputs": [],
   "source": [
    "true_pop_crit_count_mean = perfectmm_pop_crit_count_mean\n",
    "true_pop_crit_count_std = perfectmm_pop_crit_count_std"
   ]
  },
  {
   "cell_type": "code",
   "execution_count": null,
   "id": "48e6ceda-20fa-4805-98d2-a850bbf0b49e",
   "metadata": {},
   "outputs": [],
   "source": []
  },
  {
   "cell_type": "markdown",
   "id": "b4cb0973-cba1-4df3-b238-aad6b25898da",
   "metadata": {},
   "source": [
    "### Live Data - Bronze 0"
   ]
  },
  {
   "cell_type": "code",
   "execution_count": 113,
   "id": "f0fa4c49-ccad-41ee-81a3-1b2713d740f9",
   "metadata": {
    "tags": []
   },
   "outputs": [
    {
     "name": "stdout",
     "output_type": "stream",
     "text": [
      "['live_data/raw/bronze/partition_0\\\\03한주민.txt', 'live_data/raw/bronze/partition_0\\\\0서풋0.txt', 'live_data/raw/bronze/partition_0\\\\1161kk.txt', 'live_data/raw/bronze/partition_0\\\\12312415411213.txt', 'live_data/raw/bronze/partition_0\\\\123세봐넌디짐.txt']\n",
      "len before removal of 0s : 813\n",
      "len after removal of 0s : 625\n",
      "8.766026197748092\n"
     ]
    }
   ],
   "source": [
    "parent_data_folder = 'live_data/raw'\n",
    "\n",
    "datafiles_list = glob.glob(f'{parent_data_folder}/bronze/partition_0/*.txt')\n",
    "print(datafiles_list[:5])\n",
    "\n",
    "\n",
    "crit_count_list = []\n",
    "for one_record_file in datafiles_list:\n",
    "    with open(one_record_file, 'r') as datafile:\n",
    "        one_record = datafile.read()\n",
    "    \n",
    "    one_record = ast.literal_eval(one_record)\n",
    "    # print(f'length : {len(one_record)}')\n",
    "    \n",
    "    \n",
    "    ### critical count analysis\n",
    "    llen = len(one_record)\n",
    "\n",
    "    critical_count = 0\n",
    "    for i in range(llen-50):\n",
    "        # print(i , i+50)\n",
    "        one_window = one_record[i:i+50]\n",
    "    \n",
    "        streak_counter_result = streak_counter(one_window)\n",
    "        lose_streak = streak_counter_result[0]\n",
    "        win_streak = streak_counter_result[1]\n",
    "\n",
    "        ### ls = lose streak // ws = win streak\n",
    "        ### means within one window (50 games)\n",
    "        ls_mean = np.mean(lose_streak)\n",
    "        ws_mean = np.mean(win_streak)\n",
    "\n",
    "        ### standard deviations within one window (50 games)\n",
    "        ls_std = np.std(lose_streak)\n",
    "        ws_std = np.std(win_streak)\n",
    "\n",
    "\n",
    "        ### z scores\n",
    "        ### (x_bar_1 - mu1) / (std1/np.sqrt(number_of_streak_durations))\n",
    "        z_0 = (ls_mean - pop_mean_0) / (pop_std_0/np.sqrt(len(lose_streak)))\n",
    "        z_1 = (ws_mean - pop_mean_1) / (pop_std_1/np.sqrt(len(win_streak)))\n",
    "\n",
    "    \n",
    "\n",
    "        if abs(z_0) >= 1.96 or abs(z_1) >= 1.96:\n",
    "            critical_count += 1\n",
    "            # print(f'i ~ i+50 : {i} ~ {i+50}, z_0 : {z_0}, z_1 : {z_1}')\n",
    "        \n",
    "    crit_count_list.append(critical_count)\n",
    "    \n",
    "    # print(f'critical_count : {critical_count}')\n",
    "    # print('-----------------')\n",
    "        # print(f'z_1 : {z_1}')\n",
    "        \n",
    "print(f'len before removal of 0s : {len(crit_count_list)}')\n",
    "### remove 0s\n",
    "crit_count_list = [x for x in crit_count_list if x != 0]\n",
    "print(f'len after removal of 0s : {len(crit_count_list)}')\n",
    "        \n",
    "z_crit_count = (np.mean(crit_count_list) - true_pop_crit_count_mean) / (true_pop_crit_count_std/np.sqrt(len(crit_count_list)))\n",
    "print(z_crit_count)\n",
    "print('-------------------------')"
   ]
  },
  {
   "cell_type": "markdown",
   "id": "c916b2d7-daa9-4e9d-a41f-2341c50e5cc2",
   "metadata": {},
   "source": [
    "### Live Data - Bronze 1"
   ]
  },
  {
   "cell_type": "code",
   "execution_count": 114,
   "id": "e386f735-d491-4ccd-8f7c-652bc1bf8413",
   "metadata": {
    "tags": []
   },
   "outputs": [
    {
     "name": "stdout",
     "output_type": "stream",
     "text": [
      "['live_data/raw/bronze/partition_1\\\\0l븥린.txt', 'live_data/raw/bronze/partition_1\\\\0tlqkf0.txt', 'live_data/raw/bronze/partition_1\\\\1017번째계정.txt', 'live_data/raw/bronze/partition_1\\\\1249559del.txt', 'live_data/raw/bronze/partition_1\\\\145cm.txt']\n",
      "len before removal of 0s : 985\n",
      "len after removal of 0s : 703\n",
      "8.388446210463274\n",
      "-------------------------\n"
     ]
    }
   ],
   "source": [
    "parent_data_folder = 'live_data/raw'\n",
    "\n",
    "datafiles_list = glob.glob(f'{parent_data_folder}/bronze/partition_1/*.txt')\n",
    "print(datafiles_list[:5])\n",
    "\n",
    "\n",
    "crit_count_list = []\n",
    "for one_record_file in datafiles_list:\n",
    "    with open(one_record_file, 'r') as datafile:\n",
    "        one_record = datafile.read()\n",
    "    \n",
    "    one_record = ast.literal_eval(one_record)\n",
    "    # print(f'length : {len(one_record)}')\n",
    "    \n",
    "    \n",
    "    ### critical count analysis\n",
    "    llen = len(one_record)\n",
    "\n",
    "    critical_count = 0\n",
    "    for i in range(llen-50):\n",
    "        # print(i , i+50)\n",
    "        one_window = one_record[i:i+50]\n",
    "    \n",
    "        streak_counter_result = streak_counter(one_window)\n",
    "        lose_streak = streak_counter_result[0]\n",
    "        win_streak = streak_counter_result[1]\n",
    "\n",
    "        ### ls = lose streak // ws = win streak\n",
    "        ### means within one window (50 games)\n",
    "        ls_mean = np.mean(lose_streak)\n",
    "        ws_mean = np.mean(win_streak)\n",
    "\n",
    "        ### standard deviations within one window (50 games)\n",
    "        ls_std = np.std(lose_streak)\n",
    "        ws_std = np.std(win_streak)\n",
    "\n",
    "\n",
    "        ### z scores\n",
    "        ### (x_bar_1 - mu1) / (std1/np.sqrt(number_of_streak_durations))\n",
    "        z_0 = (ls_mean - pop_mean_0) / (pop_std_0/np.sqrt(len(lose_streak)))\n",
    "        z_1 = (ws_mean - pop_mean_1) / (pop_std_1/np.sqrt(len(win_streak)))\n",
    "\n",
    "    \n",
    "\n",
    "        if abs(z_0) >= 1.96 or abs(z_1) >= 1.96:\n",
    "            critical_count += 1\n",
    "            # print(f'i ~ i+50 : {i} ~ {i+50}, z_0 : {z_0}, z_1 : {z_1}')\n",
    "        \n",
    "    crit_count_list.append(critical_count)\n",
    "    \n",
    "    # print(f'critical_count : {critical_count}')\n",
    "    # print('-----------------')\n",
    "        # print(f'z_1 : {z_1}')\n",
    "        \n",
    "print(f'len before removal of 0s : {len(crit_count_list)}')\n",
    "### remove 0s\n",
    "crit_count_list = [x for x in crit_count_list if x != 0]\n",
    "print(f'len after removal of 0s : {len(crit_count_list)}')\n",
    "        \n",
    "z_crit_count = (np.mean(crit_count_list) - true_pop_crit_count_mean) / (true_pop_crit_count_std/np.sqrt(len(crit_count_list)))\n",
    "print(z_crit_count)\n",
    "print('-------------------------')"
   ]
  },
  {
   "cell_type": "code",
   "execution_count": null,
   "id": "e0ac923b-7435-4434-a845-70f804eda75d",
   "metadata": {},
   "outputs": [],
   "source": []
  },
  {
   "cell_type": "markdown",
   "id": "4eaae535-c721-4d1a-a87c-420d57522a82",
   "metadata": {},
   "source": [
    "### For All the REST of ELOS & PARTITIONS"
   ]
  },
  {
   "cell_type": "code",
   "execution_count": 119,
   "id": "449c3d48-2549-4034-b1fa-044dbec3fdd9",
   "metadata": {
    "tags": []
   },
   "outputs": [
    {
     "name": "stdout",
     "output_type": "stream",
     "text": [
      "2023-12-17 20:40:14\n",
      "\n",
      "\n",
      "live_data/raw\\bronze\n",
      "['live_data/raw\\\\bronze\\\\partition_0', 'live_data/raw\\\\bronze\\\\partition_1', 'live_data/raw\\\\bronze\\\\partition_2', 'live_data/raw\\\\bronze\\\\partition_3', 'live_data/raw\\\\bronze\\\\partition_4']\n",
      "['live_data/raw\\\\bronze\\\\partition_0\\\\03한주민.txt', 'live_data/raw\\\\bronze\\\\partition_0\\\\0서풋0.txt']\n",
      "len before removal of 0s : 813\n",
      "len after removal of 0s : 625\n",
      "8.766026197748092\n",
      "--------End of One Partition-----------------\n",
      "['live_data/raw\\\\bronze\\\\partition_1\\\\0l븥린.txt', 'live_data/raw\\\\bronze\\\\partition_1\\\\0tlqkf0.txt']\n",
      "len before removal of 0s : 985\n",
      "len after removal of 0s : 703\n",
      "8.388446210463274\n",
      "--------End of One Partition-----------------\n",
      "['live_data/raw\\\\bronze\\\\partition_2\\\\00나리00.txt', 'live_data/raw\\\\bronze\\\\partition_2\\\\01031784315.txt']\n",
      "len before removal of 0s : 992\n",
      "len after removal of 0s : 879\n",
      "11.453049635071576\n",
      "--------End of One Partition-----------------\n",
      "['live_data/raw\\\\bronze\\\\partition_3\\\\0120123.txt', 'live_data/raw\\\\bronze\\\\partition_3\\\\081621.txt']\n",
      "len before removal of 0s : 990\n",
      "len after removal of 0s : 886\n",
      "13.48400243197838\n",
      "--------End of One Partition-----------------\n",
      "['live_data/raw\\\\bronze\\\\partition_4\\\\01044024144.txt', 'live_data/raw\\\\bronze\\\\partition_4\\\\07사일원탑.txt']\n",
      "len before removal of 0s : 385\n",
      "len after removal of 0s : 346\n",
      "6.618209651301364\n",
      "--------End of One Partition-----------------\n",
      "live_data/raw\\ch_gm_m\n",
      "['live_data/raw\\\\ch_gm_m\\\\partition_0', 'live_data/raw\\\\ch_gm_m\\\\partition_1', 'live_data/raw\\\\ch_gm_m\\\\partition_2', 'live_data/raw\\\\ch_gm_m\\\\partition_3', 'live_data/raw\\\\ch_gm_m\\\\partition_4', 'live_data/raw\\\\ch_gm_m\\\\partition_5', 'live_data/raw\\\\ch_gm_m\\\\partition_6', 'live_data/raw\\\\ch_gm_m\\\\partition_7']\n",
      "['live_data/raw\\\\ch_gm_m\\\\partition_0\\\\01033431336.txt', 'live_data/raw\\\\ch_gm_m\\\\partition_0\\\\05qwq.txt']\n",
      "len before removal of 0s : 999\n",
      "len after removal of 0s : 847\n",
      "16.394615788049894\n",
      "--------End of One Partition-----------------\n",
      "['live_data/raw\\\\ch_gm_m\\\\partition_1\\\\02영재.txt', 'live_data/raw\\\\ch_gm_m\\\\partition_1\\\\02유부남.txt']\n",
      "len before removal of 0s : 1000\n",
      "len after removal of 0s : 812\n",
      "20.695813419567887\n",
      "--------End of One Partition-----------------\n",
      "['live_data/raw\\\\ch_gm_m\\\\partition_2\\\\00동현.txt', 'live_data/raw\\\\ch_gm_m\\\\partition_2\\\\0102609352.txt']\n",
      "len before removal of 0s : 1000\n",
      "len after removal of 0s : 778\n",
      "19.292421955184757\n",
      "--------End of One Partition-----------------\n",
      "['live_data/raw\\\\ch_gm_m\\\\partition_3\\\\01년생의정부대표.txt', 'live_data/raw\\\\ch_gm_m\\\\partition_3\\\\03aug21.txt']\n",
      "len before removal of 0s : 1000\n",
      "len after removal of 0s : 801\n",
      "14.073572348270117\n",
      "--------End of One Partition-----------------\n",
      "['live_data/raw\\\\ch_gm_m\\\\partition_4\\\\01024891970.txt', 'live_data/raw\\\\ch_gm_m\\\\partition_4\\\\07tophansung.txt']\n",
      "len before removal of 0s : 433\n",
      "len after removal of 0s : 375\n",
      "11.940251469057198\n",
      "--------End of One Partition-----------------\n",
      "['live_data/raw\\\\ch_gm_m\\\\partition_5\\\\03jgl.txt', 'live_data/raw\\\\ch_gm_m\\\\partition_5\\\\08년생자크장인.txt']\n",
      "len before removal of 0s : 999\n",
      "len after removal of 0s : 829\n",
      "12.023613754748128\n",
      "--------End of One Partition-----------------\n",
      "['live_data/raw\\\\ch_gm_m\\\\partition_6\\\\04년생akaps.txt', 'live_data/raw\\\\ch_gm_m\\\\partition_6\\\\04탑.txt']\n",
      "len before removal of 0s : 999\n",
      "len after removal of 0s : 821\n",
      "12.886857256189566\n",
      "--------End of One Partition-----------------\n",
      "['live_data/raw\\\\ch_gm_m\\\\partition_7\\\\01팍순이.txt', 'live_data/raw\\\\ch_gm_m\\\\partition_7\\\\05소년.txt']\n",
      "len before removal of 0s : 902\n",
      "len after removal of 0s : 753\n",
      "14.829827026071555\n",
      "--------End of One Partition-----------------\n",
      "live_data/raw\\diamond\n",
      "['live_data/raw\\\\diamond\\\\partition_0', 'live_data/raw\\\\diamond\\\\partition_1', 'live_data/raw\\\\diamond\\\\partition_10', 'live_data/raw\\\\diamond\\\\partition_11', 'live_data/raw\\\\diamond\\\\partition_12', 'live_data/raw\\\\diamond\\\\partition_13', 'live_data/raw\\\\diamond\\\\partition_14', 'live_data/raw\\\\diamond\\\\partition_15', 'live_data/raw\\\\diamond\\\\partition_16', 'live_data/raw\\\\diamond\\\\partition_17', 'live_data/raw\\\\diamond\\\\partition_18', 'live_data/raw\\\\diamond\\\\partition_19', 'live_data/raw\\\\diamond\\\\partition_2', 'live_data/raw\\\\diamond\\\\partition_20', 'live_data/raw\\\\diamond\\\\partition_21', 'live_data/raw\\\\diamond\\\\partition_22', 'live_data/raw\\\\diamond\\\\partition_23', 'live_data/raw\\\\diamond\\\\partition_3', 'live_data/raw\\\\diamond\\\\partition_4', 'live_data/raw\\\\diamond\\\\partition_5', 'live_data/raw\\\\diamond\\\\partition_6', 'live_data/raw\\\\diamond\\\\partition_7', 'live_data/raw\\\\diamond\\\\partition_8', 'live_data/raw\\\\diamond\\\\partition_9']\n",
      "['live_data/raw\\\\diamond\\\\partition_0\\\\01042834417.txt', 'live_data/raw\\\\diamond\\\\partition_0\\\\01081210087.txt']\n",
      "len before removal of 0s : 999\n",
      "len after removal of 0s : 874\n",
      "17.322085798748418\n",
      "--------End of One Partition-----------------\n",
      "['live_data/raw\\\\diamond\\\\partition_1\\\\01086007430.txt', 'live_data/raw\\\\diamond\\\\partition_1\\\\06061220.txt']\n",
      "len before removal of 0s : 999\n",
      "len after removal of 0s : 888\n",
      "14.309758427565349\n",
      "--------End of One Partition-----------------\n",
      "['live_data/raw\\\\diamond\\\\partition_10\\\\001220.txt', 'live_data/raw\\\\diamond\\\\partition_10\\\\01085172247.txt']\n",
      "len before removal of 0s : 999\n",
      "len after removal of 0s : 870\n",
      "16.65076647156412\n",
      "--------End of One Partition-----------------\n",
      "['live_data/raw\\\\diamond\\\\partition_11\\\\000320.txt', 'live_data/raw\\\\diamond\\\\partition_11\\\\01047040162.txt']\n",
      "len before removal of 0s : 1000\n",
      "len after removal of 0s : 849\n",
      "16.06090714953085\n",
      "--------End of One Partition-----------------\n",
      "['live_data/raw\\\\diamond\\\\partition_12\\\\00xxxx.txt', 'live_data/raw\\\\diamond\\\\partition_12\\\\01년프로준비생.txt']\n",
      "len before removal of 0s : 998\n",
      "len after removal of 0s : 866\n",
      "15.891034646465641\n",
      "--------End of One Partition-----------------\n",
      "['live_data/raw\\\\diamond\\\\partition_13\\\\01092046073.txt', 'live_data/raw\\\\diamond\\\\partition_13\\\\01094583997.txt']\n",
      "len before removal of 0s : 996\n",
      "len after removal of 0s : 864\n",
      "15.252544142287883\n",
      "--------End of One Partition-----------------\n",
      "['live_data/raw\\\\diamond\\\\partition_14\\\\01092823304.txt', 'live_data/raw\\\\diamond\\\\partition_14\\\\01092977049.txt']\n",
      "len before removal of 0s : 998\n",
      "len after removal of 0s : 866\n",
      "19.33852275300928\n",
      "--------End of One Partition-----------------\n",
      "['live_data/raw\\\\diamond\\\\partition_15\\\\00o0o0ooo0o.txt', 'live_data/raw\\\\diamond\\\\partition_15\\\\022220.txt']\n",
      "len before removal of 0s : 1000\n",
      "len after removal of 0s : 859\n",
      "17.45361621613393\n",
      "--------End of One Partition-----------------\n",
      "['live_data/raw\\\\diamond\\\\partition_16\\\\0419.txt', 'live_data/raw\\\\diamond\\\\partition_16\\\\08년건달지망생.txt']\n",
      "len before removal of 0s : 998\n",
      "len after removal of 0s : 853\n",
      "14.89777957631805\n",
      "--------End of One Partition-----------------\n",
      "['live_data/raw\\\\diamond\\\\partition_17\\\\01055097965.txt', 'live_data/raw\\\\diamond\\\\partition_17\\\\04은가뉴.txt']\n",
      "len before removal of 0s : 999\n",
      "len after removal of 0s : 875\n",
      "15.75702822348603\n",
      "--------End of One Partition-----------------\n",
      "['live_data/raw\\\\diamond\\\\partition_18\\\\04년생오성현.txt', 'live_data/raw\\\\diamond\\\\partition_18\\\\06midwtbpro.txt']\n",
      "len before removal of 0s : 1000\n",
      "len after removal of 0s : 859\n",
      "16.858283288332036\n",
      "--------End of One Partition-----------------\n",
      "['live_data/raw\\\\diamond\\\\partition_19\\\\00great.txt', 'live_data/raw\\\\diamond\\\\partition_19\\\\01년생전재욱.txt']\n",
      "len before removal of 0s : 1000\n",
      "len after removal of 0s : 874\n",
      "18.558076954678032\n",
      "--------End of One Partition-----------------\n",
      "['live_data/raw\\\\diamond\\\\partition_2\\\\01040599067.txt', 'live_data/raw\\\\diamond\\\\partition_2\\\\01047224462.txt']\n",
      "len before removal of 0s : 999\n",
      "len after removal of 0s : 848\n",
      "13.976994281602071\n",
      "--------End of One Partition-----------------\n",
      "['live_data/raw\\\\diamond\\\\partition_20\\\\010115.txt', 'live_data/raw\\\\diamond\\\\partition_20\\\\01029326103.txt']\n",
      "len before removal of 0s : 998\n",
      "len after removal of 0s : 856\n",
      "14.768748753947529\n",
      "--------End of One Partition-----------------\n",
      "['live_data/raw\\\\diamond\\\\partition_21\\\\00년식원딜러.txt', 'live_data/raw\\\\diamond\\\\partition_21\\\\01025187458.txt']\n",
      "len before removal of 0s : 1000\n",
      "len after removal of 0s : 882\n",
      "17.537752806186667\n",
      "--------End of One Partition-----------------\n",
      "['live_data/raw\\\\diamond\\\\partition_22\\\\01056852281.txt', 'live_data/raw\\\\diamond\\\\partition_22\\\\024539.txt']\n",
      "len before removal of 0s : 1000\n",
      "len after removal of 0s : 912\n",
      "16.400409955736382\n",
      "--------End of One Partition-----------------\n",
      "['live_data/raw\\\\diamond\\\\partition_23\\\\00년생변창훈.txt', 'live_data/raw\\\\diamond\\\\partition_23\\\\01095888836.txt']\n",
      "len before removal of 0s : 944\n",
      "len after removal of 0s : 827\n",
      "17.971985330884902\n",
      "--------End of One Partition-----------------\n",
      "['live_data/raw\\\\diamond\\\\partition_3\\\\04ruler.txt', 'live_data/raw\\\\diamond\\\\partition_3\\\\08win.txt']\n",
      "len before removal of 0s : 956\n",
      "len after removal of 0s : 816\n",
      "16.156022334273338\n",
      "--------End of One Partition-----------------\n",
      "['live_data/raw\\\\diamond\\\\partition_4\\\\01022957859.txt', 'live_data/raw\\\\diamond\\\\partition_4\\\\01033431336.txt']\n",
      "len before removal of 0s : 1000\n",
      "len after removal of 0s : 862\n",
      "18.028562065551135\n",
      "--------End of One Partition-----------------\n",
      "['live_data/raw\\\\diamond\\\\partition_5\\\\00둥22.txt', 'live_data/raw\\\\diamond\\\\partition_5\\\\02젤리.txt']\n",
      "len before removal of 0s : 999\n",
      "len after removal of 0s : 863\n",
      "14.839792955543318\n",
      "--------End of One Partition-----------------\n",
      "['live_data/raw\\\\diamond\\\\partition_6\\\\06gaoqiqiang.txt', 'live_data/raw\\\\diamond\\\\partition_6\\\\06년생akaps.txt']\n",
      "len before removal of 0s : 988\n",
      "len after removal of 0s : 848\n",
      "18.02686522852189\n",
      "--------End of One Partition-----------------\n",
      "['live_data/raw\\\\diamond\\\\partition_7\\\\0010101100101.txt', 'live_data/raw\\\\diamond\\\\partition_7\\\\04jugmaomao.txt']\n",
      "len before removal of 0s : 1000\n",
      "len after removal of 0s : 854\n",
      "16.399495951866708\n",
      "--------End of One Partition-----------------\n",
      "['live_data/raw\\\\diamond\\\\partition_8\\\\06ruler.txt', 'live_data/raw\\\\diamond\\\\partition_8\\\\06년생독신최준호.txt']\n",
      "len before removal of 0s : 995\n",
      "len after removal of 0s : 859\n",
      "15.972704944205677\n",
      "--------End of One Partition-----------------\n",
      "['live_data/raw\\\\diamond\\\\partition_9\\\\01pnzs.txt', 'live_data/raw\\\\diamond\\\\partition_9\\\\07한정훈.txt']\n",
      "len before removal of 0s : 998\n",
      "len after removal of 0s : 848\n",
      "16.556297335501004\n",
      "--------End of One Partition-----------------\n",
      "live_data/raw\\emerald\n",
      "['live_data/raw\\\\emerald\\\\partition_0', 'live_data/raw\\\\emerald\\\\partition_1', 'live_data/raw\\\\emerald\\\\partition_10', 'live_data/raw\\\\emerald\\\\partition_11', 'live_data/raw\\\\emerald\\\\partition_12', 'live_data/raw\\\\emerald\\\\partition_13', 'live_data/raw\\\\emerald\\\\partition_14', 'live_data/raw\\\\emerald\\\\partition_2', 'live_data/raw\\\\emerald\\\\partition_3', 'live_data/raw\\\\emerald\\\\partition_4', 'live_data/raw\\\\emerald\\\\partition_5', 'live_data/raw\\\\emerald\\\\partition_6', 'live_data/raw\\\\emerald\\\\partition_7', 'live_data/raw\\\\emerald\\\\partition_8', 'live_data/raw\\\\emerald\\\\partition_9']\n",
      "['live_data/raw\\\\emerald\\\\partition_0\\\\01059248681.txt', 'live_data/raw\\\\emerald\\\\partition_0\\\\09김윤재.txt']\n",
      "len before removal of 0s : 991\n",
      "len after removal of 0s : 895\n",
      "14.829912113418432\n",
      "--------End of One Partition-----------------\n",
      "['live_data/raw\\\\emerald\\\\partition_1\\\\00프로바텀지망생.txt', 'live_data/raw\\\\emerald\\\\partition_1\\\\03년생민뚜니.txt']\n",
      "len before removal of 0s : 965\n",
      "len after removal of 0s : 868\n",
      "14.26903634922668\n",
      "--------End of One Partition-----------------\n",
      "['live_data/raw\\\\emerald\\\\partition_10\\\\01045329788.txt', 'live_data/raw\\\\emerald\\\\partition_10\\\\01090763545.txt']\n",
      "len before removal of 0s : 997\n",
      "len after removal of 0s : 868\n",
      "10.892784835989351\n",
      "--------End of One Partition-----------------\n",
      "['live_data/raw\\\\emerald\\\\partition_11\\\\09년생의검.txt', 'live_data/raw\\\\emerald\\\\partition_11\\\\0x제비.txt']\n",
      "len before removal of 0s : 997\n",
      "len after removal of 0s : 876\n",
      "12.051212912135368\n",
      "--------End of One Partition-----------------\n",
      "['live_data/raw\\\\emerald\\\\partition_12\\\\000511.txt', 'live_data/raw\\\\emerald\\\\partition_12\\\\01023770724.txt']\n",
      "len before removal of 0s : 998\n",
      "len after removal of 0s : 872\n",
      "13.018420099401215\n",
      "--------End of One Partition-----------------\n",
      "['live_data/raw\\\\emerald\\\\partition_13\\\\00년생백정러.txt', 'live_data/raw\\\\emerald\\\\partition_13\\\\03최현호.txt']\n",
      "len before removal of 0s : 998\n",
      "len after removal of 0s : 883\n",
      "10.234729079682468\n",
      "--------End of One Partition-----------------\n",
      "['live_data/raw\\\\emerald\\\\partition_14\\\\1swim.txt', 'live_data/raw\\\\emerald\\\\partition_14\\\\22732570del.txt']\n",
      "len before removal of 0s : 167\n",
      "len after removal of 0s : 147\n",
      "4.651591336969133\n",
      "--------End of One Partition-----------------\n",
      "['live_data/raw\\\\emerald\\\\partition_2\\\\00년생양성애자.txt', 'live_data/raw\\\\emerald\\\\partition_2\\\\00프로바텀지망생.txt']\n",
      "len before removal of 0s : 965\n",
      "len after removal of 0s : 841\n",
      "17.002294301457802\n",
      "--------End of One Partition-----------------\n",
      "['live_data/raw\\\\emerald\\\\partition_3\\\\01054753423.txt', 'live_data/raw\\\\emerald\\\\partition_3\\\\04chovy.txt']\n",
      "len before removal of 0s : 998\n",
      "len after removal of 0s : 867\n",
      "14.844831408377468\n",
      "--------End of One Partition-----------------\n",
      "['live_data/raw\\\\emerald\\\\partition_4\\\\03김도현.txt', 'live_data/raw\\\\emerald\\\\partition_4\\\\070517.txt']\n",
      "len before removal of 0s : 997\n",
      "len after removal of 0s : 862\n",
      "12.454361322337034\n",
      "--------End of One Partition-----------------\n",
      "['live_data/raw\\\\emerald\\\\partition_5\\\\02년생원딜지망생.txt', 'live_data/raw\\\\emerald\\\\partition_5\\\\02하쿠나마타타.txt']\n",
      "len before removal of 0s : 996\n",
      "len after removal of 0s : 870\n",
      "12.881841484963388\n",
      "--------End of One Partition-----------------\n",
      "['live_data/raw\\\\emerald\\\\partition_6\\\\01수영.txt', 'live_data/raw\\\\emerald\\\\partition_6\\\\09군필프로지망.txt']\n",
      "len before removal of 0s : 1000\n",
      "len after removal of 0s : 870\n",
      "14.953111564556135\n",
      "--------End of One Partition-----------------\n",
      "['live_data/raw\\\\emerald\\\\partition_7\\\\09년생ja궁폭격기.txt', 'live_data/raw\\\\emerald\\\\partition_7\\\\10존잘러스.txt']\n",
      "len before removal of 0s : 997\n",
      "len after removal of 0s : 862\n",
      "11.295401687599075\n",
      "--------End of One Partition-----------------\n",
      "['live_data/raw\\\\emerald\\\\partition_8\\\\02xiaguqianfen.txt', 'live_data/raw\\\\emerald\\\\partition_8\\\\08팽현숙의컨트롤.txt']\n",
      "len before removal of 0s : 999\n",
      "len after removal of 0s : 875\n",
      "12.518490892007238\n",
      "--------End of One Partition-----------------\n",
      "['live_data/raw\\\\emerald\\\\partition_9\\\\00년생k8오너종환.txt', 'live_data/raw\\\\emerald\\\\partition_9\\\\01021242602.txt']\n",
      "len before removal of 0s : 999\n",
      "len after removal of 0s : 884\n",
      "13.319656764004275\n",
      "--------End of One Partition-----------------\n",
      "live_data/raw\\gold\n",
      "['live_data/raw\\\\gold\\\\partition_0', 'live_data/raw\\\\gold\\\\partition_1', 'live_data/raw\\\\gold\\\\partition_2', 'live_data/raw\\\\gold\\\\partition_3', 'live_data/raw\\\\gold\\\\partition_4', 'live_data/raw\\\\gold\\\\partition_5', 'live_data/raw\\\\gold\\\\partition_6']\n",
      "['live_data/raw\\\\gold\\\\partition_0\\\\04년생임소연.txt', 'live_data/raw\\\\gold\\\\partition_0\\\\04안재헌.txt']\n",
      "len before removal of 0s : 998\n",
      "len after removal of 0s : 892\n",
      "14.693464155558406\n",
      "--------End of One Partition-----------------\n",
      "['live_data/raw\\\\gold\\\\partition_1\\\\0028112600126.txt', 'live_data/raw\\\\gold\\\\partition_1\\\\01022397415.txt']\n",
      "len before removal of 0s : 996\n",
      "len after removal of 0s : 887\n",
      "13.036982449213417\n",
      "--------End of One Partition-----------------\n",
      "['live_data/raw\\\\gold\\\\partition_2\\\\01035703804.txt', 'live_data/raw\\\\gold\\\\partition_2\\\\01년생딸기원딜러.txt']\n",
      "len before removal of 0s : 991\n",
      "len after removal of 0s : 886\n",
      "12.795511412710901\n",
      "--------End of One Partition-----------------\n",
      "['live_data/raw\\\\gold\\\\partition_3\\\\00년생원딜.txt', 'live_data/raw\\\\gold\\\\partition_3\\\\07wnahd.txt']\n",
      "len before removal of 0s : 991\n",
      "len after removal of 0s : 880\n",
      "12.51576427879512\n",
      "--------End of One Partition-----------------\n",
      "['live_data/raw\\\\gold\\\\partition_4\\\\01064947764.txt', 'live_data/raw\\\\gold\\\\partition_4\\\\05요네원탑.txt']\n",
      "len before removal of 0s : 993\n",
      "len after removal of 0s : 876\n",
      "12.645640031070249\n",
      "--------End of One Partition-----------------\n",
      "['live_data/raw\\\\gold\\\\partition_5\\\\01073766621.txt', 'live_data/raw\\\\gold\\\\partition_5\\\\01대장고독진.txt']\n",
      "len before removal of 0s : 994\n",
      "len after removal of 0s : 873\n",
      "12.87393853488139\n",
      "--------End of One Partition-----------------\n",
      "['live_data/raw\\\\gold\\\\partition_6\\\\01098118368.txt', 'live_data/raw\\\\gold\\\\partition_6\\\\01cm.txt']\n",
      "len before removal of 0s : 318\n",
      "len after removal of 0s : 279\n",
      "9.057505076279952\n",
      "--------End of One Partition-----------------\n",
      "live_data/raw\\silver\n",
      "['live_data/raw\\\\silver\\\\partition_0', 'live_data/raw\\\\silver\\\\partition_1', 'live_data/raw\\\\silver\\\\partition_2', 'live_data/raw\\\\silver\\\\partition_3', 'live_data/raw\\\\silver\\\\partition_4', 'live_data/raw\\\\silver\\\\partition_5']\n",
      "['live_data/raw\\\\silver\\\\partition_0\\\\010101001010.txt', 'live_data/raw\\\\silver\\\\partition_0\\\\01040417150.txt']\n",
      "len before removal of 0s : 996\n",
      "len after removal of 0s : 887\n",
      "14.210327569118814\n",
      "--------End of One Partition-----------------\n",
      "['live_data/raw\\\\silver\\\\partition_1\\\\018.txt', 'live_data/raw\\\\silver\\\\partition_1\\\\08손흥민.txt']\n",
      "len before removal of 0s : 992\n",
      "len after removal of 0s : 877\n",
      "13.299819827651962\n",
      "--------End of One Partition-----------------\n",
      "['live_data/raw\\\\silver\\\\partition_2\\\\01032565468.txt', 'live_data/raw\\\\silver\\\\partition_2\\\\04년생만나고싶다.txt']\n",
      "len before removal of 0s : 997\n",
      "len after removal of 0s : 888\n",
      "11.11609961601943\n",
      "--------End of One Partition-----------------\n",
      "['live_data/raw\\\\silver\\\\partition_3\\\\0510.txt', 'live_data/raw\\\\silver\\\\partition_3\\\\07련생원딜유저.txt']\n",
      "len before removal of 0s : 991\n",
      "len after removal of 0s : 888\n",
      "12.689410457664701\n",
      "--------End of One Partition-----------------\n",
      "['live_data/raw\\\\silver\\\\partition_4\\\\03o2.txt', 'live_data/raw\\\\silver\\\\partition_4\\\\08년생312330.txt']\n",
      "len before removal of 0s : 995\n",
      "len after removal of 0s : 867\n",
      "11.364860637641979\n",
      "--------End of One Partition-----------------\n",
      "['live_data/raw\\\\silver\\\\partition_5\\\\01048457943.txt', 'live_data/raw\\\\silver\\\\partition_5\\\\01075408479.txt']\n",
      "len before removal of 0s : 586\n",
      "len after removal of 0s : 524\n",
      "9.238051089879376\n",
      "--------End of One Partition-----------------\n",
      "\n",
      "----------------------------------------------------\n",
      "done in 1281.911s.\n",
      "2023-12-17 21:01:36\n"
     ]
    }
   ],
   "source": [
    "start = time()\n",
    "print(strftime('%Y-%m-%d %H:%M:%S', localtime()))\n",
    "print('\\n')\n",
    "##############################################################################################################################\n",
    "\n",
    "\n",
    "\n",
    "### https://stackoverflow.com/questions/74949556/poetry-fails-to-install-tensorflow\n",
    "\n",
    "### Training image data path\n",
    "# parent of ['saved_lists/perfectmm/', 'saved_lists/nearperfectmm/', 'saved_lists/streakmm/']\n",
    "parent_data_folder = 'live_data/raw'\n",
    "# print(parent_data_folder)\n",
    "\n",
    "elo_list = glob.glob(f'{parent_data_folder}/*') \n",
    "\n",
    "# print(elo_list)\n",
    "\n",
    "for item in elo_list:\n",
    "    partitions_list = glob.glob(f'{item}/*')\n",
    "    print(item)\n",
    "    print(partitions_list)\n",
    "    \n",
    "    for partition in partitions_list:\n",
    "        datafiles_list = glob.glob(f'{partition}/*.txt')\n",
    "        print(datafiles_list[:2])\n",
    "        \n",
    "        crit_count_list = []\n",
    "        for one_record_file in datafiles_list:\n",
    "            with open(one_record_file, 'r') as datafile:\n",
    "                one_record = datafile.read()\n",
    "            \n",
    "            one_record = ast.literal_eval(one_record)\n",
    "            \n",
    "            ### critical count analysis\n",
    "            llen = len(one_record)\n",
    "            \n",
    "            critical_count = 0\n",
    "            for i in range(llen-50):\n",
    "                # print(i , i+50)\n",
    "                one_window = one_record[i:i+50]\n",
    "                \n",
    "                streak_counter_result = streak_counter(one_window)\n",
    "                lose_streak = streak_counter_result[0]\n",
    "                win_streak = streak_counter_result[1]\n",
    "\n",
    "                ### ls = lose streak // ws = win streak\n",
    "                ### means within one window (50 games)\n",
    "                ls_mean = np.mean(lose_streak)\n",
    "                ws_mean = np.mean(win_streak)\n",
    "\n",
    "                ### standard deviations within one window (50 games)\n",
    "                ls_std = np.std(lose_streak)\n",
    "                ws_std = np.std(win_streak)\n",
    "\n",
    "\n",
    "                ### z scores\n",
    "                ### (x_bar_1 - mu1) / (std1/np.sqrt(number_of_streak_durations))\n",
    "                z_0 = (ls_mean - pop_mean_0) / (pop_std_0/np.sqrt(len(lose_streak)))\n",
    "                z_1 = (ws_mean - pop_mean_1) / (pop_std_1/np.sqrt(len(win_streak)))\n",
    "                \n",
    "                if abs(z_0) >= 1.96 or abs(z_1) >= 1.96:\n",
    "                    critical_count += 1\n",
    "                    # print(f'i ~ i+50 : {i} ~ {i+50}, z_0 : {z_0}, z_1 : {z_1}')\n",
    "                    \n",
    "            crit_count_list.append(critical_count)\n",
    "\n",
    "    \n",
    "        print(f'len before removal of 0s : {len(crit_count_list)}')\n",
    "        ### remove 0s\n",
    "        crit_count_list = [x for x in crit_count_list if x != 0]\n",
    "        print(f'len after removal of 0s : {len(crit_count_list)}')\n",
    "\n",
    "        z_crit_count = (np.mean(crit_count_list) - true_pop_crit_count_mean) / (true_pop_crit_count_std/np.sqrt(len(crit_count_list)))\n",
    "        print(z_crit_count)\n",
    "        print('--------End of One Partition-----------------')\n",
    "    \n",
    "    \n",
    "    \n",
    "    \n",
    "    \n",
    "    \n",
    "    \n",
    "##############################################################################################################################\n",
    "print('\\n----------------------------------------------------')\n",
    "print(\"done in %0.3fs.\" % (time() - start))\n",
    "print(strftime('%Y-%m-%d %H:%M:%S', localtime()))"
   ]
  },
  {
   "cell_type": "code",
   "execution_count": null,
   "id": "b0d5ecfd-e425-4dd6-8bb9-33fcb77103b6",
   "metadata": {},
   "outputs": [],
   "source": []
  },
  {
   "cell_type": "code",
   "execution_count": null,
   "id": "bd168ed4-d7c0-444a-aa06-b705a22497b2",
   "metadata": {},
   "outputs": [],
   "source": []
  },
  {
   "cell_type": "code",
   "execution_count": null,
   "id": "6f78edfe-7e01-475d-ae3a-4c6a76b34152",
   "metadata": {},
   "outputs": [],
   "source": []
  },
  {
   "cell_type": "code",
   "execution_count": null,
   "id": "ea6158c0-b89e-43b4-b030-0cbdcca983d7",
   "metadata": {},
   "outputs": [],
   "source": []
  },
  {
   "cell_type": "code",
   "execution_count": null,
   "id": "bddd00dc-b7ba-48d7-b6e9-d6f6f9457df6",
   "metadata": {},
   "outputs": [],
   "source": []
  },
  {
   "cell_type": "code",
   "execution_count": null,
   "id": "7bc5ac0c-84b4-456f-ae2b-9bc804048fc1",
   "metadata": {},
   "outputs": [],
   "source": []
  },
  {
   "cell_type": "code",
   "execution_count": null,
   "id": "f654961c-47f4-4be9-be8a-f3e1ef7f526f",
   "metadata": {},
   "outputs": [],
   "source": []
  }
 ],
 "metadata": {
  "kernelspec": {
   "display_name": "Python 3 (ipykernel)",
   "language": "python",
   "name": "python3"
  },
  "language_info": {
   "codemirror_mode": {
    "name": "ipython",
    "version": 3
   },
   "file_extension": ".py",
   "mimetype": "text/x-python",
   "name": "python",
   "nbconvert_exporter": "python",
   "pygments_lexer": "ipython3",
   "version": "3.11.5"
  }
 },
 "nbformat": 4,
 "nbformat_minor": 5
}
