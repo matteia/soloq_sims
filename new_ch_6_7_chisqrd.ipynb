{
 "cells": [
  {
   "cell_type": "markdown",
   "id": "7e07d89d-c945-4073-806a-a48fb4d73262",
   "metadata": {},
   "source": [
    "# Ch 6 (?)"
   ]
  },
  {
   "cell_type": "markdown",
   "id": "e4122891-01b7-43aa-86b6-5b67ada4dee9",
   "metadata": {},
   "source": [
    "# IMPORTS"
   ]
  },
  {
   "cell_type": "code",
   "execution_count": 1,
   "id": "d18bf6a8-7997-498f-b253-94d0f4d9685a",
   "metadata": {
    "tags": []
   },
   "outputs": [],
   "source": [
    "import random\n",
    "import pickle\n",
    "import glob\n",
    "\n",
    "import random\n",
    "import ast\n",
    "\n",
    "import numpy as np\n",
    "import pandas as pd\n",
    "import scipy\n",
    "\n",
    "import matplotlib.pyplot as plt\n",
    "import matplotlib.transforms as transforms\n",
    "\n",
    "from collections import Counter\n",
    "\n",
    "from time import time\n",
    "from time import sleep\n",
    "from time import strftime\n",
    "from time import localtime\n",
    "from tqdm import tqdm\n",
    "\n",
    "from datetime import date, timedelta, datetime\n",
    "\n",
    "# from mydecorators import logger, stopwatch\n",
    "\n",
    "\n",
    "\n"
   ]
  },
  {
   "cell_type": "code",
   "execution_count": 2,
   "id": "cd0bf6cb-bd5a-42e6-ae71-4cdb1d454b5e",
   "metadata": {
    "tags": []
   },
   "outputs": [],
   "source": [
    "def streak_counter(llist):\n",
    "  result_dict = {\n",
    "    ### 0 for Loss\n",
    "    0: [],\n",
    "    ### 1 for Win \n",
    "    1: []    \n",
    "  }\n",
    "\n",
    "  streak_size = 1\n",
    "\n",
    "  for i in range(len(llist)):\n",
    "    if i != len(llist)-1:\n",
    "      if llist[i] != llist[i+1]:\n",
    "        result_dict[llist[i]].append(streak_size)\n",
    "        streak_size = 1\n",
    "\n",
    "      elif llist[i] == llist[i+1]:\n",
    "        streak_size += 1\n",
    "    else:\n",
    "      result_dict[llist[i]].append(streak_size)\n",
    "\n",
    "  return result_dict\n"
   ]
  },
  {
   "cell_type": "code",
   "execution_count": 3,
   "id": "9d84595d-a76a-4fd7-ba35-384ff58e1f26",
   "metadata": {
    "tags": []
   },
   "outputs": [],
   "source": [
    "### function for calulating the average of number of consecutive results\n",
    "def avg_cal(ddict):\n",
    "  return np.mean(ddict[0]), np.mean(ddict[1])\n",
    "\n"
   ]
  },
  {
   "cell_type": "code",
   "execution_count": 4,
   "id": "023453c5-b388-4058-a2db-edcebb80663d",
   "metadata": {
    "tags": []
   },
   "outputs": [],
   "source": [
    "### streak generator\n",
    "#### using list.extend\n",
    "\n",
    "def streak_gen(streak_size, result_size):    ### number of games\n",
    "  result_streak = []\n",
    "\n",
    "  n_games = result_size\n",
    "\n",
    "  n_games_played = 0\n",
    "\n",
    "  while n_games_played <= n_games:\n",
    "\n",
    "    streak_size = streak_size\n",
    "    streak = random.choices(['WS','LS'], weights=(0.5,0.5))[0]\n",
    "\n",
    "    if streak == 'WS':\n",
    "      wr = 0.85\n",
    "      lr = 0.15\n",
    "      # print(lr,wr)\n",
    "      \n",
    "      streak_games = random.choices([0,1], weights=(lr, wr), k=streak_size)\n",
    "      result_streak.extend(streak_games)\n",
    "\n",
    "    else:\n",
    "      wr = 0.15\n",
    "      lr = 0.85\n",
    "      # print(lr,wr)\n",
    "      streak_games = random.choices([0,1], weights=(lr, wr), k=streak_size)\n",
    "      result_streak.extend(streak_games)\n",
    "\n",
    "    n_games_played += streak_size\n",
    "\n",
    "\n",
    "  return result_streak[:result_size]"
   ]
  },
  {
   "cell_type": "code",
   "execution_count": 5,
   "id": "58dd63db-e9b0-4864-99e8-74bd664693bf",
   "metadata": {
    "tags": []
   },
   "outputs": [],
   "source": [
    "# def addlabels(x,y):\n",
    "#     for i in range(len(x)):\n",
    "#         plt.text(i+1, y[i] ,y[i], fontsize=10)"
   ]
  },
  {
   "cell_type": "code",
   "execution_count": null,
   "id": "bff307b3-1556-40b1-803f-b0906e0df638",
   "metadata": {},
   "outputs": [],
   "source": []
  },
  {
   "cell_type": "markdown",
   "id": "da837022-88b7-43a4-96fa-9031b4ab81af",
   "metadata": {},
   "source": [
    "# Generate GAME HISTORIES"
   ]
  },
  {
   "cell_type": "markdown",
   "id": "4daa4a43-fe3d-4951-a151-1a9e00553ff0",
   "metadata": {},
   "source": [
    "## PerfectMM - One Million Games (to use as POPULATION ?)"
   ]
  },
  {
   "cell_type": "code",
   "execution_count": 6,
   "id": "e64c6373-d925-4988-b7d8-dc5181c7e9c5",
   "metadata": {
    "tags": []
   },
   "outputs": [
    {
     "name": "stdout",
     "output_type": "stream",
     "text": [
      "2024-04-08 16:01:39\n",
      "\n",
      "\n",
      "\n",
      "----------------------------------------------------\n",
      "done in 7.336s.\n",
      "2024-04-08 16:01:46\n"
     ]
    }
   ],
   "source": [
    "start = time()\n",
    "print(strftime('%Y-%m-%d %H:%M:%S', localtime()))\n",
    "print('\\n')\n",
    "##############################################################################################################################\n",
    "\n",
    "### set random seed\n",
    "random.seed(135)\n",
    "np.random.seed(135)\n",
    "\n",
    "# prob_list = np.linspace(0.49,0.51, 100)\n",
    "prob_list = [0.5]\n",
    "\n",
    "### when each game is between 49 ~ 51 % (independent)\n",
    "#### 3000 games per player, 1000 players, totalling 3 million games played\n",
    "\n",
    "avg_list_0 = []\n",
    "avg_list_1 = []\n",
    "\n",
    "one_million_games = []\n",
    "\n",
    "# number_of_players = 1000\n",
    "# games_per_player = 3000\n",
    "number_of_players = 1\n",
    "games_per_player = 1000000\n",
    "\n",
    "for _ in range(number_of_players):\n",
    "    result_n = []\n",
    "\n",
    "    for _ in range(games_per_player):\n",
    "        prob_of_0 = random.choice(prob_list)\n",
    "        prob_of_1 = 1 - prob_of_0\n",
    "        \n",
    "        one_game = np.random.choice([0,1], 1, p = [prob_of_0, prob_of_1])[0]\n",
    "        result_n.append(one_game)\n",
    "    \n",
    "    streak_counter_result = streak_counter(result_n)\n",
    "    \n",
    "    ### add to one_million_games (3000 players)\n",
    "    one_million_games.append(result_n)\n",
    "    # print(streak_counter_result)\n",
    "\n",
    "    avg_cal_result = avg_cal(streak_counter_result)\n",
    "    # print(avg_cal_result)\n",
    "    avg_list_0.append(avg_cal_result[0])\n",
    "    avg_list_1.append(avg_cal_result[1])\n",
    "    \n",
    "    \n",
    "##############################################################################################################################\n",
    "print('\\n----------------------------------------------------')\n",
    "print(\"done in %0.3fs.\" % (time() - start))\n",
    "print(strftime('%Y-%m-%d %H:%M:%S', localtime()))"
   ]
  },
  {
   "cell_type": "code",
   "execution_count": 7,
   "id": "2319251e-6b45-489f-8bce-fcf11a639c02",
   "metadata": {
    "tags": []
   },
   "outputs": [],
   "source": [
    "# one_million_games[0][:10]"
   ]
  },
  {
   "cell_type": "code",
   "execution_count": 8,
   "id": "09714245-bbd4-4922-826c-d84f744cc956",
   "metadata": {
    "tags": []
   },
   "outputs": [],
   "source": [
    "### one_million_games[0][:10]\n",
    "\n",
    "# perfectmm_counted = streak_counter(one_million_games[0][:])\n",
    "perfectmm_counted = streak_counter(one_million_games[0])"
   ]
  },
  {
   "cell_type": "code",
   "execution_count": 9,
   "id": "af18b8b4-9ec2-4816-9dcf-5d2af4b4f3e1",
   "metadata": {
    "tags": []
   },
   "outputs": [
    {
     "name": "stdout",
     "output_type": "stream",
     "text": [
      "MAX MIN of Losing Streaks\n",
      "17\n",
      "1\n",
      "MAX MIN of Win Streaks\n",
      "20\n",
      "1\n",
      "Averages\n",
      "L: 2.003923721884669\n",
      "W: 2.0039557691305725\n",
      "Standard Deviations\n",
      "L: 1.4168229150676865\n",
      "W: 1.419380547217041\n"
     ]
    }
   ],
   "source": [
    "print('MAX MIN of Losing Streaks')\n",
    "print(np.max(perfectmm_counted[0]))\n",
    "print(np.min(perfectmm_counted[0]))\n",
    "\n",
    "print('MAX MIN of Win Streaks')\n",
    "print(np.max(perfectmm_counted[1]))\n",
    "print(np.min(perfectmm_counted[1]))\n",
    "\n",
    "print('Averages')\n",
    "print(f'L: {np.mean(perfectmm_counted[0])}')\n",
    "print(f'W: {np.mean(perfectmm_counted[1])}')\n",
    "\n",
    "print('Standard Deviations')\n",
    "print(f'L: {np.std(perfectmm_counted[0])}')\n",
    "print(f'W: {np.std(perfectmm_counted[1])}')"
   ]
  },
  {
   "cell_type": "code",
   "execution_count": 10,
   "id": "48a16173-5ea5-4892-9c4b-b03d724160c5",
   "metadata": {
    "tags": []
   },
   "outputs": [
    {
     "name": "stdout",
     "output_type": "stream",
     "text": [
      "sum of L streak : 499995\n",
      "sum of W streak : 500005\n"
     ]
    }
   ],
   "source": [
    "print(f'sum of L streak : {np.sum(perfectmm_counted[0])}')\n",
    "print(f'sum of W streak : {np.sum(perfectmm_counted[1])}')"
   ]
  },
  {
   "cell_type": "code",
   "execution_count": 11,
   "id": "c607d4f7-f9e7-47dc-a401-c083721eec54",
   "metadata": {
    "tags": []
   },
   "outputs": [],
   "source": [
    "# print(np.max(streak_counter(one_million_games[0][:])[0]))\n",
    "# print(np.min(streak_counter(one_million_games[0][:])[0]))\n",
    "\n",
    "# print(np.max(streak_counter(one_million_games[0][:])[1]))\n",
    "# print(np.min(streak_counter(one_million_games[0][:])[1]))\n",
    "\n",
    "\n",
    "\n",
    "# print(np.mean(streak_counter(one_million_games[0])[0]))\n",
    "# print(np.mean(streak_counter(one_million_games[0])[1]))\n",
    "\n",
    "# print(np.std(streak_counter(one_million_games[0])[0]))\n",
    "# print(np.std(streak_counter(one_million_games[0])[1]))"
   ]
  },
  {
   "cell_type": "code",
   "execution_count": 12,
   "id": "a4926d16-7dca-48c3-9fce-b1d94fcc94a0",
   "metadata": {
    "tags": []
   },
   "outputs": [],
   "source": [
    "# perfectmm_counted[0]"
   ]
  },
  {
   "cell_type": "code",
   "execution_count": 13,
   "id": "2ad623a9-0ede-4bcd-b1ca-b39bbe07b7a3",
   "metadata": {
    "tags": []
   },
   "outputs": [
    {
     "name": "stdout",
     "output_type": "stream",
     "text": [
      "[-2, -1, -1, -5, -1, -3, -1, -1, -2, -2, -2, -1, -1, -2, -1, -1, -1, -1, -1, -4]\n",
      "-2.003923721884669\n",
      "1.4168229150676865\n",
      "[1, 2, 2, 1, 3, 1, 3, 4, 2, 6, 1, 1, 2, 4, 1, 5, 5, 1, 1, 7]\n",
      "2.0039557691305725\n",
      "1.419380547217041\n",
      "----\n",
      "2.003939745539731e-05\n",
      "2.4549518663543686\n"
     ]
    }
   ],
   "source": [
    "streaks = []\n",
    "\n",
    "streaks_0 = list(perfectmm_counted[0])\n",
    "streaks_0 = [x*(-1) for x in streaks_0]\n",
    "print(streaks_0[:20])\n",
    "\n",
    "print(np.mean(streaks_0))\n",
    "print(np.std(streaks_0))\n",
    "\n",
    "streaks_1 = list(perfectmm_counted[1])\n",
    "print(streaks_1[:20])\n",
    "\n",
    "print(np.mean(streaks_1))\n",
    "print(np.std(streaks_1))\n",
    "\n",
    "\n",
    "print('----')\n",
    "streaks.extend(streaks_0)\n",
    "streaks.extend(streaks_1)\n",
    "\n",
    "print(np.mean(streaks))\n",
    "print(np.std(streaks))\n",
    "\n",
    "\n",
    "\n",
    "# llist.extend(list(perfectmm_counted[1]))\n",
    "# print(len(llist))\n",
    "# print(llist[:30])\n",
    "\n",
    "# print(np.mean(llist))\n",
    "# print(np.std(llist))\n",
    "# print(np.sum(llist))"
   ]
  },
  {
   "cell_type": "code",
   "execution_count": null,
   "id": "86af0e7b-4904-4e6a-a8ff-59c3a07c5ed7",
   "metadata": {},
   "outputs": [],
   "source": []
  },
  {
   "cell_type": "markdown",
   "id": "8e14d190-033a-4e70-a580-3e37361e9f11",
   "metadata": {},
   "source": [
    "## NearPerfectMM - One Million Games"
   ]
  },
  {
   "cell_type": "code",
   "execution_count": 14,
   "id": "d5629285-2329-43ff-a82a-e2c1c35c5d20",
   "metadata": {
    "tags": []
   },
   "outputs": [
    {
     "name": "stdout",
     "output_type": "stream",
     "text": [
      "2024-04-08 16:01:46\n",
      "\n",
      "\n",
      "\n",
      "----------------------------------------------------\n",
      "done in 7.520s.\n",
      "2024-04-08 16:01:54\n"
     ]
    }
   ],
   "source": [
    "start = time()\n",
    "print(strftime('%Y-%m-%d %H:%M:%S', localtime()))\n",
    "print('\\n')\n",
    "##############################################################################################################################\n",
    "\n",
    "### set random seed\n",
    "random.seed(2237)\n",
    "np.random.seed(2237)\n",
    "\n",
    "prob_list = np.linspace(0.49,0.51, 100)\n",
    "\n",
    "### when each game is between 49 ~ 51 % (independent)\n",
    "#### 3000 games per player, 1000 players, totalling 3 million games played\n",
    "\n",
    "avg_list_0 = []\n",
    "avg_list_1 = []\n",
    "\n",
    "nearperfect_all_records = []\n",
    "\n",
    "number_of_players = 1\n",
    "games_per_player = 1000000\n",
    "\n",
    "\n",
    "for _ in range(number_of_players):\n",
    "    result_n = []\n",
    "\n",
    "    for _ in range(games_per_player):\n",
    "        prob_of_0 = random.choice(prob_list)\n",
    "        prob_of_1 = 1 - prob_of_0\n",
    "\n",
    "        one_game = np.random.choice([0,1], 1, p = [prob_of_0, prob_of_1])[0]\n",
    "        result_n.append(one_game)\n",
    "    \n",
    "    streak_counter_result = streak_counter(result_n)\n",
    "    \n",
    "    ### add to nearperfect_all_records (3000 players)\n",
    "    nearperfect_all_records.append(result_n)\n",
    "    # print(streak_counter_result)\n",
    "\n",
    "    avg_cal_result = avg_cal(streak_counter_result)\n",
    "    # print(avg_cal_result)\n",
    "    avg_list_0.append(avg_cal_result[0])\n",
    "    avg_list_1.append(avg_cal_result[1])\n",
    "    \n",
    "    \n",
    "##############################################################################################################################\n",
    "print('\\n----------------------------------------------------')\n",
    "print(\"done in %0.3fs.\" % (time() - start))\n",
    "print(strftime('%Y-%m-%d %H:%M:%S', localtime()))"
   ]
  },
  {
   "cell_type": "code",
   "execution_count": 15,
   "id": "ae4f2d5d-4fb3-46f6-affb-8861194b9761",
   "metadata": {
    "tags": []
   },
   "outputs": [
    {
     "name": "stdout",
     "output_type": "stream",
     "text": [
      "2.0011037704157535\n",
      "1.9980644026042582\n"
     ]
    }
   ],
   "source": [
    "print(np.mean(avg_list_0))\n",
    "print(np.mean(avg_list_1))\n"
   ]
  },
  {
   "cell_type": "code",
   "execution_count": 16,
   "id": "f40a2124-1c5e-4c05-bd34-97c20766a290",
   "metadata": {
    "tags": []
   },
   "outputs": [],
   "source": [
    "# nearperfectmm_counted = streak_counter(nearperfect_all_records[0][:])\n",
    "nearperfectmm_counted = streak_counter(nearperfect_all_records[0])"
   ]
  },
  {
   "cell_type": "code",
   "execution_count": 17,
   "id": "a2a355d3-5aa6-41fc-8b3e-5d61bd8ba3ab",
   "metadata": {
    "tags": []
   },
   "outputs": [
    {
     "name": "stdout",
     "output_type": "stream",
     "text": [
      "MAX MIN of Losing Streaks\n",
      "20\n",
      "1\n",
      "MAX MIN of Win Streaks\n",
      "23\n",
      "1\n",
      "Averages\n",
      "L: 2.0011037704157535\n",
      "W: 1.9980644026042582\n",
      "Standard Deviations\n",
      "L: 1.4167982423222778\n",
      "W: 1.4148511856294026\n"
     ]
    }
   ],
   "source": [
    "print('MAX MIN of Losing Streaks')\n",
    "print(np.max(nearperfectmm_counted[0]))\n",
    "print(np.min(nearperfectmm_counted[0]))\n",
    "\n",
    "print('MAX MIN of Win Streaks')\n",
    "print(np.max(nearperfectmm_counted[1]))\n",
    "print(np.min(nearperfectmm_counted[1]))\n",
    "\n",
    "print('Averages')\n",
    "print(f'L: {np.mean(nearperfectmm_counted[0])}')\n",
    "print(f'W: {np.mean(nearperfectmm_counted[1])}')\n",
    "\n",
    "print('Standard Deviations')\n",
    "print(f'L: {np.std(nearperfectmm_counted[0])}')\n",
    "print(f'W: {np.std(nearperfectmm_counted[1])}')"
   ]
  },
  {
   "cell_type": "code",
   "execution_count": 18,
   "id": "284a73a1-5654-421f-b84c-e5c15d7180fd",
   "metadata": {
    "tags": []
   },
   "outputs": [
    {
     "name": "stdout",
     "output_type": "stream",
     "text": [
      "sum of L streak : 500380\n",
      "sum of W streak : 499620\n"
     ]
    }
   ],
   "source": [
    "print(f'sum of L streak : {np.sum(nearperfectmm_counted[0])}')\n",
    "print(f'sum of W streak : {np.sum(nearperfectmm_counted[1])}')"
   ]
  },
  {
   "cell_type": "code",
   "execution_count": 19,
   "id": "0cc3e0f7-6266-495d-8bd3-80951a7f031b",
   "metadata": {
    "tags": []
   },
   "outputs": [],
   "source": [
    "# ### streak_all_records = million games from StreakMM\n",
    "\n",
    "# print(np.max(streak_counter(nearperfect_all_records[0][:])[0]))\n",
    "# print(np.min(streak_counter(nearperfect_all_records[0][:])[0]))\n",
    "\n",
    "# print(np.max(streak_counter(nearperfect_all_records[0][:])[1]))\n",
    "# print(np.min(streak_counter(nearperfect_all_records[0][:])[1]))\n",
    "\n",
    "\n",
    "\n",
    "# print(np.mean(streak_counter(nearperfect_all_records[0])[0]))\n",
    "# print(np.mean(streak_counter(nearperfect_all_records[0])[1]))\n",
    "\n",
    "# print(np.std(streak_counter(nearperfect_all_records[0])[0]))\n",
    "# print(np.std(streak_counter(nearperfect_all_records[0])[1]))"
   ]
  },
  {
   "cell_type": "code",
   "execution_count": 20,
   "id": "edfb0cdb-5725-4161-98b3-7d01075b0e1b",
   "metadata": {
    "tags": []
   },
   "outputs": [
    {
     "name": "stdout",
     "output_type": "stream",
     "text": [
      "[-1, -1, -1, -3, -1, -2, -2, -2, -2, -2, -2, -1, -2, -1, -4, -1, -1, -3, -2, -1]\n",
      "-2.0011037704157535\n",
      "1.4167982423222778\n",
      "[3, 2, 1, 2, 2, 2, 4, 1, 4, 1, 2, 2, 3, 1, 1, 1, 1, 1, 1, 1]\n",
      "1.9980644026042582\n",
      "1.4148511856294026\n",
      "----\n",
      "-0.0015196839057476045\n",
      "2.450081036922303\n"
     ]
    }
   ],
   "source": [
    "streaks = []\n",
    "\n",
    "streaks_0 = list(nearperfectmm_counted[0])\n",
    "streaks_0 = [x*(-1) for x in streaks_0]\n",
    "print(streaks_0[:20])\n",
    "\n",
    "print(np.mean(streaks_0))\n",
    "print(np.std(streaks_0))\n",
    "\n",
    "streaks_1 = list(nearperfectmm_counted[1])\n",
    "print(streaks_1[:20])\n",
    "\n",
    "print(np.mean(streaks_1))\n",
    "print(np.std(streaks_1))\n",
    "\n",
    "\n",
    "print('----')\n",
    "streaks.extend(streaks_0)\n",
    "streaks.extend(streaks_1)\n",
    "\n",
    "print(np.mean(streaks))\n",
    "print(np.std(streaks))\n",
    "\n",
    "\n",
    "\n",
    "# llist.extend(list(perfectmm_counted[1]))\n",
    "# print(len(llist))\n",
    "# print(llist[:30])\n",
    "\n",
    "# print(np.mean(llist))\n",
    "# print(np.std(llist))\n",
    "# print(np.sum(llist))"
   ]
  },
  {
   "cell_type": "code",
   "execution_count": null,
   "id": "5bb1dba5-252e-44b2-bbda-ab3251e8f18d",
   "metadata": {},
   "outputs": [],
   "source": []
  },
  {
   "cell_type": "markdown",
   "id": "afa6c3ba-6fcb-4e62-b9f2-2927cbe7378d",
   "metadata": {},
   "source": [
    "## StreakMM - One Million Games"
   ]
  },
  {
   "cell_type": "code",
   "execution_count": 21,
   "id": "377c9071-9799-4098-ad65-6f4883045c5c",
   "metadata": {
    "tags": []
   },
   "outputs": [
    {
     "name": "stdout",
     "output_type": "stream",
     "text": [
      "2024-04-08 16:01:54\n",
      "\n",
      "\n",
      "\n",
      "----------------------------------------------------\n",
      "done in 0.292s.\n",
      "2024-04-08 16:01:54\n"
     ]
    }
   ],
   "source": [
    "start = time()\n",
    "print(strftime('%Y-%m-%d %H:%M:%S', localtime()))\n",
    "print('\\n')\n",
    "##############################################################################################################################\n",
    "\n",
    "### set random seed\n",
    "random.seed(1576)\n",
    "np.random.seed(1576)\n",
    "\n",
    "### when streaks exist\n",
    "### ws:ls = 50:50\n",
    "### 85% of win/loss depending on the streak\n",
    "\n",
    "avg_list_0 = []\n",
    "avg_list_1 = []\n",
    "\n",
    "streak_all_records = []\n",
    "for _ in range(1):\n",
    "    result_n = streak_gen(6, 1_000_000)\n",
    "    \n",
    "    # streak_all_records.append(pd.Series(result_n))\n",
    "    streak_all_records.append(result_n)\n",
    "    \n",
    "    streak_counter_result = streak_counter(result_n)\n",
    "    # print(streak_counter_result)\n",
    "\n",
    "    avg_cal_result = avg_cal(streak_counter_result)\n",
    "    # print(avg_cal_result)\n",
    "    avg_list_0.append(avg_cal_result[0])\n",
    "    avg_list_1.append(avg_cal_result[1])\n",
    "    \n",
    "    \n",
    "##############################################################################################################################\n",
    "print('\\n----------------------------------------------------')\n",
    "print(\"done in %0.3fs.\" % (time() - start))\n",
    "print(strftime('%Y-%m-%d %H:%M:%S', localtime()))"
   ]
  },
  {
   "cell_type": "code",
   "execution_count": 22,
   "id": "948541e5-75ab-4594-924d-9d1a26b70bfe",
   "metadata": {
    "tags": []
   },
   "outputs": [
    {
     "data": {
      "text/plain": [
       "(3.3715100600834003, 3.3870505542038387)"
      ]
     },
     "execution_count": 22,
     "metadata": {},
     "output_type": "execute_result"
    }
   ],
   "source": [
    "avg_cal_result\n"
   ]
  },
  {
   "cell_type": "code",
   "execution_count": 23,
   "id": "a8618db8-5aaf-402a-89ed-98b2f296caae",
   "metadata": {
    "tags": []
   },
   "outputs": [
    {
     "name": "stdout",
     "output_type": "stream",
     "text": [
      "3.3715100600834003\n",
      "3.3870505542038387\n"
     ]
    }
   ],
   "source": [
    "print(np.mean(avg_list_0))\n",
    "print(np.mean(avg_list_1))\n"
   ]
  },
  {
   "cell_type": "code",
   "execution_count": 24,
   "id": "b30bb53a-710d-45ee-ae9f-f90075fbdaf6",
   "metadata": {
    "tags": []
   },
   "outputs": [],
   "source": [
    "# streakmm_counted = streak_counter(streak_all_records[0][:])\n",
    "streakmm_counted = streak_counter(streak_all_records[0])"
   ]
  },
  {
   "cell_type": "code",
   "execution_count": 25,
   "id": "c4272edf-3e13-4c49-b239-4820f3d33505",
   "metadata": {
    "tags": []
   },
   "outputs": [
    {
     "name": "stdout",
     "output_type": "stream",
     "text": [
      "MAX MIN of Losing Streaks\n",
      "52\n",
      "1\n",
      "MAX MIN of Win Streaks\n",
      "39\n",
      "1\n",
      "Averages\n",
      "L: 3.3715100600834003\n",
      "W: 3.3870505542038387\n",
      "Standard Deviations\n",
      "L: 3.400960275967006\n",
      "W: 3.4216191520092782\n"
     ]
    }
   ],
   "source": [
    "print('MAX MIN of Losing Streaks')\n",
    "print(np.max(streakmm_counted[0]))\n",
    "print(np.min(streakmm_counted[0]))\n",
    "\n",
    "print('MAX MIN of Win Streaks')\n",
    "print(np.max(streakmm_counted[1]))\n",
    "print(np.min(streakmm_counted[1]))\n",
    "\n",
    "print('Averages')\n",
    "print(f'L: {np.mean(streakmm_counted[0])}')\n",
    "print(f'W: {np.mean(streakmm_counted[1])}')\n",
    "\n",
    "print('Standard Deviations')\n",
    "print(f'L: {np.std(streakmm_counted[0])}')\n",
    "print(f'W: {np.std(streakmm_counted[1])}')"
   ]
  },
  {
   "cell_type": "code",
   "execution_count": 26,
   "id": "e8222167-0654-4279-90e9-308c0d8f6304",
   "metadata": {
    "tags": []
   },
   "outputs": [
    {
     "name": "stdout",
     "output_type": "stream",
     "text": [
      "sum of L streak : 498852\n",
      "sum of W streak : 501148\n"
     ]
    }
   ],
   "source": [
    "print(f'sum of L streak : {np.sum(streakmm_counted[0])}')\n",
    "print(f'sum of W streak : {np.sum(streakmm_counted[1])}')"
   ]
  },
  {
   "cell_type": "code",
   "execution_count": 27,
   "id": "9e00c45d-a945-49c4-8e11-9e781f1ca006",
   "metadata": {
    "tags": []
   },
   "outputs": [],
   "source": [
    "# ### streak_all_records = million games from StreakMM\n",
    "\n",
    "# print(np.max(streak_counter(streak_all_records[0][:])[0]))\n",
    "# print(np.min(streak_counter(streak_all_records[0][:])[0]))\n",
    "\n",
    "# print(np.max(streak_counter(streak_all_records[0][:])[1]))\n",
    "# print(np.min(streak_counter(streak_all_records[0][:])[1]))\n",
    "\n",
    "\n",
    "\n",
    "# print(np.mean(streak_counter(streak_all_records[0])[0]))\n",
    "# print(np.mean(streak_counter(streak_all_records[0])[1]))\n",
    "\n",
    "# print(np.std(streak_counter(streak_all_records[0])[0]))\n",
    "# print(np.std(streak_counter(streak_all_records[0])[1]))"
   ]
  },
  {
   "cell_type": "code",
   "execution_count": 28,
   "id": "eae6b783-44e9-40e8-8627-0c259e6f2503",
   "metadata": {
    "tags": []
   },
   "outputs": [
    {
     "name": "stdout",
     "output_type": "stream",
     "text": [
      "[-6, -3, -7, -1, -1, -5, -25, -1, -5, -6, -1, -2, -1, -1, -6, -7, -1, -3, -1, -1]\n",
      "-3.3715100600834003\n",
      "3.400960275967006\n",
      "[1, 2, 4, 2, 2, 1, 4, 1, 1, 7, 4, 1, 1, 6, 5, 1, 1, 4, 3, 3]\n",
      "3.3870505542038387\n",
      "3.4216191520092782\n",
      "----\n",
      "0.007758827524913744\n",
      "4.8017225415490215\n"
     ]
    }
   ],
   "source": [
    "streaks = []\n",
    "\n",
    "streaks_0 = list(streakmm_counted[0])\n",
    "streaks_0 = [x*(-1) for x in streaks_0]\n",
    "print(streaks_0[:20])\n",
    "\n",
    "print(np.mean(streaks_0))\n",
    "print(np.std(streaks_0))\n",
    "\n",
    "streaks_1 = list(streakmm_counted[1])\n",
    "print(streaks_1[:20])\n",
    "\n",
    "print(np.mean(streaks_1))\n",
    "print(np.std(streaks_1))\n",
    "\n",
    "\n",
    "print('----')\n",
    "streaks.extend(streaks_0)\n",
    "streaks.extend(streaks_1)\n",
    "\n",
    "print(np.mean(streaks))\n",
    "print(np.std(streaks))\n",
    "\n",
    "\n",
    "\n",
    "# llist.extend(list(perfectmm_counted[1]))\n",
    "# print(len(llist))\n",
    "# print(llist[:30])\n",
    "\n",
    "# print(np.mean(llist))\n",
    "# print(np.std(llist))\n",
    "# print(np.sum(llist))"
   ]
  },
  {
   "cell_type": "code",
   "execution_count": 29,
   "id": "a777603a-3654-414e-aba8-2209fa5d8954",
   "metadata": {
    "tags": []
   },
   "outputs": [
    {
     "data": {
      "text/plain": [
       "-0.0014387125994693578"
      ]
     },
     "execution_count": 29,
     "metadata": {},
     "output_type": "execute_result"
    }
   ],
   "source": [
    "(0-0.007758827524913744)/np.sqrt(2.4549518663543686**2 + 4.8017225415490215**2)\n",
    "\n",
    "### -0.0014349967115323884"
   ]
  },
  {
   "cell_type": "code",
   "execution_count": 30,
   "id": "e0c1eebe-c0a3-4f97-b2c2-ac74757966b1",
   "metadata": {
    "tags": []
   },
   "outputs": [
    {
     "data": {
      "text/plain": [
       "0.26139172797973703"
      ]
     },
     "execution_count": 30,
     "metadata": {},
     "output_type": "execute_result"
    }
   ],
   "source": [
    "2.4549518663543686**2/4.8017225415490215**2"
   ]
  },
  {
   "cell_type": "code",
   "execution_count": 31,
   "id": "4e62a20c-0429-4dfd-afe5-33f3292046f3",
   "metadata": {
    "tags": []
   },
   "outputs": [
    {
     "data": {
      "text/plain": [
       "3.825675769194653"
      ]
     },
     "execution_count": 31,
     "metadata": {},
     "output_type": "execute_result"
    }
   ],
   "source": [
    "### f-test\n",
    "4.8017225415490215**2/2.4549518663543686**2"
   ]
  },
  {
   "cell_type": "code",
   "execution_count": null,
   "id": "c38dd74d-e7fc-455b-8187-a44c9683ab68",
   "metadata": {},
   "outputs": [],
   "source": []
  },
  {
   "cell_type": "markdown",
   "id": "486ff061-3a5d-4522-9c55-4ee598746cbf",
   "metadata": {},
   "source": [
    "### Counter"
   ]
  },
  {
   "cell_type": "code",
   "execution_count": 32,
   "id": "8c9f57cf-6ffc-4cd5-93ac-efcb4bb30959",
   "metadata": {
    "tags": []
   },
   "outputs": [
    {
     "name": "stdout",
     "output_type": "stream",
     "text": [
      "L streak counted : Counter({1: 124404, 2: 62676, 3: 30936, 4: 15672, 5: 7940, 6: 3955, 7: 2003, 8: 979, 9: 461, 10: 248, 11: 111, 12: 55, 13: 28, 14: 24, 15: 9, 16: 4, 17: 3})\n",
      "L streak counted : Counter({1: 124601, 2: 62144, 3: 31575, 4: 15466, 5: 7824, 6: 3812, 7: 2093, 8: 1013, 9: 523, 10: 228, 11: 104, 12: 58, 13: 39, 14: 12, 15: 6, 16: 6, 20: 2, 17: 2, 18: 1})\n"
     ]
    }
   ],
   "source": [
    "print(f'L streak counted : {Counter(perfectmm_counted[0])}')\n",
    "print(f'L streak counted : {Counter(perfectmm_counted[1])}')"
   ]
  },
  {
   "cell_type": "code",
   "execution_count": 33,
   "id": "53c257c8-edd7-4cdf-a38a-0389e2613a24",
   "metadata": {
    "tags": []
   },
   "outputs": [
    {
     "name": "stdout",
     "output_type": "stream",
     "text": [
      "L streak counted : Counter({1: 125225, 2: 62204, 3: 31120, 4: 15849, 5: 7717, 6: 4078, 7: 1916, 8: 961, 9: 476, 10: 254, 11: 117, 12: 77, 13: 34, 14: 10, 15: 8, 16: 4, 17: 1, 20: 1})\n",
      "L streak counted : Counter({1: 125231, 2: 62650, 3: 30970, 4: 15522, 5: 7842, 6: 3902, 7: 1946, 8: 1003, 9: 493, 10: 274, 11: 107, 12: 56, 13: 21, 14: 20, 15: 8, 16: 3, 18: 2, 23: 1, 17: 1})\n"
     ]
    }
   ],
   "source": [
    "print(f'L streak counted : {Counter(nearperfectmm_counted[0])}')\n",
    "print(f'L streak counted : {Counter(nearperfectmm_counted[1])}')"
   ]
  },
  {
   "cell_type": "code",
   "execution_count": 34,
   "id": "84f003cc-c5f6-4df8-b344-d935a5219855",
   "metadata": {
    "tags": []
   },
   "outputs": [
    {
     "name": "stdout",
     "output_type": "stream",
     "text": [
      "L streak counted : Counter({1: 63848, 2: 21473, 3: 13441, 6: 10454, 4: 10201, 5: 8198, 7: 5306, 8: 3398, 9: 2420, 12: 1995, 10: 1896, 11: 1586, 13: 981, 14: 590, 15: 467, 18: 377, 16: 316, 17: 300, 19: 205, 20: 103, 21: 82, 22: 76, 24: 63, 23: 56, 25: 37, 27: 15, 29: 14, 30: 13, 28: 13, 26: 12, 33: 7, 31: 6, 32: 3, 36: 2, 34: 2, 35: 2, 40: 1, 39: 1, 52: 1})\n",
      "L streak counted : Counter({1: 63688, 2: 21255, 3: 13532, 6: 10441, 4: 10327, 5: 8261, 7: 5374, 8: 3301, 9: 2492, 12: 1983, 10: 1874, 11: 1520, 13: 1021, 14: 644, 15: 480, 18: 392, 16: 358, 17: 270, 19: 198, 20: 128, 21: 79, 22: 77, 24: 71, 23: 60, 25: 36, 26: 30, 27: 16, 30: 10, 31: 8, 29: 7, 28: 6, 34: 5, 36: 5, 32: 4, 37: 3, 33: 2, 38: 1, 39: 1})\n"
     ]
    }
   ],
   "source": [
    "print(f'L streak counted : {Counter(streakmm_counted[0])}')\n",
    "print(f'L streak counted : {Counter(streakmm_counted[1])}')"
   ]
  },
  {
   "cell_type": "code",
   "execution_count": 35,
   "id": "8aabb21a-188a-47e9-ba5b-f5b4ee5aab27",
   "metadata": {
    "tags": []
   },
   "outputs": [],
   "source": [
    "perfect_dict_0 = Counter(perfectmm_counted[0])\n",
    "perfect_dict_1 = Counter(perfectmm_counted[1])\n",
    "nearperfect_dict_0 = Counter(nearperfectmm_counted[0])\n",
    "nearperfect_dict_1 = Counter(nearperfectmm_counted[1])\n",
    "streak_dict_0 = Counter(streakmm_counted[0])\n",
    "streak_dict_1 = Counter(streakmm_counted[1])\n"
   ]
  },
  {
   "cell_type": "code",
   "execution_count": null,
   "id": "4cb65d81-766c-42fd-905c-3d8d99d30d43",
   "metadata": {},
   "outputs": [],
   "source": []
  },
  {
   "cell_type": "markdown",
   "id": "1d5b35e3-92b4-4395-9f62-84b868168938",
   "metadata": {},
   "source": [
    "# Distribution Plots (HISTOGRAMS)"
   ]
  },
  {
   "cell_type": "markdown",
   "id": "bbf644d5-0643-4871-9d5c-3220ab65fd74",
   "metadata": {},
   "source": [
    "## PerfectMM"
   ]
  },
  {
   "cell_type": "markdown",
   "id": "c6236c1c-724a-4172-87d6-16a7c7619b81",
   "metadata": {},
   "source": [
    "### Losing Streaks"
   ]
  },
  {
   "cell_type": "code",
   "execution_count": 36,
   "id": "041dd179-785e-4e08-8a32-e7a65bd910a4",
   "metadata": {
    "tags": []
   },
   "outputs": [
    {
     "data": {
      "image/png": "[encoded data removed]",
      "text/plain": [
       "<Figure size 640x480 with 1 Axes>"
      ]
     },
     "metadata": {},
     "output_type": "display_data"
    }
   ],
   "source": [
    "# plt.hist(perfectmm_counted[0], bins=30)\n",
    "plt.hist(perfectmm_counted[0], edgecolor='yellow', bins=np.arange(1, 56, 1))\n",
    "# plt.hist(perfectmm_counted[0], bins=np.arange(1, 56, 1), width=1)\n",
    "plt.show()"
   ]
  },
  {
   "cell_type": "markdown",
   "id": "735dfaf8-3946-49a4-934d-27e92530ff5d",
   "metadata": {},
   "source": [
    "### Win Streaks"
   ]
  },
  {
   "cell_type": "code",
   "execution_count": 37,
   "id": "ed68f9f1-b334-4231-aeaf-0c0d048201fa",
   "metadata": {
    "tags": []
   },
   "outputs": [
    {
     "data": {
      "image/png": "[encoded data removed]",
      "text/plain": [
       "<Figure size 640x480 with 1 Axes>"
      ]
     },
     "metadata": {},
     "output_type": "display_data"
    }
   ],
   "source": [
    "# plt.hist(perfectmm_counted[0], bins=30)\n",
    "plt.hist(perfectmm_counted[1], edgecolor='yellow', bins=np.arange(1, 56, 1))\n",
    "# plt.hist(perfectmm_counted[0], bins=np.arange(1, 56, 1), width=1)\n",
    "plt.show()"
   ]
  },
  {
   "cell_type": "markdown",
   "id": "49166769-03ac-4016-81f2-e17bf7a1ed98",
   "metadata": {},
   "source": [
    "### Combined"
   ]
  },
  {
   "cell_type": "code",
   "execution_count": 38,
   "id": "436e829c-ebbc-4e20-b46f-fa4a821a93d9",
   "metadata": {
    "tags": []
   },
   "outputs": [
    {
     "name": "stdout",
     "output_type": "stream",
     "text": [
      "[-17, -16, -15, -14, -13, -12, -11, -10, -9, -8, -7, -6, -5, -4, -3, -2, -1]\n",
      "[3, 4, 9, 24, 28, 55, 111, 248, 461, 979, 2003, 3955, 7940, 15672, 30936, 62676, 124404]\n",
      "[1, 2, 3, 4, 5, 6, 7, 8, 9, 10, 11, 12, 13, 14, 15, 16, 17, 18, 19, 20]\n",
      "[124601, 62144, 31575, 15466, 7824, 3812, 2093, 1013, 523, 228, 104, 58, 39, 12, 6, 6, 2, 1, 0, 2]\n",
      "[-17, -16, -15, -14, -13, -12, -11, -10, -9, -8, -7, -6, -5, -4, -3, -2, -1, 1, 2, 3, 4, 5, 6, 7, 8, 9, 10, 11, 12, 13, 14, 15, 16, 17, 18, 19, 20]\n",
      "[3, 4, 9, 24, 28, 55, 111, 248, 461, 979, 2003, 3955, 7940, 15672, 30936, 62676, 124404, 124601, 62144, 31575, 15466, 7824, 3812, 2093, 1013, 523, 228, 104, 58, 39, 12, 6, 6, 2, 1, 0, 2]\n"
     ]
    }
   ],
   "source": [
    "streak_sizes_comb = []\n",
    "frequencies_comb = []\n",
    "\n",
    "streak_sizes_0 = sorted(list(perfect_dict_0.keys()))\n",
    "streak_sizes_0 = list(np.arange(min(streak_sizes_0), max(streak_sizes_0)+1, 1))\n",
    "frequencies_0 = [perfect_dict_0[x] for x in streak_sizes_0][::-1]\n",
    "\n",
    "streak_sizes_0 = sorted([x*(-1) for x in streak_sizes_0])\n",
    "# frequencies_0 = frequencies_0[::-1]\n",
    "\n",
    "print(streak_sizes_0)\n",
    "print(frequencies_0)\n",
    "\n",
    "streak_sizes_1 = sorted(list(perfect_dict_1.keys()))\n",
    "streak_sizes_1 = list(np.arange(min(streak_sizes_1), max(streak_sizes_1)+1, 1))\n",
    "frequencies_1 = [perfect_dict_1[x] for x in streak_sizes_1]\n",
    "\n",
    "print(streak_sizes_1)\n",
    "print(frequencies_1)\n",
    "\n",
    "streak_sizes_comb.extend(streak_sizes_0)\n",
    "streak_sizes_comb.extend(streak_sizes_1)\n",
    "frequencies_comb.extend(frequencies_0)\n",
    "frequencies_comb.extend(frequencies_1)\n",
    "\n",
    "print(streak_sizes_comb)\n",
    "print(frequencies_comb)"
   ]
  },
  {
   "cell_type": "code",
   "execution_count": 39,
   "id": "b8618512-3a73-43e6-971b-b965b0a1bd9f",
   "metadata": {
    "tags": []
   },
   "outputs": [
    {
     "data": {
      "image/png": "[encoded data removed]",
      "text/plain": [
       "<Figure size 2400x1600 with 1 Axes>"
      ]
     },
     "metadata": {},
     "output_type": "display_data"
    }
   ],
   "source": [
    "plt.figure(figsize=(24,16))\n",
    "plt.bar(streak_sizes_comb, frequencies_comb)\n",
    "# plt.xticks(np.arange(0, 55, 5))\n",
    "# plt.xticks(np.arange(0, 25, 5))\n",
    "# addlabels(streak_sizes_comb, frequencies_comb)\n",
    "# plt.xticks([0].extend(list(np.arange(1, 55, 5))))\n",
    "# plt.yticks(np.arange(min(y), max(y)+1, 4))\n",
    "plt.show()"
   ]
  },
  {
   "cell_type": "code",
   "execution_count": 40,
   "id": "f2b095a2-1fd1-4008-b729-ab3a6622c332",
   "metadata": {
    "tags": []
   },
   "outputs": [
    {
     "name": "stdout",
     "output_type": "stream",
     "text": [
      "[-2, -1, -1, -5, -1, -3, -1, -1, -2, -2, -2, -1, -1, -2, -1, -1, -1, -1, -1, -4]\n",
      "-2.003923721884669\n",
      "1.4168229150676865\n",
      "[1, 2, 2, 1, 3, 1, 3, 4, 2, 6, 1, 1, 2, 4, 1, 5, 5, 1, 1, 7]\n",
      "2.0039557691305725\n",
      "1.419380547217041\n",
      "----\n",
      "2.003939745539731e-05\n",
      "2.4549518663543686\n"
     ]
    }
   ],
   "source": [
    "streaks = []\n",
    "\n",
    "streaks_0 = list(perfectmm_counted[0])\n",
    "streaks_0 = [x*(-1) for x in streaks_0]\n",
    "print(streaks_0[:20])\n",
    "\n",
    "print(np.mean(streaks_0))\n",
    "print(np.std(streaks_0))\n",
    "\n",
    "streaks_1 = list(perfectmm_counted[1])\n",
    "print(streaks_1[:20])\n",
    "\n",
    "print(np.mean(streaks_1))\n",
    "print(np.std(streaks_1))\n",
    "\n",
    "\n",
    "print('----')\n",
    "streaks.extend(streaks_0)\n",
    "streaks.extend(streaks_1)\n",
    "\n",
    "print(np.mean(streaks))\n",
    "print(np.std(streaks))\n",
    "\n",
    "\n",
    "perfectmm_streak_comb_avg = np.mean(streaks)\n",
    "perfectmm_streak_comb_sd = np.std(streaks)\n",
    "\n",
    "# llist.extend(list(perfectmm_counted[1]))\n",
    "# print(len(llist))\n",
    "# print(llist[:30])\n",
    "\n",
    "# print(np.mean(llist))\n",
    "# print(np.std(llist))\n",
    "# print(np.sum(llist))"
   ]
  },
  {
   "cell_type": "code",
   "execution_count": null,
   "id": "4c229faf-8e75-4085-a875-cc0e7f052dda",
   "metadata": {},
   "outputs": [],
   "source": []
  },
  {
   "cell_type": "code",
   "execution_count": null,
   "id": "e7338e7a-279f-4d64-8187-801db41f2010",
   "metadata": {},
   "outputs": [],
   "source": []
  },
  {
   "cell_type": "markdown",
   "id": "6952e2ab-ff2c-4bba-af95-43b197196d11",
   "metadata": {},
   "source": [
    "## NearPerfectMM"
   ]
  },
  {
   "cell_type": "markdown",
   "id": "0ad557e9-8427-4bc3-a9f6-17e672cd5d67",
   "metadata": {},
   "source": [
    "### Losing Streaks"
   ]
  },
  {
   "cell_type": "code",
   "execution_count": 41,
   "id": "61c41a2c-fb81-430d-bfb0-4eb5b02e97de",
   "metadata": {
    "tags": []
   },
   "outputs": [
    {
     "data": {
      "image/png": "[encoded data removed]",
      "text/plain": [
       "<Figure size 640x480 with 1 Axes>"
      ]
     },
     "metadata": {},
     "output_type": "display_data"
    }
   ],
   "source": [
    "# plt.hist(perfectmm_counted[0], bins=30)\n",
    "plt.hist(nearperfectmm_counted[0], edgecolor='yellow', bins=np.arange(1, 56, 1))\n",
    "# plt.hist(perfectmm_counted[0], bins=np.arange(1, 56, 1), width=1)\n",
    "plt.show()"
   ]
  },
  {
   "cell_type": "markdown",
   "id": "7f667e6f-cbe0-45aa-9c3a-112dc61159f5",
   "metadata": {},
   "source": [
    "### Win Streaks"
   ]
  },
  {
   "cell_type": "code",
   "execution_count": 42,
   "id": "fdf2ef14-883d-43e1-b4a6-6cfc9bca3381",
   "metadata": {
    "tags": []
   },
   "outputs": [
    {
     "data": {
      "image/png": "[encoded data removed]",
      "text/plain": [
       "<Figure size 640x480 with 1 Axes>"
      ]
     },
     "metadata": {},
     "output_type": "display_data"
    }
   ],
   "source": [
    "# plt.hist(perfectmm_counted[0], bins=30)\n",
    "plt.hist(nearperfectmm_counted[0], edgecolor='yellow', bins=np.arange(1, 56, 1))\n",
    "# plt.hist(perfectmm_counted[0], bins=np.arange(1, 56, 1), width=1)\n",
    "plt.show()"
   ]
  },
  {
   "cell_type": "markdown",
   "id": "5b31ab17-5a45-45ee-b185-4b12cdd54322",
   "metadata": {},
   "source": [
    "### Combined"
   ]
  },
  {
   "cell_type": "code",
   "execution_count": 43,
   "id": "efa78bf6-7401-4ef8-ac85-c7c0c0e6c62e",
   "metadata": {
    "tags": []
   },
   "outputs": [
    {
     "name": "stdout",
     "output_type": "stream",
     "text": [
      "[-20, -19, -18, -17, -16, -15, -14, -13, -12, -11, -10, -9, -8, -7, -6, -5, -4, -3, -2, -1]\n",
      "[1, 0, 0, 1, 4, 8, 10, 34, 77, 117, 254, 476, 961, 1916, 4078, 7717, 15849, 31120, 62204, 125225]\n",
      "[1, 2, 3, 4, 5, 6, 7, 8, 9, 10, 11, 12, 13, 14, 15, 16, 17, 18, 19, 20, 21, 22, 23]\n",
      "[125231, 62650, 30970, 15522, 7842, 3902, 1946, 1003, 493, 274, 107, 56, 21, 20, 8, 3, 1, 2, 0, 0, 0, 0, 1]\n",
      "[-20, -19, -18, -17, -16, -15, -14, -13, -12, -11, -10, -9, -8, -7, -6, -5, -4, -3, -2, -1, 1, 2, 3, 4, 5, 6, 7, 8, 9, 10, 11, 12, 13, 14, 15, 16, 17, 18, 19, 20, 21, 22, 23]\n",
      "[1, 0, 0, 1, 4, 8, 10, 34, 77, 117, 254, 476, 961, 1916, 4078, 7717, 15849, 31120, 62204, 125225, 125231, 62650, 30970, 15522, 7842, 3902, 1946, 1003, 493, 274, 107, 56, 21, 20, 8, 3, 1, 2, 0, 0, 0, 0, 1]\n"
     ]
    }
   ],
   "source": [
    "streak_sizes_comb = []\n",
    "frequencies_comb = []\n",
    "\n",
    "streak_sizes_0 = sorted(list(nearperfect_dict_0.keys()))\n",
    "streak_sizes_0 = list(np.arange(min(streak_sizes_0), max(streak_sizes_0)+1, 1))\n",
    "frequencies_0 = [nearperfect_dict_0[x] for x in streak_sizes_0][::-1]\n",
    "\n",
    "streak_sizes_0 = sorted([x*(-1) for x in streak_sizes_0])\n",
    "# frequencies_0 = frequencies_0[::-1]\n",
    "\n",
    "print(streak_sizes_0)\n",
    "print(frequencies_0)\n",
    "\n",
    "streak_sizes_1 = sorted(list(nearperfect_dict_1.keys()))\n",
    "streak_sizes_1 = list(np.arange(min(streak_sizes_1), max(streak_sizes_1)+1, 1))\n",
    "frequencies_1 = [nearperfect_dict_1[x] for x in streak_sizes_1]\n",
    "\n",
    "print(streak_sizes_1)\n",
    "print(frequencies_1)\n",
    "\n",
    "streak_sizes_comb.extend(streak_sizes_0)\n",
    "streak_sizes_comb.extend(streak_sizes_1)\n",
    "frequencies_comb.extend(frequencies_0)\n",
    "frequencies_comb.extend(frequencies_1)\n",
    "\n",
    "print(streak_sizes_comb)\n",
    "print(frequencies_comb)"
   ]
  },
  {
   "cell_type": "code",
   "execution_count": 44,
   "id": "5e580901-da7f-4b46-bb12-ec22195be120",
   "metadata": {
    "tags": []
   },
   "outputs": [
    {
     "data": {
      "image/png": "[encoded data removed]",
      "text/plain": [
       "<Figure size 2400x1600 with 1 Axes>"
      ]
     },
     "metadata": {},
     "output_type": "display_data"
    }
   ],
   "source": [
    "plt.figure(figsize=(24,16))\n",
    "plt.bar(streak_sizes_comb, frequencies_comb)\n",
    "# plt.xticks(np.arange(0, 55, 5))\n",
    "# plt.xticks(np.arange(0, 25, 5))\n",
    "# addlabels(streak_sizes_comb, frequencies_comb)\n",
    "# plt.xticks([0].extend(list(np.arange(1, 55, 5))))\n",
    "# plt.yticks(np.arange(min(y), max(y)+1, 4))\n",
    "plt.show()"
   ]
  },
  {
   "cell_type": "code",
   "execution_count": 45,
   "id": "ce0e6cfe-56e9-4b14-a37e-08f2eb43c275",
   "metadata": {
    "tags": []
   },
   "outputs": [
    {
     "name": "stdout",
     "output_type": "stream",
     "text": [
      "[-1, -1, -1, -3, -1, -2, -2, -2, -2, -2, -2, -1, -2, -1, -4, -1, -1, -3, -2, -1]\n",
      "-2.0011037704157535\n",
      "1.4167982423222778\n",
      "[3, 2, 1, 2, 2, 2, 4, 1, 4, 1, 2, 2, 3, 1, 1, 1, 1, 1, 1, 1]\n",
      "1.9980644026042582\n",
      "1.4148511856294026\n",
      "----\n",
      "-0.0015196839057476045\n",
      "2.450081036922303\n"
     ]
    }
   ],
   "source": [
    "streaks = []\n",
    "\n",
    "streaks_0 = list(nearperfectmm_counted[0])\n",
    "streaks_0 = [x*(-1) for x in streaks_0]\n",
    "print(streaks_0[:20])\n",
    "\n",
    "print(np.mean(streaks_0))\n",
    "print(np.std(streaks_0))\n",
    "\n",
    "streaks_1 = list(nearperfectmm_counted[1])\n",
    "print(streaks_1[:20])\n",
    "\n",
    "print(np.mean(streaks_1))\n",
    "print(np.std(streaks_1))\n",
    "\n",
    "\n",
    "print('----')\n",
    "streaks.extend(streaks_0)\n",
    "streaks.extend(streaks_1)\n",
    "\n",
    "print(np.mean(streaks))\n",
    "print(np.std(streaks))\n",
    "\n",
    "nearperfectmm_streak_comb_avg = np.mean(streaks)\n",
    "nearperfectmm_streak_comb_sd = np.std(streaks)\n",
    "\n",
    "\n",
    "# llist.extend(list(perfectmm_counted[1]))\n",
    "# print(len(llist))\n",
    "# print(llist[:30])\n",
    "\n",
    "# print(np.mean(llist))\n",
    "# print(np.std(llist))\n",
    "# print(np.sum(llist))"
   ]
  },
  {
   "cell_type": "code",
   "execution_count": null,
   "id": "4e95885a-0043-434c-a7b1-83ab2c5e2ba5",
   "metadata": {},
   "outputs": [],
   "source": []
  },
  {
   "cell_type": "code",
   "execution_count": null,
   "id": "5e02fb66-4836-4eea-a71c-1bcce8749bab",
   "metadata": {},
   "outputs": [],
   "source": []
  },
  {
   "cell_type": "code",
   "execution_count": null,
   "id": "4fe43def-5e5a-4f7e-8822-5708273f9846",
   "metadata": {},
   "outputs": [],
   "source": []
  },
  {
   "cell_type": "markdown",
   "id": "adac08a8-8ac1-4859-8f86-87916ba04be6",
   "metadata": {},
   "source": [
    "## StreakMM"
   ]
  },
  {
   "cell_type": "markdown",
   "id": "aa887847-4126-441c-a67b-d4c63884242f",
   "metadata": {},
   "source": [
    "### Losing Streaks"
   ]
  },
  {
   "cell_type": "code",
   "execution_count": 46,
   "id": "c94d7057-c15b-4295-b560-66d5fc8167b5",
   "metadata": {
    "tags": []
   },
   "outputs": [
    {
     "data": {
      "image/png": "[encoded data removed]",
      "text/plain": [
       "<Figure size 640x480 with 1 Axes>"
      ]
     },
     "metadata": {},
     "output_type": "display_data"
    }
   ],
   "source": [
    "# plt.hist(perfectmm_counted[0], bins=30)\n",
    "plt.hist(streakmm_counted[0], edgecolor='yellow', bins=np.arange(1, 56, 1))\n",
    "# plt.hist(perfectmm_counted[0], bins=np.arange(1, 56, 1), width=1)\n",
    "plt.show()"
   ]
  },
  {
   "cell_type": "markdown",
   "id": "1805ac3b-3f05-4db3-bb06-0a05afab90db",
   "metadata": {},
   "source": [
    "### Win Streaks"
   ]
  },
  {
   "cell_type": "code",
   "execution_count": 47,
   "id": "fff4a399-3d37-4d5a-a209-dee3188922e0",
   "metadata": {
    "tags": []
   },
   "outputs": [
    {
     "data": {
      "image/png": "[encoded data removed]",
      "text/plain": [
       "<Figure size 640x480 with 1 Axes>"
      ]
     },
     "metadata": {},
     "output_type": "display_data"
    }
   ],
   "source": [
    "# plt.hist(perfectmm_counted[0], bins=30)\n",
    "plt.hist(streakmm_counted[1], edgecolor='yellow', bins=np.arange(1, 56, 1))\n",
    "# plt.hist(perfectmm_counted[0], bins=np.arange(1, 56, 1), width=1)\n",
    "plt.show()"
   ]
  },
  {
   "cell_type": "markdown",
   "id": "c5e4c549-7545-4261-9e19-6d1029e355af",
   "metadata": {},
   "source": [
    "### Combined"
   ]
  },
  {
   "cell_type": "code",
   "execution_count": 48,
   "id": "9b99e2d7-19c4-426c-aeac-07aae9326f99",
   "metadata": {
    "tags": []
   },
   "outputs": [
    {
     "name": "stdout",
     "output_type": "stream",
     "text": [
      "[-52, -51, -50, -49, -48, -47, -46, -45, -44, -43, -42, -41, -40, -39, -38, -37, -36, -35, -34, -33, -32, -31, -30, -29, -28, -27, -26, -25, -24, -23, -22, -21, -20, -19, -18, -17, -16, -15, -14, -13, -12, -11, -10, -9, -8, -7, -6, -5, -4, -3, -2, -1]\n",
      "[1, 0, 0, 0, 0, 0, 0, 0, 0, 0, 0, 0, 1, 1, 0, 0, 2, 2, 2, 7, 3, 6, 13, 14, 13, 15, 12, 37, 63, 56, 76, 82, 103, 205, 377, 300, 316, 467, 590, 981, 1995, 1586, 1896, 2420, 3398, 5306, 10454, 8198, 10201, 13441, 21473, 63848]\n",
      "[1, 2, 3, 4, 5, 6, 7, 8, 9, 10, 11, 12, 13, 14, 15, 16, 17, 18, 19, 20, 21, 22, 23, 24, 25, 26, 27, 28, 29, 30, 31, 32, 33, 34, 35, 36, 37, 38, 39]\n",
      "[63688, 21255, 13532, 10327, 8261, 10441, 5374, 3301, 2492, 1874, 1520, 1983, 1021, 644, 480, 358, 270, 392, 198, 128, 79, 77, 60, 71, 36, 30, 16, 6, 7, 10, 8, 4, 2, 5, 0, 5, 3, 1, 1]\n",
      "[-52, -51, -50, -49, -48, -47, -46, -45, -44, -43, -42, -41, -40, -39, -38, -37, -36, -35, -34, -33, -32, -31, -30, -29, -28, -27, -26, -25, -24, -23, -22, -21, -20, -19, -18, -17, -16, -15, -14, -13, -12, -11, -10, -9, -8, -7, -6, -5, -4, -3, -2, -1, 1, 2, 3, 4, 5, 6, 7, 8, 9, 10, 11, 12, 13, 14, 15, 16, 17, 18, 19, 20, 21, 22, 23, 24, 25, 26, 27, 28, 29, 30, 31, 32, 33, 34, 35, 36, 37, 38, 39]\n",
      "[1, 0, 0, 0, 0, 0, 0, 0, 0, 0, 0, 0, 1, 1, 0, 0, 2, 2, 2, 7, 3, 6, 13, 14, 13, 15, 12, 37, 63, 56, 76, 82, 103, 205, 377, 300, 316, 467, 590, 981, 1995, 1586, 1896, 2420, 3398, 5306, 10454, 8198, 10201, 13441, 21473, 63848, 63688, 21255, 13532, 10327, 8261, 10441, 5374, 3301, 2492, 1874, 1520, 1983, 1021, 644, 480, 358, 270, 392, 198, 128, 79, 77, 60, 71, 36, 30, 16, 6, 7, 10, 8, 4, 2, 5, 0, 5, 3, 1, 1]\n"
     ]
    }
   ],
   "source": [
    "streak_sizes_comb = []\n",
    "frequencies_comb = []\n",
    "\n",
    "streak_sizes_0 = sorted(list(streak_dict_0.keys()))\n",
    "streak_sizes_0 = list(np.arange(min(streak_sizes_0), max(streak_sizes_0)+1, 1))\n",
    "frequencies_0 = [streak_dict_0[x] for x in streak_sizes_0][::-1]\n",
    "\n",
    "streak_sizes_0 = sorted([x*(-1) for x in streak_sizes_0])\n",
    "# frequencies_0 = frequencies_0[::-1]\n",
    "\n",
    "print(streak_sizes_0)\n",
    "print(frequencies_0)\n",
    "\n",
    "streak_sizes_1 = sorted(list(streak_dict_1.keys()))\n",
    "streak_sizes_1 = list(np.arange(min(streak_sizes_1), max(streak_sizes_1)+1, 1))\n",
    "frequencies_1 = [streak_dict_1[x] for x in streak_sizes_1]\n",
    "\n",
    "print(streak_sizes_1)\n",
    "print(frequencies_1)\n",
    "\n",
    "streak_sizes_comb.extend(streak_sizes_0)\n",
    "streak_sizes_comb.extend(streak_sizes_1)\n",
    "frequencies_comb.extend(frequencies_0)\n",
    "frequencies_comb.extend(frequencies_1)\n",
    "\n",
    "print(streak_sizes_comb)\n",
    "print(frequencies_comb)"
   ]
  },
  {
   "cell_type": "code",
   "execution_count": 49,
   "id": "a393258a-aade-410a-9077-3fcbcea2e5ce",
   "metadata": {
    "tags": []
   },
   "outputs": [
    {
     "data": {
      "image/png": "[encoded data removed]",
      "text/plain": [
       "<Figure size 2400x1600 with 1 Axes>"
      ]
     },
     "metadata": {},
     "output_type": "display_data"
    }
   ],
   "source": [
    "plt.figure(figsize=(24,16))\n",
    "plt.bar(streak_sizes_comb, frequencies_comb)\n",
    "# plt.xticks(np.arange(0, 55, 5))\n",
    "# plt.xticks(np.arange(0, 25, 5))\n",
    "# addlabels(streak_sizes_comb, frequencies_comb)\n",
    "# plt.xticks([0].extend(list(np.arange(1, 55, 5))))\n",
    "# plt.yticks(np.arange(min(y), max(y)+1, 4))\n",
    "plt.show()"
   ]
  },
  {
   "cell_type": "code",
   "execution_count": 50,
   "id": "4fce0691-872d-445c-ad13-119f85e90137",
   "metadata": {
    "tags": []
   },
   "outputs": [
    {
     "name": "stdout",
     "output_type": "stream",
     "text": [
      "[-6, -3, -7, -1, -1, -5, -25, -1, -5, -6, -1, -2, -1, -1, -6, -7, -1, -3, -1, -1]\n",
      "-3.3715100600834003\n",
      "3.400960275967006\n",
      "[1, 2, 4, 2, 2, 1, 4, 1, 1, 7, 4, 1, 1, 6, 5, 1, 1, 4, 3, 3]\n",
      "3.3870505542038387\n",
      "3.4216191520092782\n",
      "----\n",
      "0.007758827524913744\n",
      "4.8017225415490215\n"
     ]
    }
   ],
   "source": [
    "streaks = []\n",
    "\n",
    "streaks_0 = list(streakmm_counted[0])\n",
    "streaks_0 = [x*(-1) for x in streaks_0]\n",
    "print(streaks_0[:20])\n",
    "\n",
    "print(np.mean(streaks_0))\n",
    "print(np.std(streaks_0))\n",
    "\n",
    "streaks_1 = list(streakmm_counted[1])\n",
    "print(streaks_1[:20])\n",
    "\n",
    "print(np.mean(streaks_1))\n",
    "print(np.std(streaks_1))\n",
    "\n",
    "\n",
    "print('----')\n",
    "streaks.extend(streaks_0)\n",
    "streaks.extend(streaks_1)\n",
    "\n",
    "print(np.mean(streaks))\n",
    "print(np.std(streaks))\n",
    "\n",
    "streakmm_streak_comb_avg = np.mean(streaks)\n",
    "streakmm_streak_comb_sd = np.std(streaks)\n",
    "\n",
    "\n",
    "# llist.extend(list(perfectmm_counted[1]))\n",
    "# print(len(llist))\n",
    "# print(llist[:30])\n",
    "\n",
    "# print(np.mean(llist))\n",
    "# print(np.std(llist))\n",
    "# print(np.sum(llist))"
   ]
  },
  {
   "cell_type": "code",
   "execution_count": null,
   "id": "06960fad-74fb-4dab-b1a3-a9bef6cb23e3",
   "metadata": {},
   "outputs": [],
   "source": []
  },
  {
   "cell_type": "code",
   "execution_count": null,
   "id": "3cdd607b-e025-4037-a729-dbdc235ad1a6",
   "metadata": {},
   "outputs": [],
   "source": []
  },
  {
   "cell_type": "markdown",
   "id": "adcfb946-c005-4e02-bed7-d51bc136313a",
   "metadata": {},
   "source": [
    "## F-TEST (One tail)"
   ]
  },
  {
   "cell_type": "markdown",
   "id": "65e123d8-78d3-4dc7-b2b8-f5c284115132",
   "metadata": {},
   "source": [
    "### Avgs and SDs of MMS"
   ]
  },
  {
   "cell_type": "code",
   "execution_count": 51,
   "id": "0fb5e9a8-18bb-45ad-a788-9ecc7fdbd6a4",
   "metadata": {
    "tags": []
   },
   "outputs": [
    {
     "name": "stdout",
     "output_type": "stream",
     "text": [
      "2.003939745539731e-05\n",
      "2.4549518663543686\n",
      "-0.0015196839057476045\n",
      "2.450081036922303\n",
      "0.007758827524913744\n",
      "4.8017225415490215\n"
     ]
    }
   ],
   "source": [
    "print(perfectmm_streak_comb_avg)\n",
    "print(perfectmm_streak_comb_sd)\n",
    "\n",
    "print(nearperfectmm_streak_comb_avg)\n",
    "print(nearperfectmm_streak_comb_sd)\n",
    "\n",
    "print(streakmm_streak_comb_avg)\n",
    "print(streakmm_streak_comb_sd)\n",
    "\n"
   ]
  },
  {
   "cell_type": "code",
   "execution_count": 52,
   "id": "0f47701b-44dd-4764-86f8-c3e55031e9c2",
   "metadata": {
    "tags": []
   },
   "outputs": [],
   "source": [
    "pop_mean = perfectmm_streak_comb_avg\n",
    "pop_sd = perfectmm_streak_comb_sd"
   ]
  },
  {
   "cell_type": "markdown",
   "id": "7b923676-37bb-434a-9c14-97365476fa62",
   "metadata": {},
   "source": [
    "### PerfectMM vs NearPerfectMM"
   ]
  },
  {
   "cell_type": "code",
   "execution_count": 53,
   "id": "45344cbb-bdd1-4ba5-8027-a61467b41879",
   "metadata": {
    "tags": []
   },
   "outputs": [
    {
     "data": {
      "text/plain": [
       "1.0039800080331769"
      ]
     },
     "execution_count": 53,
     "metadata": {},
     "output_type": "execute_result"
    }
   ],
   "source": [
    "perfectmm_streak_comb_sd**2/nearperfectmm_streak_comb_sd**2"
   ]
  },
  {
   "cell_type": "code",
   "execution_count": null,
   "id": "4e2efd12-60b8-4ac3-940f-95b622d5aa07",
   "metadata": {},
   "outputs": [],
   "source": []
  },
  {
   "cell_type": "markdown",
   "id": "e87b7b13-35a8-4530-bd31-1b0918c59b21",
   "metadata": {},
   "source": [
    "### NearPerfectMM vs StreakMM"
   ]
  },
  {
   "cell_type": "code",
   "execution_count": 54,
   "id": "0e4a90da-f7bb-4627-9eb9-bc6712251279",
   "metadata": {
    "tags": []
   },
   "outputs": [
    {
     "data": {
      "text/plain": [
       "3.840901989488378"
      ]
     },
     "execution_count": 54,
     "metadata": {},
     "output_type": "execute_result"
    }
   ],
   "source": [
    "streakmm_streak_comb_sd**2/nearperfectmm_streak_comb_sd**2"
   ]
  },
  {
   "cell_type": "code",
   "execution_count": null,
   "id": "25960fca-4708-4b80-9133-4c15b673c380",
   "metadata": {},
   "outputs": [],
   "source": []
  },
  {
   "cell_type": "markdown",
   "id": "b4f51558-6ba8-48c1-bd65-0c5d3eda5a1c",
   "metadata": {},
   "source": [
    "### PerfectMM vs StreakMM"
   ]
  },
  {
   "cell_type": "code",
   "execution_count": 55,
   "id": "af2f056c-7af7-4fad-aaa0-74fbd104c934",
   "metadata": {
    "tags": []
   },
   "outputs": [
    {
     "data": {
      "text/plain": [
       "3.825675769194653"
      ]
     },
     "execution_count": 55,
     "metadata": {},
     "output_type": "execute_result"
    }
   ],
   "source": [
    "streakmm_streak_comb_sd**2/perfectmm_streak_comb_sd**2"
   ]
  },
  {
   "cell_type": "markdown",
   "id": "2103e422-e813-4025-ad92-02ea298c000a",
   "metadata": {},
   "source": [
    "All bigger than 1\n",
    "\n",
    "https://statisticsbyjim.com/hypothesis-testing/f-table/"
   ]
  },
  {
   "cell_type": "markdown",
   "id": "d93158a8-8e1d-4496-b277-edd21c842367",
   "metadata": {},
   "source": [
    "# Ch 7 - Who Plays a Million Games ?"
   ]
  },
  {
   "cell_type": "markdown",
   "id": "6b5d227c-4202-4405-ac54-8544e1f27310",
   "metadata": {},
   "source": [
    "## PerfectMM - 1000 players // 300 games per player (to compare against Population)"
   ]
  },
  {
   "cell_type": "code",
   "execution_count": 424,
   "id": "2099e1b0-8366-4c55-b216-0968e48e61d1",
   "metadata": {
    "tags": []
   },
   "outputs": [
    {
     "name": "stdout",
     "output_type": "stream",
     "text": [
      "2024-04-09 16:25:13\n",
      "\n",
      "\n",
      "\n",
      "----------------------------------------------------\n",
      "done in 223.683s.\n",
      "2024-04-09 16:28:57\n"
     ]
    }
   ],
   "source": [
    "start = time()\n",
    "print(strftime('%Y-%m-%d %H:%M:%S', localtime()))\n",
    "print('\\n')\n",
    "##############################################################################################################################\n",
    "\n",
    "### set random seed\n",
    "random.seed(6565) ### 1000 players //  100,000 players // ....\n",
    "np.random.seed(6565)\n",
    "# random.seed(9908)\n",
    "# np.random.seed(9908)\n",
    "\n",
    "\n",
    "prob_list = [0.5]\n",
    "\n",
    "### when each game is between 49 ~ 51 % (independent)\n",
    "#### 3000 games per player, 1000 players, totalling 3 million games played\n",
    "#### 3000 games per player, 100,000 players, totalling 3 million games played to increase the number of EXPECTED (chi sqrd test)\n",
    "\n",
    "avg_list_0 = []\n",
    "avg_list_1 = []\n",
    "\n",
    "perfect_all_records = []\n",
    "\n",
    "number_of_players = 1000\n",
    "# number_of_players = 100000\n",
    "games_per_player = 300\n",
    "\n",
    "\n",
    "for _ in range(number_of_players):\n",
    "    result_n = []\n",
    "\n",
    "    for _ in range(games_per_player):\n",
    "        prob_of_0 = random.choice(prob_list)\n",
    "        prob_of_1 = 1 - prob_of_0\n",
    "\n",
    "        one_game = np.random.choice([0,1], 1, p = [prob_of_0, prob_of_1])[0]\n",
    "        result_n.append(one_game)\n",
    "    \n",
    "    streak_counter_result = streak_counter(result_n)\n",
    "    \n",
    "    ### add to perfect_all_records (3000 players)\n",
    "    perfect_all_records.append(result_n)\n",
    "    # print(streak_counter_result)\n",
    "\n",
    "    avg_cal_result = avg_cal(streak_counter_result)\n",
    "    # print(avg_cal_result)\n",
    "    avg_list_0.append(avg_cal_result[0])\n",
    "    avg_list_1.append(avg_cal_result[1])\n",
    "    \n",
    "    \n",
    "##############################################################################################################################\n",
    "print('\\n----------------------------------------------------')\n",
    "print(\"done in %0.3fs.\" % (time() - start))\n",
    "print(strftime('%Y-%m-%d %H:%M:%S', localtime()))"
   ]
  },
  {
   "cell_type": "code",
   "execution_count": 425,
   "id": "3812e925-f428-4495-934c-62c44db8338f",
   "metadata": {
    "tags": []
   },
   "outputs": [
    {
     "data": {
      "text/plain": [
       "300"
      ]
     },
     "execution_count": 425,
     "metadata": {},
     "output_type": "execute_result"
    }
   ],
   "source": [
    "# one_perfect = perfect_all_records[400]\n",
    "# one_perfect = perfect_all_records[200]\n",
    "one_perfect = perfect_all_records[600]\n",
    "len(one_perfect)\n"
   ]
  },
  {
   "cell_type": "code",
   "execution_count": 429,
   "id": "82d588b8-b7a4-4bdb-84ca-1b75e3209ee6",
   "metadata": {
    "tags": []
   },
   "outputs": [
    {
     "data": {
      "text/plain": [
       "100000"
      ]
     },
     "execution_count": 429,
     "metadata": {},
     "output_type": "execute_result"
    }
   ],
   "source": [
    "len(perfect_all_records)"
   ]
  },
  {
   "cell_type": "markdown",
   "id": "85bdb93f-cdbc-4125-a8be-5329df77985a",
   "metadata": {},
   "source": [
    "## NearPerfectMM - 1000 players // 300 games per player (to compare against Population)"
   ]
  },
  {
   "cell_type": "code",
   "execution_count": 58,
   "id": "62fbc8d7-0d6c-4b52-8f64-142e3ad292e9",
   "metadata": {
    "tags": []
   },
   "outputs": [
    {
     "name": "stdout",
     "output_type": "stream",
     "text": [
      "2024-04-08 16:01:59\n",
      "\n",
      "\n",
      "\n",
      "----------------------------------------------------\n",
      "done in 2.808s.\n",
      "2024-04-08 16:02:02\n"
     ]
    }
   ],
   "source": [
    "start = time()\n",
    "print(strftime('%Y-%m-%d %H:%M:%S', localtime()))\n",
    "print('\\n')\n",
    "##############################################################################################################################\n",
    "\n",
    "### set random seed\n",
    "random.seed(2237)\n",
    "np.random.seed(2237)\n",
    "\n",
    "prob_list = np.linspace(0.49,0.51, 100)\n",
    "\n",
    "### when each game is between 49 ~ 51 % (independent)\n",
    "#### 3000 games per player, 1000 players, totalling 3 million games played\n",
    "\n",
    "avg_list_0 = []\n",
    "avg_list_1 = []\n",
    "\n",
    "nearperfect_all_records = []\n",
    "\n",
    "number_of_players = 1000\n",
    "games_per_player = 300\n",
    "\n",
    "\n",
    "for _ in range(number_of_players):\n",
    "    result_n = []\n",
    "\n",
    "    for _ in range(games_per_player):\n",
    "        prob_of_0 = random.choice(prob_list)\n",
    "        prob_of_1 = 1 - prob_of_0\n",
    "\n",
    "        one_game = np.random.choice([0,1], 1, p = [prob_of_0, prob_of_1])[0]\n",
    "        result_n.append(one_game)\n",
    "    \n",
    "    streak_counter_result = streak_counter(result_n)\n",
    "    \n",
    "    ### add to nearperfect_all_records (3000 players)\n",
    "    nearperfect_all_records.append(result_n)\n",
    "    # print(streak_counter_result)\n",
    "\n",
    "    avg_cal_result = avg_cal(streak_counter_result)\n",
    "    # print(avg_cal_result)\n",
    "    avg_list_0.append(avg_cal_result[0])\n",
    "    avg_list_1.append(avg_cal_result[1])\n",
    "    \n",
    "    \n",
    "##############################################################################################################################\n",
    "print('\\n----------------------------------------------------')\n",
    "print(\"done in %0.3fs.\" % (time() - start))\n",
    "print(strftime('%Y-%m-%d %H:%M:%S', localtime()))"
   ]
  },
  {
   "cell_type": "code",
   "execution_count": 59,
   "id": "fd6cb233-9a8f-46ab-8e72-b1a47a1e01e8",
   "metadata": {
    "tags": []
   },
   "outputs": [
    {
     "data": {
      "text/plain": [
       "300"
      ]
     },
     "execution_count": 59,
     "metadata": {},
     "output_type": "execute_result"
    }
   ],
   "source": [
    "one_nearperfect = nearperfect_all_records[400]\n",
    "len(one_nearperfect)"
   ]
  },
  {
   "cell_type": "code",
   "execution_count": null,
   "id": "2de81270-7b82-45c1-a034-09162e187879",
   "metadata": {},
   "outputs": [],
   "source": []
  },
  {
   "cell_type": "markdown",
   "id": "007ed181-c037-4a01-b4d6-db868c0e90db",
   "metadata": {},
   "source": [
    "## StreakMM - 1000 players // 300 games per player (to compare against Population)"
   ]
  },
  {
   "cell_type": "code",
   "execution_count": 60,
   "id": "d32e456b-74a6-4855-af62-fdccee85c8f0",
   "metadata": {
    "tags": []
   },
   "outputs": [
    {
     "name": "stdout",
     "output_type": "stream",
     "text": [
      "2024-04-08 16:02:02\n",
      "\n",
      "\n",
      "\n",
      "----------------------------------------------------\n",
      "done in 0.097s.\n",
      "2024-04-08 16:02:02\n"
     ]
    }
   ],
   "source": [
    "start = time()\n",
    "print(strftime('%Y-%m-%d %H:%M:%S', localtime()))\n",
    "print('\\n')\n",
    "##############################################################################################################################\n",
    "\n",
    "### set random seed\n",
    "random.seed(3331)\n",
    "np.random.seed(3331)\n",
    "\n",
    "### when streaks exist\n",
    "### ws:ls = 50:50\n",
    "### 85% of win/loss depending on the streak\n",
    "\n",
    "avg_list_0 = []\n",
    "avg_list_1 = []\n",
    "\n",
    "streak_all_records = []\n",
    "for _ in range(1000):\n",
    "    result_n = streak_gen(6, 300)     # 3000 games played per player\n",
    "    \n",
    "    # streak_all_records.append(pd.Series(result_n))\n",
    "    streak_all_records.append(result_n)\n",
    "    \n",
    "    streak_counter_result = streak_counter(result_n)\n",
    "    # print(streak_counter_result)\n",
    "\n",
    "    avg_cal_result = avg_cal(streak_counter_result)\n",
    "    # print(avg_cal_result)\n",
    "    avg_list_0.append(avg_cal_result[0])\n",
    "    avg_list_1.append(avg_cal_result[1])\n",
    "    \n",
    "    \n",
    "##############################################################################################################################\n",
    "print('\\n----------------------------------------------------')\n",
    "print(\"done in %0.3fs.\" % (time() - start))\n",
    "print(strftime('%Y-%m-%d %H:%M:%S', localtime()))"
   ]
  },
  {
   "cell_type": "code",
   "execution_count": 61,
   "id": "617f9f01-cc95-4810-be9c-984184cb15ec",
   "metadata": {
    "tags": []
   },
   "outputs": [
    {
     "data": {
      "text/plain": [
       "300"
      ]
     },
     "execution_count": 61,
     "metadata": {},
     "output_type": "execute_result"
    }
   ],
   "source": [
    "one_streakmm = streak_all_records[400]\n",
    "len(one_streakmm)"
   ]
  },
  {
   "cell_type": "code",
   "execution_count": null,
   "id": "e9710d7e-cfbc-40e4-b6c1-e9cc5e538b7a",
   "metadata": {},
   "outputs": [],
   "source": []
  },
  {
   "cell_type": "markdown",
   "id": "3011c580-2be3-403a-8a9d-aa2a6a401f1e",
   "metadata": {},
   "source": [
    "## *SET WINDOW SIZE"
   ]
  },
  {
   "cell_type": "code",
   "execution_count": 62,
   "id": "66a49cb7-3de9-47b4-b623-f2be65c8fbba",
   "metadata": {
    "tags": []
   },
   "outputs": [],
   "source": [
    "window_size = 50\n",
    "# window_size = 100\n",
    "# window_size = 300"
   ]
  },
  {
   "cell_type": "markdown",
   "id": "ee6e6a67-d1da-4f6e-aceb-d8009c9685a5",
   "metadata": {},
   "source": [
    "## PerfectMM vs Population"
   ]
  },
  {
   "cell_type": "markdown",
   "id": "7ea4baaa-d5e8-4d76-a38c-34d98cf834ec",
   "metadata": {},
   "source": [
    "### Single PerfectMM vs Population"
   ]
  },
  {
   "cell_type": "code",
   "execution_count": null,
   "id": "3ee6ca98-91f0-4879-96a3-1a2c40879c5e",
   "metadata": {
    "tags": []
   },
   "outputs": [],
   "source": [
    "llen = len(one_perfect)\n",
    "\n",
    "f_critical_count = 0\n",
    "z_critical_count = 0\n",
    "\n",
    "print(f'pop_mean : {pop_mean}')\n",
    "print(f'pop_sd : {pop_sd}')\n",
    "\n",
    "for i in range(llen-window_size+1):\n",
    "    # print(i , i+50)\n",
    "    one_window = one_perfect[i:i+window_size]\n",
    "    \n",
    "    streak_counter_result = streak_counter(one_window)\n",
    "    lose_streak = streak_counter_result[0]\n",
    "    win_streak = streak_counter_result[1]\n",
    "    \n",
    "    ### ls = lose streak // ws = win streak\n",
    "    ### means within one window (50 games)\n",
    "    ls_mean = np.mean(lose_streak)\n",
    "    ws_mean = np.mean(win_streak)\n",
    "    \n",
    "    ### standard deviations within one window (50 games)\n",
    "    ls_sd = np.std(lose_streak)\n",
    "    ws_sd = np.std(win_streak)\n",
    "    \n",
    "    \n",
    "    print(f'L streak mean : {ls_mean}')\n",
    "    print(f'W streak mean : {ws_mean}')\n",
    "    print(f'W streak sd : {ls_sd}')\n",
    "    print(f'W streak sd : {ws_sd}')\n",
    "    \n",
    "    streaks = []\n",
    "\n",
    "    streaks_0 = list(lose_streak)\n",
    "    streaks_0 = [x*(-1) for x in streaks_0]\n",
    "    # print(streaks_0[:20])\n",
    "\n",
    "    streaks_1 = list(win_streak)\n",
    "\n",
    "    streaks.extend(streaks_0)\n",
    "    streaks.extend(streaks_1)\n",
    "    \n",
    "    \n",
    "    streak_mean = np.mean(streaks)\n",
    "    streak_sd = np.std(streaks)\n",
    "    # f_val = max(streak_sd, pop_sd)**2/min(streak_sd, pop_sd)**2\n",
    "    f_val = streak_sd**2/pop_sd**2\n",
    "    # if f_val > 1.36:\n",
    "    if f_val > 1.5325:\n",
    "        f_critical_count += 1\n",
    "        \n",
    "        \n",
    "    z_val = (streak_mean - pop_mean) / (pop_sd/np.sqrt(len(streaks)))\n",
    "    if abs(z_val) >= 1.96:\n",
    "        z_critical_count += 1\n",
    "    \n",
    "    \n",
    "    print(f'Streak mean : {streak_mean}')\n",
    "    print(f'Streak sd : {streak_sd}')\n",
    "    print(f'F-value : {f_val}')\n",
    "    print(f'Z-value : {z_val}')\n",
    "\n",
    "    print('-------------')\n",
    "\n",
    "\n",
    "\n",
    "    # llist.extend(list(perfectmm_counted[1]))\n",
    "    # print(len(llist))\n",
    "    # print(llist[:30])\n",
    "\n",
    "    # print(np.mean(llist))\n",
    "    # print(np.std(llist))\n",
    "    # print(np.sum(llist))\n",
    "    \n",
    "print(f_critical_count)\n",
    "print(z_critical_count)\n",
    "print(i+1)"
   ]
  },
  {
   "cell_type": "markdown",
   "id": "386d25d3-b816-48aa-9511-02c1fd9830e3",
   "metadata": {},
   "source": [
    "### Critical Counts for all PerfectMM Records"
   ]
  },
  {
   "cell_type": "code",
   "execution_count": 430,
   "id": "967f14c7-e459-4bc2-89fb-1f696672549d",
   "metadata": {
    "tags": []
   },
   "outputs": [
    {
     "name": "stderr",
     "output_type": "stream",
     "text": [
      "100%|██████████| 100000/100000 [18:38<00:00, 89.37it/s]\n"
     ]
    }
   ],
   "source": [
    "f_crit_count_list = []\n",
    "\n",
    "for item in tqdm(perfect_all_records):\n",
    "    one_record = item\n",
    "\n",
    "    llen = len(one_record)\n",
    "\n",
    "    f_critical_count = 0\n",
    "\n",
    "\n",
    "    for i in range(llen-window_size+1):\n",
    "        # print(i , i+50)\n",
    "        one_window = one_record[i:i+window_size]\n",
    "\n",
    "        streak_counter_result = streak_counter(one_window)\n",
    "        lose_streak = streak_counter_result[0]\n",
    "        win_streak = streak_counter_result[1]\n",
    "\n",
    "        ### ls = lose streak // ws = win streak\n",
    "        ### means within one window (50 games)\n",
    "        ls_mean = np.mean(lose_streak)\n",
    "        ws_mean = np.mean(win_streak)\n",
    "\n",
    "        ### standard deviations within one window (50 games)\n",
    "        ls_sd = np.std(lose_streak)\n",
    "        ws_sd = np.std(win_streak)\n",
    "        \n",
    "        streaks = []\n",
    "\n",
    "        streaks_0 = list(lose_streak)\n",
    "        streaks_0 = [x*(-1) for x in streaks_0]\n",
    "        # print(streaks_0[:20])\n",
    "\n",
    "        streaks_1 = list(win_streak)\n",
    "\n",
    "        streaks.extend(streaks_0)\n",
    "        streaks.extend(streaks_1)\n",
    "        \n",
    "        streak_mean = np.mean(streaks)\n",
    "        streak_sd = np.std(streaks)\n",
    "        # f_val = max(streak_sd, pop_sd)**2/min(streak_sd, pop_sd)**2\n",
    "        f_val = streak_sd**2/pop_sd**2\n",
    "        # if f_val > 1.36:\n",
    "        ### alpha = 0.01, df1 = 50, df2 = 1000000\n",
    "        if f_val > 1.5325:\n",
    "            f_critical_count += 1\n",
    "\n",
    "    f_crit_count_list.append(f_critical_count)\n",
    "#     # print(f'critical_count : {critical_count}')\n",
    "    \n",
    "# # print(crit_count_list)"
   ]
  },
  {
   "cell_type": "code",
   "execution_count": 431,
   "id": "86f16496-5396-4445-9d01-e8dd3d1f61c9",
   "metadata": {
    "tags": []
   },
   "outputs": [
    {
     "name": "stdout",
     "output_type": "stream",
     "text": [
      "18.57545\n",
      "22.43759450782325\n",
      "1.4223238928663289\n"
     ]
    }
   ],
   "source": [
    "print(np.mean(f_crit_count_list))\n",
    "print(np.std(f_crit_count_list))\n",
    "print(scipy.stats.skew(f_crit_count_list, axis=0, bias=True))\n",
    "\n",
    "#### seed 6565 // 1000 players\n",
    "### 20.122\n",
    "### 22.718343161419146\n",
    "### 1.137660848861902\n",
    "\n",
    "#### seed 6565 // 100000 players\n",
    "### 18.57545\n",
    "### 22.43759450782325\n",
    "### 1.4223238928663289"
   ]
  },
  {
   "cell_type": "code",
   "execution_count": 432,
   "id": "b555e379-3305-484c-9181-04055ea14cbb",
   "metadata": {
    "tags": []
   },
   "outputs": [
    {
     "name": "stdout",
     "output_type": "stream",
     "text": [
      "197\n",
      "0\n"
     ]
    }
   ],
   "source": [
    "print(max(f_crit_count_list))\n",
    "print(min(f_crit_count_list))\n",
    "\n",
    "\n",
    "\n",
    "#### seed 6565 // 100000 players\n",
    "### 197\n",
    "### 0"
   ]
  },
  {
   "cell_type": "code",
   "execution_count": 433,
   "id": "70eda9e4-c444-49ba-aa2d-c1764a27473e",
   "metadata": {
    "tags": []
   },
   "outputs": [
    {
     "data": {
      "image/png": "[encoded data removed]",
      "text/plain": [
       "<Figure size 640x480 with 1 Axes>"
      ]
     },
     "metadata": {},
     "output_type": "display_data"
    }
   ],
   "source": [
    "# plt.hist(perfectmm_counted[0], bins=30)\n",
    "# plt.hist(f_crit_count_list, edgecolor='yellow', bins=np.arange(1, 300, 1))\n",
    "# plt.hist(f_crit_count_list, edgecolor='yellow')\n",
    "# plt.hist(perfectmm_counted[0], bins=np.arange(1, 56, 1), width=1)\n",
    "\n",
    "plt.hist(f_crit_count_list, edgecolor='yellow', bins=np.arange(min(f_crit_count_list)-1, max(f_crit_count_list)+1, 1))\n",
    "\n",
    "plt.show()"
   ]
  },
  {
   "cell_type": "code",
   "execution_count": 367,
   "id": "aa1be05b-c5f8-41b9-9fa3-e3b8f2bcff37",
   "metadata": {
    "tags": []
   },
   "outputs": [],
   "source": [
    "# # plt.hist(perfectmm_counted[0], bins=30)\n",
    "# plt.hist(f_crit_count_list, edgecolor='yellow', bins=np.arange(1, 56, 1))\n",
    "# # plt.hist(perfectmm_counted[0], bins=np.arange(1, 56, 1), width=1)\n",
    "# plt.show()"
   ]
  },
  {
   "cell_type": "code",
   "execution_count": 368,
   "id": "6185a058-3b79-418b-ba4f-d6fe711297db",
   "metadata": {
    "tags": []
   },
   "outputs": [],
   "source": [
    "# f_crit_count_list[:100]"
   ]
  },
  {
   "cell_type": "markdown",
   "id": "27e305e4-522e-4bfa-b083-e1226fbfefe0",
   "metadata": {},
   "source": [
    "### Chi Squared ? - (things need for chi squared test) random seed 6565"
   ]
  },
  {
   "cell_type": "code",
   "execution_count": 534,
   "id": "a6e492de-bf23-4e70-a71d-a35308eb865e",
   "metadata": {
    "tags": []
   },
   "outputs": [
    {
     "data": {
      "text/plain": [
       "[39, 0, 7, 2, 1, 38, 44, 37, 4, 41]"
      ]
     },
     "execution_count": 534,
     "metadata": {},
     "output_type": "execute_result"
    }
   ],
   "source": [
    "f_crit_count_list[:10]"
   ]
  },
  {
   "cell_type": "code",
   "execution_count": 535,
   "id": "c6ef29fa-170d-464f-82a0-30a0d68a336b",
   "metadata": {
    "tags": []
   },
   "outputs": [
    {
     "data": {
      "text/plain": [
       "11094"
      ]
     },
     "execution_count": 535,
     "metadata": {},
     "output_type": "execute_result"
    }
   ],
   "source": [
    "np.sum(f_crit_count_list)\n",
    "\n",
    "### 20122, seed 6565, 1000 players"
   ]
  },
  {
   "cell_type": "code",
   "execution_count": 506,
   "id": "6ecc53bc-282f-4589-8ba8-bacf8e0b8cf0",
   "metadata": {
    "tags": []
   },
   "outputs": [
    {
     "data": {
      "text/plain": [
       "694"
      ]
     },
     "execution_count": 506,
     "metadata": {},
     "output_type": "execute_result"
    }
   ],
   "source": [
    "len(f_crit_count_list)"
   ]
  },
  {
   "cell_type": "code",
   "execution_count": 507,
   "id": "2ca527f1-d2a5-4189-8c35-d0b1f5f835c9",
   "metadata": {
    "tags": []
   },
   "outputs": [
    {
     "name": "stdout",
     "output_type": "stream",
     "text": [
      "{135: 1, 22: 6, 13: 11, 4: 13, 44: 8, 3: 15, 39: 13, 0: 184, 56: 6, 32: 9, 86: 1, 43: 7, 34: 7, 81: 1, 38: 7, 19: 11, 28: 13, 11: 11, 67: 4, 16: 8, 15: 8, 6: 12, 55: 5, 47: 7, 30: 6, 7: 13, 41: 6, 18: 7, 96: 1, 24: 7, 2: 16, 21: 11, 17: 6, 66: 2, 48: 8, 49: 7, 115: 3, 29: 3, 33: 6, 73: 2, 82: 3, 40: 12, 53: 6, 31: 4, 20: 13, 45: 7, 35: 5, 23: 7, 5: 7, 54: 5, 85: 3, 9: 10, 76: 4, 10: 7, 133: 1, 26: 6, 46: 6, 70: 3, 58: 3, 8: 10, 27: 4, 50: 2, 14: 5, 62: 2, 63: 1, 65: 1, 79: 4, 25: 11, 74: 1, 68: 1, 59: 2, 75: 2, 1: 12, 116: 1, 130: 1, 188: 1, 12: 4, 57: 4, 52: 3, 37: 4, 36: 5, 69: 1, 71: 2, 60: 3, 168: 1, 64: 2, 42: 4, 61: 2, 100: 1, 78: 3, 106: 1, 92: 1, 134: 1, 102: 1, 89: 1, 122: 1, 138: 1, 124: 1, 87: 1, 125: 1}\n"
     ]
    }
   ],
   "source": [
    "crit_count_dict = dict(Counter(f_crit_count_list))\n",
    "\n",
    "print(crit_count_dict)\n",
    "\n",
    "### seed 6565 // 100000 players\n",
    "### {12: 1441, 0: 30935, 9: 1588, 56: 376, 61: 306, 44: 890, 48: 657, 47: 745, 59: 324, 29: 937, 52: 485, 24: 1038, 13: 1309, 71: 190, 28: 965, 1: 3377, 11: 1451, 50: 489, 46: 857, 39: 742, 20: 1061, 5: 1929, 21: 1044, 37: 785, 7: 1660, 45: 893, 41: 881, 38: 808, 62: 254, 19: 1173, 25: 996, 66: 241, 36: 844, 6: 1772, 4: 2098, 8: 1648, 42: 910, 49: 643, 2: 2726, 14: 1283, 63: 263, 3: 2354, 31: 926, 70: 226, 32: 890, 75: 147, 18: 1156, 68: 217, 43: 925, 35: 882, 22: 1111, 85: 83, 16: 1222, 10: 1489, 26: 979, 34: 886, 81: 99, 64: 274, 53: 473, 15: 1218, 60: 336, 27: 968, 23: 1041, 82: 110, 30: 851, 40: 803, 73: 170, 92: 65, 58: 332, 17: 1132, 74: 143, 91: 64, 57: 361, 55: 387, 105: 37, 33: 890, 65: 221, 67: 209, 99: 34, 76: 128, 54: 412, 83: 88, 94: 50, 51: 492, 97: 46, 93: 57, 79: 117, 69: 204, 96: 50, 88: 87, 89: 75, 78: 109, 95: 49, 80: 94, 149: 1, 86: 81, 104: 35, 72: 160, 119: 10, 87: 90, 140: 3, 116: 12, 77: 157, 107: 21, 103: 30, 101: 33, 84: 101, 98: 47, 108: 21, 90: 74, 106: 29, 112: 20, 100: 25, 111: 20, 102: 29, 109: 14, 127: 13, 134: 1, 118: 6, 115: 18, 114: 17, 124: 5, 128: 7, 144: 2, 137: 2, 191: 1, 117: 12, 135: 5, 132: 4, 145: 1, 125: 6, 123: 5, 142: 3, 133: 5, 110: 16, 120: 5, 113: 14, 126: 6, 138: 4, 121: 7, 139: 1, 154: 1, 197: 1, 122: 5, 136: 4, 147: 2, 131: 4, 129: 1, 141: 1, 155: 1, 156: 1, 159: 4, 143: 3, 148: 1, 166: 1, 174: 1, 130: 3, 173: 1, 150: 1, 151: 1, 157: 1}"
   ]
  },
  {
   "cell_type": "code",
   "execution_count": 508,
   "id": "94023247-4c61-4797-9705-60df60f256a1",
   "metadata": {
    "tags": []
   },
   "outputs": [],
   "source": [
    "crit_count_dict = dict(sorted(crit_count_dict.items()))\n",
    "\n",
    "# print(crit_count_dict)"
   ]
  },
  {
   "cell_type": "code",
   "execution_count": 536,
   "id": "b967bd28-1715-46bc-a11b-5ac60cf8f93f",
   "metadata": {
    "tags": []
   },
   "outputs": [
    {
     "data": {
      "text/plain": [
       "{0: 131,\n",
       " 1: 19,\n",
       " 2: 11,\n",
       " 3: 10,\n",
       " 4: 10,\n",
       " 5: 8,\n",
       " 6: 9,\n",
       " 7: 5,\n",
       " 8: 8,\n",
       " 9: 8,\n",
       " 10: 8,\n",
       " 11: 3,\n",
       " 12: 6,\n",
       " 13: 5,\n",
       " 14: 10,\n",
       " 15: 5,\n",
       " 16: 8,\n",
       " 17: 6,\n",
       " 18: 9,\n",
       " 19: 4,\n",
       " 20: 4,\n",
       " 21: 3,\n",
       " 22: 5,\n",
       " 23: 6,\n",
       " 24: 4,\n",
       " 25: 5,\n",
       " 26: 8,\n",
       " 27: 1,\n",
       " 28: 4,\n",
       " 29: 3,\n",
       " 30: 4,\n",
       " 31: 8,\n",
       " 32: 2,\n",
       " 33: 4,\n",
       " 34: 6,\n",
       " 35: 8,\n",
       " 36: 6,\n",
       " 37: 5,\n",
       " 38: 11,\n",
       " 39: 5,\n",
       " 40: 3,\n",
       " 41: 6,\n",
       " 42: 3,\n",
       " 43: 6,\n",
       " 44: 8,\n",
       " 45: 9,\n",
       " 46: 5,\n",
       " 47: 2,\n",
       " 48: 2,\n",
       " 49: 2,\n",
       " 50: 3,\n",
       " 51: 2,\n",
       " 52: 1,\n",
       " 53: 3,\n",
       " 54: 1,\n",
       " 55: 1,\n",
       " 56: 2,\n",
       " 57: 3,\n",
       " 58: 2,\n",
       " 59: 4,\n",
       " 60: 3,\n",
       " 61: 3,\n",
       " 62: 3,\n",
       " 63: 1,\n",
       " 64: 1,\n",
       " 65: 1,\n",
       " 66: 1,\n",
       " 67: 3,\n",
       " 68: 3,\n",
       " 69: 1,\n",
       " 71: 3,\n",
       " 75: 3,\n",
       " 76: 1,\n",
       " 78: 1,\n",
       " 80: 2,\n",
       " 84: 1,\n",
       " 85: 1,\n",
       " 87: 3,\n",
       " 88: 2,\n",
       " 90: 1,\n",
       " 91: 1,\n",
       " 95: 1,\n",
       " 108: 1,\n",
       " 109: 2,\n",
       " 204: 1}"
      ]
     },
     "execution_count": 536,
     "metadata": {},
     "output_type": "execute_result"
    }
   ],
   "source": [
    "crit_count_dict"
   ]
  },
  {
   "cell_type": "code",
   "execution_count": 568,
   "id": "1cc49569-533d-4a2c-be86-d96f66858c26",
   "metadata": {
    "tags": []
   },
   "outputs": [],
   "source": [
    "###\n",
    "### use in case lost\n",
    "\n",
    "# crit_count_dict = {12: 1441, 0: 30935, 9: 1588, 56: 376, 61: 306, 44: 890, 48: 657, 47: 745, 59: 324, 29: 937, 52: 485, 24: 1038, 13: 1309, 71: 190, 28: 965, 1: 3377, 11: 1451, 50: 489, 46: 857, 39: 742, 20: 1061, 5: 1929, 21: 1044, 37: 785, 7: 1660, 45: 893, 41: 881, 38: 808, 62: 254, 19: 1173, 25: 996, 66: 241, 36: 844, 6: 1772, 4: 2098, 8: 1648, 42: 910, 49: 643, 2: 2726, 14: 1283, 63: 263, 3: 2354, 31: 926, 70: 226, 32: 890, 75: 147, 18: 1156, 68: 217, 43: 925, 35: 882, 22: 1111, 85: 83, 16: 1222, 10: 1489, 26: 979, 34: 886, 81: 99, 64: 274, 53: 473, 15: 1218, 60: 336, 27: 968, 23: 1041, 82: 110, 30: 851, 40: 803, 73: 170, 92: 65, 58: 332, 17: 1132, 74: 143, 91: 64, 57: 361, 55: 387, 105: 37, 33: 890, 65: 221, 67: 209, 99: 34, 76: 128, 54: 412, 83: 88, 94: 50, 51: 492, 97: 46, 93: 57, 79: 117, 69: 204, 96: 50, 88: 87, 89: 75, 78: 109, 95: 49, 80: 94, 149: 1, 86: 81, 104: 35, 72: 160, 119: 10, 87: 90, 140: 3, 116: 12, 77: 157, 107: 21, 103: 30, 101: 33, 84: 101, 98: 47, 108: 21, 90: 74, 106: 29, 112: 20, 100: 25, 111: 20, 102: 29, 109: 14, 127: 13, 134: 1, 118: 6, 115: 18, 114: 17, 124: 5, 128: 7, 144: 2, 137: 2, 191: 1, 117: 12, 135: 5, 132: 4, 145: 1, 125: 6, 123: 5, 142: 3, 133: 5, 110: 16, 120: 5, 113: 14, 126: 6, 138: 4, 121: 7, 139: 1, 154: 1, 197: 1, 122: 5, 136: 4, 147: 2, 131: 4, 129: 1, 141: 1, 155: 1, 156: 1, 159: 4, 143: 3, 148: 1, 166: 1, 174: 1, 130: 3, 173: 1, 150: 1, 151: 1, 157: 1}\n",
    "# crit_count_dict = dict(sorted(crit_count_dict.items()))"
   ]
  },
  {
   "cell_type": "code",
   "execution_count": 569,
   "id": "c08783f8-91f2-4864-9ec0-990282703a9d",
   "metadata": {
    "tags": []
   },
   "outputs": [
    {
     "name": "stdout",
     "output_type": "stream",
     "text": [
      "{0: 30935, 1: 3377, 2: 2726, 3: 2354, 4: 2098, 5: 1929, 6: 1772, 7: 1660, 8: 1648, 9: 1588, 10: 1489, 11: 1451, 12: 1441, 13: 1309, 14: 1283, 15: 1218, 16: 1222, 17: 1132, 18: 1156, 19: 1173, 20: 1061, 21: 1044, 22: 1111, 23: 1041, 24: 1038, 25: 996, 26: 979, 27: 968, 28: 965, 29: 937, 30: 851, 31: 926, 32: 890, 33: 890, 34: 886, 35: 882, 36: 844, 37: 785, 38: 808, 39: 742, 40: 803, 41: 881, 42: 910, 43: 925, 44: 890, 45: 893, 46: 857, 47: 745, 48: 657, 49: 643, 50: 489}\n"
     ]
    }
   ],
   "source": [
    "standard_crit_count_dict = {}\n",
    "\n",
    "\n",
    "### 50, 23, ...\n",
    "for i in range(0, 51):\n",
    "    # print(i)\n",
    "    standard_crit_count_dict[i] = crit_count_dict[i]\n",
    "    \n",
    "print(standard_crit_count_dict)"
   ]
  },
  {
   "cell_type": "code",
   "execution_count": 570,
   "id": "4f4a5623-17eb-4d6a-aafe-80f8f41444b1",
   "metadata": {
    "tags": []
   },
   "outputs": [],
   "source": [
    "standard_len = np.sum(list(standard_crit_count_dict.values()))"
   ]
  },
  {
   "cell_type": "code",
   "execution_count": 571,
   "id": "904fdc9f-5b99-434e-9ed0-b4e59d563377",
   "metadata": {
    "tags": []
   },
   "outputs": [
    {
     "name": "stdout",
     "output_type": "stream",
     "text": [
      "90298\n",
      "0     0.342588\n",
      "1     0.037398\n",
      "2     0.030189\n",
      "3     0.026069\n",
      "4     0.023234\n",
      "5     0.021363\n",
      "6     0.019624\n",
      "7     0.018384\n",
      "8     0.018251\n",
      "9     0.017586\n",
      "10    0.016490\n",
      "11    0.016069\n",
      "12    0.015958\n",
      "13    0.014496\n",
      "14    0.014209\n",
      "15    0.013489\n",
      "16    0.013533\n",
      "17    0.012536\n",
      "18    0.012802\n",
      "19    0.012990\n",
      "20    0.011750\n",
      "21    0.011562\n",
      "22    0.012304\n",
      "23    0.011528\n",
      "24    0.011495\n",
      "25    0.011030\n",
      "26    0.010842\n",
      "27    0.010720\n",
      "28    0.010687\n",
      "29    0.010377\n",
      "30    0.009424\n",
      "31    0.010255\n",
      "32    0.009856\n",
      "33    0.009856\n",
      "34    0.009812\n",
      "35    0.009768\n",
      "36    0.009347\n",
      "37    0.008693\n",
      "38    0.008948\n",
      "39    0.008217\n",
      "40    0.008893\n",
      "41    0.009757\n",
      "42    0.010078\n",
      "43    0.010244\n",
      "44    0.009856\n",
      "45    0.009889\n",
      "46    0.009491\n",
      "47    0.008250\n",
      "48    0.007276\n",
      "49    0.007121\n",
      "50    0.005415\n",
      "dtype: float64\n"
     ]
    }
   ],
   "source": [
    "# type(pd.Series(list(crit_count_dict.values()))/1000)\n",
    "standard_ratios = pd.Series(list(standard_crit_count_dict.values()))/standard_len\n",
    "print(standard_len)\n",
    "# print(standard_ratios[:10])\n",
    "print(standard_ratios[:])\n",
    "# print(np.sum(standard_ratios))"
   ]
  },
  {
   "cell_type": "code",
   "execution_count": 378,
   "id": "4f73ccbb-29e7-429a-bfc2-0e6908757963",
   "metadata": {
    "tags": []
   },
   "outputs": [],
   "source": [
    "# standard_ratios"
   ]
  },
  {
   "cell_type": "markdown",
   "id": "3217d2e6-c0c0-4eac-93bb-23c19cf23ca3",
   "metadata": {},
   "source": [
    "#### - chi squared test (PerfectMM vs Population)"
   ]
  },
  {
   "cell_type": "code",
   "execution_count": 516,
   "id": "97a0fcb0-0269-413a-a78b-33494447a080",
   "metadata": {
    "tags": []
   },
   "outputs": [
    {
     "name": "stdout",
     "output_type": "stream",
     "text": [
      "{135: 1, 22: 6, 13: 11, 4: 13, 44: 8, 3: 15, 39: 13, 0: 184, 56: 6, 32: 9, 86: 1, 43: 7, 34: 7, 81: 1, 38: 7, 19: 11, 28: 13, 11: 11, 67: 4, 16: 8, 15: 8, 6: 12, 55: 5, 47: 7, 30: 6, 7: 13, 41: 6, 18: 7, 96: 1, 24: 7, 2: 16, 21: 11, 17: 6, 66: 2, 48: 8, 49: 7, 115: 3, 29: 3, 33: 6, 73: 2, 82: 3, 40: 12, 53: 6, 31: 4, 20: 13, 45: 7, 35: 5, 23: 7, 5: 7, 54: 5, 85: 3, 9: 10, 76: 4, 10: 7, 133: 1, 26: 6, 46: 6, 70: 3, 58: 3, 8: 10, 27: 4, 50: 2, 14: 5, 62: 2, 63: 1, 65: 1, 79: 4, 25: 11, 74: 1, 68: 1, 59: 2, 75: 2, 1: 12, 116: 1, 130: 1, 188: 1, 12: 4, 57: 4, 52: 3, 37: 4, 36: 5, 69: 1, 71: 2, 60: 3, 168: 1, 64: 2, 42: 4, 61: 2, 100: 1, 78: 3, 106: 1, 92: 1, 134: 1, 102: 1, 89: 1, 122: 1, 138: 1, 124: 1, 87: 1, 125: 1}\n",
      "{0: 184, 1: 12, 2: 16, 3: 15, 4: 13, 5: 7, 6: 12, 7: 13, 8: 10, 9: 10, 10: 7, 11: 11, 12: 4, 13: 11, 14: 5, 15: 8, 16: 8, 17: 6, 18: 7, 19: 11, 20: 13, 21: 11, 22: 6, 23: 7, 24: 7, 25: 11, 26: 6, 27: 4, 28: 13, 29: 3, 30: 6, 31: 4, 32: 9, 33: 6, 34: 7, 35: 5, 36: 5, 37: 4, 38: 7, 39: 13, 40: 12, 41: 6, 42: 4, 43: 7, 44: 8, 45: 7, 46: 6, 47: 7, 48: 8, 49: 7, 50: 2, 52: 3, 53: 6, 54: 5, 55: 5, 56: 6, 57: 4, 58: 3, 59: 2, 60: 3, 61: 2, 62: 2, 63: 1, 64: 2, 65: 1, 66: 2, 67: 4, 68: 1, 69: 1, 70: 3, 71: 2, 73: 2, 74: 1, 75: 2, 76: 4, 78: 3, 79: 4, 81: 1, 82: 3, 85: 3, 86: 1, 87: 1, 89: 1, 92: 1, 96: 1, 100: 1, 102: 1, 106: 1, 115: 3, 116: 1, 122: 1, 124: 1, 125: 1, 130: 1, 133: 1, 134: 1, 135: 1, 138: 1, 168: 1, 188: 1}\n",
      "{0: 184, 1: 12, 2: 16, 3: 15, 4: 13, 5: 7, 6: 12, 7: 13, 8: 10, 9: 10, 10: 7, 11: 11, 12: 4, 13: 11, 14: 5, 15: 8, 16: 8, 17: 6, 18: 7, 19: 11, 20: 13, 21: 11, 22: 6, 23: 7, 24: 7, 25: 11, 26: 6, 27: 4, 28: 13, 29: 3, 30: 6, 31: 4, 32: 9, 33: 6, 34: 7, 35: 5, 36: 5, 37: 4, 38: 7, 39: 13, 40: 12, 41: 6, 42: 4, 43: 7, 44: 8, 45: 7, 46: 6, 47: 7, 48: 8, 49: 7}\n",
      "589\n",
      "crit_count : 0\n",
      "expected : 275.3330462245191\n",
      "observed : 184\n",
      "numerator : 8341.72533265014\n",
      "chi_indi : 30.296854834664188\n",
      "------\n",
      "crit_count : 1\n",
      "expected : 30.056560436405395\n",
      "observed : 12\n",
      "numerator : 326.03937479356057\n",
      "chi_indi : 10.847527796249501\n",
      "------\n",
      "crit_count : 2\n",
      "expected : 24.262417456215903\n",
      "observed : 16\n",
      "numerator : 68.26754222078128\n",
      "chi_indi : 2.813715588892874\n",
      "------\n",
      "crit_count : 3\n",
      "expected : 20.951478610393337\n",
      "observed : 15\n",
      "numerator : 35.420097649969414\n",
      "chi_indi : 1.6905774675205345\n",
      "------\n",
      "crit_count : 4\n",
      "expected : 18.67298306057996\n",
      "observed : 13\n",
      "numerator : 32.18273680562716\n",
      "chi_indi : 1.7234919938189888\n",
      "------\n",
      "crit_count : 5\n",
      "expected : 17.16881998277347\n",
      "observed : 7\n",
      "numerator : 103.40489984205304\n",
      "chi_indi : 6.022830919411207\n",
      "------\n",
      "crit_count : 6\n",
      "expected : 15.771461383864485\n",
      "observed : 12\n",
      "numerator : 14.22392096998102\n",
      "chi_indi : 0.9018771706554265\n",
      "------\n",
      "crit_count : 7\n",
      "expected : 14.774619580821133\n",
      "observed : 13\n",
      "numerator : 3.1492746566337737\n",
      "chi_indi : 0.21315436511961586\n",
      "------\n",
      "crit_count : 8\n",
      "expected : 14.66781510192363\n",
      "observed : 10\n",
      "numerator : 21.788497825746305\n",
      "chi_indi : 1.4854630818797834\n",
      "------\n",
      "crit_count : 9\n",
      "expected : 14.133792707436118\n",
      "observed : 10\n",
      "numerator : 17.088242148052032\n",
      "chi_indi : 1.2090344397835628\n",
      "------\n",
      "crit_count : 10\n",
      "expected : 13.252655756531725\n",
      "observed : 7\n",
      "numerator : 39.09570400968932\n",
      "chi_indi : 2.9500278833109017\n",
      "------\n",
      "crit_count : 11\n",
      "expected : 12.914441573356303\n",
      "observed : 11\n",
      "numerator : 3.6650865377949566\n",
      "chi_indi : 0.2837975236464248\n",
      "------\n",
      "crit_count : 12\n",
      "expected : 12.825437840941717\n",
      "observed : 4\n",
      "numerator : 77.888353084326\n",
      "chi_indi : 6.072958603852778\n",
      "------\n",
      "crit_count : 13\n",
      "expected : 11.650588573069195\n",
      "observed : 11\n",
      "numerator : 0.4232654914082109\n",
      "chi_indi : 0.036329966400719546\n",
      "------\n",
      "crit_count : 14\n",
      "expected : 11.41917886879127\n",
      "observed : 5\n",
      "numerator : 41.20585734953637\n",
      "chi_indi : 3.608478142167682\n",
      "------\n",
      "crit_count : 15\n",
      "expected : 10.840654608096468\n",
      "observed : 8\n",
      "numerator : 8.069318602499699\n",
      "chi_indi : 0.7443571347133443\n",
      "------\n",
      "crit_count : 16\n",
      "expected : 10.876256101062303\n",
      "observed : 8\n",
      "numerator : 8.272849158898122\n",
      "chi_indi : 0.7606339058244591\n",
      "------\n",
      "crit_count : 17\n",
      "expected : 10.075222509331036\n",
      "observed : 6\n",
      "numerator : 16.607438500558345\n",
      "chi_indi : 1.648344588437385\n",
      "------\n",
      "crit_count : 18\n",
      "expected : 10.288831467126041\n",
      "observed : 7\n",
      "numerator : 10.816412419158427\n",
      "chi_indi : 1.051277052570845\n",
      "------\n",
      "crit_count : 19\n",
      "expected : 10.440137812230835\n",
      "observed : 11\n",
      "numerator : 0.31344566929367523\n",
      "chi_indi : 0.03002313522398787\n",
      "------\n",
      "crit_count : 20\n",
      "expected : 9.443296009187481\n",
      "observed : 13\n",
      "numerator : 12.650143278261698\n",
      "chi_indi : 1.3395898281653187\n",
      "------\n",
      "crit_count : 21\n",
      "expected : 9.291989664082688\n",
      "observed : 11\n",
      "numerator : 2.9172993076003673\n",
      "chi_indi : 0.31395851836522304\n",
      "------\n",
      "crit_count : 22\n",
      "expected : 9.888314671260407\n",
      "observed : 6\n",
      "numerator : 15.118990982738923\n",
      "chi_indi : 1.528975511537983\n",
      "------\n"
     ]
    },
    {
     "ename": "KeyError",
     "evalue": "23",
     "output_type": "error",
     "traceback": [
      "\u001b[0;31m---------------------------------------------------------------------------\u001b[0m",
      "\u001b[0;31mValueError\u001b[0m                                Traceback (most recent call last)",
      "File \u001b[0;32m~/anaconda3/lib/python3.11/site-packages/pandas/core/indexes/range.py:345\u001b[0m, in \u001b[0;36mRangeIndex.get_loc\u001b[0;34m(self, key)\u001b[0m\n\u001b[1;32m    344\u001b[0m \u001b[38;5;28;01mtry\u001b[39;00m:\n\u001b[0;32m--> 345\u001b[0m     \u001b[38;5;28;01mreturn\u001b[39;00m \u001b[38;5;28mself\u001b[39m\u001b[38;5;241m.\u001b[39m_range\u001b[38;5;241m.\u001b[39mindex(new_key)\n\u001b[1;32m    346\u001b[0m \u001b[38;5;28;01mexcept\u001b[39;00m \u001b[38;5;167;01mValueError\u001b[39;00m \u001b[38;5;28;01mas\u001b[39;00m err:\n",
      "\u001b[0;31mValueError\u001b[0m: 23 is not in range",
      "\nThe above exception was the direct cause of the following exception:\n",
      "\u001b[0;31mKeyError\u001b[0m                                  Traceback (most recent call last)",
      "Cell \u001b[0;32mIn[516], line 27\u001b[0m\n\u001b[1;32m     24\u001b[0m sum_for_chi \u001b[38;5;241m=\u001b[39m \u001b[38;5;241m0\u001b[39m\n\u001b[1;32m     26\u001b[0m \u001b[38;5;28;01mfor\u001b[39;00m i \u001b[38;5;129;01min\u001b[39;00m \u001b[38;5;28mrange\u001b[39m(\u001b[38;5;241m0\u001b[39m,\u001b[38;5;241m50\u001b[39m):\n\u001b[0;32m---> 27\u001b[0m     expected \u001b[38;5;241m=\u001b[39m standard_ratios[i]\u001b[38;5;241m*\u001b[39mnum_observed    \u001b[38;5;66;03m### = denominator\u001b[39;00m\n\u001b[1;32m     28\u001b[0m     numerator \u001b[38;5;241m=\u001b[39m (observed_crit_count_dict[i] \u001b[38;5;241m-\u001b[39m expected)\u001b[38;5;241m*\u001b[39m\u001b[38;5;241m*\u001b[39m\u001b[38;5;241m2\u001b[39m\n\u001b[1;32m     30\u001b[0m     chi_indi \u001b[38;5;241m=\u001b[39m numerator\u001b[38;5;241m/\u001b[39mexpected\n",
      "File \u001b[0;32m~/anaconda3/lib/python3.11/site-packages/pandas/core/series.py:1007\u001b[0m, in \u001b[0;36mSeries.__getitem__\u001b[0;34m(self, key)\u001b[0m\n\u001b[1;32m   1004\u001b[0m     \u001b[38;5;28;01mreturn\u001b[39;00m \u001b[38;5;28mself\u001b[39m\u001b[38;5;241m.\u001b[39m_values[key]\n\u001b[1;32m   1006\u001b[0m \u001b[38;5;28;01melif\u001b[39;00m key_is_scalar:\n\u001b[0;32m-> 1007\u001b[0m     \u001b[38;5;28;01mreturn\u001b[39;00m \u001b[38;5;28mself\u001b[39m\u001b[38;5;241m.\u001b[39m_get_value(key)\n\u001b[1;32m   1009\u001b[0m \u001b[38;5;28;01mif\u001b[39;00m is_hashable(key):\n\u001b[1;32m   1010\u001b[0m     \u001b[38;5;66;03m# Otherwise index.get_value will raise InvalidIndexError\u001b[39;00m\n\u001b[1;32m   1011\u001b[0m     \u001b[38;5;28;01mtry\u001b[39;00m:\n\u001b[1;32m   1012\u001b[0m         \u001b[38;5;66;03m# For labels that don't resolve as scalars like tuples and frozensets\u001b[39;00m\n",
      "File \u001b[0;32m~/anaconda3/lib/python3.11/site-packages/pandas/core/series.py:1116\u001b[0m, in \u001b[0;36mSeries._get_value\u001b[0;34m(self, label, takeable)\u001b[0m\n\u001b[1;32m   1113\u001b[0m     \u001b[38;5;28;01mreturn\u001b[39;00m \u001b[38;5;28mself\u001b[39m\u001b[38;5;241m.\u001b[39m_values[label]\n\u001b[1;32m   1115\u001b[0m \u001b[38;5;66;03m# Similar to Index.get_value, but we do not fall back to positional\u001b[39;00m\n\u001b[0;32m-> 1116\u001b[0m loc \u001b[38;5;241m=\u001b[39m \u001b[38;5;28mself\u001b[39m\u001b[38;5;241m.\u001b[39mindex\u001b[38;5;241m.\u001b[39mget_loc(label)\n\u001b[1;32m   1118\u001b[0m \u001b[38;5;28;01mif\u001b[39;00m is_integer(loc):\n\u001b[1;32m   1119\u001b[0m     \u001b[38;5;28;01mreturn\u001b[39;00m \u001b[38;5;28mself\u001b[39m\u001b[38;5;241m.\u001b[39m_values[loc]\n",
      "File \u001b[0;32m~/anaconda3/lib/python3.11/site-packages/pandas/core/indexes/range.py:347\u001b[0m, in \u001b[0;36mRangeIndex.get_loc\u001b[0;34m(self, key)\u001b[0m\n\u001b[1;32m    345\u001b[0m         \u001b[38;5;28;01mreturn\u001b[39;00m \u001b[38;5;28mself\u001b[39m\u001b[38;5;241m.\u001b[39m_range\u001b[38;5;241m.\u001b[39mindex(new_key)\n\u001b[1;32m    346\u001b[0m     \u001b[38;5;28;01mexcept\u001b[39;00m \u001b[38;5;167;01mValueError\u001b[39;00m \u001b[38;5;28;01mas\u001b[39;00m err:\n\u001b[0;32m--> 347\u001b[0m         \u001b[38;5;28;01mraise\u001b[39;00m \u001b[38;5;167;01mKeyError\u001b[39;00m(key) \u001b[38;5;28;01mfrom\u001b[39;00m \u001b[38;5;21;01merr\u001b[39;00m\n\u001b[1;32m    348\u001b[0m \u001b[38;5;28;01mif\u001b[39;00m \u001b[38;5;28misinstance\u001b[39m(key, Hashable):\n\u001b[1;32m    349\u001b[0m     \u001b[38;5;28;01mraise\u001b[39;00m \u001b[38;5;167;01mKeyError\u001b[39;00m(key)\n",
      "\u001b[0;31mKeyError\u001b[0m: 23"
     ]
    }
   ],
   "source": [
    "crit_count_dict = dict(Counter(f_crit_count_list))\n",
    "\n",
    "print(crit_count_dict)\n",
    "\n",
    "crit_count_dict = dict(sorted(crit_count_dict.items()))\n",
    "\n",
    "print(crit_count_dict)\n",
    "\n",
    "observed_crit_count_dict = {}\n",
    "\n",
    "for i in range(0,50):\n",
    "    if i in crit_count_dict.keys():\n",
    "        observed_crit_count_dict[i] = crit_count_dict[i]\n",
    "    else:\n",
    "        observed_crit_count_dict[i] = 0\n",
    "        \n",
    "print(observed_crit_count_dict)\n",
    "\n",
    "num_observed = np.sum(list(observed_crit_count_dict.values()))\n",
    "\n",
    "print(num_observed)\n",
    "\n",
    "\n",
    "sum_for_chi = 0\n",
    "\n",
    "for i in range(0,50):\n",
    "    expected = standard_ratios[i]*num_observed    ### = denominator\n",
    "    numerator = (observed_crit_count_dict[i] - expected)**2\n",
    "    \n",
    "    chi_indi = numerator/expected\n",
    "    \n",
    "    print(f'crit_count : {i}')\n",
    "    print(f'expected : {expected}')\n",
    "    print(f'observed : {observed_crit_count_dict[i]}')\n",
    "    print(f'numerator : {numerator}')\n",
    "    print(f'chi_indi : {chi_indi}')\n",
    "    print('------')\n",
    "\n",
    "    sum_for_chi += chi_indi\n",
    "                    \n",
    "print(sum_for_chi)\n",
    "    \n"
   ]
  },
  {
   "cell_type": "code",
   "execution_count": null,
   "id": "65c8813c-a855-4a17-b146-0455aceb9e7c",
   "metadata": {},
   "outputs": [],
   "source": []
  },
  {
   "cell_type": "code",
   "execution_count": null,
   "id": "9a33e7fb-e203-4d2a-8fd5-b1b2e5081a3f",
   "metadata": {},
   "outputs": [],
   "source": []
  },
  {
   "cell_type": "markdown",
   "id": "70a574b7-86bb-4e92-8139-88f85dafc614",
   "metadata": {},
   "source": [
    "## NearPerfctMM vs Population"
   ]
  },
  {
   "cell_type": "markdown",
   "id": "59e065a9-86c5-4e46-90f3-4ca240af95e5",
   "metadata": {},
   "source": [
    "### Single NearPerfectMM vs Population"
   ]
  },
  {
   "cell_type": "code",
   "execution_count": null,
   "id": "6c48b607-678e-4dcf-b51d-51234035da78",
   "metadata": {
    "tags": []
   },
   "outputs": [],
   "source": [
    "llen = len(one_nearperfect)\n",
    "\n",
    "critical_count = 0\n",
    "\n",
    "print(f'pop_mean : {pop_mean}')\n",
    "print(f'pop_sd : {pop_sd}')\n",
    "\n",
    "for i in range(llen-window_size+1):\n",
    "    # print(i , i+50)\n",
    "    one_window = one_nearperfect[i:i+window_size]\n",
    "    \n",
    "    streak_counter_result = streak_counter(one_window)\n",
    "    lose_streak = streak_counter_result[0]\n",
    "    win_streak = streak_counter_result[1]\n",
    "    \n",
    "    ### ls = lose streak // ws = win streak\n",
    "    ### means within one window (50 games)\n",
    "    ls_mean = np.mean(lose_streak)\n",
    "    ws_mean = np.mean(win_streak)\n",
    "    \n",
    "    ### standard deviations within one window (50 games)\n",
    "    ls_sd = np.std(lose_streak)\n",
    "    ws_sd = np.std(win_streak)\n",
    "    \n",
    "    \n",
    "    print(f'L streak mean : {ls_mean}')\n",
    "    print(f'W streak mean : {ws_mean}')\n",
    "    print(f'W streak sd : {ls_sd}')\n",
    "    print(f'W streak sd : {ws_sd}')\n",
    "    \n",
    "    streaks = []\n",
    "\n",
    "    streaks_0 = list(lose_streak)\n",
    "    streaks_0 = [x*(-1) for x in streaks_0]\n",
    "    # print(streaks_0[:20])\n",
    "\n",
    "    streaks_1 = list(win_streak)\n",
    "\n",
    "    streaks.extend(streaks_0)\n",
    "    streaks.extend(streaks_1)\n",
    "    \n",
    "    \n",
    "    streak_mean = np.mean(streaks)\n",
    "    streak_sd = np.std(streaks)\n",
    "    # f_val = max(streak_sd, pop_sd)**2/min(streak_sd, pop_sd)**2\n",
    "    f_val = streak_sd**2/pop_sd**2\n",
    "    # if f_val > 1.35:\n",
    "    if f_val > 1.5325:\n",
    "        critical_count += 1\n",
    "    \n",
    "    print(f'Streak mean : {streak_mean}')\n",
    "    print(f'Streak sd : {streak_sd}')\n",
    "    print(f'F-value : {f_val}')\n",
    "\n",
    "    print('-------------')\n",
    "\n",
    "\n",
    "    # llist.extend(list(perfectmm_counted[1]))\n",
    "    # print(len(llist))\n",
    "    # print(llist[:30])\n",
    "\n",
    "    # print(np.mean(llist))\n",
    "    # print(np.std(llist))\n",
    "    # print(np.sum(llist))\n",
    "    \n",
    "print(critical_count)"
   ]
  },
  {
   "cell_type": "markdown",
   "id": "8f6be41a-d80a-43c5-bf4f-ba57661da404",
   "metadata": {},
   "source": [
    "### Critical Counts for all NearPerfectMM Records"
   ]
  },
  {
   "cell_type": "code",
   "execution_count": 572,
   "id": "39ee86f5-7d4f-47c8-9eb8-7f6398505652",
   "metadata": {
    "tags": []
   },
   "outputs": [],
   "source": [
    "f_crit_count_list = []\n",
    "\n",
    "for item in nearperfect_all_records:\n",
    "    one_record = item\n",
    "\n",
    "    llen = len(one_record)\n",
    "\n",
    "    f_critical_count = 0\n",
    "\n",
    "\n",
    "    for i in range(llen-window_size+1):\n",
    "        # print(i , i+50)\n",
    "        one_window = one_record[i:i+window_size]\n",
    "\n",
    "        streak_counter_result = streak_counter(one_window)\n",
    "        lose_streak = streak_counter_result[0]\n",
    "        win_streak = streak_counter_result[1]\n",
    "\n",
    "        ### ls = lose streak // ws = win streak\n",
    "        ### means within one window (50 games)\n",
    "        ls_mean = np.mean(lose_streak)\n",
    "        ws_mean = np.mean(win_streak)\n",
    "\n",
    "        ### standard deviations within one window (50 games)\n",
    "        ls_sd = np.std(lose_streak)\n",
    "        ws_sd = np.std(win_streak)\n",
    "        \n",
    "        streaks = []\n",
    "\n",
    "        streaks_0 = list(lose_streak)\n",
    "        streaks_0 = [x*(-1) for x in streaks_0]\n",
    "        # print(streaks_0[:20])\n",
    "\n",
    "        streaks_1 = list(win_streak)\n",
    "\n",
    "        streaks.extend(streaks_0)\n",
    "        streaks.extend(streaks_1)\n",
    "        \n",
    "        streak_mean = np.mean(streaks)\n",
    "        streak_sd = np.std(streaks)\n",
    "        # f_val = max(streak_sd, pop_sd)**2/min(streak_sd, pop_sd)**2\n",
    "        f_val = streak_sd**2/pop_sd**2\n",
    "        # if f_val > 1.36:\n",
    "        ### alpha = 0.01, df1 = 50, df2 = 1000000\n",
    "        if f_val > 1.5325:\n",
    "            f_critical_count += 1\n",
    "\n",
    "    f_crit_count_list.append(f_critical_count)\n",
    "#     # print(f'critical_count : {critical_count}')\n",
    "    \n",
    "# # print(crit_count_list)"
   ]
  },
  {
   "cell_type": "code",
   "execution_count": 573,
   "id": "759e56e9-d36f-45da-86ff-66e7123d3471",
   "metadata": {
    "tags": []
   },
   "outputs": [
    {
     "name": "stdout",
     "output_type": "stream",
     "text": [
      "18.958\n",
      "22.30655141432669\n",
      "1.2246984836455508\n"
     ]
    }
   ],
   "source": [
    "print(np.mean(f_crit_count_list))\n",
    "print(np.std(f_crit_count_list))\n",
    "print(scipy.stats.skew(f_crit_count_list, axis=0, bias=True))\n",
    "\n",
    "### 18.958\n",
    "### 22.30655141432669\n",
    "### 1.2246984836455508"
   ]
  },
  {
   "cell_type": "code",
   "execution_count": 574,
   "id": "98082364-4ad3-4a65-a6d2-51a22c5b1904",
   "metadata": {
    "tags": []
   },
   "outputs": [
    {
     "name": "stdout",
     "output_type": "stream",
     "text": [
      "118\n",
      "0\n"
     ]
    }
   ],
   "source": [
    "print(max(f_crit_count_list))\n",
    "print(min(f_crit_count_list))"
   ]
  },
  {
   "cell_type": "code",
   "execution_count": 575,
   "id": "e4e1034a-af0b-4fd8-9d20-7bd5d753feed",
   "metadata": {
    "tags": []
   },
   "outputs": [
    {
     "data": {
      "image/png": "[encoded data removed]",
      "text/plain": [
       "<Figure size 640x480 with 1 Axes>"
      ]
     },
     "metadata": {},
     "output_type": "display_data"
    }
   ],
   "source": [
    "# plt.hist(perfectmm_counted[0], bins=30)\n",
    "# plt.hist(f_crit_count_list, edgecolor='yellow', bins=np.arange(1, 300, 1))\n",
    "# plt.hist(f_crit_count_list, edgecolor='yellow')\n",
    "# plt.hist(perfectmm_counted[0], bins=np.arange(1, 56, 1), width=1)\n",
    "\n",
    "plt.hist(f_crit_count_list, edgecolor='yellow', bins=np.arange(min(f_crit_count_list)-1, max(f_crit_count_list)+1, 1))\n",
    "\n",
    "plt.show()"
   ]
  },
  {
   "cell_type": "code",
   "execution_count": 576,
   "id": "a2b06c9a-75fd-4b9f-aca5-78a300a07720",
   "metadata": {
    "tags": []
   },
   "outputs": [],
   "source": [
    "# # plt.hist(perfectmm_counted[0], bins=30)\n",
    "# plt.hist(f_crit_count_list, edgecolor='yellow', bins=np.arange(1, 56, 1))\n",
    "# # plt.hist(perfectmm_counted[0], bins=np.arange(1, 56, 1), width=1)\n",
    "# plt.show()"
   ]
  },
  {
   "cell_type": "markdown",
   "id": "245e3982-0b66-4350-8c41-c10e0bac53ab",
   "metadata": {},
   "source": [
    "#### - chi squared test"
   ]
  },
  {
   "cell_type": "code",
   "execution_count": 578,
   "id": "32552b05-b331-4540-910b-33964b694f4c",
   "metadata": {
    "tags": []
   },
   "outputs": [
    {
     "name": "stdout",
     "output_type": "stream",
     "text": [
      "{0: 324, 8: 17, 44: 5, 55: 5, 21: 15, 97: 1, 19: 9, 18: 18, 42: 10, 16: 14, 22: 13, 27: 6, 33: 7, 67: 1, 53: 3, 39: 12, 46: 12, 38: 8, 50: 6, 36: 8, 25: 10, 3: 20, 24: 10, 86: 3, 34: 12, 43: 14, 54: 8, 5: 23, 11: 10, 15: 10, 49: 10, 4: 11, 6: 9, 29: 11, 2: 25, 13: 12, 10: 15, 1: 35, 9: 13, 23: 10, 30: 5, 31: 7, 37: 8, 35: 12, 20: 13, 52: 6, 69: 2, 17: 12, 28: 8, 26: 12, 72: 2, 62: 7, 56: 6, 58: 2, 65: 1, 57: 3, 85: 1, 12: 11, 32: 10, 73: 5, 76: 4, 78: 1, 82: 1, 7: 14, 64: 3, 14: 10, 47: 11, 88: 1, 48: 2, 66: 2, 45: 6, 40: 9, 63: 4, 84: 1, 41: 6, 105: 1, 79: 3, 59: 7, 74: 2, 51: 2, 81: 1, 93: 1, 95: 3, 90: 1, 77: 1, 89: 2, 61: 2, 118: 1}\n",
      "{0: 324, 1: 35, 2: 25, 3: 20, 4: 11, 5: 23, 6: 9, 7: 14, 8: 17, 9: 13, 10: 15, 11: 10, 12: 11, 13: 12, 14: 10, 15: 10, 16: 14, 17: 12, 18: 18, 19: 9, 20: 13, 21: 15, 22: 13, 23: 10, 24: 10, 25: 10, 26: 12, 27: 6, 28: 8, 29: 11, 30: 5, 31: 7, 32: 10, 33: 7, 34: 12, 35: 12, 36: 8, 37: 8, 38: 8, 39: 12, 40: 9, 41: 6, 42: 10, 43: 14, 44: 5, 45: 6, 46: 12, 47: 11, 48: 2, 49: 10, 50: 6, 51: 2, 52: 6, 53: 3, 54: 8, 55: 5, 56: 6, 57: 3, 58: 2, 59: 7, 61: 2, 62: 7, 63: 4, 64: 3, 65: 1, 66: 2, 67: 1, 69: 2, 72: 2, 73: 5, 74: 2, 76: 4, 77: 1, 78: 1, 79: 3, 81: 1, 82: 1, 84: 1, 85: 1, 86: 3, 88: 1, 89: 2, 90: 1, 93: 1, 95: 3, 97: 1, 105: 1, 118: 1}\n",
      "{0: 324, 1: 35, 2: 25, 3: 20, 4: 11, 5: 23, 6: 9, 7: 14, 8: 17, 9: 13, 10: 15, 11: 10, 12: 11, 13: 12, 14: 10, 15: 10, 16: 14, 17: 12, 18: 18, 19: 9, 20: 13, 21: 15, 22: 13, 23: 10, 24: 10, 25: 10, 26: 12, 27: 6, 28: 8, 29: 11, 30: 5, 31: 7, 32: 10, 33: 7, 34: 12, 35: 12, 36: 8, 37: 8, 38: 8, 39: 12, 40: 9, 41: 6, 42: 10, 43: 14, 44: 5, 45: 6, 46: 12, 47: 11, 48: 2, 49: 10, 50: 6}\n",
      "900\n",
      "crit_count : 0\n",
      "expected : 308.32908813041263\n",
      "observed : 324\n",
      "numerator : 245.57747882437437\n",
      "chi_indi : 0.796478464985125\n",
      "------\n",
      "crit_count : 1\n",
      "expected : 33.658552791866924\n",
      "observed : 35\n",
      "numerator : 1.7994806122080234\n",
      "chi_indi : 0.053462804040785745\n",
      "------\n",
      "crit_count : 2\n",
      "expected : 27.170036988637623\n",
      "observed : 25\n",
      "numerator : 4.709060532055443\n",
      "chi_indi : 0.17331814947564295\n",
      "------\n",
      "crit_count : 3\n",
      "expected : 23.46231367250659\n",
      "observed : 20\n",
      "numerator : 11.987615966826064\n",
      "chi_indi : 0.5109306837404229\n",
      "------\n",
      "crit_count : 4\n",
      "expected : 20.910762143126092\n",
      "observed : 11\n",
      "numerator : 98.2232062576213\n",
      "chi_indi : 4.697256158590556\n",
      "------\n",
      "crit_count : 5\n",
      "expected : 19.2263394538085\n",
      "observed : 23\n",
      "numerator : 14.240513917882334\n",
      "chi_indi : 0.7406773375709573\n",
      "------\n",
      "crit_count : 6\n",
      "expected : 17.66152074243062\n",
      "observed : 9\n",
      "numerator : 75.0219415715559\n",
      "chi_indi : 4.2477622774193335\n",
      "------\n",
      "crit_count : 7\n",
      "expected : 16.54521694832665\n",
      "observed : 14\n",
      "numerator : 6.478129314049229\n",
      "chi_indi : 0.3915409108433851\n",
      "------\n",
      "crit_count : 8\n",
      "expected : 16.42561297038694\n",
      "observed : 17\n",
      "numerator : 0.3299204597877145\n",
      "chi_indi : 0.02008573198348911\n",
      "------\n",
      "crit_count : 9\n",
      "expected : 15.827593080688388\n",
      "observed : 13\n",
      "numerator : 7.995282629956847\n",
      "chi_indi : 0.5051483563670889\n",
      "------\n",
      "crit_count : 10\n",
      "expected : 14.840860262685775\n",
      "observed : 15\n",
      "numerator : 0.025325455992440654\n",
      "chi_indi : 0.0017064681928254653\n",
      "------\n",
      "crit_count : 11\n",
      "expected : 14.462114332543356\n",
      "observed : 10\n",
      "numerator : 19.91046431668884\n",
      "chi_indi : 1.376732603467623\n",
      "------\n",
      "crit_count : 12\n",
      "expected : 14.36244435092693\n",
      "observed : 11\n",
      "numerator : 11.306032013080424\n",
      "chi_indi : 0.7871941388828253\n",
      "------\n",
      "crit_count : 13\n",
      "expected : 13.046800593590113\n",
      "observed : 12\n",
      "numerator : 1.0957914827406134\n",
      "chi_indi : 0.08398928724939471\n",
      "------\n",
      "crit_count : 14\n",
      "expected : 12.787658641387406\n",
      "observed : 10\n",
      "numerator : 7.771040700901877\n",
      "chi_indi : 0.6076984785745542\n",
      "------\n",
      "crit_count : 15\n",
      "expected : 12.139803760880639\n",
      "observed : 10\n",
      "numerator : 4.5787601350789275\n",
      "chi_indi : 0.37716920514263547\n",
      "------\n",
      "crit_count : 16\n",
      "expected : 12.17967175352721\n",
      "observed : 14\n",
      "numerator : 3.3135949249067047\n",
      "chi_indi : 0.27205946038300205\n",
      "------\n",
      "crit_count : 17\n",
      "expected : 11.28264191897938\n",
      "observed : 12\n",
      "numerator : 0.5146026164055869\n",
      "chi_indi : 0.04561011685923801\n",
      "------\n",
      "crit_count : 18\n",
      "expected : 11.521849874858802\n",
      "observed : 18\n",
      "numerator : 41.966429043866924\n",
      "chi_indi : 3.6423343039245437\n",
      "------\n",
      "crit_count : 19\n",
      "expected : 11.691288843606724\n",
      "observed : 9\n",
      "numerator : 7.243035639722018\n",
      "chi_indi : 0.6195241377243713\n",
      "------\n",
      "crit_count : 20\n",
      "expected : 10.574985049502759\n",
      "observed : 13\n",
      "numerator : 5.8806975101351355\n",
      "chi_indi : 0.5560951133837914\n",
      "------\n",
      "crit_count : 21\n",
      "expected : 10.405546080754833\n",
      "observed : 15\n",
      "numerator : 21.109006816067275\n",
      "chi_indi : 2.0286303719425742\n",
      "------\n",
      "crit_count : 22\n",
      "expected : 11.073334957584885\n",
      "observed : 13\n",
      "numerator : 3.712038185664436\n",
      "chi_indi : 0.33522314640376766\n",
      "------\n",
      "crit_count : 23\n",
      "expected : 10.375645086269905\n",
      "observed : 10\n",
      "numerator : 0.1411092308387247\n",
      "chi_indi : 0.013600044109590313\n",
      "------\n",
      "crit_count : 24\n",
      "expected : 10.345744091784978\n",
      "observed : 10\n",
      "numerator : 0.11953897700421906\n",
      "chi_indi : 0.011554410774488304\n",
      "------\n",
      "crit_count : 25\n",
      "expected : 9.92713016899599\n",
      "observed : 10\n",
      "numerator : 0.005310012270552898\n",
      "chi_indi : 0.0005348990272271147\n",
      "------\n",
      "crit_count : 26\n",
      "expected : 9.757691200248068\n",
      "observed : 12\n",
      "numerator : 5.0279487534449485\n",
      "chi_indi : 0.5152805771632867\n",
      "------\n",
      "crit_count : 27\n",
      "expected : 9.64805422047\n",
      "observed : 6\n",
      "numerator : 13.308299595488977\n",
      "chi_indi : 1.3793765345195863\n",
      "------\n",
      "crit_count : 28\n",
      "expected : 9.61815322598507\n",
      "observed : 8\n",
      "numerator : 2.6184198627658897\n",
      "chi_indi : 0.2722372789499532\n",
      "------\n",
      "crit_count : 29\n",
      "expected : 9.33907727745908\n",
      "observed : 11\n",
      "numerator : 2.758664290252744\n",
      "chi_indi : 0.2953893846569931\n",
      "------\n",
      "crit_count : 30\n",
      "expected : 8.48191543555782\n",
      "observed : 5\n",
      "numerator : 12.123735100375802\n",
      "chi_indi : 1.4293628830052671\n",
      "------\n",
      "crit_count : 31\n",
      "expected : 9.22944029768101\n",
      "observed : 7\n",
      "numerator : 4.970404040923994\n",
      "chi_indi : 0.5385379698672365\n",
      "------\n",
      "crit_count : 32\n",
      "expected : 8.87062836386188\n",
      "observed : 10\n",
      "numerator : 1.2754802925132958\n",
      "chi_indi : 0.14378691567211682\n",
      "------\n",
      "crit_count : 33\n",
      "expected : 8.87062836386188\n",
      "observed : 7\n",
      "numerator : 3.4992504756845713\n",
      "chi_indi : 0.39447605424889565\n",
      "------\n",
      "crit_count : 34\n",
      "expected : 8.83076037121531\n",
      "observed : 12\n",
      "numerator : 10.044079824659315\n",
      "chi_indi : 1.1373969400640667\n",
      "------\n",
      "crit_count : 35\n",
      "expected : 8.79089237856874\n",
      "observed : 12\n",
      "numerator : 10.298371725928197\n",
      "chi_indi : 1.1714819477297358\n",
      "------\n",
      "crit_count : 36\n",
      "expected : 8.412146448426322\n",
      "observed : 8\n",
      "numerator : 0.1698646949504307\n",
      "chi_indi : 0.020192788605363336\n",
      "------\n",
      "crit_count : 37\n",
      "expected : 7.824093556889411\n",
      "observed : 8\n",
      "numerator : 0.03094307672781873\n",
      "chi_indi : 0.003954844929042569\n",
      "------\n",
      "crit_count : 38\n",
      "expected : 8.05333451460719\n",
      "observed : 8\n",
      "numerator : 0.002844570448384583\n",
      "chi_indi : 0.0003532164773765554\n",
      "------\n",
      "crit_count : 39\n",
      "expected : 7.39551263593878\n",
      "observed : 12\n",
      "numerator : 21.201303885799444\n",
      "chi_indi : 2.8667794822999677\n",
      "------\n",
      "crit_count : 40\n",
      "expected : 8.003499523798977\n",
      "observed : 9\n",
      "numerator : 0.9930131990688652\n",
      "chi_indi : 0.12407237560470512\n",
      "------\n",
      "crit_count : 41\n",
      "expected : 8.780925380407098\n",
      "observed : 6\n",
      "numerator : 7.733545971392361\n",
      "chi_indi : 0.8807210671267339\n",
      "------\n",
      "crit_count : 42\n",
      "expected : 9.069968327094731\n",
      "observed : 10\n",
      "numerator : 0.8649589126069731\n",
      "chi_indi : 0.09536515249155611\n",
      "------\n",
      "crit_count : 43\n",
      "expected : 9.219473299519368\n",
      "observed : 14\n",
      "numerator : 22.853435534008238\n",
      "chi_indi : 2.4788222484683198\n",
      "------\n",
      "crit_count : 44\n",
      "expected : 8.87062836386188\n",
      "observed : 5\n",
      "numerator : 14.981763931132088\n",
      "chi_indi : 1.6889180018144385\n",
      "------\n",
      "crit_count : 45\n",
      "expected : 8.900529358346807\n",
      "observed : 6\n",
      "numerator : 8.41307055863174\n",
      "chi_indi : 0.9452326058272101\n",
      "------\n",
      "crit_count : 46\n",
      "expected : 8.541717424527674\n",
      "observed : 12\n",
      "numerator : 11.959718371815507\n",
      "chi_indi : 1.4001538305953543\n",
      "------\n",
      "crit_count : 47\n",
      "expected : 7.425413630423708\n",
      "observed : 11\n",
      "numerator : 12.777667713560618\n",
      "chi_indi : 1.7208021464565202\n",
      "------\n",
      "crit_count : 48\n",
      "expected : 6.548317792199162\n",
      "observed : 2\n",
      "numerator : 20.687194738835462\n",
      "chi_indi : 3.159161695463157\n",
      "------\n",
      "crit_count : 49\n",
      "expected : 6.408779817936167\n",
      "observed : 10\n",
      "numerator : 12.896862396062591\n",
      "chi_indi : 2.01237408093945\n",
      "------\n",
      "crit_count : 50\n",
      "expected : 4.873862101043213\n",
      "observed : 6\n",
      "numerator : 1.268186567466807\n",
      "chi_indi : 0.26020156934587074\n",
      "------\n",
      "47.83074865338143\n"
     ]
    }
   ],
   "source": [
    "crit_count_dict = dict(Counter(f_crit_count_list))\n",
    "\n",
    "print(crit_count_dict)\n",
    "\n",
    "crit_count_dict = dict(sorted(crit_count_dict.items()))\n",
    "\n",
    "print(crit_count_dict)\n",
    "\n",
    "observed_crit_count_dict = {}\n",
    "\n",
    "for i in range(0,51):\n",
    "    if i in crit_count_dict.keys():\n",
    "        observed_crit_count_dict[i] = crit_count_dict[i]\n",
    "    else:\n",
    "        observed_crit_count_dict[i] = 0\n",
    "        \n",
    "print(observed_crit_count_dict)\n",
    "\n",
    "num_observed = np.sum(list(observed_crit_count_dict.values()))\n",
    "\n",
    "print(num_observed)\n",
    "\n",
    "\n",
    "sum_for_chi = 0\n",
    "\n",
    "for i in range(0,51):\n",
    "    expected = standard_ratios[i]*num_observed    ### = denominator\n",
    "    numerator = (observed_crit_count_dict[i] - expected)**2\n",
    "    \n",
    "    chi_indi = numerator/expected\n",
    "    \n",
    "    print(f'crit_count : {i}')\n",
    "    print(f'expected : {expected}')\n",
    "    print(f'observed : {observed_crit_count_dict[i]}')\n",
    "    print(f'numerator : {numerator}')\n",
    "    print(f'chi_indi : {chi_indi}')\n",
    "    print('------')\n",
    "\n",
    "    sum_for_chi += chi_indi\n",
    "                    \n",
    "print(sum_for_chi)\n",
    "    \n"
   ]
  },
  {
   "cell_type": "code",
   "execution_count": null,
   "id": "4f72e39d-f4ce-411e-89f7-b34523588b91",
   "metadata": {},
   "outputs": [],
   "source": []
  },
  {
   "cell_type": "code",
   "execution_count": null,
   "id": "e58f60b7-c2a3-4357-9942-9f476e570ddc",
   "metadata": {},
   "outputs": [],
   "source": []
  },
  {
   "cell_type": "code",
   "execution_count": null,
   "id": "62c91f58-52b0-4b32-8e1c-a17f4a97ebda",
   "metadata": {},
   "outputs": [],
   "source": []
  },
  {
   "cell_type": "markdown",
   "id": "38873f32-1d50-43af-b74b-38e48ad3b5d2",
   "metadata": {},
   "source": [
    "## StreakMM vs Population"
   ]
  },
  {
   "cell_type": "markdown",
   "id": "3326b802-8ffd-4cb5-9d32-812823892404",
   "metadata": {},
   "source": [
    "### Single StreakMM vs Population"
   ]
  },
  {
   "cell_type": "code",
   "execution_count": null,
   "id": "9c3e946e-4b3d-4b52-9a34-f639264ad166",
   "metadata": {
    "tags": []
   },
   "outputs": [],
   "source": [
    "llen = len(one_streakmm)\n",
    "\n",
    "critical_count = 0\n",
    "\n",
    "print(f'pop_mean : {pop_mean}')\n",
    "print(f'pop_sd : {pop_sd}')\n",
    "\n",
    "for i in range(llen-window_size+1):\n",
    "    # print(i , i+50)\n",
    "    one_window = one_streakmm[i:i+window_size]\n",
    "    \n",
    "    streak_counter_result = streak_counter(one_window)\n",
    "    lose_streak = streak_counter_result[0]\n",
    "    win_streak = streak_counter_result[1]\n",
    "    \n",
    "    ### ls = lose streak // ws = win streak\n",
    "    ### means within one window (50 games)\n",
    "    ls_mean = np.mean(lose_streak)\n",
    "    ws_mean = np.mean(win_streak)\n",
    "    \n",
    "    ### standard deviations within one window (50 games)\n",
    "    ls_sd = np.std(lose_streak)\n",
    "    ws_sd = np.std(win_streak)\n",
    "    \n",
    "    \n",
    "    print(f'L streak mean : {ls_mean}')\n",
    "    print(f'W streak mean : {ws_mean}')\n",
    "    print(f'W streak sd : {ls_sd}')\n",
    "    print(f'W streak sd : {ws_sd}')\n",
    "    \n",
    "    streaks = []\n",
    "\n",
    "    streaks_0 = list(lose_streak)\n",
    "    streaks_0 = [x*(-1) for x in streaks_0]\n",
    "    # print(streaks_0[:20])\n",
    "\n",
    "    streaks_1 = list(win_streak)\n",
    "\n",
    "    streaks.extend(streaks_0)\n",
    "    streaks.extend(streaks_1)\n",
    "    \n",
    "    \n",
    "    streak_mean = np.mean(streaks)\n",
    "    streak_sd = np.std(streaks)\n",
    "    # f_val = max(streak_sd, pop_sd)**2/min(streak_sd, pop_sd)**2\n",
    "    f_val = streak_sd**2/pop_sd**2\n",
    "    # if f_val > 1.35:\n",
    "    if f_val > 1.5325:\n",
    "        critical_count += 1\n",
    "    \n",
    "    print(f'Streak mean : {streak_mean}')\n",
    "    print(f'Streak sd : {streak_sd}')\n",
    "    print(f'F-value : {f_val}')\n",
    "\n",
    "    print('-------------')\n",
    "\n",
    "\n",
    "    # llist.extend(list(perfectmm_counted[1]))\n",
    "    # print(len(llist))\n",
    "    # print(llist[:30])\n",
    "\n",
    "    # print(np.mean(llist))\n",
    "    # print(np.std(llist))\n",
    "    # print(np.sum(llist))\n",
    "    \n",
    "print(critical_count)"
   ]
  },
  {
   "cell_type": "markdown",
   "id": "9343cde9-b07b-4e49-928d-8756558524b0",
   "metadata": {},
   "source": [
    "### Critical Counts for all StreakMM Records"
   ]
  },
  {
   "cell_type": "code",
   "execution_count": 452,
   "id": "34c6e0fa-350d-4123-9fd9-d95f58ce8241",
   "metadata": {
    "tags": []
   },
   "outputs": [],
   "source": [
    "f_crit_count_list = []\n",
    "\n",
    "for item in streak_all_records:\n",
    "    one_record = item\n",
    "\n",
    "    llen = len(one_record)\n",
    "\n",
    "    f_critical_count = 0\n",
    "\n",
    "\n",
    "    for i in range(llen-window_size+1):\n",
    "        # print(i , i+50)\n",
    "        one_window = one_record[i:i+window_size]\n",
    "\n",
    "        streak_counter_result = streak_counter(one_window)\n",
    "        lose_streak = streak_counter_result[0]\n",
    "        win_streak = streak_counter_result[1]\n",
    "\n",
    "        ### ls = lose streak // ws = win streak\n",
    "        ### means within one window (50 games)\n",
    "        ls_mean = np.mean(lose_streak)\n",
    "        ws_mean = np.mean(win_streak)\n",
    "\n",
    "        ### standard deviations within one window (50 games)\n",
    "        ls_sd = np.std(lose_streak)\n",
    "        ws_sd = np.std(win_streak)\n",
    "        \n",
    "        streaks = []\n",
    "\n",
    "        streaks_0 = list(lose_streak)\n",
    "        streaks_0 = [x*(-1) for x in streaks_0]\n",
    "        # print(streaks_0[:20])\n",
    "\n",
    "        streaks_1 = list(win_streak)\n",
    "\n",
    "        streaks.extend(streaks_0)\n",
    "        streaks.extend(streaks_1)\n",
    "        \n",
    "        streak_mean = np.mean(streaks)\n",
    "        streak_sd = np.std(streaks)\n",
    "        # f_val = max(streak_sd, pop_sd)**2/min(streak_sd, pop_sd)**2\n",
    "        f_val = streak_sd**2/pop_sd**2\n",
    "        # if f_val > 1.36:\n",
    "        ### alpha = 0.01, df1 = 50, df2 = 1000000\n",
    "        if f_val > 1.5325:\n",
    "            f_critical_count += 1\n",
    "\n",
    "    f_crit_count_list.append(f_critical_count)\n",
    "#     # print(f'critical_count : {critical_count}')\n",
    "    \n",
    "# # print(crit_count_list)"
   ]
  },
  {
   "cell_type": "code",
   "execution_count": 453,
   "id": "7636d04f-ddb8-4cae-9a91-dd3a4c11c688",
   "metadata": {
    "tags": []
   },
   "outputs": [
    {
     "name": "stdout",
     "output_type": "stream",
     "text": [
      "232.661\n",
      "21.759137827588663\n",
      "-1.5786235618735802\n"
     ]
    }
   ],
   "source": [
    "print(np.mean(f_crit_count_list))\n",
    "print(np.std(f_crit_count_list))\n",
    "print(scipy.stats.skew(f_crit_count_list, axis=0, bias=True))\n",
    "\n",
    "### 232.661\n",
    "### 21.759137827588663"
   ]
  },
  {
   "cell_type": "code",
   "execution_count": 454,
   "id": "79de4752-8e82-4ff3-83f2-9b4c4b4112ee",
   "metadata": {
    "tags": []
   },
   "outputs": [
    {
     "data": {
      "image/png": "[encoded data removed]",
      "text/plain": [
       "<Figure size 640x480 with 1 Axes>"
      ]
     },
     "metadata": {},
     "output_type": "display_data"
    }
   ],
   "source": [
    "# plt.hist(perfectmm_counted[0], bins=30)\n",
    "# plt.hist(f_crit_count_list, edgecolor='yellow', bins=np.arange(1, 300, 1))\n",
    "# plt.hist(f_crit_count_list, edgecolor='yellow')\n",
    "# plt.hist(perfectmm_counted[0], bins=np.arange(1, 56, 1), width=1)\n",
    "\n",
    "plt.hist(f_crit_count_list, edgecolor='yellow', bins=np.arange(min(f_crit_count_list)-1, max(f_crit_count_list)+1, 1))\n",
    "\n",
    "plt.show()"
   ]
  },
  {
   "cell_type": "code",
   "execution_count": 455,
   "id": "0510a8e4-67c6-4bcb-b2f2-aa426d8645e7",
   "metadata": {
    "tags": []
   },
   "outputs": [
    {
     "data": {
      "text/plain": [
       "251"
      ]
     },
     "execution_count": 455,
     "metadata": {},
     "output_type": "execute_result"
    }
   ],
   "source": [
    "max(f_crit_count_list)"
   ]
  },
  {
   "cell_type": "code",
   "execution_count": 456,
   "id": "c675ee6b-4fd8-4629-b283-de6368828d4b",
   "metadata": {
    "tags": []
   },
   "outputs": [
    {
     "data": {
      "text/plain": [
       "130"
      ]
     },
     "execution_count": 456,
     "metadata": {},
     "output_type": "execute_result"
    }
   ],
   "source": [
    "min(f_crit_count_list)"
   ]
  },
  {
   "cell_type": "code",
   "execution_count": null,
   "id": "ffae9284-4f6c-4e80-a9f5-44f25f55eff1",
   "metadata": {},
   "outputs": [],
   "source": []
  },
  {
   "cell_type": "markdown",
   "id": "b29e6956-a1e4-4f6a-b97f-23fcc9a5d95d",
   "metadata": {},
   "source": [
    "## Live Data vs Population"
   ]
  },
  {
   "cell_type": "markdown",
   "id": "9c0ad18b-60e3-4c86-94f8-5c649f8d985f",
   "metadata": {},
   "source": [
    "### Bronze parti 0"
   ]
  },
  {
   "cell_type": "code",
   "execution_count": 549,
   "id": "096e4a0b-5a1f-413d-856e-d452039cae68",
   "metadata": {
    "tags": []
   },
   "outputs": [
    {
     "name": "stdout",
     "output_type": "stream",
     "text": [
      "['live_data/raw/bronze/partition_0/해적왕김단지.txt', 'live_data/raw/bronze/partition_0/성공은내손에.txt', 'live_data/raw/bronze/partition_0/무식하면폭발함.txt', 'live_data/raw/bronze/partition_0/liiiliilliiill.txt', 'live_data/raw/bronze/partition_0/기댈곳이없어.txt', 'live_data/raw/bronze/partition_0/노다.txt', 'live_data/raw/bronze/partition_0/날강두에서한반두.txt', 'live_data/raw/bronze/partition_0/숲이쌤.txt', 'live_data/raw/bronze/partition_0/pinkslayer.txt', 'live_data/raw/bronze/partition_0/asd50.txt']\n"
     ]
    }
   ],
   "source": [
    "parent_data_folder = 'live_data/raw'\n",
    "\n",
    "datafiles_list = glob.glob(f'{parent_data_folder}/bronze/partition_0/*.txt')\n",
    "datafiles_list = datafiles_list[:]\n",
    "print(datafiles_list[:10])\n",
    "\n",
    "\n",
    "f_crit_count_list = []\n",
    "for one_record_file in datafiles_list:\n",
    "    with open(one_record_file, 'r') as datafile:\n",
    "        one_record = datafile.read()\n",
    "    \n",
    "    one_record = ast.literal_eval(one_record)\n",
    "    one_record = one_record[:300]\n",
    "    \n",
    "    \n",
    "    ### critical count analysis\n",
    "    llen = len(one_record)\n",
    "    # print(f'len of one record : {llen}')\n",
    "    if llen != 0 and llen == 300:\n",
    "        # print(f'len of one record : {llen}')\n",
    "        \n",
    "\n",
    "        f_critical_count = 0\n",
    "        for i in range(llen-window_size+1):\n",
    "\n",
    "            one_window = one_record[i:i+window_size]\n",
    "\n",
    "            streak_counter_result = streak_counter(one_window)\n",
    "            lose_streak = streak_counter_result[0]\n",
    "            win_streak = streak_counter_result[1]\n",
    "\n",
    "            ### ls = lose streak // ws = win streak\n",
    "            ### means within one window (50 games)\n",
    "            ls_mean = np.mean(lose_streak)\n",
    "            ws_mean = np.mean(win_streak)\n",
    "\n",
    "            ### standard deviations within one window (50 games)\n",
    "            ls_sd = np.std(lose_streak)\n",
    "            ws_sd = np.std(win_streak)\n",
    "\n",
    "            streaks = []\n",
    "\n",
    "            streaks_0 = list(lose_streak)\n",
    "            streaks_0 = [x*(-1) for x in streaks_0]\n",
    "            # print(streaks_0[:20])\n",
    "\n",
    "            streaks_1 = list(win_streak)\n",
    "\n",
    "            streaks.extend(streaks_0)\n",
    "            streaks.extend(streaks_1)\n",
    "\n",
    "            streak_mean = np.mean(streaks)\n",
    "            streak_sd = np.std(streaks)\n",
    "            # f_val = max(streak_sd, pop_sd)**2/min(streak_sd, pop_sd)**2\n",
    "            f_val = streak_sd**2/pop_sd**2\n",
    "            # if f_val > 1.36:\n",
    "            ### alpha = 0.01, df1 = 50, df2 = 1000000\n",
    "            if f_val > 1.5325:\n",
    "                f_critical_count += 1\n",
    "\n",
    "        f_crit_count_list.append(f_critical_count)\n",
    "        \n",
    "    else:\n",
    "        pass\n",
    "\n",
    "        "
   ]
  },
  {
   "cell_type": "code",
   "execution_count": 550,
   "id": "d48ef20b-b308-43f3-9410-323df7de98fb",
   "metadata": {
    "tags": []
   },
   "outputs": [
    {
     "name": "stdout",
     "output_type": "stream",
     "text": [
      "[0, 15, 1, 10, 57, 70, 2, 35, 27, 29, 36, 43, 27, 29, 0, 2, 0, 1, 13, 26, 1, 2, 43, 55, 0, 0, 40, 19, 26, 7, 46, 103, 55, 44, 0, 48, 76, 13, 45, 0, 0, 22, 45, 14, 64, 4, 0, 19, 68, 30, 12, 25, 0, 16, 86, 0, 6, 40, 0, 0, 27, 60, 0, 61, 16, 0, 46, 15, 15, 44, 0, 45, 0, 47, 46, 2, 9, 16, 69, 30, 69, 8, 46, 0, 38, 56, 53, 55, 1, 9, 2, 56, 23, 34, 8, 0, 1, 0, 0, 48, 20, 18, 3, 35, 0, 32, 26, 3, 5, 0, 0, 1, 13, 2, 58, 0, 63, 97, 0, 14, 55, 51, 7, 8, 7, 17, 20, 11, 55, 7, 37, 41, 0, 25, 65, 35, 0, 14, 15, 3, 35, 0, 38, 9, 34, 13, 0, 11, 25, 0, 14, 36, 9, 0, 49, 0, 0, 77, 9, 119, 33, 8, 35, 59, 0, 3, 70, 0, 9, 64, 9, 63, 31, 4, 47, 27, 5, 2, 45, 28, 0, 1, 19, 0, 32, 30, 9, 0, 0, 0, 52, 4, 45, 0, 0, 20, 17, 53, 10, 20, 17, 9, 46, 0, 42, 43, 0, 0, 8, 2, 54, 8, 15, 5, 3, 48, 4, 48, 10, 12, 0, 0, 47, 9, 3, 3, 0, 0, 8, 48, 38, 9, 28, 66, 10, 58, 10, 85, 1, 10, 0, 0, 0, 121, 55, 26, 20, 46, 0, 20, 16, 34, 0, 62, 43, 0, 31, 16, 6, 28, 27, 62, 0, 129, 31, 0, 0, 16, 0, 0, 1, 31, 46, 46, 28, 19, 0, 0, 25, 0, 6, 0, 63, 34, 98, 4, 0, 52, 0, 2, 26, 0, 29, 47, 78, 0, 22, 83, 19, 33, 35, 0, 44, 0, 53, 42, 65, 88, 14, 19, 3, 94, 45, 22, 0, 0, 37, 9, 20, 21, 0, 32, 0, 21, 41, 17, 19, 78, 1, 7, 52, 56, 83, 93, 27, 13, 22, 5, 32, 48, 0, 44, 0, 0, 14, 0, 31, 15, 80, 52, 22, 21, 16, 35, 36, 9, 7, 0, 0, 0, 0, 55, 58, 28, 7, 0, 0, 56, 5, 37, 31, 61, 69, 33, 0, 51, 0, 12, 24, 24, 6, 60, 4, 50, 38, 5, 19, 45, 19, 0, 0, 89, 27, 19, 0, 0, 67, 43, 0, 1, 33, 0, 12, 10, 0, 1, 0, 5, 3, 44, 0, 0, 8, 7, 0, 20, 18, 84, 11, 9, 5, 4, 16, 6, 27, 0, 11, 0, 5, 4, 28, 2, 0, 26, 17, 46, 112, 34, 23, 41, 22, 28, 0, 26, 1, 22, 122, 32, 60]\n"
     ]
    }
   ],
   "source": [
    "print(f_crit_count_list)"
   ]
  },
  {
   "cell_type": "code",
   "execution_count": 551,
   "id": "3a8dd3e3-837a-4113-a4cf-0cfed5010ba1",
   "metadata": {
    "tags": []
   },
   "outputs": [
    {
     "data": {
      "text/plain": [
       "449"
      ]
     },
     "execution_count": 551,
     "metadata": {},
     "output_type": "execute_result"
    }
   ],
   "source": [
    "len(f_crit_count_list)"
   ]
  },
  {
   "cell_type": "code",
   "execution_count": 552,
   "id": "355491d6-7d8d-4a25-891f-3031f2633750",
   "metadata": {
    "tags": []
   },
   "outputs": [
    {
     "name": "stdout",
     "output_type": "stream",
     "text": [
      "24.06013363028953\n",
      "25.66311542034426\n",
      "1.2542563704868\n"
     ]
    }
   ],
   "source": [
    "print(np.mean(f_crit_count_list))\n",
    "print(np.std(f_crit_count_list))\n",
    "print(scipy.stats.skew(f_crit_count_list, axis=0, bias=True))\n",
    "\n",
    "\n",
    "### 24.06013363028953\n",
    "### 25.66311542034426\n",
    "### 1.2542563704868\n",
    "\n",
    "\n",
    "#### PerfectMM vs Population\n",
    "### 20.122\n",
    "### 22.718343161419146\n",
    "### 1.137660848861902\n"
   ]
  },
  {
   "cell_type": "code",
   "execution_count": null,
   "id": "29fcaeb7-ee43-4cbe-8c4a-a0cb47261668",
   "metadata": {},
   "outputs": [],
   "source": []
  },
  {
   "cell_type": "code",
   "execution_count": 553,
   "id": "1fceb78a-a1cc-4665-b4c1-678010ae3df3",
   "metadata": {
    "tags": []
   },
   "outputs": [
    {
     "name": "stdout",
     "output_type": "stream",
     "text": [
      "3.673135621625097\n"
     ]
    }
   ],
   "source": [
    "some_score = (24.06013363028953 - 20.122) / (22.718343161419146/np.sqrt(449))\n",
    "\n",
    "print(some_score)"
   ]
  },
  {
   "cell_type": "code",
   "execution_count": null,
   "id": "dc7de03c-4d34-49c2-8082-4876a2579ee0",
   "metadata": {},
   "outputs": [],
   "source": []
  },
  {
   "cell_type": "code",
   "execution_count": 554,
   "id": "efbf4fda-ff4a-4e16-8f2a-4d1e2e0a7b7e",
   "metadata": {
    "tags": []
   },
   "outputs": [
    {
     "data": {
      "image/png": "[encoded data removed]",
      "text/plain": [
       "<Figure size 640x480 with 1 Axes>"
      ]
     },
     "metadata": {},
     "output_type": "display_data"
    }
   ],
   "source": [
    "# plt.hist(perfectmm_counted[0], bins=30)\n",
    "# plt.hist(f_crit_count_list, edgecolor='yellow', bins=np.arange(1, 300, 1))\n",
    "# plt.hist(f_crit_count_list, edgecolor='yellow')\n",
    "# plt.hist(perfectmm_counted[0], bins=np.arange(1, 56, 1), width=1)\n",
    "\n",
    "plt.hist(f_crit_count_list, edgecolor='yellow', bins=np.arange(min(f_crit_count_list)-1, max(f_crit_count_list)+1, 1))\n",
    "\n",
    "plt.show()"
   ]
  },
  {
   "cell_type": "markdown",
   "id": "1b524e0c-456f-4f7b-a898-2ebafdcc03e2",
   "metadata": {},
   "source": [
    "#### - chi squared test"
   ]
  },
  {
   "cell_type": "code",
   "execution_count": 555,
   "id": "0b8b67d9-34f6-4677-805c-cf0703518f49",
   "metadata": {
    "tags": []
   },
   "outputs": [
    {
     "name": "stdout",
     "output_type": "stream",
     "text": [
      "{0: 102, 15: 6, 1: 13, 10: 7, 57: 1, 70: 2, 2: 10, 35: 7, 27: 8, 29: 3, 36: 3, 43: 5, 13: 5, 26: 7, 55: 7, 40: 2, 19: 10, 7: 8, 46: 9, 103: 1, 44: 5, 48: 6, 76: 1, 45: 7, 22: 7, 14: 6, 64: 2, 4: 8, 68: 1, 30: 3, 12: 4, 25: 4, 16: 8, 86: 1, 6: 5, 60: 3, 61: 2, 47: 4, 9: 14, 69: 3, 8: 8, 38: 4, 56: 4, 53: 3, 23: 2, 34: 5, 20: 8, 18: 2, 3: 9, 32: 5, 5: 9, 58: 3, 63: 3, 97: 1, 51: 2, 17: 5, 11: 4, 37: 3, 41: 3, 65: 2, 49: 1, 77: 1, 119: 1, 33: 4, 59: 1, 31: 6, 28: 7, 52: 4, 42: 2, 54: 1, 66: 1, 85: 1, 121: 1, 62: 2, 129: 1, 98: 1, 78: 2, 83: 2, 88: 1, 94: 1, 21: 3, 93: 1, 80: 1, 24: 2, 50: 1, 89: 1, 67: 1, 84: 1, 112: 1, 122: 1}\n",
      "{0: 102, 1: 13, 2: 10, 3: 9, 4: 8, 5: 9, 6: 5, 7: 8, 8: 8, 9: 14, 10: 7, 11: 4, 12: 4, 13: 5, 14: 6, 15: 6, 16: 8, 17: 5, 18: 2, 19: 10, 20: 8, 21: 3, 22: 7, 23: 2, 24: 2, 25: 4, 26: 7, 27: 8, 28: 7, 29: 3, 30: 3, 31: 6, 32: 5, 33: 4, 34: 5, 35: 7, 36: 3, 37: 3, 38: 4, 40: 2, 41: 3, 42: 2, 43: 5, 44: 5, 45: 7, 46: 9, 47: 4, 48: 6, 49: 1, 50: 1, 51: 2, 52: 4, 53: 3, 54: 1, 55: 7, 56: 4, 57: 1, 58: 3, 59: 1, 60: 3, 61: 2, 62: 2, 63: 3, 64: 2, 65: 2, 66: 1, 67: 1, 68: 1, 69: 3, 70: 2, 76: 1, 77: 1, 78: 2, 80: 1, 83: 2, 84: 1, 85: 1, 86: 1, 88: 1, 89: 1, 93: 1, 94: 1, 97: 1, 98: 1, 103: 1, 112: 1, 119: 1, 121: 1, 122: 1, 129: 1}\n",
      "> observed_crit_count_dict : {0: 102, 1: 13, 2: 10, 3: 9, 4: 8, 5: 9, 6: 5, 7: 8, 8: 8, 9: 14, 10: 7, 11: 4, 12: 4, 13: 5, 14: 6, 15: 6, 16: 8, 17: 5, 18: 2, 19: 10, 20: 8, 21: 3, 22: 7}\n",
      "261\n",
      "crit_count : 0\n",
      "expected : 122.00666394668842\n",
      "observed : 102\n",
      "numerator : 400.2666022757223\n",
      "chi_indi : 3.280694589359654\n",
      "------\n",
      "crit_count : 1\n",
      "expected : 13.318781449748402\n",
      "observed : 13\n",
      "numerator : 0.1016216127036927\n",
      "chi_indi : 0.007629948211637063\n",
      "------\n",
      "crit_count : 2\n",
      "expected : 10.75125798993608\n",
      "observed : 10\n",
      "numerator : 0.5643885674428001\n",
      "chi_indi : 0.05249511898710892\n",
      "------\n",
      "crit_count : 3\n",
      "expected : 9.284101727186181\n",
      "observed : 9\n",
      "numerator : 0.08071379139017133\n",
      "chi_indi : 0.008693764217794069\n",
      "------\n",
      "crit_count : 4\n",
      "expected : 8.274445804433565\n",
      "observed : 8\n",
      "numerator : 0.07532049957118668\n",
      "chi_indi : 0.009102784808963144\n",
      "------\n",
      "crit_count : 5\n",
      "expected : 7.607915136678907\n",
      "observed : 9\n",
      "numerator : 1.9379002666877072\n",
      "chi_indi : 0.2547215934816094\n",
      "------\n",
      "crit_count : 6\n",
      "expected : 6.988712090303278\n",
      "observed : 5\n",
      "numerator : 3.9549757781184343\n",
      "chi_indi : 0.5659091012786028\n",
      "------\n",
      "crit_count : 7\n",
      "expected : 6.546987624099008\n",
      "observed : 8\n",
      "numerator : 2.1112449645214464\n",
      "chi_indi : 0.32247578363369744\n",
      "------\n",
      "crit_count : 8\n",
      "expected : 6.4996600027199785\n",
      "observed : 8\n",
      "numerator : 2.2510201074382152\n",
      "chi_indi : 0.34632890128040666\n",
      "------\n",
      "crit_count : 9\n",
      "expected : 6.263021895824833\n",
      "observed : 14\n",
      "numerator : 59.86083018448596\n",
      "chi_indi : 9.557819081614811\n",
      "------\n",
      "crit_count : 10\n",
      "expected : 5.872569019447845\n",
      "observed : 7\n",
      "numerator : 1.2711006159087945\n",
      "chi_indi : 0.21644711398016178\n",
      "------\n",
      "crit_count : 11\n",
      "expected : 5.722698218414253\n",
      "observed : 4\n",
      "numerator : 2.967689151727642\n",
      "chi_indi : 0.518582151017214\n",
      "------\n",
      "crit_count : 12\n",
      "expected : 5.6832585339317285\n",
      "observed : 4\n",
      "numerator : 2.8333592920539923\n",
      "chi_indi : 0.498544853298069\n",
      "------\n",
      "crit_count : 13\n",
      "expected : 5.1626546987624105\n",
      "observed : 5\n",
      "numerator : 0.026456551029490488\n",
      "chi_indi : 0.005124602084240234\n",
      "------\n",
      "crit_count : 14\n",
      "expected : 5.0601115191078465\n",
      "observed : 6\n",
      "numerator : 0.88339035651376\n",
      "chi_indi : 0.17457922679726068\n",
      "------\n",
      "crit_count : 15\n",
      "expected : 4.80375356997144\n",
      "observed : 6\n",
      "numerator : 1.431005521356074\n",
      "chi_indi : 0.29789319966398314\n",
      "------\n",
      "crit_count : 16\n",
      "expected : 4.81952944376445\n",
      "observed : 8\n",
      "numerator : 10.115392959081268\n",
      "chi_indi : 2.098834144932687\n",
      "------\n",
      "crit_count : 17\n",
      "expected : 4.464572283421733\n",
      "observed : 5\n",
      "numerator : 0.2866828396802173\n",
      "chi_indi : 0.0642128341710929\n",
      "------\n",
      "crit_count : 18\n",
      "expected : 4.55922752617979\n",
      "observed : 2\n",
      "numerator : 6.5496455307563295\n",
      "chi_indi : 1.4365691321933927\n",
      "------\n",
      "crit_count : 19\n",
      "expected : 4.626274989800082\n",
      "observed : 10\n",
      "numerator : 28.876920485248107\n",
      "chi_indi : 6.241937746656945\n",
      "------\n",
      "crit_count : 20\n",
      "expected : 4.184550523595811\n",
      "observed : 8\n",
      "numerator : 14.557654706993\n",
      "chi_indi : 3.4789052312561193\n",
      "------\n",
      "crit_count : 21\n",
      "expected : 4.117503059975521\n",
      "observed : 3\n",
      "numerator : 1.2488130890546523\n",
      "chi_indi : 0.3032937853025121\n",
      "------\n",
      "crit_count : 22\n",
      "expected : 4.381748946008432\n",
      "observed : 7\n",
      "numerator : 6.855238581727959\n",
      "chi_indi : 1.5644982554221325\n",
      "------\n",
      "31.305292943650095\n"
     ]
    }
   ],
   "source": [
    "crit_count_dict = dict(Counter(f_crit_count_list))\n",
    "\n",
    "print(crit_count_dict)\n",
    "\n",
    "crit_count_dict = dict(sorted(crit_count_dict.items()))\n",
    "\n",
    "print(crit_count_dict)\n",
    "\n",
    "observed_crit_count_dict = {}\n",
    "\n",
    "for i in range(0,23):\n",
    "    if i in crit_count_dict.keys():\n",
    "        observed_crit_count_dict[i] = crit_count_dict[i]\n",
    "    else:\n",
    "        observed_crit_count_dict[i] = 0\n",
    "        \n",
    "print(f'> observed_crit_count_dict : {observed_crit_count_dict}')\n",
    "\n",
    "num_observed = np.sum(list(observed_crit_count_dict.values()))\n",
    "\n",
    "print(num_observed)\n",
    "\n",
    "\n",
    "sum_for_chi = 0\n",
    "\n",
    "for i in range(0,23):\n",
    "    expected = standard_ratios[i]*num_observed    ### = denominator\n",
    "    numerator = (observed_crit_count_dict[i] - expected)**2\n",
    "    \n",
    "    chi_indi = numerator/expected\n",
    "    \n",
    "    print(f'crit_count : {i}')\n",
    "    print(f'expected : {expected}')\n",
    "    print(f'observed : {observed_crit_count_dict[i]}')\n",
    "    print(f'numerator : {numerator}')\n",
    "    print(f'chi_indi : {chi_indi}')\n",
    "    print('------')\n",
    "\n",
    "    sum_for_chi += chi_indi\n",
    "                    \n",
    "print(sum_for_chi)\n",
    "    \n"
   ]
  },
  {
   "cell_type": "code",
   "execution_count": 322,
   "id": "4b98a430-29e9-4769-9955-cb2b03384831",
   "metadata": {},
   "outputs": [],
   "source": [
    "# crit_count_dict = dict(Counter(f_crit_count_list))\n",
    "\n",
    "# print(crit_count_dict)"
   ]
  },
  {
   "cell_type": "code",
   "execution_count": 323,
   "id": "5b8c6c1a-bc2b-4545-89bf-1b77bf999e5b",
   "metadata": {
    "tags": []
   },
   "outputs": [],
   "source": [
    "# crit_count_dict = dict(sorted(crit_count_dict.items()))\n",
    "\n",
    "# print(crit_count_dict)"
   ]
  },
  {
   "cell_type": "code",
   "execution_count": 182,
   "id": "12ce25e4-689b-4ea5-a28c-d24689c801f5",
   "metadata": {
    "tags": []
   },
   "outputs": [],
   "source": [
    "# type(pd.Series(list(crit_count_dict.values()))/1000)\n",
    "# pd.Series(list(crit_count_dict.values()))/449"
   ]
  },
  {
   "cell_type": "code",
   "execution_count": 324,
   "id": "709e840f-d741-4a3d-878f-53170cb9fbe7",
   "metadata": {
    "tags": []
   },
   "outputs": [],
   "source": [
    "# observed_crit_count_dict = {}\n",
    "\n",
    "# for i in range(0,50):\n",
    "#     if i in crit_count_dict.keys():\n",
    "#         observed_crit_count_dict[i] = crit_count_dict[i]\n",
    "#     else:\n",
    "#         observed_crit_count_dict[i] = 0\n",
    "        \n",
    "# print(observed_crit_count_dict)"
   ]
  },
  {
   "cell_type": "code",
   "execution_count": 325,
   "id": "23e10809-31a0-4d6e-93dc-fc1b80d35ee1",
   "metadata": {
    "tags": []
   },
   "outputs": [],
   "source": [
    "# np.sum(list(observed_crit_count_dict.values()))"
   ]
  },
  {
   "cell_type": "code",
   "execution_count": 326,
   "id": "25a46a67-c40c-4747-b793-9f6a29e4c267",
   "metadata": {
    "tags": []
   },
   "outputs": [],
   "source": [
    "# sum_for_chi = 0\n",
    "\n",
    "# for i in range(0,50):\n",
    "#     expected = standard_ratios[i]*378\n",
    "#     sum_for_chi += (observed_crit_count_dict[i] - expected)**2 / expected\n",
    "                    \n",
    "# print(sum_for_chi)\n",
    "    "
   ]
  },
  {
   "cell_type": "code",
   "execution_count": null,
   "id": "194c966f-4fa4-4a65-8ecb-85b2e86df704",
   "metadata": {},
   "outputs": [],
   "source": []
  },
  {
   "cell_type": "markdown",
   "id": "28a23d91-bd3c-4f64-bb7f-5bbb6ac6205a",
   "metadata": {},
   "source": [
    "### Bronze parti 1"
   ]
  },
  {
   "cell_type": "code",
   "execution_count": 525,
   "id": "05845b44-ff87-4aeb-a4e1-1215fd36b5a7",
   "metadata": {
    "tags": []
   },
   "outputs": [
    {
     "name": "stdout",
     "output_type": "stream",
     "text": [
      "['live_data/raw/bronze/partition_1/애좋사플러리짱.txt', 'live_data/raw/bronze/partition_1/한열나대기한마음.txt', 'live_data/raw/bronze/partition_1/박쫑.txt', 'live_data/raw/bronze/partition_1/입냄새스나이퍼.txt', 'live_data/raw/bronze/partition_1/hippoplaya.txt', 'live_data/raw/bronze/partition_1/밤꽃향버섯.txt', 'live_data/raw/bronze/partition_1/미성년자출입금지.txt', 'live_data/raw/bronze/partition_1/방구해요.txt', 'live_data/raw/bronze/partition_1/앵조님.txt', 'live_data/raw/bronze/partition_1/김주형님.txt']\n"
     ]
    }
   ],
   "source": [
    "parent_data_folder = 'live_data/raw'\n",
    "\n",
    "datafiles_list = glob.glob(f'{parent_data_folder}/bronze/partition_1/*.txt')\n",
    "datafiles_list = datafiles_list[:]\n",
    "print(datafiles_list[:10])\n",
    "\n",
    "\n",
    "f_crit_count_list = []\n",
    "for one_record_file in datafiles_list:\n",
    "    with open(one_record_file, 'r') as datafile:\n",
    "        one_record = datafile.read()\n",
    "    \n",
    "    one_record = ast.literal_eval(one_record)\n",
    "    one_record = one_record[:300]\n",
    "    \n",
    "    \n",
    "    ### critical count analysis\n",
    "    llen = len(one_record)\n",
    "    # print(f'len of one record : {llen}')\n",
    "    if llen != 0 and llen == 300:\n",
    "        # print(f'len of one record : {llen}')\n",
    "        \n",
    "\n",
    "        f_critical_count = 0\n",
    "        for i in range(llen-window_size+1):\n",
    "\n",
    "            one_window = one_record[i:i+window_size]\n",
    "\n",
    "            streak_counter_result = streak_counter(one_window)\n",
    "            lose_streak = streak_counter_result[0]\n",
    "            win_streak = streak_counter_result[1]\n",
    "\n",
    "            ### ls = lose streak // ws = win streak\n",
    "            ### means within one window (50 games)\n",
    "            ls_mean = np.mean(lose_streak)\n",
    "            ws_mean = np.mean(win_streak)\n",
    "\n",
    "            ### standard deviations within one window (50 games)\n",
    "            ls_sd = np.std(lose_streak)\n",
    "            ws_sd = np.std(win_streak)\n",
    "\n",
    "            streaks = []\n",
    "\n",
    "            streaks_0 = list(lose_streak)\n",
    "            streaks_0 = [x*(-1) for x in streaks_0]\n",
    "            # print(streaks_0[:20])\n",
    "\n",
    "            streaks_1 = list(win_streak)\n",
    "\n",
    "            streaks.extend(streaks_0)\n",
    "            streaks.extend(streaks_1)\n",
    "\n",
    "            streak_mean = np.mean(streaks)\n",
    "            streak_sd = np.std(streaks)\n",
    "            # f_val = max(streak_sd, pop_sd)**2/min(streak_sd, pop_sd)**2\n",
    "            f_val = streak_sd**2/pop_sd**2\n",
    "            # if f_val > 1.36:\n",
    "            ### alpha = 0.01, df1 = 50, df2 = 1000000\n",
    "            if f_val > 1.5325:\n",
    "                f_critical_count += 1\n",
    "\n",
    "        f_crit_count_list.append(f_critical_count)\n",
    "        \n",
    "    else:\n",
    "        pass\n"
   ]
  },
  {
   "cell_type": "code",
   "execution_count": 526,
   "id": "f3738ca4-6d9a-43db-bc58-ce2faa0d11be",
   "metadata": {
    "tags": []
   },
   "outputs": [
    {
     "name": "stdout",
     "output_type": "stream",
     "text": [
      "[39, 0, 7, 2, 1, 38, 44, 37, 4, 41, 18, 8, 0, 61, 0, 44, 31, 1, 0, 0, 44, 28, 18, 0, 0, 0, 55, 0, 0, 25, 0, 23, 0, 22, 36, 3, 15, 2, 43, 90, 18, 57, 19, 0, 8, 3, 51, 0, 45, 1, 10, 37, 5, 29, 9, 38, 0, 0, 9, 25, 20, 3, 0, 6, 40, 17, 39, 0, 26, 1, 34, 16, 44, 43, 14, 87, 59, 0, 18, 0, 1, 4, 36, 26, 3, 0, 24, 0, 10, 80, 0, 0, 16, 13, 9, 1, 17, 28, 4, 38, 62, 14, 50, 15, 18, 5, 19, 10, 38, 2, 60, 7, 75, 12, 71, 0, 48, 0, 49, 0, 57, 0, 33, 23, 0, 17, 0, 56, 1, 204, 35, 5, 0, 21, 43, 0, 0, 0, 3, 46, 35, 0, 10, 0, 14, 0, 24, 0, 1, 39, 0, 14, 0, 3, 0, 21, 62, 16, 16, 35, 2, 24, 44, 13, 45, 26, 12, 75, 65, 0, 68, 11, 0, 3, 45, 31, 0, 0, 23, 17, 61, 56, 42, 78, 67, 59, 14, 0, 30, 0, 23, 0, 58, 1, 0, 1, 62, 6, 35, 6, 6, 22, 47, 0, 0, 1, 1, 28, 16, 0, 28, 44, 4, 0, 9, 8, 66, 15, 51, 71, 34, 0, 0, 59, 5, 45, 45, 0, 0, 31, 0, 0, 30, 0, 0, 60, 6, 8, 29, 5, 18, 0, 22, 12, 43, 15, 0, 0, 25, 9, 22, 46, 6, 54, 0, 91, 1, 3, 15, 0, 0, 38, 0, 14, 12, 2, 30, 0, 45, 4, 31, 88, 30, 12, 39, 10, 35, 0, 0, 21, 47, 35, 6, 14, 3, 0, 68, 0, 0, 0, 0, 8, 60, 0, 14, 1, 0, 16, 36, 17, 9, 26, 45, 14, 22, 2, 53, 85, 0, 18, 42, 1, 53, 0, 0, 13, 0, 3, 6, 0, 41, 37, 0, 13, 36, 46, 0, 4, 27, 19, 0, 33, 63, 0, 0, 34, 1, 44, 4, 0, 45, 2, 26, 34, 31, 0, 36, 31, 0, 0, 41, 0, 38, 23, 0, 6, 7, 20, 32, 46, 10, 42, 0, 26, 34, 0, 67, 0, 33, 38, 0, 18, 1, 25, 44, 1, 13, 43, 0, 0, 48, 16, 11, 0, 109, 49, 46, 24, 5, 0, 0, 0, 37, 57, 84, 71, 0, 41, 20, 52, 32, 0, 87, 39, 50, 8, 0, 0, 38, 10, 8, 0, 108, 50, 53, 45, 0, 5, 0, 0, 0, 0, 0, 2, 2, 95, 5, 109, 20, 64, 43, 37, 10, 0, 40, 41, 7, 35, 23, 26, 31, 35, 88, 0, 1, 0, 16, 17, 8, 4, 33, 34, 0, 38, 67, 25, 0, 0, 4, 29, 0, 0, 61, 26, 0, 59, 40, 0, 9, 11, 38, 0, 0, 7, 0, 31, 69, 38, 87, 18, 19, 80, 0, 2, 4, 75, 36, 14, 58, 68, 76, 2, 12, 9, 0, 41, 0]\n"
     ]
    }
   ],
   "source": [
    "print(f_crit_count_list)"
   ]
  },
  {
   "cell_type": "code",
   "execution_count": 527,
   "id": "b4abe2c3-044d-4add-a4cf-82b8f194926e",
   "metadata": {
    "tags": []
   },
   "outputs": [
    {
     "data": {
      "text/plain": [
       "497"
      ]
     },
     "execution_count": 527,
     "metadata": {},
     "output_type": "execute_result"
    }
   ],
   "source": [
    "len(f_crit_count_list)"
   ]
  },
  {
   "cell_type": "code",
   "execution_count": 528,
   "id": "cfc73fcd-71c8-475d-bb98-ed9cceb15571",
   "metadata": {
    "tags": []
   },
   "outputs": [
    {
     "name": "stdout",
     "output_type": "stream",
     "text": [
      "22.321931589537222\n",
      "25.24099101971418\n",
      "1.6431936099030526\n"
     ]
    }
   ],
   "source": [
    "print(np.mean(f_crit_count_list))\n",
    "print(np.std(f_crit_count_list))\n",
    "print(scipy.stats.skew(f_crit_count_list, axis=0, bias=True))\n",
    "\n",
    "### 22.321931589537222\n",
    "### 25.24099101971418\n",
    "### 1.6431936099030526\n",
    "\n",
    "#### PerfectMM vs Population\n",
    "### 20.122\n",
    "### 22.718343161419146\n",
    "### 1.137660848861902\n"
   ]
  },
  {
   "cell_type": "code",
   "execution_count": 529,
   "id": "96bce806-a110-4acf-8fe5-2d73555c548d",
   "metadata": {
    "tags": []
   },
   "outputs": [
    {
     "name": "stdout",
     "output_type": "stream",
     "text": [
      "2.158791577547426\n"
     ]
    }
   ],
   "source": [
    "some_score = (22.321931589537222 - 20.122) / (22.718343161419146/np.sqrt(497))\n",
    "\n",
    "print(some_score)"
   ]
  },
  {
   "cell_type": "code",
   "execution_count": null,
   "id": "c109c7f3-74cf-44cf-827f-4d6f1080a62a",
   "metadata": {},
   "outputs": [],
   "source": []
  },
  {
   "cell_type": "code",
   "execution_count": 530,
   "id": "148889a2-dab8-4bfb-9094-8c7024585413",
   "metadata": {
    "tags": []
   },
   "outputs": [
    {
     "data": {
      "image/png": "[encoded data removed]",
      "text/plain": [
       "<Figure size 640x480 with 1 Axes>"
      ]
     },
     "metadata": {},
     "output_type": "display_data"
    }
   ],
   "source": [
    "# plt.hist(perfectmm_counted[0], bins=30)\n",
    "# plt.hist(f_crit_count_list, edgecolor='yellow', bins=np.arange(1, 300, 1))\n",
    "# plt.hist(f_crit_count_list, edgecolor='yellow')\n",
    "# plt.hist(perfectmm_counted[0], bins=np.arange(1, 56, 1), width=1)\n",
    "\n",
    "plt.hist(f_crit_count_list, edgecolor='yellow', bins=np.arange(min(f_crit_count_list)-1, max(f_crit_count_list)+1, 1))\n",
    "\n",
    "plt.show()"
   ]
  },
  {
   "cell_type": "code",
   "execution_count": 531,
   "id": "22ae51f6-4039-4a33-9e02-f1c4b73bcfd9",
   "metadata": {
    "tags": []
   },
   "outputs": [
    {
     "data": {
      "text/plain": [
       "1.6431936099030526"
      ]
     },
     "execution_count": 531,
     "metadata": {},
     "output_type": "execute_result"
    }
   ],
   "source": [
    "scipy.stats.skew(f_crit_count_list, axis=0, bias=True)"
   ]
  },
  {
   "cell_type": "code",
   "execution_count": 532,
   "id": "398fb3ed-da07-4092-872b-3ce59b2106fb",
   "metadata": {
    "tags": []
   },
   "outputs": [
    {
     "data": {
      "text/plain": [
       "0"
      ]
     },
     "execution_count": 532,
     "metadata": {},
     "output_type": "execute_result"
    }
   ],
   "source": [
    "min(f_crit_count_list)"
   ]
  },
  {
   "cell_type": "markdown",
   "id": "8edce9ab-79fd-4e73-9cf1-f38f3d58161e",
   "metadata": {},
   "source": [
    "#### - chi squared test"
   ]
  },
  {
   "cell_type": "code",
   "execution_count": 540,
   "id": "bfa9eb0d-8ba4-4dfa-be25-df97ec83bb45",
   "metadata": {},
   "outputs": [
    {
     "name": "stdout",
     "output_type": "stream",
     "text": [
      "{39: 5, 0: 131, 7: 5, 2: 11, 1: 19, 38: 11, 44: 8, 37: 5, 4: 10, 41: 6, 18: 9, 8: 8, 61: 3, 31: 8, 28: 4, 55: 1, 25: 5, 23: 6, 22: 5, 36: 6, 3: 10, 15: 5, 43: 6, 90: 1, 57: 3, 19: 4, 51: 2, 45: 9, 10: 8, 5: 8, 29: 3, 9: 8, 20: 4, 6: 9, 40: 3, 17: 6, 26: 8, 34: 6, 16: 8, 14: 10, 87: 3, 59: 4, 24: 4, 80: 2, 13: 5, 62: 3, 50: 3, 60: 3, 75: 3, 12: 6, 71: 3, 48: 2, 49: 2, 33: 4, 56: 2, 204: 1, 35: 8, 21: 3, 46: 5, 65: 1, 68: 3, 11: 3, 42: 3, 78: 1, 67: 3, 30: 4, 58: 2, 47: 2, 66: 1, 54: 1, 91: 1, 88: 2, 53: 3, 85: 1, 27: 1, 63: 1, 32: 2, 109: 2, 84: 1, 52: 1, 108: 1, 95: 1, 64: 1, 69: 1, 76: 1}\n",
      "{0: 131, 1: 19, 2: 11, 3: 10, 4: 10, 5: 8, 6: 9, 7: 5, 8: 8, 9: 8, 10: 8, 11: 3, 12: 6, 13: 5, 14: 10, 15: 5, 16: 8, 17: 6, 18: 9, 19: 4, 20: 4, 21: 3, 22: 5, 23: 6, 24: 4, 25: 5, 26: 8, 27: 1, 28: 4, 29: 3, 30: 4, 31: 8, 32: 2, 33: 4, 34: 6, 35: 8, 36: 6, 37: 5, 38: 11, 39: 5, 40: 3, 41: 6, 42: 3, 43: 6, 44: 8, 45: 9, 46: 5, 47: 2, 48: 2, 49: 2, 50: 3, 51: 2, 52: 1, 53: 3, 54: 1, 55: 1, 56: 2, 57: 3, 58: 2, 59: 4, 60: 3, 61: 3, 62: 3, 63: 1, 64: 1, 65: 1, 66: 1, 67: 3, 68: 3, 69: 1, 71: 3, 75: 3, 76: 1, 78: 1, 80: 2, 84: 1, 85: 1, 87: 3, 88: 2, 90: 1, 91: 1, 95: 1, 108: 1, 109: 2, 204: 1}\n",
      "{0: 131, 1: 19, 2: 11, 3: 10, 4: 10, 5: 8, 6: 9, 7: 5, 8: 8, 9: 8, 10: 8, 11: 3, 12: 6, 13: 5, 14: 10, 15: 5, 16: 8, 17: 6, 18: 9, 19: 4, 20: 4, 21: 3, 22: 5}\n",
      "295\n",
      "crit_count : 0\n",
      "expected : 137.90025235353673\n",
      "observed : 131\n",
      "numerator : 47.613482542489166\n",
      "chi_indi : 0.34527480356179363\n",
      "------\n",
      "crit_count : 1\n",
      "expected : 15.053795125194553\n",
      "observed : 19\n",
      "numerator : 15.572532913938277\n",
      "chi_indi : 1.0344589377249824\n",
      "------\n",
      "crit_count : 2\n",
      "expected : 12.15180500778216\n",
      "observed : 11\n",
      "numerator : 1.3266547759520622\n",
      "chi_indi : 0.1091734746486186\n",
      "------\n",
      "crit_count : 3\n",
      "expected : 10.493524940689362\n",
      "observed : 10\n",
      "numerator : 0.2435668670824381\n",
      "chi_indi : 0.023211158162686676\n",
      "------\n",
      "crit_count : 4\n",
      "expected : 9.352342959034106\n",
      "observed : 10\n",
      "numerator : 0.4194596427126982\n",
      "chi_indi : 0.04485075499797746\n",
      "------\n",
      "crit_count : 5\n",
      "expected : 8.598984541457002\n",
      "observed : 8\n",
      "numerator : 0.3587824809044545\n",
      "chi_indi : 0.04172381973414536\n",
      "------\n",
      "crit_count : 6\n",
      "expected : 7.899119029269988\n",
      "observed : 9\n",
      "numerator : 1.2119389117154535\n",
      "chi_indi : 0.15342709829091628\n",
      "------\n",
      "crit_count : 7\n",
      "expected : 7.399851912295813\n",
      "observed : 5\n",
      "numerator : 5.759289200949871\n",
      "chi_indi : 0.7782978996350002\n",
      "------\n",
      "crit_count : 8\n",
      "expected : 7.346359006905723\n",
      "observed : 8\n",
      "numerator : 0.427246547853273\n",
      "chi_indi : 0.05815759173376264\n",
      "------\n",
      "crit_count : 9\n",
      "expected : 7.078894479955271\n",
      "observed : 8\n",
      "numerator : 0.8484353790568705\n",
      "chi_indi : 0.1198542203813485\n",
      "------\n",
      "crit_count : 10\n",
      "expected : 6.637578010487027\n",
      "observed : 8\n",
      "numerator : 1.8561936775084882\n",
      "chi_indi : 0.2796492447359261\n",
      "------\n",
      "crit_count : 11\n",
      "expected : 6.468183810085075\n",
      "observed : 3\n",
      "numerator : 12.02829894053623\n",
      "chi_indi : 1.8596099451876928\n",
      "------\n",
      "crit_count : 12\n",
      "expected : 6.423606388926666\n",
      "observed : 6\n",
      "numerator : 0.17944237273949012\n",
      "chi_indi : 0.027934833156779634\n",
      "------\n",
      "crit_count : 13\n",
      "expected : 5.8351844296356745\n",
      "observed : 5\n",
      "numerator : 0.697533031505867\n",
      "chi_indi : 0.11953915765939521\n",
      "------\n",
      "crit_count : 14\n",
      "expected : 5.7192831346238115\n",
      "observed : 10\n",
      "numerator : 18.324536881516142\n",
      "chi_indi : 3.2039919077588115\n",
      "------\n",
      "crit_count : 15\n",
      "expected : 5.429529897094157\n",
      "observed : 5\n",
      "numerator : 0.18449593249771692\n",
      "chi_indi : 0.033980093303557966\n",
      "------\n",
      "crit_count : 16\n",
      "expected : 5.4473608655575205\n",
      "observed : 8\n",
      "numerator : 6.515966550687251\n",
      "chi_indi : 1.1961694316758584\n",
      "------\n",
      "crit_count : 17\n",
      "expected : 5.046164075131843\n",
      "observed : 6\n",
      "numerator : 0.9098029715690923\n",
      "chi_indi : 0.18029595511028276\n",
      "------\n",
      "crit_count : 18\n",
      "expected : 5.153149885912024\n",
      "observed : 9\n",
      "numerator : 14.798255800258676\n",
      "chi_indi : 2.8716913204319936\n",
      "------\n",
      "crit_count : 19\n",
      "expected : 5.228931501881319\n",
      "observed : 4\n",
      "numerator : 1.5102726363162742\n",
      "chi_indi : 0.28883006705536163\n",
      "------\n",
      "crit_count : 20\n",
      "expected : 4.729664384907142\n",
      "observed : 4\n",
      "numerator : 0.5324101146019182\n",
      "chi_indi : 0.11256826516082093\n",
      "------\n",
      "crit_count : 21\n",
      "expected : 4.653882768937849\n",
      "observed : 3\n",
      "numerator : 2.7353282133895256\n",
      "chi_indi : 0.5877518513457972\n",
      "------\n",
      "crit_count : 22\n",
      "expected : 4.952551490699185\n",
      "observed : 5\n",
      "numerator : 0.0022513610348695286\n",
      "chi_indi : 0.00045458609347071905\n",
      "------\n",
      "13.47089641754698\n"
     ]
    }
   ],
   "source": [
    "crit_count_dict = dict(Counter(f_crit_count_list))\n",
    "\n",
    "print(crit_count_dict)\n",
    "\n",
    "crit_count_dict = dict(sorted(crit_count_dict.items()))\n",
    "\n",
    "print(crit_count_dict)\n",
    "\n",
    "observed_crit_count_dict = {}\n",
    "\n",
    "for i in range(0,23):\n",
    "    if i in crit_count_dict.keys():\n",
    "        observed_crit_count_dict[i] = crit_count_dict[i]\n",
    "    else:\n",
    "        observed_crit_count_dict[i] = 0\n",
    "        \n",
    "print(observed_crit_count_dict)\n",
    "\n",
    "num_observed = np.sum(list(observed_crit_count_dict.values()))\n",
    "\n",
    "print(num_observed)\n",
    "\n",
    "\n",
    "sum_for_chi = 0\n",
    "\n",
    "for i in range(0,23):\n",
    "    expected = standard_ratios[i]*num_observed    ### = denominator\n",
    "    numerator = (observed_crit_count_dict[i] - expected)**2\n",
    "    \n",
    "    chi_indi = numerator/expected\n",
    "    \n",
    "    print(f'crit_count : {i}')\n",
    "    print(f'expected : {expected}')\n",
    "    print(f'observed : {observed_crit_count_dict[i]}')\n",
    "    print(f'numerator : {numerator}')\n",
    "    print(f'chi_indi : {chi_indi}')\n",
    "    print('------')\n",
    "\n",
    "    sum_for_chi += chi_indi\n",
    "                    \n",
    "print(sum_for_chi)\n",
    "    \n"
   ]
  },
  {
   "cell_type": "code",
   "execution_count": null,
   "id": "c530a364-1c03-4d74-b0b7-32fc77e4f9ac",
   "metadata": {},
   "outputs": [],
   "source": []
  },
  {
   "cell_type": "markdown",
   "id": "2046d9ac-ec28-4794-a311-f8af9037ed6e",
   "metadata": {},
   "source": [
    "### Diamond parti 0"
   ]
  },
  {
   "cell_type": "code",
   "execution_count": 541,
   "id": "12a3c319-3690-458b-a589-a9f7101f50da",
   "metadata": {
    "tags": []
   },
   "outputs": [
    {
     "name": "stdout",
     "output_type": "stream",
     "text": [
      "['live_data/raw/diamond/partition_0/우루쭝궈우슈찌부.txt', 'live_data/raw/diamond/partition_0/cmpeor.txt', 'live_data/raw/diamond/partition_0/평타질.txt', 'live_data/raw/diamond/partition_0/나무도령.txt', 'live_data/raw/diamond/partition_0/poach.txt', 'live_data/raw/diamond/partition_0/이비르.txt', 'live_data/raw/diamond/partition_0/ltrickshowl.txt', 'live_data/raw/diamond/partition_0/배불뚝이fan.txt', 'live_data/raw/diamond/partition_0/봉도.txt', 'live_data/raw/diamond/partition_0/니네랑자랭안함.txt']\n"
     ]
    }
   ],
   "source": [
    "parent_data_folder = 'live_data/raw'\n",
    "\n",
    "datafiles_list = glob.glob(f'{parent_data_folder}/diamond/partition_0/*.txt')\n",
    "datafiles_list = datafiles_list[:]\n",
    "print(datafiles_list[:10])\n",
    "\n",
    "\n",
    "f_crit_count_list = []\n",
    "for one_record_file in datafiles_list:\n",
    "    with open(one_record_file, 'r') as datafile:\n",
    "        one_record = datafile.read()\n",
    "    \n",
    "    one_record = ast.literal_eval(one_record)\n",
    "    one_record = one_record[:300]\n",
    "    \n",
    "    \n",
    "    ### critical count analysis\n",
    "    llen = len(one_record)\n",
    "    # print(f'len of one record : {llen}')\n",
    "    if llen != 0 and llen == 300:\n",
    "        # print(f'len of one record : {llen}')\n",
    "        \n",
    "\n",
    "        f_critical_count = 0\n",
    "        for i in range(llen-window_size+1):\n",
    "\n",
    "            one_window = one_record[i:i+window_size]\n",
    "\n",
    "            streak_counter_result = streak_counter(one_window)\n",
    "            lose_streak = streak_counter_result[0]\n",
    "            win_streak = streak_counter_result[1]\n",
    "\n",
    "            ### ls = lose streak // ws = win streak\n",
    "            ### means within one window (50 games)\n",
    "            ls_mean = np.mean(lose_streak)\n",
    "            ws_mean = np.mean(win_streak)\n",
    "\n",
    "            ### standard deviations within one window (50 games)\n",
    "            ls_sd = np.std(lose_streak)\n",
    "            ws_sd = np.std(win_streak)\n",
    "\n",
    "            streaks = []\n",
    "\n",
    "            streaks_0 = list(lose_streak)\n",
    "            streaks_0 = [x*(-1) for x in streaks_0]\n",
    "            # print(streaks_0[:20])\n",
    "\n",
    "            streaks_1 = list(win_streak)\n",
    "\n",
    "            streaks.extend(streaks_0)\n",
    "            streaks.extend(streaks_1)\n",
    "\n",
    "            streak_mean = np.mean(streaks)\n",
    "            streak_sd = np.std(streaks)\n",
    "            # f_val = max(streak_sd, pop_sd)**2/min(streak_sd, pop_sd)**2\n",
    "            f_val = streak_sd**2/pop_sd**2\n",
    "            # if f_val > 1.36:\n",
    "            ### alpha = 0.01, df1 = 50, df2 = 1000000\n",
    "            if f_val > 1.5325:\n",
    "                f_critical_count += 1\n",
    "\n",
    "        f_crit_count_list.append(f_critical_count)\n",
    "        \n",
    "    else:\n",
    "        pass\n",
    "\n",
    "        "
   ]
  },
  {
   "cell_type": "code",
   "execution_count": 542,
   "id": "c2f55e1e-4ff0-437c-be7a-fb786e6a9dff",
   "metadata": {
    "tags": []
   },
   "outputs": [
    {
     "name": "stdout",
     "output_type": "stream",
     "text": [
      "[20, 41, 26, 11, 0, 6, 8, 4, 12, 33, 0, 36, 0, 0, 11, 12, 5, 0, 9, 34, 50, 46, 62, 32, 71, 5, 13, 0, 0, 0, 71, 13, 27, 92, 86, 51, 0, 43, 108, 12, 0, 0, 72, 8, 35, 20, 0, 45, 0, 13, 8, 27, 88, 2, 0, 25, 23, 18, 54, 0, 63, 52, 32, 0, 42, 28, 15, 54, 11, 29, 0, 70, 49, 26, 0, 9, 41, 0, 54, 28, 6, 1, 88, 44, 0, 29, 9, 16, 42, 15, 0, 27, 31, 0, 42, 6, 91, 9, 0, 46, 18, 0, 74, 19, 0, 10, 5, 9, 25, 79, 0, 18, 0, 15, 28, 39, 25, 31, 13, 0, 47, 39, 77, 6, 31, 0, 73, 0, 45, 31, 0, 28, 0, 11, 40, 30, 1, 0, 40, 17, 52, 25, 4, 28, 85, 9, 11, 26, 22, 6, 23, 11, 3, 1, 3, 10, 45, 1, 38, 30, 4, 75, 36, 0, 38, 0, 48, 0, 29, 11, 4, 9, 77, 21, 0, 0, 0, 13, 4, 1, 0, 33, 0, 96, 3, 0, 11, 61, 0, 15, 25, 0, 25, 35, 1, 48, 0, 45, 47, 0, 2, 71, 30, 0, 18, 20, 0, 30, 4, 11, 0, 11, 13, 11, 0, 5, 26, 53, 1, 106, 4, 13, 22, 0, 14, 31, 4, 0, 77, 65, 141, 102, 27, 52, 7, 0, 36, 58, 52, 29, 0, 21, 39, 28, 0, 42, 72, 20, 5, 55, 57, 26, 88, 0, 8, 2, 49, 5, 0, 0, 9, 47, 57, 46, 44, 24, 40, 39, 38, 0, 0, 73, 2, 67, 6, 37, 37, 33, 9, 52, 42, 35, 110, 50, 60, 0, 0, 42, 16, 0, 33, 2, 0, 40, 28, 39, 32, 34, 69, 8, 79, 0, 0, 26, 0, 23, 24, 11, 22, 46, 16, 26, 32, 27, 0, 1, 59, 17, 0, 0, 2, 0, 0, 8, 3, 18, 10, 50, 18, 4, 0, 4, 28, 51, 0, 0, 23, 22, 84, 41, 0, 76, 59, 0, 6, 4, 50, 3, 0, 28, 7, 39, 1, 22, 38, 17, 2, 31, 20, 44, 44, 4, 0, 0, 0, 0, 0, 59, 48, 20, 4, 10, 2, 31, 13, 15, 11, 16, 72, 30, 0, 23, 28, 14, 0, 45, 30, 57, 30, 0, 29, 65, 54, 40, 0, 36, 31, 59, 4, 54, 0, 0, 68, 34, 17, 3, 37, 6, 20, 0, 50, 31, 2, 36, 37, 46, 4, 4, 27, 65, 0, 125, 7, 0, 0, 71, 87, 20, 16, 0, 13, 72, 35, 34, 3, 17, 3, 66, 21, 2, 23, 51, 42, 75, 22, 77, 7, 64, 0, 0, 33, 26, 38, 0, 36, 30, 50, 0, 51, 17, 25, 1, 2, 0, 5, 0, 24, 2, 100, 6, 39, 51, 35, 4, 0, 16, 55, 51, 12, 51, 6, 105, 42, 36, 12, 7, 19, 106, 21, 4, 47, 0, 10, 24, 37, 46, 68, 36, 94, 49, 0, 74, 39, 46, 24, 0, 12, 55, 42, 79, 66, 120, 47, 0, 42, 23, 0, 15, 32, 62, 48, 49, 47, 21, 0, 0, 5, 2, 96, 44, 2, 48, 51, 4, 19, 0, 47, 23, 4, 10, 59, 2, 52, 0, 2, 0, 32, 8, 15, 31, 28, 35, 55, 30, 39, 31, 0, 0, 4, 43, 61, 4, 11, 37, 77, 16, 37, 28, 31, 38, 33, 39, 0, 7, 74, 20, 5, 20, 0, 8, 50, 26, 0, 0, 3, 8, 31, 73, 53, 0, 40, 44, 77, 0, 5, 32, 0, 24, 0, 71, 0, 21, 4, 43, 3, 0, 6, 0, 70, 19, 2, 0, 28, 29, 78, 47, 48, 45, 31, 0, 92, 0, 3, 0, 42, 9, 40, 96, 110, 0, 0, 17, 0, 15, 45, 9, 0, 21, 16, 41, 52, 23, 24, 0, 47, 50, 0, 0, 11, 0, 50, 5, 50, 0, 19, 4, 33, 3, 85, 16]\n"
     ]
    }
   ],
   "source": [
    "print(f_crit_count_list)"
   ]
  },
  {
   "cell_type": "code",
   "execution_count": 543,
   "id": "ea3246f8-1919-409d-ad74-85950c041139",
   "metadata": {
    "tags": []
   },
   "outputs": [
    {
     "data": {
      "text/plain": [
       "660"
      ]
     },
     "execution_count": 543,
     "metadata": {},
     "output_type": "execute_result"
    }
   ],
   "source": [
    "len(f_crit_count_list)"
   ]
  },
  {
   "cell_type": "code",
   "execution_count": 544,
   "id": "4a630a24-4803-4167-967f-fd535a0e66b2",
   "metadata": {
    "tags": []
   },
   "outputs": [
    {
     "name": "stdout",
     "output_type": "stream",
     "text": [
      "26.13030303030303\n",
      "26.287247569052518\n",
      "1.1064562437273329\n"
     ]
    }
   ],
   "source": [
    "print(np.mean(f_crit_count_list))\n",
    "print(np.std(f_crit_count_list))\n",
    "print(scipy.stats.skew(f_crit_count_list, axis=0, bias=True))\n",
    "\n",
    "\n",
    "### 26.13030303030303\n",
    "### 26.287247569052518\n",
    "### 1.1064562437273329\n",
    "\n",
    "\n",
    "#### PerfectMM vs Population\n",
    "### 20.122\n",
    "### 22.718343161419146\n",
    "### 1.137660848861902\n"
   ]
  },
  {
   "cell_type": "code",
   "execution_count": 545,
   "id": "4cc4160a-1c2c-460b-85f3-509951b030e6",
   "metadata": {
    "tags": []
   },
   "outputs": [
    {
     "data": {
      "text/plain": [
       "1.3388654050454454"
      ]
     },
     "execution_count": 545,
     "metadata": {},
     "output_type": "execute_result"
    }
   ],
   "source": [
    "(26.287247569052518)**2/22.718343161419146**2"
   ]
  },
  {
   "cell_type": "code",
   "execution_count": 546,
   "id": "219ac0ce-a7ae-4791-b8a8-a2db86c9425e",
   "metadata": {
    "tags": []
   },
   "outputs": [
    {
     "data": {
      "image/png": "[encoded data removed]",
      "text/plain": [
       "<Figure size 640x480 with 1 Axes>"
      ]
     },
     "metadata": {},
     "output_type": "display_data"
    }
   ],
   "source": [
    "# plt.hist(perfectmm_counted[0], bins=30)\n",
    "# plt.hist(f_crit_count_list, edgecolor='yellow', bins=np.arange(1, 300, 1))\n",
    "# plt.hist(f_crit_count_list, edgecolor='yellow')\n",
    "# plt.hist(perfectmm_counted[0], bins=np.arange(1, 56, 1), width=1)\n",
    "\n",
    "plt.hist(f_crit_count_list, edgecolor='yellow', bins=np.arange(min(f_crit_count_list)-1, max(f_crit_count_list)+1, 1))\n",
    "\n",
    "plt.show()"
   ]
  },
  {
   "cell_type": "code",
   "execution_count": 547,
   "id": "fbf6570f-200e-48aa-88bb-78161b32fe4c",
   "metadata": {
    "tags": []
   },
   "outputs": [
    {
     "name": "stdout",
     "output_type": "stream",
     "text": [
      "6.79433788625982\n"
     ]
    }
   ],
   "source": [
    "some_score = (26.13030303030303 - 20.122) / (22.718343161419146/np.sqrt(660))\n",
    "\n",
    "print(some_score)"
   ]
  },
  {
   "cell_type": "markdown",
   "id": "02834fae-e2f6-4860-9341-699a20c0db61",
   "metadata": {},
   "source": [
    "#### - chi squared test"
   ]
  },
  {
   "cell_type": "code",
   "execution_count": 548,
   "id": "1f6b06d5-8230-4beb-a15b-01e3a43c2823",
   "metadata": {},
   "outputs": [
    {
     "name": "stdout",
     "output_type": "stream",
     "text": [
      "{20: 10, 41: 4, 26: 9, 11: 15, 0: 137, 6: 11, 8: 9, 4: 24, 12: 6, 33: 7, 36: 8, 5: 11, 9: 11, 34: 4, 50: 10, 46: 7, 62: 2, 32: 7, 71: 5, 13: 9, 27: 6, 92: 2, 86: 1, 51: 8, 43: 3, 108: 1, 72: 4, 35: 6, 45: 7, 88: 3, 2: 17, 25: 7, 23: 9, 18: 6, 54: 5, 63: 1, 52: 7, 42: 11, 28: 13, 15: 8, 29: 6, 70: 2, 49: 4, 1: 10, 44: 6, 16: 9, 31: 14, 91: 1, 74: 3, 19: 5, 10: 6, 79: 3, 39: 10, 47: 9, 77: 6, 73: 3, 40: 7, 30: 9, 17: 7, 85: 2, 22: 6, 3: 12, 38: 6, 75: 2, 48: 6, 21: 7, 96: 3, 61: 2, 53: 2, 106: 2, 14: 2, 65: 3, 141: 1, 102: 1, 7: 6, 58: 1, 55: 4, 57: 3, 24: 7, 67: 1, 37: 7, 110: 2, 60: 1, 69: 1, 59: 5, 84: 1, 76: 1, 68: 2, 125: 1, 87: 1, 66: 2, 64: 1, 100: 1, 105: 1, 94: 1, 120: 1, 78: 1}\n",
      "{0: 137, 1: 10, 2: 17, 3: 12, 4: 24, 5: 11, 6: 11, 7: 6, 8: 9, 9: 11, 10: 6, 11: 15, 12: 6, 13: 9, 14: 2, 15: 8, 16: 9, 17: 7, 18: 6, 19: 5, 20: 10, 21: 7, 22: 6, 23: 9, 24: 7, 25: 7, 26: 9, 27: 6, 28: 13, 29: 6, 30: 9, 31: 14, 32: 7, 33: 7, 34: 4, 35: 6, 36: 8, 37: 7, 38: 6, 39: 10, 40: 7, 41: 4, 42: 11, 43: 3, 44: 6, 45: 7, 46: 7, 47: 9, 48: 6, 49: 4, 50: 10, 51: 8, 52: 7, 53: 2, 54: 5, 55: 4, 57: 3, 58: 1, 59: 5, 60: 1, 61: 2, 62: 2, 63: 1, 64: 1, 65: 3, 66: 2, 67: 1, 68: 2, 69: 1, 70: 2, 71: 5, 72: 4, 73: 3, 74: 3, 75: 2, 76: 1, 77: 6, 78: 1, 79: 3, 84: 1, 85: 2, 86: 1, 87: 1, 88: 3, 91: 1, 92: 2, 94: 1, 96: 3, 100: 1, 102: 1, 105: 1, 106: 2, 108: 1, 110: 2, 120: 1, 125: 1, 141: 1}\n",
      "{0: 137, 1: 10, 2: 17, 3: 12, 4: 24, 5: 11, 6: 11, 7: 6, 8: 9, 9: 11, 10: 6, 11: 15, 12: 6, 13: 9, 14: 2, 15: 8, 16: 9, 17: 7, 18: 6, 19: 5, 20: 10, 21: 7, 22: 6}\n",
      "344\n",
      "crit_count : 0\n",
      "expected : 160.80571799870046\n",
      "observed : 137\n",
      "numerator : 566.712209433651\n",
      "chi_indi : 3.524204341031149\n",
      "------\n",
      "crit_count : 1\n",
      "expected : 17.55425601039636\n",
      "observed : 10\n",
      "numerator : 57.066783870609555\n",
      "chi_indi : 3.2508802330792164\n",
      "------\n",
      "crit_count : 2\n",
      "expected : 14.170240415854451\n",
      "observed : 17\n",
      "numerator : 8.00753930406359\n",
      "chi_indi : 0.5650955149006724\n",
      "------\n",
      "crit_count : 3\n",
      "expected : 12.236517218973358\n",
      "observed : 12\n",
      "numerator : 0.05594039487089126\n",
      "chi_indi : 0.004571594504370309\n",
      "------\n",
      "crit_count : 4\n",
      "expected : 10.905782975958415\n",
      "observed : 24\n",
      "numerator : 171.45851947270046\n",
      "chi_indi : 15.721798228579956\n",
      "------\n",
      "crit_count : 5\n",
      "expected : 10.027290448343079\n",
      "observed : 11\n",
      "numerator : 0.9461638718846084\n",
      "chi_indi : 0.09435887758102725\n",
      "------\n",
      "crit_count : 6\n",
      "expected : 9.21117608836907\n",
      "observed : 11\n",
      "numerator : 3.19989098682258\n",
      "chi_indi : 0.3473922283239243\n",
      "------\n",
      "crit_count : 7\n",
      "expected : 8.628979857050034\n",
      "observed : 6\n",
      "numerator : 6.911535088774816\n",
      "chi_indi : 0.800967808857262\n",
      "------\n",
      "crit_count : 8\n",
      "expected : 8.566601689408706\n",
      "observed : 9\n",
      "numerator : 0.18783409562338732\n",
      "chi_indi : 0.021926325331037097\n",
      "------\n",
      "crit_count : 9\n",
      "expected : 8.254710851202079\n",
      "observed : 11\n",
      "numerator : 7.536612510507615\n",
      "chi_indi : 0.9130074506983012\n",
      "------\n",
      "crit_count : 10\n",
      "expected : 7.740090968161144\n",
      "observed : 6\n",
      "numerator : 3.027916577475986\n",
      "chi_indi : 0.391199094420378\n",
      "------\n",
      "crit_count : 11\n",
      "expected : 7.542560103963613\n",
      "observed : 15\n",
      "numerator : 55.6134098029952\n",
      "chi_indi : 7.373280296933977\n",
      "------\n",
      "crit_count : 12\n",
      "expected : 7.4905782975958415\n",
      "observed : 6\n",
      "numerator : 2.2218236612637168\n",
      "chi_indi : 0.2966157715722467\n",
      "------\n",
      "crit_count : 13\n",
      "expected : 6.8044184535412615\n",
      "observed : 9\n",
      "numerator : 4.8205783271501454\n",
      "chi_indi : 0.7084482472769359\n",
      "------\n",
      "crit_count : 14\n",
      "expected : 6.669265756985054\n",
      "observed : 2\n",
      "numerator : 21.802042709353213\n",
      "chi_indi : 3.269031930017011\n",
      "------\n",
      "crit_count : 15\n",
      "expected : 6.331384015594542\n",
      "observed : 8\n",
      "numerator : 2.7842793034133972\n",
      "chi_indi : 0.43975839983099535\n",
      "------\n",
      "crit_count : 16\n",
      "expected : 6.352176738141651\n",
      "observed : 9\n",
      "numerator : 7.010968026038187\n",
      "chi_indi : 1.1037111080270836\n",
      "------\n",
      "crit_count : 17\n",
      "expected : 5.884340480831709\n",
      "observed : 7\n",
      "numerator : 1.2446961627108233\n",
      "chi_indi : 0.21152687659142635\n",
      "------\n",
      "crit_count : 18\n",
      "expected : 6.0090968161143605\n",
      "observed : 6\n",
      "numerator : 8.275206341848938e-05\n",
      "chi_indi : 1.3771131661013749e-05\n",
      "------\n",
      "crit_count : 19\n",
      "expected : 6.097465886939571\n",
      "observed : 5\n",
      "numerator : 1.2044313729960598\n",
      "chi_indi : 0.19752982555849702\n",
      "------\n",
      "crit_count : 20\n",
      "expected : 5.515269655620532\n",
      "observed : 10\n",
      "numerator : 20.11280626179798\n",
      "chi_indi : 3.646749391718555\n",
      "------\n",
      "crit_count : 21\n",
      "expected : 5.426900584795322\n",
      "observed : 7\n",
      "numerator : 2.4746417701172994\n",
      "chi_indi : 0.4559954123815282\n",
      "------\n",
      "crit_count : 22\n",
      "expected : 5.7751786874593884\n",
      "observed : 6\n",
      "numerator : 0.05054462257248334\n",
      "chi_indi : 0.008752044795122848\n",
      "------\n",
      "43.346814773142334\n"
     ]
    }
   ],
   "source": [
    "crit_count_dict = dict(Counter(f_crit_count_list))\n",
    "\n",
    "print(crit_count_dict)\n",
    "\n",
    "crit_count_dict = dict(sorted(crit_count_dict.items()))\n",
    "\n",
    "print(crit_count_dict)\n",
    "\n",
    "observed_crit_count_dict = {}\n",
    "\n",
    "for i in range(0,23):\n",
    "    if i in crit_count_dict.keys():\n",
    "        observed_crit_count_dict[i] = crit_count_dict[i]\n",
    "    else:\n",
    "        observed_crit_count_dict[i] = 0\n",
    "        \n",
    "print(observed_crit_count_dict)\n",
    "\n",
    "num_observed = np.sum(list(observed_crit_count_dict.values()))\n",
    "\n",
    "print(num_observed)\n",
    "\n",
    "\n",
    "sum_for_chi = 0\n",
    "\n",
    "for i in range(0,23):\n",
    "    expected = standard_ratios[i]*num_observed    ### = denominator\n",
    "    numerator = (observed_crit_count_dict[i] - expected)**2\n",
    "    \n",
    "    chi_indi = numerator/expected\n",
    "    \n",
    "    print(f'crit_count : {i}')\n",
    "    print(f'expected : {expected}')\n",
    "    print(f'observed : {observed_crit_count_dict[i]}')\n",
    "    print(f'numerator : {numerator}')\n",
    "    print(f'chi_indi : {chi_indi}')\n",
    "    print('------')\n",
    "\n",
    "    sum_for_chi += chi_indi\n",
    "                    \n",
    "print(sum_for_chi)\n",
    "    \n"
   ]
  },
  {
   "cell_type": "code",
   "execution_count": null,
   "id": "95ec64a9-0b6c-47a5-8b19-d4e9976233ff",
   "metadata": {},
   "outputs": [],
   "source": []
  },
  {
   "cell_type": "markdown",
   "id": "30ac4b95-392f-4016-a5ce-bd5be54220f4",
   "metadata": {},
   "source": [
    "### Diamond parti 2"
   ]
  },
  {
   "cell_type": "code",
   "execution_count": 556,
   "id": "28dcd67a-ecb7-4616-9e9c-a83c99aad75c",
   "metadata": {
    "tags": []
   },
   "outputs": [
    {
     "name": "stdout",
     "output_type": "stream",
     "text": [
      "['live_data/raw/diamond/partition_2/가시나무관.txt', 'live_data/raw/diamond/partition_2/besy.txt', 'live_data/raw/diamond/partition_2/이새낀그냥나무임.txt', 'live_data/raw/diamond/partition_2/맑을정물하.txt', 'live_data/raw/diamond/partition_2/씨맥화이팅.txt', 'live_data/raw/diamond/partition_2/newadking.txt', 'live_data/raw/diamond/partition_2/그래기대도안했어.txt', 'live_data/raw/diamond/partition_2/혁예.txt', 'live_data/raw/diamond/partition_2/울부짖는짭고77.txt', 'live_data/raw/diamond/partition_2/호이니.txt']\n"
     ]
    }
   ],
   "source": [
    "parent_data_folder = 'live_data/raw'\n",
    "\n",
    "datafiles_list = glob.glob(f'{parent_data_folder}/diamond/partition_2/*.txt')\n",
    "datafiles_list = datafiles_list[:]\n",
    "print(datafiles_list[:10])\n",
    "\n",
    "\n",
    "f_crit_count_list = []\n",
    "for one_record_file in datafiles_list:\n",
    "    with open(one_record_file, 'r') as datafile:\n",
    "        one_record = datafile.read()\n",
    "    \n",
    "    one_record = ast.literal_eval(one_record)\n",
    "    one_record = one_record[:300]\n",
    "    \n",
    "    \n",
    "    ### critical count analysis\n",
    "    llen = len(one_record)\n",
    "    # print(f'len of one record : {llen}')\n",
    "    if llen != 0 and llen == 300:\n",
    "        # print(f'len of one record : {llen}')\n",
    "        \n",
    "\n",
    "        f_critical_count = 0\n",
    "        for i in range(llen-window_size+1):\n",
    "\n",
    "            one_window = one_record[i:i+window_size]\n",
    "\n",
    "            streak_counter_result = streak_counter(one_window)\n",
    "            lose_streak = streak_counter_result[0]\n",
    "            win_streak = streak_counter_result[1]\n",
    "\n",
    "            ### ls = lose streak // ws = win streak\n",
    "            ### means within one window (50 games)\n",
    "            ls_mean = np.mean(lose_streak)\n",
    "            ws_mean = np.mean(win_streak)\n",
    "\n",
    "            ### standard deviations within one window (50 games)\n",
    "            ls_sd = np.std(lose_streak)\n",
    "            ws_sd = np.std(win_streak)\n",
    "\n",
    "            streaks = []\n",
    "\n",
    "            streaks_0 = list(lose_streak)\n",
    "            streaks_0 = [x*(-1) for x in streaks_0]\n",
    "            # print(streaks_0[:20])\n",
    "\n",
    "            streaks_1 = list(win_streak)\n",
    "\n",
    "            streaks.extend(streaks_0)\n",
    "            streaks.extend(streaks_1)\n",
    "\n",
    "            streak_mean = np.mean(streaks)\n",
    "            streak_sd = np.std(streaks)\n",
    "            # f_val = max(streak_sd, pop_sd)**2/min(streak_sd, pop_sd)**2\n",
    "            f_val = streak_sd**2/pop_sd**2\n",
    "            # if f_val > 1.36:\n",
    "            ### alpha = 0.01, df1 = 50, df2 = 1000000\n",
    "            if f_val > 1.5325:\n",
    "                f_critical_count += 1\n",
    "\n",
    "        f_crit_count_list.append(f_critical_count)\n",
    "        \n",
    "    else:\n",
    "        pass\n",
    "\n",
    "        "
   ]
  },
  {
   "cell_type": "code",
   "execution_count": 557,
   "id": "91317a4b-9b32-40a2-863c-3bfbf47a767f",
   "metadata": {
    "tags": []
   },
   "outputs": [
    {
     "name": "stdout",
     "output_type": "stream",
     "text": [
      "[39, 11, 43, 0, 19, 12, 35, 20, 45, 11, 0, 35, 47, 0, 22, 27, 2, 0, 105, 16, 1, 0, 13, 15, 47, 15, 41, 4, 18, 53, 0, 17, 0, 50, 75, 12, 12, 1, 61, 22, 41, 21, 0, 12, 21, 11, 0, 0, 12, 0, 22, 50, 0, 26, 32, 0, 6, 10, 0, 80, 6, 28, 98, 0, 10, 54, 11, 16, 29, 42, 7, 26, 56, 9, 11, 1, 45, 22, 30, 11, 9, 33, 59, 54, 4, 2, 21, 16, 21, 56, 62, 18, 0, 154, 0, 2, 0, 20, 1, 20, 22, 2, 5, 1, 24, 27, 15, 25, 6, 0, 45, 4, 57, 0, 0, 57, 32, 0, 10, 9, 1, 0, 0, 0, 12, 10, 0, 21, 73, 11, 0, 5, 26, 22, 2, 11, 0, 0, 11, 0, 6, 9, 24, 0, 12, 9, 0, 10, 46, 17, 1, 23, 2, 0, 40, 43, 14, 16, 2, 8, 0, 25, 34, 0, 0, 23, 7, 0, 0, 0, 3, 27, 0, 0, 52, 9, 28, 44, 17, 0, 0, 16, 0, 0, 0, 0, 1, 2, 0, 35, 59, 0, 0, 54, 25, 1, 12, 83, 0, 0, 8, 27, 0, 6, 49, 17, 0, 27, 28, 0, 32, 6, 24, 0, 38, 3, 38, 0, 26, 3, 0, 44, 35, 49, 74, 0, 0, 60, 6, 3, 7, 0, 0, 1, 28, 10, 4, 123, 1, 1, 0, 19, 8, 4, 78, 56, 5, 51, 0, 86, 27, 4, 0, 0, 54, 55, 2, 44, 0, 0, 33, 9, 0, 26, 13, 24, 45, 68, 3, 25, 37, 23, 0, 0, 8, 35, 25, 11, 18, 0, 0, 57, 0, 0, 29, 15, 9, 0, 42, 0, 39, 0, 22, 28, 11, 30, 23, 32, 58, 45, 6, 17, 68, 3, 14, 15, 51, 0, 13, 17, 45, 0, 53, 11, 31, 21, 36, 22, 21, 33, 3, 24, 0, 0, 41, 61, 61, 25, 0, 0, 27, 21, 80, 34, 3, 90, 3, 39, 90, 2, 99, 10, 0, 48, 55, 0, 42, 2, 28, 10, 40, 0, 6, 14, 39, 1, 1, 16, 26, 15, 57, 23, 12, 11, 28, 0, 54, 25, 0, 10, 29, 37, 2, 13, 61, 22, 0, 0, 0, 22, 26, 105, 61, 2, 35, 33, 9, 39, 0, 0, 19, 0, 0, 7, 39, 41, 0, 112, 6, 5, 17, 53, 25, 11, 42, 107, 0, 91, 93, 9, 66, 0, 0, 23, 10, 0, 38, 23, 58, 0, 32, 14, 46, 38, 0, 0, 0, 14, 9, 0, 0, 0, 33, 0, 8, 25, 17, 5, 65, 22, 27, 4, 35, 52, 65, 0, 43, 51, 0, 1, 33, 27, 0, 11, 0, 38, 67, 46, 0, 0, 47, 26, 6, 2, 0, 0, 56, 1, 24, 1, 9, 55, 0, 0, 5, 0, 8, 47, 67, 48, 30, 36, 3, 13, 46, 0, 22, 0, 9, 26, 10, 0, 0, 9, 24, 17, 0, 27, 42, 31, 0, 0, 0, 23, 42, 39, 0, 4, 58, 33, 14, 0, 0, 21, 8, 0, 12, 0, 13, 31, 0, 19, 46, 81, 5, 22, 15, 0, 2, 0, 67, 0, 0, 1, 22, 3, 31, 112, 32, 16, 0, 0, 45, 23, 23, 0, 4, 61, 26, 35, 4, 25, 34, 51, 0, 67, 21, 32, 25, 56, 16, 12, 0, 58, 24, 27, 0, 0, 22, 18, 85, 31, 27, 6, 37, 21, 14, 58, 49, 19, 6, 28, 31, 0, 39, 73, 76, 0, 20, 44, 0, 67, 12, 80, 0, 42, 0, 63, 0, 0, 13, 0, 4, 0, 12, 0, 36, 0, 42, 20, 7, 32, 11, 0, 0, 1, 28, 17, 0, 38, 0, 0, 7, 21, 28, 40, 0, 0, 9, 31, 48, 2, 23, 35, 9, 0, 15, 0, 12, 22, 18, 2, 5, 54, 0, 1, 0, 20, 0, 0, 39, 30, 0, 0, 29, 49, 12, 52, 100, 26, 87, 36, 42, 1, 39, 0, 0, 71, 91, 6, 4, 0, 0, 86, 1, 37, 0, 0, 0, 0, 78, 0, 63, 0, 128, 60, 22, 87, 0, 1, 0, 5, 0, 11, 6, 0, 1, 24, 59, 9, 35, 7, 36, 4, 5, 37, 25, 0, 0, 22, 10, 0]\n"
     ]
    }
   ],
   "source": [
    "print(f_crit_count_list)"
   ]
  },
  {
   "cell_type": "code",
   "execution_count": 558,
   "id": "c0ba567b-9f62-4c15-9cc4-268423b6c383",
   "metadata": {
    "tags": []
   },
   "outputs": [
    {
     "data": {
      "text/plain": [
       "712"
      ]
     },
     "execution_count": 558,
     "metadata": {},
     "output_type": "execute_result"
    }
   ],
   "source": [
    "len(f_crit_count_list)"
   ]
  },
  {
   "cell_type": "code",
   "execution_count": 559,
   "id": "e389f5cc-90e1-41c8-8837-7729c0d82d9f",
   "metadata": {
    "tags": []
   },
   "outputs": [
    {
     "name": "stdout",
     "output_type": "stream",
     "text": [
      "21.372191011235955\n",
      "24.513936914837615\n",
      "1.5190734196132532\n"
     ]
    }
   ],
   "source": [
    "print(np.mean(f_crit_count_list))\n",
    "print(np.std(f_crit_count_list))\n",
    "print(scipy.stats.skew(f_crit_count_list, axis=0, bias=True))\n",
    "\n",
    "\n",
    "### 26.13030303030303\n",
    "### 26.287247569052518\n",
    "### 1.1064562437273329\n",
    "\n",
    "\n",
    "#### PerfectMM vs Population\n",
    "### 20.122\n",
    "### 22.718343161419146\n",
    "### 1.137660848861902\n"
   ]
  },
  {
   "cell_type": "code",
   "execution_count": 560,
   "id": "8f102984-11b5-4cdc-982f-50b464d2e165",
   "metadata": {
    "tags": []
   },
   "outputs": [
    {
     "data": {
      "image/png": "[encoded data removed]",
      "text/plain": [
       "<Figure size 640x480 with 1 Axes>"
      ]
     },
     "metadata": {},
     "output_type": "display_data"
    }
   ],
   "source": [
    "# plt.hist(perfectmm_counted[0], bins=30)\n",
    "# plt.hist(f_crit_count_list, edgecolor='yellow', bins=np.arange(1, 300, 1))\n",
    "# plt.hist(f_crit_count_list, edgecolor='yellow')\n",
    "# plt.hist(perfectmm_counted[0], bins=np.arange(1, 56, 1), width=1)\n",
    "\n",
    "plt.hist(f_crit_count_list, edgecolor='yellow', bins=np.arange(min(f_crit_count_list)-1, max(f_crit_count_list)+1, 1))\n",
    "\n",
    "plt.show()"
   ]
  },
  {
   "cell_type": "code",
   "execution_count": null,
   "id": "b1b13e5b-62f5-4baa-93d3-e220d4c40a69",
   "metadata": {},
   "outputs": [],
   "source": []
  },
  {
   "cell_type": "markdown",
   "id": "04d5d57e-e9ff-4c66-a1cf-83ffe998c290",
   "metadata": {},
   "source": [
    "#### - chi squared test"
   ]
  },
  {
   "cell_type": "code",
   "execution_count": 561,
   "id": "e7998b52-4378-4768-8752-81c9a3434a46",
   "metadata": {
    "tags": []
   },
   "outputs": [
    {
     "name": "stdout",
     "output_type": "stream",
     "text": [
      "{39: 10, 11: 17, 43: 3, 0: 188, 19: 5, 12: 15, 35: 10, 20: 6, 45: 7, 47: 4, 22: 18, 27: 12, 2: 17, 105: 2, 16: 8, 1: 24, 13: 7, 15: 8, 41: 4, 4: 13, 18: 5, 53: 3, 17: 10, 50: 2, 75: 1, 61: 6, 21: 12, 26: 11, 32: 8, 6: 15, 10: 12, 80: 3, 28: 10, 98: 1, 54: 6, 29: 4, 42: 9, 7: 7, 56: 5, 9: 17, 30: 4, 33: 7, 59: 3, 62: 1, 154: 1, 5: 10, 24: 9, 25: 12, 57: 4, 73: 2, 46: 5, 23: 11, 40: 3, 14: 7, 8: 7, 34: 3, 3: 11, 52: 3, 44: 4, 83: 1, 49: 4, 38: 6, 74: 1, 60: 2, 123: 1, 78: 2, 51: 4, 86: 2, 55: 3, 68: 2, 37: 5, 58: 5, 31: 7, 36: 5, 90: 2, 99: 1, 48: 3, 112: 2, 107: 1, 91: 2, 93: 1, 66: 1, 65: 2, 67: 5, 81: 1, 85: 1, 76: 1, 63: 2, 100: 1, 87: 2, 71: 1, 128: 1}\n",
      "{0: 188, 1: 24, 2: 17, 3: 11, 4: 13, 5: 10, 6: 15, 7: 7, 8: 7, 9: 17, 10: 12, 11: 17, 12: 15, 13: 7, 14: 7, 15: 8, 16: 8, 17: 10, 18: 5, 19: 5, 20: 6, 21: 12, 22: 18, 23: 11, 24: 9, 25: 12, 26: 11, 27: 12, 28: 10, 29: 4, 30: 4, 31: 7, 32: 8, 33: 7, 34: 3, 35: 10, 36: 5, 37: 5, 38: 6, 39: 10, 40: 3, 41: 4, 42: 9, 43: 3, 44: 4, 45: 7, 46: 5, 47: 4, 48: 3, 49: 4, 50: 2, 51: 4, 52: 3, 53: 3, 54: 6, 55: 3, 56: 5, 57: 4, 58: 5, 59: 3, 60: 2, 61: 6, 62: 1, 63: 2, 65: 2, 66: 1, 67: 5, 68: 2, 71: 1, 73: 2, 74: 1, 75: 1, 76: 1, 78: 2, 80: 3, 81: 1, 83: 1, 85: 1, 86: 2, 87: 2, 90: 2, 91: 2, 93: 1, 98: 1, 99: 1, 100: 1, 105: 2, 107: 1, 112: 2, 123: 1, 128: 1, 154: 1}\n",
      "{0: 188, 1: 24, 2: 17, 3: 11, 4: 13, 5: 10, 6: 15, 7: 7, 8: 7, 9: 17, 10: 12, 11: 17, 12: 15, 13: 7, 14: 7, 15: 8, 16: 8, 17: 10, 18: 5, 19: 5, 20: 6, 21: 12, 22: 18}\n",
      "439\n",
      "crit_count : 0\n",
      "expected : 205.21427384136481\n",
      "observed : 188\n",
      "numerator : 296.3312238854969\n",
      "chi_indi : 1.4440088320297229\n",
      "------\n",
      "crit_count : 1\n",
      "expected : 22.402088338848845\n",
      "observed : 24\n",
      "numerator : 2.5533216768428435\n",
      "chi_indi : 0.11397694885503021\n",
      "------\n",
      "crit_count : 2\n",
      "expected : 18.08353355395379\n",
      "observed : 17\n",
      "numerator : 1.174044962543728\n",
      "chi_indi : 0.06492342655492983\n",
      "------\n",
      "crit_count : 3\n",
      "expected : 15.615787962585188\n",
      "observed : 11\n",
      "numerator : 21.30549851554632\n",
      "chi_indi : 1.3643562890706158\n",
      "------\n",
      "crit_count : 4\n",
      "expected : 13.917554437342279\n",
      "observed : 13\n",
      "numerator : 0.8419061454865059\n",
      "chi_indi : 0.060492391050225185\n",
      "------\n",
      "crit_count : 5\n",
      "expected : 12.79645496169364\n",
      "observed : 10\n",
      "numerator : 7.820160352780973\n",
      "chi_indi : 0.6111192807844616\n",
      "------\n",
      "crit_count : 6\n",
      "expected : 11.754960182540762\n",
      "observed : 15\n",
      "numerator : 10.530283416895887\n",
      "chi_indi : 0.8958161706524668\n",
      "------\n",
      "crit_count : 7\n",
      "expected : 11.01198301524699\n",
      "observed : 7\n",
      "numerator : 16.096007714630332\n",
      "chi_indi : 1.4616811243119512\n",
      "------\n",
      "crit_count : 8\n",
      "expected : 10.932378318751228\n",
      "observed : 7\n",
      "numerator : 15.463599241784735\n",
      "chi_indi : 1.4144771422025848\n",
      "------\n",
      "crit_count : 9\n",
      "expected : 10.53435483627242\n",
      "observed : 17\n",
      "numerator : 41.80456738323384\n",
      "chi_indi : 3.968403194402589\n",
      "------\n",
      "crit_count : 10\n",
      "expected : 9.87761609018239\n",
      "observed : 12\n",
      "numerator : 4.504513460652688\n",
      "chi_indi : 0.4560324494824046\n",
      "------\n",
      "crit_count : 11\n",
      "expected : 9.625534551279145\n",
      "observed : 17\n",
      "numerator : 54.38274065437768\n",
      "chi_indi : 5.649841093464333\n",
      "------\n",
      "crit_count : 12\n",
      "expected : 9.559197304199344\n",
      "observed : 15\n",
      "numerator : 29.602333974631684\n",
      "chi_indi : 3.0967384637648827\n",
      "------\n",
      "crit_count : 13\n",
      "expected : 8.683545642745969\n",
      "observed : 7\n",
      "numerator : 2.8343259312089377\n",
      "chi_indi : 0.3264019155097857\n",
      "------\n",
      "crit_count : 14\n",
      "expected : 8.511068800338485\n",
      "observed : 7\n",
      "numerator : 2.283328919356389\n",
      "chi_indi : 0.2682775774607275\n",
      "------\n",
      "crit_count : 15\n",
      "expected : 8.079876694319779\n",
      "observed : 8\n",
      "numerator : 0.006380286295455425\n",
      "chi_indi : 0.0007896514435598775\n",
      "------\n",
      "crit_count : 16\n",
      "expected : 8.1064115931517\n",
      "observed : 8\n",
      "numerator : 0.011323427157082882\n",
      "chi_indi : 0.0013968482881684566\n",
      "------\n",
      "crit_count : 17\n",
      "expected : 7.509376369433489\n",
      "observed : 10\n",
      "numerator : 6.20320606913631\n",
      "chi_indi : 0.8260614149513301\n",
      "------\n",
      "crit_count : 18\n",
      "expected : 7.668585762425012\n",
      "observed : 5\n",
      "numerator : 7.121349971417484\n",
      "chi_indi : 0.9286392813536876\n",
      "------\n",
      "crit_count : 19\n",
      "expected : 7.781359082460674\n",
      "observed : 5\n",
      "numerator : 7.735958345586482\n",
      "chi_indi : 0.9941654489411077\n",
      "------\n",
      "crit_count : 20\n",
      "expected : 7.0383819151669\n",
      "observed : 6\n",
      "numerator : 1.0782370017456788\n",
      "chi_indi : 0.1531938753454402\n",
      "------\n",
      "crit_count : 21\n",
      "expected : 6.92560859513124\n",
      "observed : 12\n",
      "numerator : 25.74944812980595\n",
      "chi_indi : 3.7180051075811624\n",
      "------\n",
      "crit_count : 22\n",
      "expected : 7.370068150565906\n",
      "observed : 18\n",
      "numerator : 112.99545112361334\n",
      "chi_indi : 15.331669777699009\n",
      "------\n",
      "43.15046770520018\n"
     ]
    }
   ],
   "source": [
    "crit_count_dict = dict(Counter(f_crit_count_list))\n",
    "\n",
    "print(crit_count_dict)\n",
    "\n",
    "crit_count_dict = dict(sorted(crit_count_dict.items()))\n",
    "\n",
    "print(crit_count_dict)\n",
    "\n",
    "observed_crit_count_dict = {}\n",
    "\n",
    "for i in range(0,23):\n",
    "    if i in crit_count_dict.keys():\n",
    "        observed_crit_count_dict[i] = crit_count_dict[i]\n",
    "    else:\n",
    "        observed_crit_count_dict[i] = 0\n",
    "        \n",
    "print(observed_crit_count_dict)\n",
    "\n",
    "num_observed = np.sum(list(observed_crit_count_dict.values()))\n",
    "\n",
    "print(num_observed)\n",
    "\n",
    "\n",
    "sum_for_chi = 0\n",
    "\n",
    "for i in range(0,23):\n",
    "    expected = standard_ratios[i]*num_observed    ### = denominator\n",
    "    numerator = (observed_crit_count_dict[i] - expected)**2\n",
    "    \n",
    "    chi_indi = numerator/expected\n",
    "    \n",
    "    print(f'crit_count : {i}')\n",
    "    print(f'expected : {expected}')\n",
    "    print(f'observed : {observed_crit_count_dict[i]}')\n",
    "    print(f'numerator : {numerator}')\n",
    "    print(f'chi_indi : {chi_indi}')\n",
    "    print('------')\n",
    "\n",
    "    sum_for_chi += chi_indi\n",
    "                    \n",
    "print(sum_for_chi)\n",
    "    \n"
   ]
  },
  {
   "cell_type": "code",
   "execution_count": null,
   "id": "4b34967b-ea78-4fb3-ab4a-2282f1c4adb2",
   "metadata": {},
   "outputs": [],
   "source": []
  },
  {
   "cell_type": "markdown",
   "id": "1b412315-cd53-47c9-aa4e-6b8051e8998b",
   "metadata": {},
   "source": [
    "### ch_gm_m parti 0"
   ]
  },
  {
   "cell_type": "code",
   "execution_count": 562,
   "id": "5445a16b-499f-4b47-a1f3-d694c4646dfd",
   "metadata": {
    "tags": []
   },
   "outputs": [
    {
     "name": "stdout",
     "output_type": "stream",
     "text": [
      "['live_data/raw/ch_gm_m/partition_0/96년원딜지망생.txt', 'live_data/raw/ch_gm_m/partition_0/murderking.txt', 'live_data/raw/ch_gm_m/partition_0/신양showmaker.txt', 'live_data/raw/ch_gm_m/partition_0/소나해.txt', 'live_data/raw/ch_gm_m/partition_0/울부짖는마오카이.txt', 'live_data/raw/ch_gm_m/partition_0/소너호미.txt', 'live_data/raw/ch_gm_m/partition_0/2022ydrx.txt', 'live_data/raw/ch_gm_m/partition_0/누누박사.txt', 'live_data/raw/ch_gm_m/partition_0/한송이의백합.txt', 'live_data/raw/ch_gm_m/partition_0/dk혁규.txt']\n"
     ]
    }
   ],
   "source": [
    "parent_data_folder = 'live_data/raw'\n",
    "\n",
    "datafiles_list = glob.glob(f'{parent_data_folder}/ch_gm_m/partition_0/*.txt')\n",
    "datafiles_list = datafiles_list[:]\n",
    "print(datafiles_list[:10])\n",
    "\n",
    "\n",
    "f_crit_count_list = []\n",
    "for one_record_file in datafiles_list:\n",
    "    with open(one_record_file, 'r') as datafile:\n",
    "        one_record = datafile.read()\n",
    "    \n",
    "    one_record = ast.literal_eval(one_record)\n",
    "    one_record = one_record[:300]\n",
    "    \n",
    "    \n",
    "    ### critical count analysis\n",
    "    llen = len(one_record)\n",
    "    # print(f'len of one record : {llen}')\n",
    "    if llen != 0 and llen == 300:\n",
    "        # print(f'len of one record : {llen}')\n",
    "        \n",
    "\n",
    "        f_critical_count = 0\n",
    "        for i in range(llen-window_size+1):\n",
    "\n",
    "            one_window = one_record[i:i+window_size]\n",
    "\n",
    "            streak_counter_result = streak_counter(one_window)\n",
    "            lose_streak = streak_counter_result[0]\n",
    "            win_streak = streak_counter_result[1]\n",
    "\n",
    "            ### ls = lose streak // ws = win streak\n",
    "            ### means within one window (50 games)\n",
    "            ls_mean = np.mean(lose_streak)\n",
    "            ws_mean = np.mean(win_streak)\n",
    "\n",
    "            ### standard deviations within one window (50 games)\n",
    "            ls_sd = np.std(lose_streak)\n",
    "            ws_sd = np.std(win_streak)\n",
    "\n",
    "            streaks = []\n",
    "\n",
    "            streaks_0 = list(lose_streak)\n",
    "            streaks_0 = [x*(-1) for x in streaks_0]\n",
    "            # print(streaks_0[:20])\n",
    "\n",
    "            streaks_1 = list(win_streak)\n",
    "\n",
    "            streaks.extend(streaks_0)\n",
    "            streaks.extend(streaks_1)\n",
    "\n",
    "            streak_mean = np.mean(streaks)\n",
    "            streak_sd = np.std(streaks)\n",
    "            # f_val = max(streak_sd, pop_sd)**2/min(streak_sd, pop_sd)**2\n",
    "            f_val = streak_sd**2/pop_sd**2\n",
    "            # if f_val > 1.36:\n",
    "            ### alpha = 0.01, df1 = 50, df2 = 1000000\n",
    "            if f_val > 1.5325:\n",
    "                f_critical_count += 1\n",
    "\n",
    "        f_crit_count_list.append(f_critical_count)\n",
    "        \n",
    "    else:\n",
    "        pass\n",
    "\n",
    "        "
   ]
  },
  {
   "cell_type": "code",
   "execution_count": 563,
   "id": "795507ee-8dab-4324-85f6-0f3cbd76acab",
   "metadata": {
    "tags": []
   },
   "outputs": [
    {
     "name": "stdout",
     "output_type": "stream",
     "text": [
      "[135, 22, 13, 4, 44, 3, 39, 0, 0, 0, 56, 32, 86, 0, 43, 0, 34, 0, 81, 0, 0, 38, 0, 19, 28, 0, 11, 67, 16, 0, 0, 3, 15, 0, 6, 55, 0, 0, 38, 0, 3, 11, 47, 30, 7, 41, 18, 96, 24, 2, 0, 21, 41, 7, 22, 0, 2, 0, 0, 32, 34, 17, 66, 2, 48, 49, 115, 18, 49, 56, 29, 33, 0, 7, 0, 0, 0, 73, 0, 11, 0, 82, 0, 43, 21, 6, 0, 33, 33, 0, 0, 56, 29, 40, 53, 31, 0, 20, 0, 45, 55, 35, 0, 35, 23, 34, 5, 29, 54, 0, 43, 0, 47, 0, 48, 0, 85, 11, 9, 38, 44, 31, 0, 76, 10, 0, 82, 44, 0, 0, 133, 0, 26, 18, 28, 0, 41, 46, 70, 7, 3, 49, 28, 58, 35, 8, 13, 28, 0, 55, 28, 45, 27, 40, 28, 0, 0, 76, 3, 0, 50, 0, 6, 0, 0, 0, 14, 0, 16, 73, 40, 47, 0, 0, 62, 63, 21, 8, 19, 46, 28, 26, 26, 45, 0, 0, 48, 40, 4, 0, 40, 65, 9, 3, 13, 32, 67, 0, 39, 21, 39, 20, 43, 0, 47, 0, 16, 79, 8, 25, 0, 16, 2, 28, 26, 28, 74, 13, 68, 30, 0, 48, 2, 48, 17, 56, 59, 43, 0, 0, 0, 21, 0, 34, 32, 0, 15, 25, 75, 1, 16, 19, 0, 116, 0, 2, 2, 0, 0, 3, 16, 7, 0, 19, 56, 0, 22, 21, 3, 0, 0, 0, 0, 4, 79, 67, 130, 10, 0, 11, 188, 15, 0, 6, 12, 0, 57, 20, 9, 85, 0, 0, 46, 0, 0, 34, 18, 7, 19, 0, 1, 52, 37, 8, 30, 0, 23, 16, 53, 30, 0, 0, 3, 0, 13, 26, 37, 21, 36, 0, 18, 13, 11, 7, 25, 6, 25, 0, 0, 45, 0, 9, 35, 5, 49, 9, 85, 6, 0, 115, 69, 10, 0, 0, 19, 71, 0, 0, 37, 4, 47, 60, 66, 20, 57, 0, 8, 19, 56, 13, 4, 0, 58, 0, 7, 0, 6, 20, 11, 28, 168, 0, 0, 2, 45, 1, 24, 13, 12, 55, 2, 0, 15, 0, 0, 7, 25, 32, 64, 0, 32, 1, 42, 0, 36, 47, 53, 37, 40, 46, 40, 0, 0, 52, 19, 58, 24, 13, 0, 61, 23, 32, 25, 25, 0, 0, 28, 0, 39, 0, 49, 0, 25, 41, 36, 15, 0, 76, 0, 3, 115, 3, 0, 17, 0, 0, 25, 18, 52, 0, 0, 5, 20, 0, 34, 0, 0, 50, 2, 0, 10, 40, 0, 70, 41, 4, 67, 100, 0, 40, 53, 0, 0, 0, 61, 44, 54, 4, 8, 33, 10, 0, 0, 76, 18, 11, 20, 14, 0, 79, 44, 42, 44, 23, 0, 4, 28, 39, 7, 5, 36, 3, 12, 8, 64, 48, 60, 11, 36, 0, 15, 22, 0, 16, 8, 0, 0, 30, 23, 0, 5, 25, 9, 9, 1, 19, 47, 60, 19, 0, 6, 62, 42, 53, 8, 27, 0, 59, 0, 78, 9, 0, 57, 0, 0, 24, 70, 0, 38, 0, 9, 27, 14, 106, 33, 44, 7, 26, 92, 17, 0, 4, 0, 0, 20, 39, 9, 5, 39, 0, 54, 24, 134, 0, 40, 0, 6, 40, 0, 48, 0, 3, 19, 4, 0, 21, 102, 4, 75, 39, 11, 2, 89, 14, 1, 43, 78, 40, 122, 20, 138, 124, 39, 0, 39, 0, 0, 1, 46, 0, 0, 21, 20, 10, 17, 78, 8, 7, 0, 39, 32, 20, 54, 0, 0, 38, 39, 0, 41, 6, 0, 3, 54, 5, 87, 44, 53, 55, 3, 125, 38, 6, 11, 31, 0, 39, 30, 15, 57, 0, 1, 0, 0, 6, 45, 10, 0, 21, 46, 32, 12, 0, 49, 24, 38, 0, 20, 4, 79, 42, 2, 17, 20, 25, 1, 82, 0, 1, 2, 27, 0, 0, 31, 21, 0, 22, 71, 0, 34, 13, 35, 0, 2, 22, 0, 0, 2, 1, 7, 13, 14, 23, 2, 15, 4, 23, 43, 1, 48, 24, 49, 28, 45, 33]\n"
     ]
    }
   ],
   "source": [
    "print(f_crit_count_list)"
   ]
  },
  {
   "cell_type": "code",
   "execution_count": 564,
   "id": "354327b4-9a99-4175-83d6-97ca089abdc1",
   "metadata": {
    "tags": []
   },
   "outputs": [
    {
     "data": {
      "text/plain": [
       "694"
      ]
     },
     "execution_count": 564,
     "metadata": {},
     "output_type": "execute_result"
    }
   ],
   "source": [
    "len(f_crit_count_list)"
   ]
  },
  {
   "cell_type": "code",
   "execution_count": 565,
   "id": "43b6bab5-13c8-4e1a-9828-dd2302ec8893",
   "metadata": {
    "tags": []
   },
   "outputs": [
    {
     "name": "stdout",
     "output_type": "stream",
     "text": [
      "24.57348703170029\n",
      "28.1605563501526\n",
      "1.6746586866644653\n"
     ]
    }
   ],
   "source": [
    "print(np.mean(f_crit_count_list))\n",
    "print(np.std(f_crit_count_list))\n",
    "print(scipy.stats.skew(f_crit_count_list, axis=0, bias=True))\n",
    "\n",
    "\n",
    "### 24.57348703170029\n",
    "### 28.1605563501526\n",
    "### 1.6746586866644653\n",
    "\n",
    "\n",
    "#### PerfectMM vs Population\n",
    "### 20.122\n",
    "### 22.718343161419146\n",
    "### 1.137660848861902\n"
   ]
  },
  {
   "cell_type": "code",
   "execution_count": 566,
   "id": "4d5c31bf-1a17-4088-9727-bd7abb15f50f",
   "metadata": {
    "tags": []
   },
   "outputs": [
    {
     "data": {
      "image/png": "[encoded data removed]",
      "text/plain": [
       "<Figure size 640x480 with 1 Axes>"
      ]
     },
     "metadata": {},
     "output_type": "display_data"
    }
   ],
   "source": [
    "# plt.hist(perfectmm_counted[0], bins=30)\n",
    "# plt.hist(f_crit_count_list, edgecolor='yellow', bins=np.arange(1, 300, 1))\n",
    "# plt.hist(f_crit_count_list, edgecolor='yellow')\n",
    "# plt.hist(perfectmm_counted[0], bins=np.arange(1, 56, 1), width=1)\n",
    "\n",
    "plt.hist(f_crit_count_list, edgecolor='yellow', bins=np.arange(min(f_crit_count_list)-1, max(f_crit_count_list)+1, 1))\n",
    "\n",
    "plt.show()"
   ]
  },
  {
   "cell_type": "markdown",
   "id": "9a898b6b-f4d6-4cff-bb48-3defd65b9d5a",
   "metadata": {},
   "source": [
    "#### - chi squared test"
   ]
  },
  {
   "cell_type": "code",
   "execution_count": 567,
   "id": "dc36dcd3-5d78-4526-8a24-80566d2dcf23",
   "metadata": {
    "tags": []
   },
   "outputs": [
    {
     "name": "stdout",
     "output_type": "stream",
     "text": [
      "{135: 1, 22: 6, 13: 11, 4: 13, 44: 8, 3: 15, 39: 13, 0: 184, 56: 6, 32: 9, 86: 1, 43: 7, 34: 7, 81: 1, 38: 7, 19: 11, 28: 13, 11: 11, 67: 4, 16: 8, 15: 8, 6: 12, 55: 5, 47: 7, 30: 6, 7: 13, 41: 6, 18: 7, 96: 1, 24: 7, 2: 16, 21: 11, 17: 6, 66: 2, 48: 8, 49: 7, 115: 3, 29: 3, 33: 6, 73: 2, 82: 3, 40: 12, 53: 6, 31: 4, 20: 13, 45: 7, 35: 5, 23: 7, 5: 7, 54: 5, 85: 3, 9: 10, 76: 4, 10: 7, 133: 1, 26: 6, 46: 6, 70: 3, 58: 3, 8: 10, 27: 4, 50: 2, 14: 5, 62: 2, 63: 1, 65: 1, 79: 4, 25: 11, 74: 1, 68: 1, 59: 2, 75: 2, 1: 12, 116: 1, 130: 1, 188: 1, 12: 4, 57: 4, 52: 3, 37: 4, 36: 5, 69: 1, 71: 2, 60: 3, 168: 1, 64: 2, 42: 4, 61: 2, 100: 1, 78: 3, 106: 1, 92: 1, 134: 1, 102: 1, 89: 1, 122: 1, 138: 1, 124: 1, 87: 1, 125: 1}\n",
      "{0: 184, 1: 12, 2: 16, 3: 15, 4: 13, 5: 7, 6: 12, 7: 13, 8: 10, 9: 10, 10: 7, 11: 11, 12: 4, 13: 11, 14: 5, 15: 8, 16: 8, 17: 6, 18: 7, 19: 11, 20: 13, 21: 11, 22: 6, 23: 7, 24: 7, 25: 11, 26: 6, 27: 4, 28: 13, 29: 3, 30: 6, 31: 4, 32: 9, 33: 6, 34: 7, 35: 5, 36: 5, 37: 4, 38: 7, 39: 13, 40: 12, 41: 6, 42: 4, 43: 7, 44: 8, 45: 7, 46: 6, 47: 7, 48: 8, 49: 7, 50: 2, 52: 3, 53: 6, 54: 5, 55: 5, 56: 6, 57: 4, 58: 3, 59: 2, 60: 3, 61: 2, 62: 2, 63: 1, 64: 2, 65: 1, 66: 2, 67: 4, 68: 1, 69: 1, 70: 3, 71: 2, 73: 2, 74: 1, 75: 2, 76: 4, 78: 3, 79: 4, 81: 1, 82: 3, 85: 3, 86: 1, 87: 1, 89: 1, 92: 1, 96: 1, 100: 1, 102: 1, 106: 1, 115: 3, 116: 1, 122: 1, 124: 1, 125: 1, 130: 1, 133: 1, 134: 1, 135: 1, 138: 1, 168: 1, 188: 1}\n",
      "{0: 184, 1: 12, 2: 16, 3: 15, 4: 13, 5: 7, 6: 12, 7: 13, 8: 10, 9: 10, 10: 7, 11: 11, 12: 4, 13: 11, 14: 5, 15: 8, 16: 8, 17: 6, 18: 7, 19: 11, 20: 13, 21: 11, 22: 6}\n",
      "400\n",
      "crit_count : 0\n",
      "expected : 186.98339302174472\n",
      "observed : 184\n",
      "numerator : 8.900633922195077\n",
      "chi_indi : 0.04760120018337673\n",
      "------\n",
      "crit_count : 1\n",
      "expected : 20.41192559348414\n",
      "observed : 12\n",
      "numerator : 70.76049219031347\n",
      "chi_indi : 3.4666250308545865\n",
      "------\n",
      "crit_count : 2\n",
      "expected : 16.47702373936564\n",
      "observed : 16\n",
      "numerator : 0.22755164791837953\n",
      "chi_indi : 0.013810239732478542\n",
      "------\n",
      "crit_count : 3\n",
      "expected : 14.228508394155067\n",
      "observed : 15\n",
      "numerator : 0.5951992978891928\n",
      "chi_indi : 0.04183146127486525\n",
      "------\n",
      "crit_count : 4\n",
      "expected : 12.681142995300482\n",
      "observed : 13\n",
      "numerator : 0.10166978944594876\n",
      "chi_indi : 0.008017399494952993\n",
      "------\n",
      "crit_count : 5\n",
      "expected : 11.659640056212883\n",
      "observed : 7\n",
      "numerator : 21.7122454534636\n",
      "chi_indi : 1.86217116041195\n",
      "------\n",
      "crit_count : 6\n",
      "expected : 10.710669870196595\n",
      "observed : 12\n",
      "numerator : 1.6623721836188652\n",
      "chi_indi : 0.15520711624625513\n",
      "------\n",
      "crit_count : 7\n",
      "expected : 10.033697508197713\n",
      "observed : 13\n",
      "numerator : 8.798950472872455\n",
      "chi_indi : 0.8769399780772296\n",
      "------\n",
      "crit_count : 8\n",
      "expected : 9.961164755126402\n",
      "observed : 10\n",
      "numerator : 0.0015081762443922868\n",
      "chi_indi : 0.0001514056118403343\n",
      "------\n",
      "crit_count : 9\n",
      "expected : 9.598500989769859\n",
      "observed : 10\n",
      "numerator : 0.16120145521578322\n",
      "chi_indi : 0.0167944406514718\n",
      "------\n",
      "crit_count : 10\n",
      "expected : 9.000105776931562\n",
      "observed : 7\n",
      "numerator : 4.000423118915008\n",
      "chi_indi : 0.44448623361389944\n",
      "------\n",
      "crit_count : 11\n",
      "expected : 8.770418725539084\n",
      "observed : 11\n",
      "numerator : 4.971032659426761\n",
      "chi_indi : 0.5667953623412901\n",
      "------\n",
      "crit_count : 12\n",
      "expected : 8.709974764646327\n",
      "observed : 4\n",
      "numerator : 22.18386228360523\n",
      "chi_indi : 2.5469490880328647\n",
      "------\n",
      "crit_count : 13\n",
      "expected : 7.9121144808619315\n",
      "observed : 11\n",
      "numerator : 9.535036979302578\n",
      "chi_indi : 1.2051186825426026\n",
      "------\n",
      "crit_count : 14\n",
      "expected : 7.754960182540762\n",
      "observed : 5\n",
      "numerator : 7.589805607385027\n",
      "chi_indi : 0.9787033625875271\n",
      "------\n",
      "crit_count : 15\n",
      "expected : 7.3620744367378395\n",
      "observed : 8\n",
      "numerator : 0.4069490242633448\n",
      "chi_indi : 0.05527640718118918\n",
      "------\n",
      "crit_count : 16\n",
      "expected : 7.3862520210949425\n",
      "observed : 8\n",
      "numerator : 0.3766865816100429\n",
      "chi_indi : 0.05099833860721729\n",
      "------\n",
      "crit_count : 17\n",
      "expected : 6.842256373060127\n",
      "observed : 6\n",
      "numerator : 0.7093957979603993\n",
      "chi_indi : 0.10367863454422559\n",
      "------\n",
      "crit_count : 18\n",
      "expected : 6.987321879202744\n",
      "observed : 7\n",
      "numerator : 0.00016073474694981366\n",
      "chi_indi : 2.3003770218204625e-05\n",
      "------\n",
      "crit_count : 19\n",
      "expected : 7.090076612720432\n",
      "observed : 11\n",
      "numerator : 15.287500894395727\n",
      "chi_indi : 2.1561827508278473\n",
      "------\n",
      "crit_count : 20\n",
      "expected : 6.413104250721549\n",
      "observed : 13\n",
      "numerator : 43.38719561186252\n",
      "chi_indi : 6.765396899166415\n",
      "------\n",
      "crit_count : 21\n",
      "expected : 6.310349517203863\n",
      "observed : 11\n",
      "numerator : 21.992821650790038\n",
      "chi_indi : 3.485198655134895\n",
      "------\n",
      "crit_count : 22\n",
      "expected : 6.715324055185336\n",
      "observed : 6\n",
      "numerator : 0.5116885039267939\n",
      "chi_indi : 0.07619714249406714\n",
      "------\n",
      "24.924153993383264\n"
     ]
    }
   ],
   "source": [
    "crit_count_dict = dict(Counter(f_crit_count_list))\n",
    "\n",
    "print(crit_count_dict)\n",
    "\n",
    "crit_count_dict = dict(sorted(crit_count_dict.items()))\n",
    "\n",
    "print(crit_count_dict)\n",
    "\n",
    "observed_crit_count_dict = {}\n",
    "\n",
    "for i in range(0,23):\n",
    "    if i in crit_count_dict.keys():\n",
    "        observed_crit_count_dict[i] = crit_count_dict[i]\n",
    "    else:\n",
    "        observed_crit_count_dict[i] = 0\n",
    "        \n",
    "print(observed_crit_count_dict)\n",
    "\n",
    "num_observed = np.sum(list(observed_crit_count_dict.values()))\n",
    "\n",
    "print(num_observed)\n",
    "\n",
    "\n",
    "sum_for_chi = 0\n",
    "\n",
    "for i in range(0,23):\n",
    "    expected = standard_ratios[i]*num_observed    ### = denominator\n",
    "    numerator = (observed_crit_count_dict[i] - expected)**2\n",
    "    \n",
    "    chi_indi = numerator/expected\n",
    "    \n",
    "    print(f'crit_count : {i}')\n",
    "    print(f'expected : {expected}')\n",
    "    print(f'observed : {observed_crit_count_dict[i]}')\n",
    "    print(f'numerator : {numerator}')\n",
    "    print(f'chi_indi : {chi_indi}')\n",
    "    print('------')\n",
    "\n",
    "    sum_for_chi += chi_indi\n",
    "                    \n",
    "print(sum_for_chi)\n",
    "    \n"
   ]
  },
  {
   "cell_type": "code",
   "execution_count": null,
   "id": "f6084492-7c86-4735-b7b1-a50b46088b6b",
   "metadata": {},
   "outputs": [],
   "source": []
  },
  {
   "cell_type": "code",
   "execution_count": null,
   "id": "abcf7269-737a-4df7-9c4e-a77bef6f481d",
   "metadata": {},
   "outputs": [],
   "source": []
  },
  {
   "cell_type": "code",
   "execution_count": null,
   "id": "ee351543-215f-4f2a-a33c-084742eb4afe",
   "metadata": {},
   "outputs": [],
   "source": []
  }
 ],
 "metadata": {
  "kernelspec": {
   "display_name": "Python 3 (ipykernel)",
   "language": "python",
   "name": "python3"
  },
  "language_info": {
   "codemirror_mode": {
    "name": "ipython",
    "version": 3
   },
   "file_extension": ".py",
   "mimetype": "text/x-python",
   "name": "python",
   "nbconvert_exporter": "python",
   "pygments_lexer": "ipython3",
   "version": "3.11.5"
  }
 },
 "nbformat": 4,
 "nbformat_minor": 5
}
