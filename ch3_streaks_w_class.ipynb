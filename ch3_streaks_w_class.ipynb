{
 "cells": [
  {
   "cell_type": "code",
   "execution_count": 12,
   "id": "17ae51be-dac2-4c0c-b64b-ed178d4f0aea",
   "metadata": {},
   "outputs": [],
   "source": [
    "import random\n",
    "import pickle\n",
    "\n",
    "import random\n",
    "\n",
    "import numpy as np\n",
    "\n",
    "import matplotlib.pyplot as plt\n",
    "import matplotlib.transforms as transforms\n",
    "\n",
    "\n",
    "\n",
    "from time import time\n",
    "from time import sleep\n",
    "from time import strftime\n",
    "from time import localtime\n",
    "from tqdm import tqdm\n",
    "\n",
    "from datetime import date, timedelta, datetime\n",
    "\n",
    "# from mydecorators import logger, stopwatch\n",
    "\n",
    "\n",
    "\n"
   ]
  },
  {
   "cell_type": "markdown",
   "id": "1b9c609e-95c1-495b-aac5-b393e17daa68",
   "metadata": {
    "jp-MarkdownHeadingCollapsed": true,
    "tags": []
   },
   "source": [
    "## Classes for Different MMs"
   ]
  },
  {
   "cell_type": "code",
   "execution_count": 6,
   "id": "06410fc8-b989-4b80-a066-f5ec72af30fa",
   "metadata": {},
   "outputs": [],
   "source": [
    "### Perfect or Near Perfect MM\n",
    "\n",
    "class PerfectMM:\n",
    "    def __init__(self, n_players, wr=0.5, req_net_games = 40):\n",
    "        ### win rate that the algorithm aims for\n",
    "        self.wr = wr\n",
    "        ### lose rate (?)\n",
    "        self.lr = 1 - self.wr\n",
    "        ### number of players involved\n",
    "        self.n_players = n_players\n",
    "        ### required number of net games won\n",
    "        self.req_net_games = req_net_games\n",
    "        \n",
    "    def compute(self, save=False):\n",
    "        ### compute start time\n",
    "        self.start = time()\n",
    "        ### number of games per player\n",
    "        self.start = time()\n",
    "        self.n_games_list = []\n",
    "        ### win rates of all players\n",
    "        self.player_wr_list = []\n",
    "        \n",
    "        ### record of all games by the population (eg. 1000 players)\n",
    "        self.record_all = []\n",
    "        \n",
    "        ### save or not save the record of games\n",
    "        self.save = save\n",
    "        \n",
    "        ### win or lose ?\n",
    "        outcome_list = [1, 0]   ### 1 for WIN, 0 for DEFEAT\n",
    "        \n",
    "        for _ in tqdm(range(self.n_players)):\n",
    "            # all games for ONE player\n",
    "            all_games = []\n",
    "            ### number of games played so far for each player\n",
    "            n_games = 0\n",
    "            ### number of net games won\n",
    "            n_wins = 0\n",
    "            \n",
    "            while n_wins < self.req_net_games:\n",
    "                ### play one game & add to n_games\n",
    "                n_games += 1\n",
    "                ### result of played game\n",
    "                one_game = random.choices(outcome_list, weights=(self.wr, self.lr))[0]\n",
    "                all_games.append(one_game)\n",
    "                \n",
    "                if one_game == 1:\n",
    "                    n_wins += 1\n",
    "                else:\n",
    "                    n_wins -= 1\n",
    "                    \n",
    "\n",
    "            player_wr = sum(all_games)/len(all_games)\n",
    "            self.player_wr_list.append(player_wr)\n",
    "            self.n_games_list.append(n_games)\n",
    "            \n",
    "            ### append all games played by one player to record of all games played by population in question\n",
    "            self.record_all.append(all_games)\n",
    "            \n",
    "           \n",
    "        ### number of average games played per player\n",
    "        self.n_avg_games = sum(self.n_games_list) / self.n_players\n",
    "        ### average win rate\n",
    "        self.avg_wr = sum(self.player_wr_list) / self.n_players\n",
    "        ### compute end time\n",
    "        self.end = time()\n",
    "        ### compute duration\n",
    "        self.compute_time = self.end - self.start\n",
    "        \n",
    "        \n",
    "        ### save or not save record of all games by all players \n",
    "        if self.save is False:\n",
    "            self.filename = f'No saved files created'\n",
    "            pass\n",
    "        else:\n",
    "            timestamp = datetime.now().strftime('%Y%m%d_%H%M%S')\n",
    "            self.filename = f'saved_lists/perfectmm_{timestamp}.txt'\n",
    "            with open(self.filename, 'wb') as file:\n",
    "                pickle.dump(self.record_all, file)\n",
    "                \n",
    "                \n",
    "            \n",
    "        \n",
    "    def report(self):\n",
    "        print(f'List of No. of Games Played(n_games_list): {self.n_games_list} \\n')\n",
    "        print(f'Number of Average Games Played(n_avg_games): {self.n_avg_games} \\n')\n",
    "        print(f'Win Rates of Players(player_wr_list): {self.player_wr_list} \\n')\n",
    "        print(f'Average Win Rate(avg_wr): {self.avg_wr} \\n')\n",
    "        print(f'Compute Time(compute_time): {self.compute_time} seconds \\n')\n",
    "        print(f'Saved Result(filename): {self.filename} \\n')"
   ]
  },
  {
   "cell_type": "code",
   "execution_count": 7,
   "id": "c5152f43-af6f-43a7-b15d-3b6d67ef6d22",
   "metadata": {},
   "outputs": [],
   "source": [
    "# ### Streak MM\n",
    "\n",
    "# class StreakMM:\n",
    "#     def __init__(self, n_players, req_net_games = 40):\n",
    "#         ### number of players involved\n",
    "#         self.n_players = n_players\n",
    "#         ### required number of net games won\n",
    "#         self.req_net_games = req_net_games\n",
    "        \n",
    "        \n",
    "        \n",
    "        \n",
    "#     def compute(self, wsr=0.5, wlr=0.85, n_streak=6, bottom=True, n_bottom=0, save=False):\n",
    "#         ### compute start time\n",
    "#         self.start = time()\n",
    "        \n",
    "#         ### number of games per player\n",
    "#         self.n_games_list = []\n",
    "        \n",
    "#         ### win rates of all players\n",
    "#         self.player_wr_list = []\n",
    "        \n",
    "#         ### record of all games by the population (eg. 1000 players)\n",
    "#         self.record_all = []\n",
    "        \n",
    "#         ### save or not save the record of games\n",
    "#         self.save = save\n",
    "        \n",
    "#         ### streak probabilities\n",
    "#         self.wsr = wsr\n",
    "#         self.lsr = 1 - self.wsr\n",
    "        \n",
    "#         ### number of games per streak\n",
    "#         self.n_streak = n_streak\n",
    "        \n",
    "#         ### win or lose rate per streak\n",
    "#         self.wlr = wlr\n",
    "        \n",
    "#         ### bottom net games won\n",
    "#         self.bottom = bottom\n",
    "        \n",
    "#         ### threshold for bottom net games won\n",
    "#         self.n_bottom = n_bottom\n",
    "        \n",
    "#         ### Two types of streaks\n",
    "#         streak_list = ['WS', 'LS']\n",
    "#         ### win or lose ?\n",
    "#         outcome_list = [1, 0]\n",
    "        \n",
    "#         for _ in tqdm(range(self.n_players)):\n",
    "#             # all games for ONE player\n",
    "#             all_games = []\n",
    "#             ### number of games played so far for each player\n",
    "#             n_games = 0\n",
    "#             ### number of net games won\n",
    "#             n_wins = 0\n",
    "                    \n",
    "#             while n_wins < self.req_net_games:\n",
    "#                 ### random select one streak\n",
    "#                 one_streak = random.choices(streak_list, weights=(self.wsr, self.lsr))[0]\n",
    "#                 ### add number of games of streak to number of games played\n",
    "#                 n_games += self.n_streak\n",
    "                \n",
    "#                 ### if WS (win streak)\n",
    "#                 if one_streak == \"WS\":\n",
    "#                     wr = self.wlr\n",
    "#                     lr = 1-self.wlr\n",
    "                \n",
    "#                     ### randomly pick streak results given which streak\n",
    "#                     streak_result = random.choices(outcome_list, weights=(wr, lr), k = n_streak)\n",
    "#                     all_games.extend(streak_result)\n",
    "                    \n",
    "#                     for wl in streak_result:\n",
    "#                         if wl == 1:\n",
    "#                             n_wins += 1\n",
    "#                         else:\n",
    "#                             n_wins -= 1\n",
    "                \n",
    "#                 ### if LS (Losing Streak)\n",
    "#                 else:\n",
    "#                     wr = 1-self.wlr\n",
    "#                     lr = self.wlr\n",
    "                    \n",
    "#                     ### randomly pick streak results given which streak\n",
    "#                     streak_result = random.choices(outcome_list, weights=(wr, lr), k = n_streak)\n",
    "#                     all_games.extend(streak_result)\n",
    "                    \n",
    "#                     for wl in streak_result:\n",
    "#                         if wl == 1:\n",
    "#                             n_wins += 1\n",
    "#                         else:\n",
    "#                             if self.bottom == False:\n",
    "#                                 n_wins -= 1\n",
    "#                             else:\n",
    "#                                 if n_wins < 0:\n",
    "#                                     n_wins = abs(self.n_bottom) * (-1)\n",
    "            \n",
    "#             ### calculate and organize result\n",
    "#             # victory = 0\n",
    "#             # defeat = 0\n",
    "            \n",
    "#             # for game in all_games:\n",
    "#             #     if game == \"W\":\n",
    "#             #         victory += 1\n",
    "#             #     else:\n",
    "#             #         defeat += 1\n",
    "                \n",
    "#             self.n_games_list.append(n_games)\n",
    "#             player_wr = sum(all_games)/len(all_games)\n",
    "#             self.player_wr_list.append(player_wr)\n",
    "            \n",
    "#             ### append all games played by one player to record of all games played by population in question\n",
    "#             self.record_all.append(all_games)\n",
    "                \n",
    "                \n",
    "#         ### number of average games played per player\n",
    "#         self.n_avg_games = sum(self.n_games_list) / self.n_players\n",
    "#         ### average win rate\n",
    "#         self.avg_wr = sum(self.player_wr_list) / self.n_players\n",
    "        \n",
    "#         ### compute end time\n",
    "#         self.end = time()\n",
    "#         ### compute duration\n",
    "#         self.compute_time = self.end - self.start\n",
    "        \n",
    "#         ### save or not save record of all games by all players \n",
    "#         if self.save is False:\n",
    "#             self.filename = f'No saved files created'\n",
    "#             pass\n",
    "#         else:\n",
    "#             timestamp = datetime.now().strftime('%Y%m%d_%H%M%S')\n",
    "#             self.filename = f'saved_lists/streakmm_{timestamp}.txt'\n",
    "#             with open(self.filename, 'wb') as file:\n",
    "#                 pickle.dump(self.record_all, file)\n",
    "            \n",
    "        \n",
    "#     def report(self):\n",
    "#         print(f'List of No. of Games Played(n_games_list): {self.n_games_list} \\n')\n",
    "#         print(f'Number of Average Games Played(n_avg_games): {self.n_avg_games} \\n')\n",
    "#         print(f'Win Rates of Players(player_wr_list): {self.player_wr_list} \\n')\n",
    "#         print(f'Average Win Rate(avg_wr): {self.avg_wr} \\n')\n",
    "#         print(f'Compute Time(compute_time): {self.compute_time} seconds \\n')\n",
    "#         print(f'Saved Result(filename): {self.filename} \\n')\n",
    "        \n",
    "        \n",
    "    \n",
    "        \n",
    "        "
   ]
  },
  {
   "cell_type": "code",
   "execution_count": 8,
   "id": "2f76e76a-e45b-4be6-8ee3-c363da34dd1f",
   "metadata": {},
   "outputs": [],
   "source": [
    "### Streak MM\n",
    "\n",
    "class StreakMM:\n",
    "    def __init__(self, n_players, req_net_games = 40):\n",
    "        ### number of players involved\n",
    "        self.n_players = n_players\n",
    "        ### required number of net games won\n",
    "        self.req_net_games = req_net_games\n",
    "        \n",
    "        \n",
    "        \n",
    "        \n",
    "    def compute(self, wsr=0.5, wlr=0.85, n_streak=6, bottom=True, n_bottom=0, save=False):\n",
    "        ### compute start time\n",
    "        self.start = time()\n",
    "        \n",
    "        ### number of games per player\n",
    "        self.n_games_list = []\n",
    "        \n",
    "        ### win rates of all players\n",
    "        self.player_wr_list = []\n",
    "        \n",
    "        ### record of all games by the population (eg. 1000 players)\n",
    "        self.record_all = []\n",
    "        \n",
    "        ### save or not save the record of games\n",
    "        self.save = save\n",
    "        \n",
    "        ### streak probabilities\n",
    "        self.wsr = wsr\n",
    "        self.lsr = 1 - self.wsr\n",
    "        \n",
    "        ### number of games per streak\n",
    "        self.n_streak = n_streak\n",
    "        \n",
    "        ### win or lose rate per streak\n",
    "        self.wlr = wlr\n",
    "        \n",
    "        ### bottom net games won\n",
    "        self.bottom = bottom\n",
    "        \n",
    "        ### threshold for bottom net games won\n",
    "        self.n_bottom = n_bottom\n",
    "        \n",
    "        ### Two types of streaks\n",
    "        streak_list = ['WS', 'LS']\n",
    "        ### win or lose ?\n",
    "        outcome_list = [1, 0]\n",
    "        \n",
    "        for _ in tqdm(range(self.n_players)):\n",
    "            # all games for ONE player\n",
    "            all_games = []\n",
    "            ### number of games played so far for each player\n",
    "            n_games = 0\n",
    "            ### number of net games won\n",
    "            n_wins = 0\n",
    "                    \n",
    "            while n_wins < self.req_net_games:\n",
    "                ### random select one streak\n",
    "                one_streak = random.choices(streak_list, weights=(self.wsr, self.lsr))[0]\n",
    "                ### add number of games of streak to number of games played\n",
    "                n_games += self.n_streak\n",
    "                \n",
    "                ### if WS (win streak)\n",
    "                if one_streak == \"WS\":\n",
    "                    wr = self.wlr\n",
    "                    lr = 1-self.wlr\n",
    "                \n",
    "                    ### randomly pick streak results given which streak\n",
    "                    streak_result = random.choices(outcome_list, weights=(wr, lr), k = n_streak)\n",
    "                    all_games.extend(streak_result)\n",
    "                    \n",
    "                    for wl in streak_result:\n",
    "                        if wl == 1:\n",
    "                            n_wins += 1\n",
    "                        else:\n",
    "                            n_wins -= 1\n",
    "                \n",
    "                ### if LS (Losing Streak)\n",
    "                else:\n",
    "                    wr = 1-self.wlr\n",
    "                    lr = self.wlr\n",
    "                    \n",
    "                    ### randomly pick streak results given which streak\n",
    "                    streak_result = random.choices(outcome_list, weights=(wr, lr), k = n_streak)\n",
    "                    all_games.extend(streak_result)\n",
    "                    \n",
    "                    for wl in streak_result:\n",
    "                        if wl == 1:\n",
    "                            n_wins += 1\n",
    "                        else:\n",
    "                            n_wins -= 1\n",
    "                            if self.bottom == True:\n",
    "                                if n_wins < abs(self.n_bottom) * (-1):\n",
    "                                    n_wins = abs(self.n_bottom) * (-1)\n",
    "                                else:\n",
    "                                    pass\n",
    "                            else:\n",
    "                                pass\n",
    "                            \n",
    "                            \n",
    "#                             if self.bottom == False:\n",
    "#                                 n_wins -= 1\n",
    "#                             else:\n",
    "#                                 n_wins\n",
    "#                                 if n_wins < 0:\n",
    "#                                     n_wins = abs(self.n_bottom) * (-1)\n",
    "            \n",
    "            ### calculate and organize result\n",
    "            # victory = 0\n",
    "            # defeat = 0\n",
    "            \n",
    "            # for game in all_games:\n",
    "            #     if game == \"W\":\n",
    "            #         victory += 1\n",
    "            #     else:\n",
    "            #         defeat += 1\n",
    "                \n",
    "            self.n_games_list.append(n_games)\n",
    "            player_wr = sum(all_games)/len(all_games)\n",
    "            self.player_wr_list.append(player_wr)\n",
    "            \n",
    "            ### append all games played by one player to record of all games played by population in question\n",
    "            self.record_all.append(all_games)\n",
    "                \n",
    "                \n",
    "        ### number of average games played per player\n",
    "        self.n_avg_games = sum(self.n_games_list) / self.n_players\n",
    "        ### average win rate\n",
    "        self.avg_wr = sum(self.player_wr_list) / self.n_players\n",
    "        \n",
    "        ### compute end time\n",
    "        self.end = time()\n",
    "        ### compute duration\n",
    "        self.compute_time = self.end - self.start\n",
    "        \n",
    "        ### save or not save record of all games by all players \n",
    "        if self.save is False:\n",
    "            self.filename = f'No saved files created'\n",
    "            pass\n",
    "        else:\n",
    "            timestamp = datetime.now().strftime('%Y%m%d_%H%M%S')\n",
    "            self.filename = f'saved_lists/streakmm_{timestamp}.txt'\n",
    "            with open(self.filename, 'wb') as file:\n",
    "                pickle.dump(self.record_all, file)\n",
    "            \n",
    "        \n",
    "    def report(self):\n",
    "        print(f'List of No. of Games Played(n_games_list): {self.n_games_list} \\n')\n",
    "        print(f'Number of Average Games Played(n_avg_games): {self.n_avg_games} \\n')\n",
    "        print(f'Win Rates of Players(player_wr_list): {self.player_wr_list} \\n')\n",
    "        print(f'Average Win Rate(avg_wr): {self.avg_wr} \\n')\n",
    "        print(f'Compute Time(compute_time): {self.compute_time} seconds \\n')\n",
    "        print(f'Saved Result(filename): {self.filename} \\n')\n",
    "        \n",
    "        \n",
    "    \n",
    "        \n",
    "        "
   ]
  },
  {
   "cell_type": "markdown",
   "id": "d16b22f6-aa75-4e3b-a92e-977069a64e47",
   "metadata": {},
   "source": [
    "## Experiments"
   ]
  },
  {
   "cell_type": "code",
   "execution_count": 9,
   "id": "0a0bea74-793d-49ca-acad-0437575ad219",
   "metadata": {},
   "outputs": [],
   "source": [
    "### number of net games required\n",
    "net_games_required = 40"
   ]
  },
  {
   "cell_type": "markdown",
   "id": "525b42a2-840d-4cb6-91ca-839aebbeadab",
   "metadata": {},
   "source": [
    "### PerfectMM "
   ]
  },
  {
   "cell_type": "code",
   "execution_count": 13,
   "id": "34440241-0eda-4940-b442-47af8b0b4a37",
   "metadata": {},
   "outputs": [
    {
     "name": "stdout",
     "output_type": "stream",
     "text": [
      "<__main__.PerfectMM object at 0x000001FF19BA1A00>\n",
      "0.5\n",
      "1\n"
     ]
    },
    {
     "name": "stderr",
     "output_type": "stream",
     "text": [
      "100%|███████████████████████████████████████████████████████████████████████████████████| 1/1 [00:00<00:00, 199.80it/s]\n"
     ]
    }
   ],
   "source": [
    "paul_perfectmm = PerfectMM(1)\n",
    "print(paul_perfectmm)\n",
    "print(paul_perfectmm.wr)\n",
    "print(paul_perfectmm.n_players)\n",
    "paul_perfectmm.compute()\n",
    "# paul_perfectmm.compute(save=True)"
   ]
  },
  {
   "cell_type": "code",
   "execution_count": null,
   "id": "8dbc074c-f2c0-471a-b408-558ef5f04f42",
   "metadata": {},
   "outputs": [],
   "source": [
    "paul_perfectmm.report()"
   ]
  },
  {
   "cell_type": "code",
   "execution_count": null,
   "id": "6bf225fc-10a6-414f-9ee7-e9be5f1a485c",
   "metadata": {},
   "outputs": [],
   "source": [
    "five_perfectmm = PerfectMM(5)\n",
    "print(five_perfectmm)\n",
    "print(five_perfectmm.wr)\n",
    "print(five_perfectmm.n_players)\n",
    "five_perfectmm.compute()\n",
    "# paul_perfectmm.compute(save=True)"
   ]
  },
  {
   "cell_type": "code",
   "execution_count": null,
   "id": "c08966fa-7437-423e-b583-0ac77c690209",
   "metadata": {},
   "outputs": [],
   "source": [
    "five_perfectmm.report()"
   ]
  },
  {
   "cell_type": "code",
   "execution_count": null,
   "id": "3a8e0960-a8e8-450d-b89b-e377882c6616",
   "metadata": {},
   "outputs": [],
   "source": []
  },
  {
   "cell_type": "code",
   "execution_count": null,
   "id": "195628d7-b84f-4b0c-8ff7-ca49d67ccdb6",
   "metadata": {},
   "outputs": [],
   "source": []
  },
  {
   "cell_type": "code",
   "execution_count": null,
   "id": "d723ddb6-0b3e-4356-8906-6e9e3138bbe8",
   "metadata": {},
   "outputs": [],
   "source": [
    "### 100 players SIM 1\n",
    "### set random seed\n",
    "random.seed(15)\n",
    "\n",
    "hund_player_perfectmm = PerfectMM(100, wr = 0.50)\n",
    "print(hund_player_perfectmm)\n",
    "# print(hund_player_perfectmm.wr)\n",
    "# print(hund_player_perfectmm.n_players)\n",
    "hund_player_perfectmm.compute()\n",
    "# hund_player_perfectmm.compute(save=True)\n",
    "# print(hund_player_perfectmm.n_games_list)\n",
    "# hund_player_perfectmm.report()"
   ]
  },
  {
   "cell_type": "code",
   "execution_count": null,
   "id": "123a4907-7dd3-4c8d-a82f-d18ca92a8210",
   "metadata": {},
   "outputs": [],
   "source": [
    "hund_player_perfectmm.n_avg_games"
   ]
  },
  {
   "cell_type": "code",
   "execution_count": null,
   "id": "8a3879c2-59fe-4060-bb4e-7e33d63a009a",
   "metadata": {},
   "outputs": [],
   "source": [
    "### 100 players SIM 2\n",
    "### set random seed\n",
    "random.seed(887)\n",
    "\n",
    "hund_player_perfectmm = PerfectMM(100, wr = 0.50)\n",
    "print(hund_player_perfectmm)\n",
    "# print(hund_player_perfectmm.wr)\n",
    "# print(hund_player_perfectmm.n_players)\n",
    "hund_player_perfectmm.compute()\n",
    "# hund_player_perfectmm.compute(save=True)\n",
    "# print(hund_player_perfectmm.n_games_list)\n",
    "# hund_player_perfectmm.report()"
   ]
  },
  {
   "cell_type": "code",
   "execution_count": null,
   "id": "7f3cba23-df2c-4e98-86ed-d2e8bcb47a2c",
   "metadata": {},
   "outputs": [],
   "source": [
    "hund_player_perfectmm.n_avg_games"
   ]
  },
  {
   "cell_type": "code",
   "execution_count": null,
   "id": "df74e469-5ba3-41a5-90eb-73adb845429b",
   "metadata": {},
   "outputs": [],
   "source": []
  },
  {
   "cell_type": "code",
   "execution_count": null,
   "id": "73834c9e-6e1f-4396-9fec-8ed78fb9a32b",
   "metadata": {},
   "outputs": [],
   "source": [
    "### 100 players SIM 3\n",
    "### set random seed\n",
    "random.seed(111)\n",
    "\n",
    "hund_player_perfectmm = PerfectMM(100, wr = 0.50)\n",
    "print(hund_player_perfectmm)\n",
    "# print(hund_player_perfectmm.wr)\n",
    "# print(hund_player_perfectmm.n_players)\n",
    "hund_player_perfectmm.compute()\n",
    "# hund_player_perfectmm.compute(save=True)\n",
    "# print(hund_player_perfectmm.n_games_list)\n",
    "# hund_player_perfectmm.report()"
   ]
  },
  {
   "cell_type": "code",
   "execution_count": null,
   "id": "0d637e0e-c0f4-4ca6-a630-ccbb6ade9793",
   "metadata": {},
   "outputs": [],
   "source": [
    "hund_player_perfectmm.n_avg_games"
   ]
  },
  {
   "cell_type": "code",
   "execution_count": null,
   "id": "6e2bf36a-bf68-48be-a524-6d94a126ee3b",
   "metadata": {},
   "outputs": [],
   "source": []
  },
  {
   "cell_type": "code",
   "execution_count": null,
   "id": "a970ec31-2c11-462c-be60-0a5d938f95dc",
   "metadata": {},
   "outputs": [],
   "source": [
    "### 100 players SIM 4\n",
    "### set random seed\n",
    "random.seed(444)\n",
    "\n",
    "hund_player_perfectmm = PerfectMM(100, wr = 0.50)\n",
    "print(hund_player_perfectmm)\n",
    "# print(hund_player_perfectmm.wr)\n",
    "# print(hund_player_perfectmm.n_players)\n",
    "hund_player_perfectmm.compute()\n",
    "# hund_player_perfectmm.compute(save=True)\n",
    "# print(hund_player_perfectmm.n_games_list)\n",
    "# hund_player_perfectmm.report()"
   ]
  },
  {
   "cell_type": "code",
   "execution_count": null,
   "id": "eb84f937-a747-4ff5-9317-fb0ac0106df5",
   "metadata": {},
   "outputs": [],
   "source": [
    "hund_player_perfectmm.n_avg_games"
   ]
  },
  {
   "cell_type": "code",
   "execution_count": null,
   "id": "23e04906-8b94-4c92-885a-b182e6e123a2",
   "metadata": {},
   "outputs": [],
   "source": []
  },
  {
   "cell_type": "code",
   "execution_count": null,
   "id": "a98c469b-7868-45e9-b7ab-ea5a30dce623",
   "metadata": {},
   "outputs": [],
   "source": [
    "### 100 players SIM 5\n",
    "### set random seed\n",
    "random.seed(5687)\n",
    "\n",
    "hund_player_perfectmm = PerfectMM(100, wr = 0.50)\n",
    "print(hund_player_perfectmm)\n",
    "# print(hund_player_perfectmm.wr)\n",
    "# print(hund_player_perfectmm.n_players)\n",
    "hund_player_perfectmm.compute()\n",
    "# hund_player_perfectmm.compute(save=True)\n",
    "# print(hund_player_perfectmm.n_games_list)\n",
    "# hund_player_perfectmm.report()"
   ]
  },
  {
   "cell_type": "code",
   "execution_count": null,
   "id": "048808e1-288b-4b61-a5f3-e56ba774da19",
   "metadata": {},
   "outputs": [],
   "source": [
    "hund_player_perfectmm.n_avg_games"
   ]
  },
  {
   "cell_type": "code",
   "execution_count": null,
   "id": "15358cb3-56de-4a8d-b175-b8e69b7afbb2",
   "metadata": {},
   "outputs": [],
   "source": []
  },
  {
   "cell_type": "markdown",
   "id": "56182119-5922-448a-9eaa-9e006452441d",
   "metadata": {},
   "source": [
    "### NearPerfectMM "
   ]
  },
  {
   "cell_type": "code",
   "execution_count": null,
   "id": "06eb0d65-f1dc-4d66-8d78-6646eae21d61",
   "metadata": {},
   "outputs": [],
   "source": [
    "paul_nearperfectmm = PerfectMM(5, wr = 0.501)\n",
    "print(paul_nearperfectmm)\n",
    "print(paul_nearperfectmm.wr)\n",
    "print(paul_nearperfectmm.n_players)\n",
    "paul_nearperfectmm.compute()\n",
    "# paul_perfectmm.compute(save=True)"
   ]
  },
  {
   "cell_type": "code",
   "execution_count": null,
   "id": "bb2d0419-3b89-4792-92a9-630b98f63905",
   "metadata": {},
   "outputs": [],
   "source": [
    "paul_nearperfectmm.report()"
   ]
  },
  {
   "cell_type": "code",
   "execution_count": null,
   "id": "4210e545-8e41-475c-9b6c-4d275f31fc2e",
   "metadata": {},
   "outputs": [],
   "source": [
    "# len(paul_nearperfectmm.record_all[0])\n",
    "len(paul_nearperfectmm.record_all[0])"
   ]
  },
  {
   "cell_type": "code",
   "execution_count": null,
   "id": "debb7068-a84b-44f2-91b4-d8e0b0b71587",
   "metadata": {},
   "outputs": [],
   "source": [
    "len_records = []\n",
    "for item in paul_nearperfectmm.record_all:\n",
    "    len_records.append(len(item))\n",
    "    \n"
   ]
  },
  {
   "cell_type": "code",
   "execution_count": null,
   "id": "824915df-0310-4c05-afb4-9350d3b9b6a6",
   "metadata": {},
   "outputs": [],
   "source": [
    "plt.hist(record_lengths, color='lightgreen', ec='black', bins=15)\n",
    "plt.show()"
   ]
  },
  {
   "cell_type": "code",
   "execution_count": null,
   "id": "ff9d9084-4d40-46cb-b1fd-4f9a1d1cc0a1",
   "metadata": {},
   "outputs": [],
   "source": [
    "plt.hist(record_lengths, color='lightgreen', ec='black', bins=15)\n",
    "plt.scatter(100,10, color='red')\n",
    "plt.show()"
   ]
  },
  {
   "cell_type": "code",
   "execution_count": null,
   "id": "fd51368f-c907-44de-8c65-90949d91f403",
   "metadata": {},
   "outputs": [],
   "source": []
  },
  {
   "cell_type": "code",
   "execution_count": null,
   "id": "e719e23d-765f-44cc-9ee3-d2f128195085",
   "metadata": {},
   "outputs": [],
   "source": []
  },
  {
   "cell_type": "code",
   "execution_count": null,
   "id": "3554b4e7-bc78-4361-ad91-c991d31e173b",
   "metadata": {},
   "outputs": [],
   "source": [
    "### 1000 players SIM 1\n",
    "### set random seed\n",
    "random.seed(15)\n",
    "\n",
    "thous_player_perfectmm = PerfectMM(1000, wr = 0.501)\n",
    "print(thous_player_perfectmm)\n",
    "thous_player_perfectmm.compute()\n",
    "thous_player_perfectmm.n_avg_games"
   ]
  },
  {
   "cell_type": "code",
   "execution_count": null,
   "id": "28141dc2-c6c2-4dbf-bbb7-4dac99255db5",
   "metadata": {},
   "outputs": [],
   "source": []
  },
  {
   "cell_type": "code",
   "execution_count": null,
   "id": "e2812ad7-d375-42c2-a572-da7a5a532d43",
   "metadata": {},
   "outputs": [],
   "source": [
    "### 1000 players SIM 2\n",
    "### set random seed\n",
    "random.seed(25)\n",
    "\n",
    "thous_player_perfectmm = PerfectMM(1000, wr = 0.501)\n",
    "print(thous_player_perfectmm)\n",
    "thous_player_perfectmm.compute()\n",
    "thous_player_perfectmm.n_avg_games"
   ]
  },
  {
   "cell_type": "code",
   "execution_count": null,
   "id": "07f17ec4-66d1-44cc-a6bb-4fedf81d50f1",
   "metadata": {},
   "outputs": [],
   "source": []
  },
  {
   "cell_type": "code",
   "execution_count": null,
   "id": "c30b14ee-25a7-4980-883d-c19862e03ae4",
   "metadata": {},
   "outputs": [],
   "source": [
    "### 1000 players SIM 3\n",
    "### set random seed\n",
    "random.seed(76)\n",
    "\n",
    "thous_player_perfectmm = PerfectMM(1000, wr = 0.501)\n",
    "print(thous_player_perfectmm)\n",
    "thous_player_perfectmm.compute()\n",
    "thous_player_perfectmm.n_avg_games"
   ]
  },
  {
   "cell_type": "code",
   "execution_count": null,
   "id": "fe794448-e451-4070-ba9b-85f191a1f071",
   "metadata": {},
   "outputs": [],
   "source": []
  },
  {
   "cell_type": "code",
   "execution_count": null,
   "id": "5ca33ba2-cf58-46de-8d50-b4c7307a71e0",
   "metadata": {},
   "outputs": [],
   "source": [
    "### 1000 players SIM 4\n",
    "### set random seed\n",
    "random.seed(109)\n",
    "\n",
    "thous_player_perfectmm = PerfectMM(1000, wr = 0.501)\n",
    "print(thous_player_perfectmm)\n",
    "thous_player_perfectmm.compute()\n",
    "thous_player_perfectmm.n_avg_games"
   ]
  },
  {
   "cell_type": "code",
   "execution_count": null,
   "id": "4ac07d23-de97-4b3f-b726-5178bd560de8",
   "metadata": {},
   "outputs": [],
   "source": []
  },
  {
   "cell_type": "code",
   "execution_count": null,
   "id": "2b1d8234-e733-4935-a27c-fe5a6ac71676",
   "metadata": {},
   "outputs": [],
   "source": [
    "### 1000 players SIM 5\n",
    "### set random seed\n",
    "random.seed(765)\n",
    "\n",
    "thous_player_perfectmm = PerfectMM(1000, wr = 0.501)\n",
    "print(thous_player_perfectmm)\n",
    "thous_player_perfectmm.compute()\n",
    "thous_player_perfectmm.n_avg_games"
   ]
  },
  {
   "cell_type": "code",
   "execution_count": null,
   "id": "203dc33d-ead6-44fc-a461-2e07a61c90fb",
   "metadata": {},
   "outputs": [],
   "source": []
  },
  {
   "cell_type": "markdown",
   "id": "a5f5953b-b080-4f8d-a46c-89a75d635918",
   "metadata": {},
   "source": [
    "#### NearPerfectMM with range of Win Rates "
   ]
  },
  {
   "cell_type": "code",
   "execution_count": null,
   "id": "23853432-b2cb-4683-a728-5644abc4695f",
   "metadata": {},
   "outputs": [],
   "source": [
    "# wr_list = [0.51, 0.52, 0.53, 0.54, 0.55, 0.56, 0.57, 0.58, 0.59, 0.6]\n",
    "wr_list = np.arange(0.501, 0.601, 0.001)"
   ]
  },
  {
   "cell_type": "code",
   "execution_count": null,
   "id": "743785e2-c387-4a42-af3c-f489d5e3f767",
   "metadata": {},
   "outputs": [],
   "source": [
    "random.seed(200)\n",
    "\n",
    "n_avg_games_list = []\n",
    "len_per_wr = []\n",
    "for wr in wr_list:\n",
    "    print(f'wr : {wr}')\n",
    "    record_lengths = []\n",
    "    thous_player_perfectmm = PerfectMM(1000, wr = wr)\n",
    "    print(thous_player_perfectmm)\n",
    "    thous_player_perfectmm.compute()\n",
    "    thous_player_perfectmm.n_avg_games\n",
    "    n_avg_games_list.append(thous_player_perfectmm.n_avg_games)\n",
    "    \n",
    "    for item in thous_player_perfectmm.record_all:\n",
    "        record_lengths.append(len(item))\n",
    "        \n",
    "    len_per_wr.append(record_lengths)"
   ]
  },
  {
   "cell_type": "code",
   "execution_count": null,
   "id": "a0b1d3c9-599c-4f77-9c79-d01f8c419be7",
   "metadata": {},
   "outputs": [],
   "source": [
    "# len(len_per_wr)\n",
    "len(len_per_wr[1])"
   ]
  },
  {
   "cell_type": "code",
   "execution_count": null,
   "id": "a7c324d8-5b47-4c56-a93c-fb26d647290d",
   "metadata": {},
   "outputs": [],
   "source": []
  },
  {
   "cell_type": "code",
   "execution_count": null,
   "id": "5847beb1-1025-4efc-b235-3b04d85caa1a",
   "metadata": {},
   "outputs": [],
   "source": [
    "### rrows * ccols = len(wr_list)\n",
    "rrows = 25\n",
    "ccols = int(len(wr_list)/rrows)\n",
    "fig, axs = plt.subplots(rrows, ccols, figsize=(20,80), constrained_layout = True)\n",
    "# fig.tight_layout(pad=1)\n",
    "\n",
    "for i in range(rrows):\n",
    "    for j in range(ccols):\n",
    "        ind = i*ccols + j\n",
    "        axs[i, j].set_title(f'Win Rate : {wr_list[ind]}')\n",
    "        axs[i, j].hist(len_per_wr[ind], color='green', ec='black', bins=80)\n",
    "        axs[i, j].axvline(np.mean(len_per_wr[i*ccols + j]), color='r')\n",
    "        # axs[i, j].axvline(max(set(len_per_wr[i*ccols + j]), key=len_per_wr[i*ccols + j].count), color='gold')\n",
    "        \n",
    "        # axs[i, j].set_xaxis()\n",
    "    \n",
    "\n",
    "\n",
    "\n",
    "\n",
    "# for i in range(rrows):\n",
    "#     for j in range(ccols):\n",
    "#         # print(i, j)\n",
    "    "
   ]
  },
  {
   "cell_type": "code",
   "execution_count": null,
   "id": "b240eeea-763d-4d4a-b9e8-b7de4ee0d1b6",
   "metadata": {},
   "outputs": [],
   "source": []
  },
  {
   "cell_type": "code",
   "execution_count": null,
   "id": "548e0b3d-1a2e-4928-9d0e-9a2881407853",
   "metadata": {},
   "outputs": [],
   "source": [
    "### rrows * ccols = len(wr_list)\n",
    "rrows = 25\n",
    "ccols = int(len(wr_list)/rrows)\n",
    "fig, axs = plt.subplots(rrows, ccols, figsize=(20,80), constrained_layout = True)\n",
    "# fig.tight_layout(pad=1)\n",
    "\n",
    "for i in range(rrows):\n",
    "    for j in range(ccols):\n",
    "        ind = i*ccols + j\n",
    "        axs[i, j].set_title(f'Win Rate : {wr_list[ind]}')\n",
    "        axs[i, j].boxplot(len_per_wr[ind])\n",
    "        # axs[i, j].axvline(np.mean(len_per_wr[i*ccols + j]), color='r')\n",
    "        \n",
    "        # axs[i, j].set_xaxis()\n",
    "    \n",
    "\n",
    "\n",
    "\n",
    "\n",
    "# for i in range(rrows):\n",
    "#     for j in range(ccols):\n",
    "#         # print(i, j)\n",
    "    "
   ]
  },
  {
   "cell_type": "code",
   "execution_count": null,
   "id": "b0894692-3b31-490d-ba50-1be9cf663908",
   "metadata": {},
   "outputs": [],
   "source": [
    "new_len_per_wr = len_per_wr.copy()\n",
    "for rec_lens in new_len_per_wr:\n",
    "    for item in rec_lens:\n",
    "        # if item >= 9000:\n",
    "        if item >= 3000:\n",
    "            rec_lens.remove(item)\n",
    "\n"
   ]
  },
  {
   "cell_type": "code",
   "execution_count": null,
   "id": "d887ee50-f8ea-45af-bbf1-73259d1bf4f1",
   "metadata": {},
   "outputs": [],
   "source": [
    "# for item in new_len_per_wr:\n",
    "#     print(len(item))"
   ]
  },
  {
   "cell_type": "code",
   "execution_count": null,
   "id": "aa21bbb8-019a-4d0e-ab17-9df19dcf9f7a",
   "metadata": {},
   "outputs": [],
   "source": [
    "### rrows * ccols = len(wr_list)\n",
    "rrows = 25\n",
    "ccols = int(len(wr_list)/rrows)\n",
    "fig, axs = plt.subplots(rrows, ccols, figsize=(20,80), constrained_layout = True)\n",
    "# fig.tight_layout(pad=1)\n",
    "\n",
    "for i in range(rrows):\n",
    "    for j in range(ccols):\n",
    "        ind = i*ccols + j\n",
    "        axs[i, j].set_title(f'Win Rate : {wr_list[ind]}')\n",
    "        axs[i, j].hist(new_len_per_wr[ind], color='lightgreen', ec='black', bins=100)\n",
    "        axs[i, j].axvline(np.mean(new_len_per_wr[i*ccols + j]), color='r')\n",
    "        \n",
    "        # axs[i, j].set_xaxis()\n",
    "    \n",
    "\n",
    "\n",
    "\n",
    "\n",
    "# for i in range(rrows):\n",
    "#     for j in range(ccols):\n",
    "#         # print(i, j)\n",
    "    "
   ]
  },
  {
   "cell_type": "code",
   "execution_count": null,
   "id": "6b1f3b89-7612-4955-b867-ef6230950607",
   "metadata": {},
   "outputs": [],
   "source": []
  },
  {
   "cell_type": "code",
   "execution_count": null,
   "id": "3b72136d-e0b3-446c-a836-ab671e84f4c2",
   "metadata": {},
   "outputs": [],
   "source": [
    "### rrows * ccols = len(wr_list)\n",
    "rrows = 25\n",
    "ccols = int(len(wr_list)/rrows)\n",
    "fig, axs = plt.subplots(rrows, ccols, figsize=(20,80), constrained_layout = True)\n",
    "# fig.tight_layout(pad=1)\n",
    "\n",
    "for i in range(rrows):\n",
    "    for j in range(ccols):\n",
    "        ind = i*ccols + j\n",
    "        axs[i, j].set_title(f'Win Rate : {wr_list[ind]}')\n",
    "        axs[i, j].boxplot(new_len_per_wr[ind])\n",
    "        # axs[i, j].axvline(np.mean(len_per_wr[i*ccols + j]), color='r')\n",
    "        \n",
    "        # axs[i, j].set_xaxis()\n",
    "    \n",
    "\n",
    "\n",
    "\n",
    "\n",
    "# for i in range(rrows):\n",
    "#     for j in range(ccols):\n",
    "#         # print(i, j)\n",
    "    "
   ]
  },
  {
   "cell_type": "code",
   "execution_count": null,
   "id": "d3c7d65c-cd9d-4149-af20-90fa3061233b",
   "metadata": {},
   "outputs": [],
   "source": []
  },
  {
   "cell_type": "code",
   "execution_count": null,
   "id": "e7f95dd3-fb5f-43a7-8e98-2d95c16d0a5f",
   "metadata": {},
   "outputs": [],
   "source": []
  },
  {
   "cell_type": "code",
   "execution_count": null,
   "id": "e1094b50-db06-4960-92cc-d1b7214182a6",
   "metadata": {},
   "outputs": [],
   "source": []
  },
  {
   "cell_type": "code",
   "execution_count": null,
   "id": "1ee8a96f-ee30-4145-96fc-a095687f4571",
   "metadata": {},
   "outputs": [],
   "source": [
    "len(n_avg_games_list)"
   ]
  },
  {
   "cell_type": "code",
   "execution_count": null,
   "id": "714cfd18-e561-4433-8be1-6edd2ff93238",
   "metadata": {},
   "outputs": [],
   "source": [
    "# n_avg_games_list"
   ]
  },
  {
   "cell_type": "code",
   "execution_count": null,
   "id": "e6337b76-1d90-47b5-be07-fb2dc4de5ca7",
   "metadata": {},
   "outputs": [],
   "source": [
    "# plt.plot(wr_list, n_avg_games_list, linestyle='--')\n",
    "# plt.title('Avg Number of Games Played per Win Rate')\n",
    "# plt.xlabel('Win Rate')\n",
    "# plt.ylabel('Avg Number of Games Played')\n",
    "\n",
    "# ### draw horizontal lines\n",
    "# plt.axhline(18000, color='r')\n",
    "# plt.axhline(9000, color='r')\n",
    "# plt.axhline(6000, color='r')\n",
    "\n",
    "\n",
    "\n",
    "# plt.show()"
   ]
  },
  {
   "cell_type": "code",
   "execution_count": null,
   "id": "6f4b0c67-d774-4887-9e40-c2770667d945",
   "metadata": {},
   "outputs": [],
   "source": [
    "# https://stackoverflow.com/questions/42877747/add-a-label-to-y-axis-to-show-the-value-of-y-for-a-horizontal-line-in-matplotlib\n",
    "\n",
    "fig, ax = plt.subplots(figsize=(12,8))\n",
    "\n",
    "ax.set_title('Avg Number of Games Played per Win Rate')\n",
    "ax.set_xlabel('Win Rate')\n",
    "ax.set_ylabel('Avg Number of Games Played')\n",
    "\n",
    "ax.plot(wr_list, n_avg_games_list, linestyle='--')\n",
    "# ax.axhline(18000, color=\"red\")\n",
    "# ax.axhline(9000, color=\"orange\")\n",
    "# ax.axhline(6000, color=\"green\")\n",
    "\n",
    "# ax.axvline(wr_list[0], color='red')\n",
    "# ax.axvline(wr_list[1], color='orange')\n",
    "# ax.axvline(wr_list[2], color='green')\n",
    "\n",
    "ax.plot(wr_list[0], int(n_avg_games_list[0]), color='red', marker='o')\n",
    "ax.plot(wr_list[1], int(n_avg_games_list[1]), color='orange', marker='o')\n",
    "ax.plot(wr_list[2], int(n_avg_games_list[2]), color='green', marker='o')\n",
    "ax.plot(wr_list[9], int(n_avg_games_list[9]), color='blue', marker='o')\n",
    "ax.plot(wr_list[-1], int(n_avg_games_list[-1]), color='black', marker='o')\n",
    "# ax.plot(wr_list[1], color='orange')\n",
    "# ax.plot(wr_list[2], color='green')\n",
    "\n",
    "# Here: add a new tick with the required value\n",
    "# xticks = [*ax.get_xticks(), wr_list[0], wr_list[1], wr_list[2]]\n",
    "# xticklabels = [*ax.get_xticklabels(),wr_list[0], wr_list[1], wr_list[2]]\n",
    "\n",
    "# yticks = [*ax.get_yticks(), 9000]\n",
    "# yticklabels = [*ax.get_yticklabels(), int(9000)]\n",
    "# ax.set_yticks(yticks, labels=yticklabels)\n",
    "\n",
    "trans = transforms.blended_transform_factory(ax.get_yticklabels()[0].get_transform(), ax.transData)\n",
    "\n",
    "# ax.text(0, 9000, '9000', color='red')\n",
    "ax.text(0.25, int(n_avg_games_list[0]), f\"{wr_list[0]*100}%, {int(n_avg_games_list[0])} games\", color=\"red\", transform=trans, ha=\"right\", va=\"center\")\n",
    "ax.text(0.25, int(n_avg_games_list[1]), f\"{wr_list[1]*100}%, {int(n_avg_games_list[1])} games\", color=\"orange\", transform=trans, ha=\"right\", va=\"center\")\n",
    "ax.text(0.25, int(n_avg_games_list[2]), f\"{wr_list[2]*100}%, {int(n_avg_games_list[2])} games\", color=\"green\", transform=trans, ha=\"right\", va=\"center\")\n",
    "ax.text(0.3, int(n_avg_games_list[9]), f\"{wr_list[9]*100}%, {int(n_avg_games_list[9])} games\", color=\"blue\", transform=trans, ha=\"right\", va=\"center\")\n",
    "ax.text(1, 600, f\"{wr_list[-1]*100}%, {int(n_avg_games_list[-1])} games\", color=\"black\", transform=trans, ha=\"right\", va=\"center\")\n",
    "\n",
    "\n",
    "\n",
    "\n",
    "plt.show()\n"
   ]
  },
  {
   "cell_type": "code",
   "execution_count": null,
   "id": "8d06ca2e-c266-456d-8dfa-3c5929a3b0b3",
   "metadata": {},
   "outputs": [],
   "source": []
  },
  {
   "cell_type": "code",
   "execution_count": null,
   "id": "58fe1071-85af-44a0-b744-9575038df27a",
   "metadata": {},
   "outputs": [],
   "source": []
  },
  {
   "cell_type": "code",
   "execution_count": null,
   "id": "83214ebc-c016-4b20-b0cc-275f778662f9",
   "metadata": {},
   "outputs": [],
   "source": [
    "wr_list"
   ]
  },
  {
   "cell_type": "code",
   "execution_count": null,
   "id": "66acae31-93db-4587-847c-e0bef9b8177e",
   "metadata": {},
   "outputs": [],
   "source": []
  },
  {
   "cell_type": "markdown",
   "id": "ef6b6d4a-46c6-4438-8280-02c1f9cc4ccf",
   "metadata": {},
   "source": [
    "### StreakMM "
   ]
  },
  {
   "cell_type": "markdown",
   "id": "9ebd3140-a599-462d-879a-e95da68d84fa",
   "metadata": {},
   "source": [
    "#### StreakMM with NO BOTTOM "
   ]
  },
  {
   "cell_type": "code",
   "execution_count": null,
   "id": "d18e06b5-af9e-4382-b574-fa206b8ea413",
   "metadata": {},
   "outputs": [],
   "source": [
    "random.seed(96743)\n",
    "five_player_streakmm = StreakMM(5)\n",
    "# five_player_streakmm.compute(bottom=False, save=True)\n",
    "# five_player_streakmm.compute(bottom=False)"
   ]
  },
  {
   "cell_type": "code",
   "execution_count": null,
   "id": "5218a5fb-3f99-44ef-9039-8f8910b9abc1",
   "metadata": {},
   "outputs": [],
   "source": [
    "# five_player_streakmm.compute(bottom=False, save=True)\n",
    "five_player_streakmm.compute(bottom=False)\n",
    "five_player_streakmm.n_games_list"
   ]
  },
  {
   "cell_type": "code",
   "execution_count": null,
   "id": "e3c12ed0-f5fd-4fea-b87c-b34e63386a2c",
   "metadata": {},
   "outputs": [],
   "source": [
    "# dir(five_player_streakmm)\n",
    "five_player_streakmm.n_avg_games"
   ]
  },
  {
   "cell_type": "code",
   "execution_count": null,
   "id": "7fa0e87b-ff2d-408d-8a55-d475d5262b0a",
   "metadata": {},
   "outputs": [],
   "source": [
    "five_player_streakmm.player_wr_list"
   ]
  },
  {
   "cell_type": "code",
   "execution_count": null,
   "id": "86d28f31-b42e-405d-82cd-94ddb0006ebc",
   "metadata": {},
   "outputs": [],
   "source": [
    "### StreakMM // 1000 players SIM 1\n",
    "### set random seed\n",
    "random.seed(10)\n",
    "\n",
    "thousand_player_streakmm = StreakMM(1000)\n",
    "thousand_player_streakmm.compute(bottom=False)\n",
    "# thousand_player_streakmm.compute(bottom=False, save=True)\n",
    "print(thousand_player_streakmm.n_avg_games)\n",
    "print(thousand_player_streakmm.avg_wr)"
   ]
  },
  {
   "cell_type": "code",
   "execution_count": null,
   "id": "7441fc71-f015-4369-b93e-0d5e9a168224",
   "metadata": {},
   "outputs": [],
   "source": []
  },
  {
   "cell_type": "code",
   "execution_count": null,
   "id": "f393eb66-def2-4e48-a06f-0d2e34e59124",
   "metadata": {},
   "outputs": [],
   "source": [
    "### StreakMM // 1000 players SIM 2\n",
    "### set random seed\n",
    "random.seed(143)\n",
    "\n",
    "thousand_player_streakmm = StreakMM(1000)\n",
    "thousand_player_streakmm.compute(bottom=False)\n",
    "# thousand_player_streakmm.compute(bottom=False, save=True)\n",
    "print(thousand_player_streakmm.n_avg_games)\n",
    "print(thousand_player_streakmm.avg_wr)"
   ]
  },
  {
   "cell_type": "code",
   "execution_count": null,
   "id": "7623e779-1131-46eb-abba-855df016703d",
   "metadata": {},
   "outputs": [],
   "source": []
  },
  {
   "cell_type": "code",
   "execution_count": null,
   "id": "7700c395-78ee-4d27-93cd-bc07870d33fe",
   "metadata": {},
   "outputs": [],
   "source": [
    "### StreakMM // 1000 players SIM 3\n",
    "### set random seed\n",
    "random.seed(91)\n",
    "\n",
    "thousand_player_streakmm = StreakMM(1000)\n",
    "thousand_player_streakmm.compute(bottom=False)\n",
    "# thousand_player_streakmm.compute(bottom=False, save=True)\n",
    "print(thousand_player_streakmm.n_avg_games)\n",
    "print(thousand_player_streakmm.avg_wr)"
   ]
  },
  {
   "cell_type": "code",
   "execution_count": null,
   "id": "20bcfe73-cbe3-461f-a23c-d631f167eb44",
   "metadata": {},
   "outputs": [],
   "source": []
  },
  {
   "cell_type": "code",
   "execution_count": null,
   "id": "09f2450d-bdb4-454e-bdcd-8a732c3f252d",
   "metadata": {},
   "outputs": [],
   "source": [
    "### StreakMM // 1000 players SIM 4\n",
    "### set random seed\n",
    "random.seed(735)\n",
    "\n",
    "thousand_player_streakmm = StreakMM(1000)\n",
    "thousand_player_streakmm.compute(bottom=False)\n",
    "# thousand_player_streakmm.compute(bottom=False, save=True)\n",
    "print(thousand_player_streakmm.n_avg_games)\n",
    "print(thousand_player_streakmm.avg_wr)"
   ]
  },
  {
   "cell_type": "code",
   "execution_count": null,
   "id": "c3dde683-2806-41f3-849e-7e4c86129a8b",
   "metadata": {},
   "outputs": [],
   "source": []
  },
  {
   "cell_type": "code",
   "execution_count": null,
   "id": "139b0f00-7da1-490a-87c3-e2dd3190b489",
   "metadata": {},
   "outputs": [],
   "source": [
    "### StreakMM // 1000 players SIM 5\n",
    "### set random seed\n",
    "random.seed(68)\n",
    "\n",
    "thousand_player_streakmm = StreakMM(1000)\n",
    "thousand_player_streakmm.compute(bottom=False)\n",
    "# thousand_player_streakmm.compute(bottom=False, save=True)\n",
    "print(thousand_player_streakmm.n_avg_games)\n",
    "print(thousand_player_streakmm.avg_wr)"
   ]
  },
  {
   "cell_type": "code",
   "execution_count": null,
   "id": "d7d3cb40-976d-42d5-99af-8a7ba7921f22",
   "metadata": {},
   "outputs": [],
   "source": []
  },
  {
   "cell_type": "code",
   "execution_count": null,
   "id": "127b49c2-3658-48bd-8aad-5aca0452c364",
   "metadata": {},
   "outputs": [],
   "source": [
    "(0.5420898508755609 + 0.5396237907017246 + 0.5425250746471222 + 0.5389040097753112 + 0.5389040097753112) / 5"
   ]
  },
  {
   "cell_type": "code",
   "execution_count": null,
   "id": "4811016e-c157-4787-882c-bc60f3cba093",
   "metadata": {},
   "outputs": [],
   "source": [
    "(403344.84+1045363.464+572045.592+334391.658+139853.022)"
   ]
  },
  {
   "cell_type": "code",
   "execution_count": null,
   "id": "67c3e16e-568c-4bcc-8f23-f55922170dd5",
   "metadata": {},
   "outputs": [],
   "source": [
    "(403344.84+1045363.464+572045.592+334391.658+139853.022) /5 "
   ]
  },
  {
   "cell_type": "code",
   "execution_count": null,
   "id": "9c0f7a34-97a3-41f6-925a-78a378858085",
   "metadata": {},
   "outputs": [],
   "source": []
  },
  {
   "cell_type": "markdown",
   "id": "0b3e5e08-7ff8-4a13-82eb-73f9daa51be0",
   "metadata": {
    "tags": []
   },
   "source": [
    "#### StreakMM with Bottom (= 0) "
   ]
  },
  {
   "cell_type": "code",
   "execution_count": null,
   "id": "f6a65286-1e9c-427d-a824-0161669dd330",
   "metadata": {},
   "outputs": [],
   "source": [
    "n_bottom = 0"
   ]
  },
  {
   "cell_type": "code",
   "execution_count": null,
   "id": "af6870d7-02f3-41a7-ac3e-f99927f1fe13",
   "metadata": {},
   "outputs": [],
   "source": [
    "random.seed(1000)\n",
    "five_player_streakmm = StreakMM(5)\n",
    "# five_player_streakmm.compute(bottom=False, save=True)\n",
    "# five_player_streakmm.compute(bottom=False)"
   ]
  },
  {
   "cell_type": "code",
   "execution_count": null,
   "id": "ef38bd87-6a29-4ba5-8f7a-43fff9fcb305",
   "metadata": {},
   "outputs": [],
   "source": [
    "five_player_streakmm.compute(bottom=True, n_bottom=n_bottom)\n",
    "five_player_streakmm.n_games_list\n"
   ]
  },
  {
   "cell_type": "code",
   "execution_count": null,
   "id": "50a546de-1dd6-4f64-9214-4ae4cc9405ac",
   "metadata": {},
   "outputs": [],
   "source": [
    "# dir(five_player_streakmm)\n",
    "five_player_streakmm.n_avg_games"
   ]
  },
  {
   "cell_type": "code",
   "execution_count": null,
   "id": "5d1b766d-77c8-4836-a71a-0ccbe8a8dc38",
   "metadata": {},
   "outputs": [],
   "source": [
    "five_player_streakmm.player_wr_list"
   ]
  },
  {
   "cell_type": "code",
   "execution_count": null,
   "id": "78a09860-6138-42a2-b692-f50d2aa2d03e",
   "metadata": {},
   "outputs": [],
   "source": []
  },
  {
   "cell_type": "code",
   "execution_count": null,
   "id": "fb548ad4-2ae0-4b85-ad5e-c6e1c4dc832e",
   "metadata": {},
   "outputs": [],
   "source": [
    "### StreakMM // 1000 players SIM 1 ~ 5\n",
    "### bottom = 0\n",
    "\n",
    "seeds = [987,909,275,8124,284]\n",
    "\n",
    "for sd in seeds:\n",
    "    random.seed(sd)\n",
    "\n",
    "    thousand_player_streakmm = StreakMM(1000)\n",
    "    thousand_player_streakmm.compute(bottom=True, n_bottom=n_bottom)\n",
    "    # thousand_player_streakmm.compute(bottom=False, save=True)\n",
    "    \n",
    "    print(f'n_avg_games : {thousand_player_streakmm.n_avg_games}')\n",
    "    print(f'avg_wr : {thousand_player_streakmm.avg_wr}')\n",
    "    print(f'max(n_games_list) : {max(thousand_player_streakmm.n_games_list)}')\n",
    "    print(f'min(n_games_list) : {min(thousand_player_streakmm.n_games_list)}')"
   ]
  },
  {
   "cell_type": "code",
   "execution_count": null,
   "id": "2b2d978d-b2a0-4f86-a76e-05b5b06489ef",
   "metadata": {},
   "outputs": [],
   "source": [
    "(540.108 +\n",
    "547.98+\n",
    "529.968+\n",
    "550.908+\n",
    "548.07)/5\n",
    "\n"
   ]
  },
  {
   "cell_type": "code",
   "execution_count": null,
   "id": "e1a42cdf-a899-4844-be95-f046da10d0e1",
   "metadata": {},
   "outputs": [],
   "source": []
  },
  {
   "cell_type": "markdown",
   "id": "b9095a8a-a889-4a33-ab87-a40ec2e271db",
   "metadata": {},
   "source": [
    "#### StreakMM with Bottom (= 10)"
   ]
  },
  {
   "cell_type": "code",
   "execution_count": null,
   "id": "1f8b1524-89d0-4138-9ba4-22c0dedfb082",
   "metadata": {},
   "outputs": [],
   "source": [
    "n_bottom = 10"
   ]
  },
  {
   "cell_type": "code",
   "execution_count": null,
   "id": "ea2ea20d-4f83-40b8-8488-aa39e18db894",
   "metadata": {},
   "outputs": [],
   "source": [
    "### StreakMM // 1000 players SIM 1 ~ 5\n",
    "### bottom = 10\n",
    "\n",
    "seeds = [123,5346,245,762,7231]\n",
    "\n",
    "for seed in seeds:\n",
    "    random.seed(seed)\n",
    "\n",
    "    thousand_player_streakmm = StreakMM(1000)\n",
    "    thousand_player_streakmm.compute(bottom=True, n_bottom=n_bottom)\n",
    "    # thousand_player_streakmm.compute(bottom=False, save=True)\n",
    "    \n",
    "    print(f'n_avg_games : {thousand_player_streakmm.n_avg_games}')\n",
    "    print(f'avg_wr : {thousand_player_streakmm.avg_wr}')\n",
    "    print(f'max(n_games_list) : {max(thousand_player_streakmm.n_games_list)}')\n",
    "    print(f'min(n_games_list) : {min(thousand_player_streakmm.n_games_list)}')"
   ]
  },
  {
   "cell_type": "code",
   "execution_count": null,
   "id": "a911e475-7791-428c-9b94-33730ebd2d26",
   "metadata": {},
   "outputs": [],
   "source": [
    "(756.996+\n",
    "740.274+\n",
    "766.896+\n",
    "787.506+\n",
    "765.786\n",
    "\n",
    ")/5\n"
   ]
  },
  {
   "cell_type": "code",
   "execution_count": null,
   "id": "c1e71436-9c10-4568-9aa2-66a946f78256",
   "metadata": {},
   "outputs": [],
   "source": []
  },
  {
   "cell_type": "markdown",
   "id": "4ed2f10a-2772-43b5-889d-31c593a1dc77",
   "metadata": {},
   "source": [
    "#### StreakMM with Bottom (= 20)"
   ]
  },
  {
   "cell_type": "code",
   "execution_count": null,
   "id": "c91f794d-2f2a-4b90-82a5-d2cf8632e8af",
   "metadata": {},
   "outputs": [],
   "source": [
    "n_bottom = 20"
   ]
  },
  {
   "cell_type": "code",
   "execution_count": null,
   "id": "ed1a1c07-96d5-4b1a-b846-57089dd38663",
   "metadata": {},
   "outputs": [],
   "source": [
    "### StreakMM // 1000 players SIM 1 ~ 5\n",
    "### bottom = 20\n",
    "\n",
    "seeds = [8234,3346,2415,72,23]\n",
    "\n",
    "for seed in seeds:\n",
    "    random.seed(seed)\n",
    "\n",
    "    thousand_player_streakmm = StreakMM(1000)\n",
    "    thousand_player_streakmm.compute(bottom=True, n_bottom=n_bottom)\n",
    "    # thousand_player_streakmm.compute(bottom=False, save=True)\n",
    "    \n",
    "    print(f'n_avg_games : {thousand_player_streakmm.n_avg_games}')\n",
    "    print(f'avg_wr : {thousand_player_streakmm.avg_wr}')\n",
    "    print(f'max(n_games_list) : {max(thousand_player_streakmm.n_games_list)}')\n",
    "    print(f'min(n_games_list) : {min(thousand_player_streakmm.n_games_list)}')"
   ]
  },
  {
   "cell_type": "code",
   "execution_count": null,
   "id": "722524a4-a458-45af-a7c9-4e9776cd9edf",
   "metadata": {},
   "outputs": [],
   "source": [
    "(1044.24+\n",
    "1020.42+\n",
    "969.366+\n",
    "1022.904+\n",
    "984.984)/5\n",
    "\n"
   ]
  },
  {
   "cell_type": "code",
   "execution_count": null,
   "id": "46e751a7-47c0-45b9-9086-ee92d106f4f2",
   "metadata": {},
   "outputs": [],
   "source": []
  },
  {
   "cell_type": "markdown",
   "id": "042c0c3f-ec17-4afb-978d-c6e14d1b5df9",
   "metadata": {},
   "source": [
    "#### StreakMM with Bottom (= 30)"
   ]
  },
  {
   "cell_type": "code",
   "execution_count": null,
   "id": "2edb3cc2-2db5-4618-95b0-a65c5aa4e227",
   "metadata": {},
   "outputs": [],
   "source": [
    "n_bottom = 30"
   ]
  },
  {
   "cell_type": "code",
   "execution_count": null,
   "id": "847de49c-1d9f-4006-9d24-6ab0f071dc04",
   "metadata": {},
   "outputs": [],
   "source": [
    "### StreakMM // 1000 players SIM 1 ~ 5\n",
    "### bottom = 30\n",
    "\n",
    "seeds = [43,17,532,875,461]\n",
    "\n",
    "for seed in seeds:\n",
    "    random.seed(seed)\n",
    "\n",
    "    thousand_player_streakmm = StreakMM(1000)\n",
    "    thousand_player_streakmm.compute(bottom=True, n_bottom=n_bottom)\n",
    "    # thousand_player_streakmm.compute(bottom=False, save=True)\n",
    "    \n",
    "    print(f'n_avg_games : {thousand_player_streakmm.n_avg_games}')\n",
    "    print(f'avg_wr : {thousand_player_streakmm.avg_wr}')\n",
    "    print(f'max(n_games_list) : {max(thousand_player_streakmm.n_games_list)}')\n",
    "    print(f'min(n_games_list) : {min(thousand_player_streakmm.n_games_list)}')"
   ]
  },
  {
   "cell_type": "code",
   "execution_count": null,
   "id": "03d0c35a-b154-4a1e-976a-b2725bcc3ed9",
   "metadata": {},
   "outputs": [],
   "source": [
    "(1334.988+\n",
    "1271.478+\n",
    "1250.658+\n",
    "1308.726+\n",
    "1254.288)/5\n",
    "\n"
   ]
  },
  {
   "cell_type": "code",
   "execution_count": null,
   "id": "28c30139-c537-4dda-9dc1-d6e200abf286",
   "metadata": {},
   "outputs": [],
   "source": []
  },
  {
   "cell_type": "markdown",
   "id": "2e8a5ec4-252d-4f46-a53e-1f8723c33d85",
   "metadata": {},
   "source": [
    "#### StreakMM with Bottom (= 40)"
   ]
  },
  {
   "cell_type": "code",
   "execution_count": null,
   "id": "6093f9a9-ee9c-40aa-96de-2ca231fc5d5f",
   "metadata": {},
   "outputs": [],
   "source": [
    "n_bottom = 40"
   ]
  },
  {
   "cell_type": "code",
   "execution_count": null,
   "id": "2eed4106-40da-43ea-86d6-5899d74b36eb",
   "metadata": {},
   "outputs": [],
   "source": [
    "### StreakMM // 1000 players SIM 1 ~ 5\n",
    "### bottom = 40\n",
    "\n",
    "seeds = [7,1,80,45,13133]\n",
    "\n",
    "for seed in seeds:\n",
    "    random.seed(seed)\n",
    "\n",
    "    thousand_player_streakmm = StreakMM(1000)\n",
    "    thousand_player_streakmm.compute(bottom=True, n_bottom=n_bottom)\n",
    "    # thousand_player_streakmm.compute(bottom=False, save=True)\n",
    "    \n",
    "    print(f'n_avg_games : {thousand_player_streakmm.n_avg_games}')\n",
    "    print(f'avg_wr : {thousand_player_streakmm.avg_wr}')\n",
    "    print(f'max(n_games_list) : {max(thousand_player_streakmm.n_games_list)}')\n",
    "    print(f'min(n_games_list) : {min(thousand_player_streakmm.n_games_list)}')"
   ]
  },
  {
   "cell_type": "code",
   "execution_count": null,
   "id": "8f8f3583-0540-4643-be98-c096ce106062",
   "metadata": {},
   "outputs": [],
   "source": [
    "(1511.898+\n",
    "1530.984+\n",
    "1473.486+\n",
    "1466.496+\n",
    "1458.0)/5\n",
    "\n"
   ]
  },
  {
   "cell_type": "code",
   "execution_count": null,
   "id": "18d2375c-4ca4-4f24-a266-0dab49399d34",
   "metadata": {},
   "outputs": [],
   "source": []
  },
  {
   "cell_type": "markdown",
   "id": "4d47a9c6-a704-4bcc-8e39-b560ff904a1a",
   "metadata": {},
   "source": [
    "#### StreakMM with Bottom (= 50)"
   ]
  },
  {
   "cell_type": "code",
   "execution_count": null,
   "id": "7e1f728e-6e0c-4317-92e1-3c2eb57859d4",
   "metadata": {},
   "outputs": [],
   "source": [
    "n_bottom = 50"
   ]
  },
  {
   "cell_type": "code",
   "execution_count": null,
   "id": "3d60e198-e7a5-4894-8677-15073f782553",
   "metadata": {},
   "outputs": [],
   "source": [
    "### StreakMM // 1000 players SIM 1 ~ 5\n",
    "### bottom = 50\n",
    "\n",
    "seeds = [6,77,888,474,23232]\n",
    "\n",
    "for seed in seeds:\n",
    "    random.seed(seed)\n",
    "\n",
    "    thousand_player_streakmm = StreakMM(1000)\n",
    "    thousand_player_streakmm.compute(bottom=True, n_bottom=n_bottom)\n",
    "    # thousand_player_streakmm.compute(bottom=False, save=True)\n",
    "    \n",
    "    print(f'n_avg_games : {thousand_player_streakmm.n_avg_games}')\n",
    "    print(f'avg_wr : {thousand_player_streakmm.avg_wr}')\n",
    "    print(f'max(n_games_list) : {max(thousand_player_streakmm.n_games_list)}')\n",
    "    print(f'min(n_games_list) : {min(thousand_player_streakmm.n_games_list)}')"
   ]
  },
  {
   "cell_type": "code",
   "execution_count": null,
   "id": "0eaad633-1925-41c2-9114-ee19224f97c3",
   "metadata": {},
   "outputs": [],
   "source": []
  },
  {
   "cell_type": "code",
   "execution_count": null,
   "id": "f8565da2-8051-4656-a56f-99906fdf54d8",
   "metadata": {},
   "outputs": [],
   "source": []
  },
  {
   "cell_type": "markdown",
   "id": "3ae994c1-f09b-4d26-8e9a-be16f9eb95c1",
   "metadata": {
    "tags": []
   },
   "source": [
    "## MISC"
   ]
  },
  {
   "cell_type": "code",
   "execution_count": 14,
   "id": "388d7bb1-a1b8-49e0-ad7e-c97f24a36c9d",
   "metadata": {},
   "outputs": [],
   "source": [
    "n_avg_games_list = [16275.122,\n",
    " 9889.8,\n",
    " 6552.968,\n",
    " 5005.22,\n",
    " 4268.476,\n",
    " 3252.382,\n",
    " 2803.194,\n",
    " 2443.734,\n",
    " 2416.79,\n",
    " 1988.562,\n",
    " 1776.416,\n",
    " 1716.216,\n",
    " 1530.176,\n",
    " 1440.958,\n",
    " 1340.19,\n",
    " 1296.862,\n",
    " 1163.65,\n",
    " 1121.12,\n",
    " 992.732,\n",
    " 1020.566,\n",
    " 994.69,\n",
    " 885.342,\n",
    " 870.482,\n",
    " 856.222,\n",
    " 810.366,\n",
    " 786.666,\n",
    " 749.278,\n",
    " 710.36,\n",
    " 690.256,\n",
    " 663.062,\n",
    " 674.01,\n",
    " 627.042,\n",
    " 580.902,\n",
    " 587.12,\n",
    " 572.986,\n",
    " 549.814,\n",
    " 555.494,\n",
    " 520.152,\n",
    " 510.27,\n",
    " 499.35,\n",
    " 497.752,\n",
    " 482.2,\n",
    " 461.516,\n",
    " 451.58,\n",
    " 436.416,\n",
    " 437.918,\n",
    " 423.546,\n",
    " 398.802,\n",
    " 404.0,\n",
    " 406.556,\n",
    " 388.666,\n",
    " 383.962,\n",
    " 376.966,\n",
    " 368.722,\n",
    " 364.662,\n",
    " 361.484,\n",
    " 346.112,\n",
    " 349.268,\n",
    " 338.376,\n",
    " 326.114,\n",
    " 324.984,\n",
    " 318.796,\n",
    " 318.658,\n",
    " 314.434,\n",
    " 307.372,\n",
    " 303.066,\n",
    " 304.23,\n",
    " 280.424,\n",
    " 288.494,\n",
    " 281.348,\n",
    " 271.956,\n",
    " 279.102,\n",
    " 267.212,\n",
    " 269.522,\n",
    " 270.22,\n",
    " 261.012,\n",
    " 259.01,\n",
    " 253.024,\n",
    " 255.112,\n",
    " 246.726,\n",
    " 246.3,\n",
    " 244.068,\n",
    " 241.676,\n",
    " 237.09,\n",
    " 228.604,\n",
    " 233.626,\n",
    " 230.63,\n",
    " 228.0,\n",
    " 225.658,\n",
    " 225.146,\n",
    " 221.016,\n",
    " 219.752,\n",
    " 216.122,\n",
    " 212.562,\n",
    " 211.18,\n",
    " 211.308,\n",
    " 204.916,\n",
    " 206.118,\n",
    " 200.87]"
   ]
  },
  {
   "cell_type": "code",
   "execution_count": 15,
   "id": "2a239bd1-c30d-4dea-8f50-b674d5c0beab",
   "metadata": {},
   "outputs": [],
   "source": [
    "# wr_list = [0.51, 0.52, 0.53, 0.54, 0.55, 0.56, 0.57, 0.58, 0.59, 0.6]\n",
    "wr_list = np.arange(0.501, 0.6, 0.001)"
   ]
  },
  {
   "cell_type": "code",
   "execution_count": 27,
   "id": "40b3c901-f839-400e-825a-942826d6ad29",
   "metadata": {},
   "outputs": [
    {
     "data": {
      "image/png": "[encoded data removed]",
      "text/plain": [
       "<Figure size 1200x800 with 1 Axes>"
      ]
     },
     "metadata": {},
     "output_type": "display_data"
    }
   ],
   "source": [
    "# https://stackoverflow.com/questions/42877747/add-a-label-to-y-axis-to-show-the-value-of-y-for-a-horizontal-line-in-matplotlib\n",
    "\n",
    "fig, ax = plt.subplots(figsize=(12,8))\n",
    "\n",
    "ax.set_title('Avg Number of Games Played per Targeted Win Rate')\n",
    "ax.set_xlabel('Targeted Win Rate')\n",
    "ax.set_ylabel('Avg Number of Games Played')\n",
    "\n",
    "ax.plot(wr_list, n_avg_games_list, linestyle='--')\n",
    "# ax.axhline(18000, color=\"red\")\n",
    "# ax.axhline(9000, color=\"orange\")\n",
    "# ax.axhline(6000, color=\"green\")\n",
    "\n",
    "# ax.axvline(wr_list[0], color='red')\n",
    "# ax.axvline(wr_list[1], color='orange')\n",
    "# ax.axvline(wr_list[2], color='green')\n",
    "\n",
    "ax.plot(wr_list[0], int(n_avg_games_list[0]), color='red', marker='o')\n",
    "ax.plot(wr_list[1], int(n_avg_games_list[1]), color='orange', marker='o')\n",
    "ax.plot(wr_list[2], int(n_avg_games_list[2]), color='green', marker='o')\n",
    "ax.plot(wr_list[9], int(n_avg_games_list[9]), color='blue', marker='o')\n",
    "ax.plot(wr_list[29], int(n_avg_games_list[29]), color='purple', marker='o')\n",
    "ax.plot(wr_list[-1], int(n_avg_games_list[-1]), color='black', marker='o')\n",
    "# ax.plot(wr_list[1], color='orange')\n",
    "# ax.plot(wr_list[2], color='green')\n",
    "\n",
    "# Here: add a new tick with the required value\n",
    "# xticks = [*ax.get_xticks(), wr_list[0], wr_list[1], wr_list[2]]\n",
    "# xticklabels = [*ax.get_xticklabels(),wr_list[0], wr_list[1], wr_list[2]]\n",
    "\n",
    "# yticks = [*ax.get_yticks(), 9000]\n",
    "# yticklabels = [*ax.get_yticklabels(), int(9000)]\n",
    "# ax.set_yticks(yticks, labels=yticklabels)\n",
    "\n",
    "trans = transforms.blended_transform_factory(ax.get_yticklabels()[0].get_transform(), ax.transData)\n",
    "\n",
    "# ax.text(0, 9000, '9000', color='red')\n",
    "ax.text(0.25, int(n_avg_games_list[0]), f\"{wr_list[0]*100}%, {int(n_avg_games_list[0])} games\", color=\"red\", transform=trans, ha=\"right\", va=\"center\")\n",
    "ax.text(0.25, int(n_avg_games_list[1]), f\"{wr_list[1]*100}%, {int(n_avg_games_list[1])} games\", color=\"orange\", transform=trans, ha=\"right\", va=\"center\")\n",
    "ax.text(0.25, int(n_avg_games_list[2]), f\"{wr_list[2]*100}%, {int(n_avg_games_list[2])} games\", color=\"green\", transform=trans, ha=\"right\", va=\"center\")\n",
    "ax.text(0.3, int(n_avg_games_list[9]), f\"{wr_list[9]*100}%, {int(n_avg_games_list[9])} games\", color=\"blue\", transform=trans, ha=\"right\", va=\"center\")\n",
    "ax.text(0.5, int(n_avg_games_list[29]), f\"{wr_list[29]*100}%, {int(n_avg_games_list[29])} games\", color=\"purple\", transform=trans, ha=\"right\", va=\"center\")\n",
    "ax.text(1, 600, f\"{wr_list[-1]*100}%, {int(n_avg_games_list[-1])} games\", color=\"black\", transform=trans, ha=\"right\", va=\"center\")\n",
    "\n",
    "\n",
    "\n",
    "\n",
    "plt.show()\n"
   ]
  },
  {
   "cell_type": "code",
   "execution_count": null,
   "id": "86743956-9e9d-496a-9524-ff3b107a8b7e",
   "metadata": {},
   "outputs": [],
   "source": []
  },
  {
   "cell_type": "code",
   "execution_count": 5,
   "id": "9ed99f40-5aa4-4cef-a7df-92b0358b1acc",
   "metadata": {},
   "outputs": [
    {
     "name": "stdout",
     "output_type": "stream",
     "text": [
      "0.501 16275.122\n",
      "0.502 9889.8\n",
      "0.503 6552.968\n",
      "0.504 5005.22\n",
      "0.505 4268.476\n",
      "0.506 3252.382\n",
      "0.507 2803.194\n",
      "0.508 2443.734\n",
      "0.509 2416.79\n",
      "0.51 1988.562\n",
      "0.511 1776.416\n",
      "0.512 1716.216\n",
      "0.513 1530.176\n",
      "0.514 1440.958\n",
      "0.515 1340.19\n",
      "0.516 1296.862\n",
      "0.517 1163.65\n",
      "0.518 1121.12\n",
      "0.519 992.732\n",
      "0.52 1020.566\n",
      "0.521 994.69\n",
      "0.522 885.342\n",
      "0.523 870.482\n",
      "0.524 856.222\n",
      "0.525 810.366\n",
      "0.526 786.666\n",
      "0.527 749.278\n",
      "0.528 710.36\n",
      "0.529 690.256\n",
      "0.53 663.062\n",
      "0.531 674.01\n",
      "0.532 627.042\n",
      "0.533 580.902\n",
      "0.534 587.12\n",
      "0.535 572.986\n",
      "0.536 549.814\n",
      "0.537 555.494\n",
      "0.538 520.152\n",
      "0.539 510.27\n",
      "0.54 499.35\n",
      "0.541 497.752\n",
      "0.542 482.2\n",
      "0.543 461.516\n",
      "0.544 451.58\n",
      "0.545 436.416\n",
      "0.546 437.918\n",
      "0.547 423.546\n",
      "0.548 398.802\n",
      "0.549 404.0\n",
      "0.55 406.556\n",
      "0.551 388.666\n",
      "0.552 383.962\n",
      "0.553 376.966\n",
      "0.554 368.722\n",
      "0.555 364.662\n",
      "0.556 361.484\n",
      "0.557 346.112\n",
      "0.558 349.268\n",
      "0.559 338.376\n",
      "0.56 326.114\n",
      "0.561 324.984\n",
      "0.562 318.796\n",
      "0.5630000000000001 318.658\n",
      "0.5640000000000001 314.434\n",
      "0.5650000000000001 307.372\n",
      "0.5660000000000001 303.066\n",
      "0.5670000000000001 304.23\n",
      "0.5680000000000001 280.424\n",
      "0.5690000000000001 288.494\n",
      "0.5700000000000001 281.348\n",
      "0.5710000000000001 271.956\n",
      "0.5720000000000001 279.102\n",
      "0.5730000000000001 267.212\n",
      "0.5740000000000001 269.522\n",
      "0.5750000000000001 270.22\n",
      "0.5760000000000001 261.012\n",
      "0.5770000000000001 259.01\n",
      "0.5780000000000001 253.024\n",
      "0.5790000000000001 255.112\n",
      "0.5800000000000001 246.726\n",
      "0.5810000000000001 246.3\n",
      "0.5820000000000001 244.068\n",
      "0.5830000000000001 241.676\n",
      "0.5840000000000001 237.09\n",
      "0.5850000000000001 228.604\n",
      "0.5860000000000001 233.626\n",
      "0.5870000000000001 230.63\n",
      "0.5880000000000001 228.0\n",
      "0.5890000000000001 225.658\n",
      "0.5900000000000001 225.146\n",
      "0.5910000000000001 221.016\n",
      "0.5920000000000001 219.752\n",
      "0.5930000000000001 216.122\n",
      "0.5940000000000001 212.562\n",
      "0.5950000000000001 211.18\n",
      "0.5960000000000001 211.308\n",
      "0.5970000000000001 204.916\n",
      "0.5980000000000001 206.118\n",
      "0.5990000000000001 200.87\n"
     ]
    }
   ],
   "source": [
    "for i in range(len(wr_list)):\n",
    "    print(wr_list[i], n_avg_games_list[i])"
   ]
  },
  {
   "cell_type": "code",
   "execution_count": null,
   "id": "d6c51e57-7322-4a0a-906f-60ce6e372a4f",
   "metadata": {},
   "outputs": [],
   "source": []
  },
  {
   "cell_type": "code",
   "execution_count": null,
   "id": "c40a1300-18d4-49af-9ba3-4856e1e8ddc4",
   "metadata": {},
   "outputs": [],
   "source": []
  },
  {
   "cell_type": "code",
   "execution_count": null,
   "id": "d89f5a08-bbf7-487b-9230-7e8e690e4323",
   "metadata": {},
   "outputs": [],
   "source": []
  }
 ],
 "metadata": {
  "kernelspec": {
   "display_name": "Python 3 (ipykernel)",
   "language": "python",
   "name": "python3"
  },
  "language_info": {
   "codemirror_mode": {
    "name": "ipython",
    "version": 3
   },
   "file_extension": ".py",
   "mimetype": "text/x-python",
   "name": "python",
   "nbconvert_exporter": "python",
   "pygments_lexer": "ipython3",
   "version": "3.10.12"
  }
 },
 "nbformat": 4,
 "nbformat_minor": 5
}
