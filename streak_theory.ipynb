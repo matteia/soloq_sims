{
 "cells": [
  {
   "cell_type": "markdown",
   "id": "7e07d89d-c945-4073-806a-a48fb4d73262",
   "metadata": {},
   "source": [
    "# Ch 6 (?)"
   ]
  },
  {
   "cell_type": "markdown",
   "id": "e4122891-01b7-43aa-86b6-5b67ada4dee9",
   "metadata": {},
   "source": [
    "# IMPORTS"
   ]
  },
  {
   "cell_type": "code",
   "execution_count": 48,
   "id": "d18bf6a8-7997-498f-b253-94d0f4d9685a",
   "metadata": {
    "tags": []
   },
   "outputs": [],
   "source": [
    "import random\n",
    "import pickle\n",
    "import glob\n",
    "\n",
    "import random\n",
    "import ast\n",
    "\n",
    "import numpy as np\n",
    "import pandas as pd\n",
    "\n",
    "import matplotlib.pyplot as plt\n",
    "import matplotlib.transforms as transforms\n",
    "\n",
    "from time import time\n",
    "from time import sleep\n",
    "from time import strftime\n",
    "from time import localtime\n",
    "from tqdm import tqdm\n",
    "\n",
    "from datetime import date, timedelta, datetime\n",
    "\n",
    "# from mydecorators import logger, stopwatch\n",
    "\n",
    "\n",
    "\n"
   ]
  },
  {
   "cell_type": "code",
   "execution_count": 49,
   "id": "cd0bf6cb-bd5a-42e6-ae71-4cdb1d454b5e",
   "metadata": {
    "tags": []
   },
   "outputs": [],
   "source": [
    "def streak_counter(llist):\n",
    "  result_dict = {\n",
    "    ### 0 for Loss\n",
    "    0: [],\n",
    "    ### 1 for Win \n",
    "    1: []    \n",
    "  }\n",
    "\n",
    "  streak_size = 1\n",
    "\n",
    "  for i in range(len(llist)):\n",
    "    if i != len(llist)-1:\n",
    "      if llist[i] != llist[i+1]:\n",
    "        result_dict[llist[i]].append(streak_size)\n",
    "        streak_size = 1\n",
    "\n",
    "      elif llist[i] == llist[i+1]:\n",
    "        streak_size += 1\n",
    "    else:\n",
    "      result_dict[llist[i]].append(streak_size)\n",
    "\n",
    "  return result_dict\n"
   ]
  },
  {
   "cell_type": "code",
   "execution_count": 50,
   "id": "9d84595d-a76a-4fd7-ba35-384ff58e1f26",
   "metadata": {
    "tags": []
   },
   "outputs": [],
   "source": [
    "### function for calulating the average of number of consecutive results\n",
    "def avg_cal(ddict):\n",
    "  return np.mean(ddict[0]), np.mean(ddict[1])\n",
    "\n"
   ]
  },
  {
   "cell_type": "code",
   "execution_count": 51,
   "id": "023453c5-b388-4058-a2db-edcebb80663d",
   "metadata": {
    "tags": []
   },
   "outputs": [],
   "source": [
    "### streak generator\n",
    "#### using list.extend\n",
    "\n",
    "def streak_gen(streak_size, result_size):    ### number of games\n",
    "  result_streak = []\n",
    "\n",
    "  n_games = result_size\n",
    "\n",
    "  n_games_played = 0\n",
    "\n",
    "  while n_games_played <= n_games:\n",
    "\n",
    "    streak_size = streak_size\n",
    "    streak = random.choices(['WS','LS'], weights=(0.5,0.5))[0]\n",
    "\n",
    "    if streak == 'WS':\n",
    "      wr = 0.85\n",
    "      lr = 0.15\n",
    "      # print(lr,wr)\n",
    "      \n",
    "      streak_games = random.choices([0,1], weights=(lr, wr), k=streak_size)\n",
    "      result_streak.extend(streak_games)\n",
    "\n",
    "    else:\n",
    "      wr = 0.15\n",
    "      lr = 0.85\n",
    "      # print(lr,wr)\n",
    "      streak_games = random.choices([0,1], weights=(lr, wr), k=streak_size)\n",
    "      result_streak.extend(streak_games)\n",
    "\n",
    "    n_games_played += streak_size\n",
    "\n",
    "\n",
    "  return result_streak[:result_size]"
   ]
  },
  {
   "cell_type": "code",
   "execution_count": null,
   "id": "bff307b3-1556-40b1-803f-b0906e0df638",
   "metadata": {},
   "outputs": [],
   "source": []
  },
  {
   "cell_type": "markdown",
   "id": "da837022-88b7-43a4-96fa-9031b4ab81af",
   "metadata": {},
   "source": [
    "# Generate GAME HISTORIES"
   ]
  },
  {
   "cell_type": "markdown",
   "id": "4daa4a43-fe3d-4951-a151-1a9e00553ff0",
   "metadata": {},
   "source": [
    "## PerfectMM - One Million Games (to use as POPULATION)"
   ]
  },
  {
   "cell_type": "code",
   "execution_count": 53,
   "id": "e64c6373-d925-4988-b7d8-dc5181c7e9c5",
   "metadata": {
    "tags": []
   },
   "outputs": [
    {
     "name": "stdout",
     "output_type": "stream",
     "text": [
      "2024-03-18 18:07:20\n",
      "\n",
      "\n",
      "\n",
      "----------------------------------------------------\n",
      "done in 7.426s.\n",
      "2024-03-18 18:07:28\n"
     ]
    }
   ],
   "source": [
    "start = time()\n",
    "print(strftime('%Y-%m-%d %H:%M:%S', localtime()))\n",
    "print('\\n')\n",
    "##############################################################################################################################\n",
    "\n",
    "### set random seed\n",
    "random.seed(135)\n",
    "np.random.seed(135)\n",
    "\n",
    "# prob_list = np.linspace(0.49,0.51, 100)\n",
    "prob_list = [0.5]\n",
    "\n",
    "### when each game is between 49 ~ 51 % (independent)\n",
    "#### 3000 games per player, 1000 players, totalling 3 million games played\n",
    "\n",
    "avg_list_0 = []\n",
    "avg_list_1 = []\n",
    "\n",
    "one_million_games = []\n",
    "\n",
    "# number_of_players = 1000\n",
    "# games_per_player = 3000\n",
    "number_of_players = 1\n",
    "games_per_player = 1000000\n",
    "\n",
    "for _ in range(number_of_players):\n",
    "    result_n = []\n",
    "\n",
    "    for _ in range(games_per_player):\n",
    "        prob_of_0 = random.choice(prob_list)\n",
    "        prob_of_1 = 1 - prob_of_0\n",
    "        \n",
    "        one_game = np.random.choice([0,1], 1, p = [prob_of_0, prob_of_1])[0]\n",
    "        result_n.append(one_game)\n",
    "    \n",
    "    streak_counter_result = streak_counter(result_n)\n",
    "    \n",
    "    ### add to one_million_games (3000 players)\n",
    "    one_million_games.append(result_n)\n",
    "    # print(streak_counter_result)\n",
    "\n",
    "    avg_cal_result = avg_cal(streak_counter_result)\n",
    "    # print(avg_cal_result)\n",
    "    avg_list_0.append(avg_cal_result[0])\n",
    "    avg_list_1.append(avg_cal_result[1])\n",
    "    \n",
    "    \n",
    "##############################################################################################################################\n",
    "print('\\n----------------------------------------------------')\n",
    "print(\"done in %0.3fs.\" % (time() - start))\n",
    "print(strftime('%Y-%m-%d %H:%M:%S', localtime()))"
   ]
  },
  {
   "cell_type": "code",
   "execution_count": 54,
   "id": "c607d4f7-f9e7-47dc-a401-c083721eec54",
   "metadata": {
    "tags": []
   },
   "outputs": [
    {
     "name": "stdout",
     "output_type": "stream",
     "text": [
      "17\n",
      "1\n",
      "20\n",
      "1\n",
      "2.003923721884669\n",
      "2.0039557691305725\n",
      "1.4168229150676865\n",
      "1.419380547217041\n"
     ]
    }
   ],
   "source": [
    "print(np.max(streak_counter(one_million_games[0][:])[0]))\n",
    "print(np.min(streak_counter(one_million_games[0][:])[0]))\n",
    "\n",
    "print(np.max(streak_counter(one_million_games[0][:])[1]))\n",
    "print(np.min(streak_counter(one_million_games[0][:])[1]))\n",
    "\n",
    "\n",
    "\n",
    "print(np.mean(streak_counter(one_million_games[0])[0]))\n",
    "print(np.mean(streak_counter(one_million_games[0])[1]))\n",
    "\n",
    "print(np.std(streak_counter(one_million_games[0])[0]))\n",
    "print(np.std(streak_counter(one_million_games[0])[1]))"
   ]
  },
  {
   "cell_type": "code",
   "execution_count": null,
   "id": "2ad623a9-0ede-4bcd-b1ca-b39bbe07b7a3",
   "metadata": {},
   "outputs": [],
   "source": []
  },
  {
   "cell_type": "markdown",
   "id": "8e14d190-033a-4e70-a580-3e37361e9f11",
   "metadata": {},
   "source": [
    "## NearPerfectMM - One Million Games"
   ]
  },
  {
   "cell_type": "code",
   "execution_count": 59,
   "id": "d5629285-2329-43ff-a82a-e2c1c35c5d20",
   "metadata": {
    "tags": []
   },
   "outputs": [
    {
     "name": "stdout",
     "output_type": "stream",
     "text": [
      "2024-03-19 02:59:50\n",
      "\n",
      "\n",
      "\n",
      "----------------------------------------------------\n",
      "done in 7.299s.\n",
      "2024-03-19 02:59:57\n"
     ]
    }
   ],
   "source": [
    "start = time()\n",
    "print(strftime('%Y-%m-%d %H:%M:%S', localtime()))\n",
    "print('\\n')\n",
    "##############################################################################################################################\n",
    "\n",
    "### set random seed\n",
    "random.seed(2237)\n",
    "np.random.seed(2237)\n",
    "\n",
    "prob_list = np.linspace(0.49,0.51, 100)\n",
    "\n",
    "### when each game is between 49 ~ 51 % (independent)\n",
    "#### 3000 games per player, 1000 players, totalling 3 million games played\n",
    "\n",
    "avg_list_0 = []\n",
    "avg_list_1 = []\n",
    "\n",
    "nearperfect_all_records = []\n",
    "\n",
    "number_of_players = 1\n",
    "games_per_player = 1000000\n",
    "\n",
    "\n",
    "for _ in range(number_of_players):\n",
    "    result_n = []\n",
    "\n",
    "    for _ in range(games_per_player):\n",
    "        prob_of_0 = random.choice(prob_list)\n",
    "        prob_of_1 = 1 - prob_of_0\n",
    "\n",
    "        one_game = np.random.choice([0,1], 1, p = [prob_of_0, prob_of_1])[0]\n",
    "        result_n.append(one_game)\n",
    "    \n",
    "    streak_counter_result = streak_counter(result_n)\n",
    "    \n",
    "    ### add to nearperfect_all_records (3000 players)\n",
    "    nearperfect_all_records.append(result_n)\n",
    "    # print(streak_counter_result)\n",
    "\n",
    "    avg_cal_result = avg_cal(streak_counter_result)\n",
    "    # print(avg_cal_result)\n",
    "    avg_list_0.append(avg_cal_result[0])\n",
    "    avg_list_1.append(avg_cal_result[1])\n",
    "    \n",
    "    \n",
    "##############################################################################################################################\n",
    "print('\\n----------------------------------------------------')\n",
    "print(\"done in %0.3fs.\" % (time() - start))\n",
    "print(strftime('%Y-%m-%d %H:%M:%S', localtime()))"
   ]
  },
  {
   "cell_type": "code",
   "execution_count": 60,
   "id": "ae4f2d5d-4fb3-46f6-affb-8861194b9761",
   "metadata": {
    "tags": []
   },
   "outputs": [
    {
     "name": "stdout",
     "output_type": "stream",
     "text": [
      "2.0011037704157535\n",
      "1.9980644026042582\n"
     ]
    }
   ],
   "source": [
    "print(np.mean(avg_list_0))\n",
    "print(np.mean(avg_list_1))\n"
   ]
  },
  {
   "cell_type": "code",
   "execution_count": 61,
   "id": "0cc3e0f7-6266-495d-8bd3-80951a7f031b",
   "metadata": {
    "tags": []
   },
   "outputs": [
    {
     "name": "stdout",
     "output_type": "stream",
     "text": [
      "20\n",
      "1\n",
      "23\n",
      "1\n",
      "2.0011037704157535\n",
      "1.9980644026042582\n",
      "1.4167982423222778\n",
      "1.4148511856294026\n"
     ]
    }
   ],
   "source": [
    "### streak_all_records = million games from StreakMM\n",
    "\n",
    "print(np.max(streak_counter(nearperfect_all_records[0][:])[0]))\n",
    "print(np.min(streak_counter(nearperfect_all_records[0][:])[0]))\n",
    "\n",
    "print(np.max(streak_counter(nearperfect_all_records[0][:])[1]))\n",
    "print(np.min(streak_counter(nearperfect_all_records[0][:])[1]))\n",
    "\n",
    "\n",
    "\n",
    "print(np.mean(streak_counter(nearperfect_all_records[0])[0]))\n",
    "print(np.mean(streak_counter(nearperfect_all_records[0])[1]))\n",
    "\n",
    "print(np.std(streak_counter(nearperfect_all_records[0])[0]))\n",
    "print(np.std(streak_counter(nearperfect_all_records[0])[1]))"
   ]
  },
  {
   "cell_type": "code",
   "execution_count": null,
   "id": "edfb0cdb-5725-4161-98b3-7d01075b0e1b",
   "metadata": {},
   "outputs": [],
   "source": []
  },
  {
   "cell_type": "code",
   "execution_count": null,
   "id": "5bb1dba5-252e-44b2-bbda-ab3251e8f18d",
   "metadata": {},
   "outputs": [],
   "source": []
  },
  {
   "cell_type": "code",
   "execution_count": null,
   "id": "7f2db153-29d8-47c8-bcb5-032f78a194bb",
   "metadata": {},
   "outputs": [],
   "source": []
  },
  {
   "cell_type": "code",
   "execution_count": null,
   "id": "3d2908f9-b66f-496a-bbd3-986d4e3bd83e",
   "metadata": {},
   "outputs": [],
   "source": []
  },
  {
   "cell_type": "markdown",
   "id": "afa6c3ba-6fcb-4e62-b9f2-2927cbe7378d",
   "metadata": {},
   "source": [
    "## StreakMM - One Million Games"
   ]
  },
  {
   "cell_type": "code",
   "execution_count": 55,
   "id": "377c9071-9799-4098-ad65-6f4883045c5c",
   "metadata": {
    "tags": []
   },
   "outputs": [
    {
     "name": "stdout",
     "output_type": "stream",
     "text": [
      "2024-03-18 18:07:53\n",
      "\n",
      "\n",
      "\n",
      "----------------------------------------------------\n",
      "done in 0.314s.\n",
      "2024-03-18 18:07:53\n"
     ]
    }
   ],
   "source": [
    "start = time()\n",
    "print(strftime('%Y-%m-%d %H:%M:%S', localtime()))\n",
    "print('\\n')\n",
    "##############################################################################################################################\n",
    "\n",
    "### set random seed\n",
    "random.seed(1576)\n",
    "np.random.seed(1576)\n",
    "\n",
    "### when streaks exist\n",
    "### ws:ls = 50:50\n",
    "### 85% of win/loss depending on the streak\n",
    "\n",
    "avg_list_0 = []\n",
    "avg_list_1 = []\n",
    "\n",
    "streak_all_records = []\n",
    "for _ in range(1):\n",
    "    result_n = streak_gen(6, 1_000_000)\n",
    "    \n",
    "    # streak_all_records.append(pd.Series(result_n))\n",
    "    streak_all_records.append(result_n)\n",
    "    \n",
    "    streak_counter_result = streak_counter(result_n)\n",
    "    # print(streak_counter_result)\n",
    "\n",
    "    avg_cal_result = avg_cal(streak_counter_result)\n",
    "    # print(avg_cal_result)\n",
    "    avg_list_0.append(avg_cal_result[0])\n",
    "    avg_list_1.append(avg_cal_result[1])\n",
    "    \n",
    "    \n",
    "##############################################################################################################################\n",
    "print('\\n----------------------------------------------------')\n",
    "print(\"done in %0.3fs.\" % (time() - start))\n",
    "print(strftime('%Y-%m-%d %H:%M:%S', localtime()))"
   ]
  },
  {
   "cell_type": "code",
   "execution_count": 56,
   "id": "948541e5-75ab-4594-924d-9d1a26b70bfe",
   "metadata": {
    "tags": []
   },
   "outputs": [
    {
     "data": {
      "text/plain": [
       "(3.3715100600834003, 3.3870505542038387)"
      ]
     },
     "execution_count": 56,
     "metadata": {},
     "output_type": "execute_result"
    }
   ],
   "source": [
    "avg_cal_result\n"
   ]
  },
  {
   "cell_type": "code",
   "execution_count": 57,
   "id": "a8618db8-5aaf-402a-89ed-98b2f296caae",
   "metadata": {
    "tags": []
   },
   "outputs": [
    {
     "name": "stdout",
     "output_type": "stream",
     "text": [
      "3.3715100600834003\n",
      "3.3870505542038387\n"
     ]
    }
   ],
   "source": [
    "print(np.mean(avg_list_0))\n",
    "print(np.mean(avg_list_1))\n"
   ]
  },
  {
   "cell_type": "code",
   "execution_count": 58,
   "id": "9e00c45d-a945-49c4-8e11-9e781f1ca006",
   "metadata": {
    "tags": []
   },
   "outputs": [
    {
     "name": "stdout",
     "output_type": "stream",
     "text": [
      "52\n",
      "1\n",
      "39\n",
      "1\n",
      "3.3715100600834003\n",
      "3.3870505542038387\n",
      "3.400960275967006\n",
      "3.4216191520092782\n"
     ]
    }
   ],
   "source": [
    "### streak_all_records = million games from StreakMM\n",
    "\n",
    "print(np.max(streak_counter(streak_all_records[0][:])[0]))\n",
    "print(np.min(streak_counter(streak_all_records[0][:])[0]))\n",
    "\n",
    "print(np.max(streak_counter(streak_all_records[0][:])[1]))\n",
    "print(np.min(streak_counter(streak_all_records[0][:])[1]))\n",
    "\n",
    "\n",
    "\n",
    "print(np.mean(streak_counter(streak_all_records[0])[0]))\n",
    "print(np.mean(streak_counter(streak_all_records[0])[1]))\n",
    "\n",
    "print(np.std(streak_counter(streak_all_records[0])[0]))\n",
    "print(np.std(streak_counter(streak_all_records[0])[1]))"
   ]
  },
  {
   "cell_type": "code",
   "execution_count": null,
   "id": "c38dd74d-e7fc-455b-8187-a44c9683ab68",
   "metadata": {},
   "outputs": [],
   "source": []
  },
  {
   "cell_type": "code",
   "execution_count": 46,
   "id": "ea5cfaee-be73-42e3-8cad-76e3729a7960",
   "metadata": {
    "tags": []
   },
   "outputs": [
    {
     "data": {
      "text/plain": [
       "2.55"
      ]
     },
     "execution_count": 46,
     "metadata": {},
     "output_type": "execute_result"
    }
   ],
   "source": [
    "6*0.85*0.5"
   ]
  },
  {
   "cell_type": "code",
   "execution_count": 47,
   "id": "4b57d37e-1169-4f76-9cdd-5b61362fc3fb",
   "metadata": {
    "tags": []
   },
   "outputs": [
    {
     "data": {
      "text/plain": [
       "0.44999999999999996"
      ]
     },
     "execution_count": 47,
     "metadata": {},
     "output_type": "execute_result"
    }
   ],
   "source": [
    "6*0.15*0.5"
   ]
  },
  {
   "cell_type": "code",
   "execution_count": null,
   "id": "8d102104-1e1d-468b-a3db-a81e90e2df0f",
   "metadata": {},
   "outputs": [],
   "source": []
  }
 ],
 "metadata": {
  "kernelspec": {
   "display_name": "Python 3 (ipykernel)",
   "language": "python",
   "name": "python3"
  },
  "language_info": {
   "codemirror_mode": {
    "name": "ipython",
    "version": 3
   },
   "file_extension": ".py",
   "mimetype": "text/x-python",
   "name": "python",
   "nbconvert_exporter": "python",
   "pygments_lexer": "ipython3",
   "version": "3.11.5"
  }
 },
 "nbformat": 4,
 "nbformat_minor": 5
}
