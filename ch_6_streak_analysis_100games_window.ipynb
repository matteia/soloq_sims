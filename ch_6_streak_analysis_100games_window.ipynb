{
 "cells": [
  {
   "cell_type": "markdown",
   "id": "b16ecc12-6da0-4ce5-8032-f64bb0fb94d5",
   "metadata": {
    "tags": []
   },
   "source": [
    "# IMPORTS"
   ]
  },
  {
   "cell_type": "code",
   "execution_count": 1,
   "id": "f93f9607-0987-4f68-abd8-9af7d57777c0",
   "metadata": {
    "tags": []
   },
   "outputs": [],
   "source": [
    "import random\n",
    "import pickle\n",
    "import glob\n",
    "\n",
    "import random\n",
    "import ast\n",
    "\n",
    "import numpy as np\n",
    "import pandas as pd\n",
    "\n",
    "import matplotlib.pyplot as plt\n",
    "import matplotlib.transforms as transforms\n",
    "\n",
    "from time import time\n",
    "from time import sleep\n",
    "from time import strftime\n",
    "from time import localtime\n",
    "from tqdm import tqdm\n",
    "\n",
    "from datetime import date, timedelta, datetime\n",
    "\n",
    "# from mydecorators import logger, stopwatch\n",
    "\n",
    "\n",
    "\n"
   ]
  },
  {
   "cell_type": "code",
   "execution_count": 2,
   "id": "b6d5408c-3ab3-4cb1-af85-752527810699",
   "metadata": {
    "tags": []
   },
   "outputs": [],
   "source": [
    "def streak_counter(llist):\n",
    "  result_dict = {\n",
    "    ### 0 for Loss\n",
    "    0: [],\n",
    "    ### 1 for Win \n",
    "    1: []    \n",
    "  }\n",
    "\n",
    "  streak_size = 1\n",
    "\n",
    "  for i in range(len(llist)):\n",
    "    if i != len(llist)-1:\n",
    "      if llist[i] != llist[i+1]:\n",
    "        result_dict[llist[i]].append(streak_size)\n",
    "        streak_size = 1\n",
    "\n",
    "      elif llist[i] == llist[i+1]:\n",
    "        streak_size += 1\n",
    "    else:\n",
    "      result_dict[llist[i]].append(streak_size)\n",
    "\n",
    "  return result_dict\n"
   ]
  },
  {
   "cell_type": "code",
   "execution_count": 3,
   "id": "8407c406-5b84-4e5e-b87c-20d6802f7ada",
   "metadata": {
    "tags": []
   },
   "outputs": [],
   "source": [
    "### function for calulating the average of number of consecutive results\n",
    "def avg_cal(ddict):\n",
    "  return np.mean(ddict[0]), np.mean(ddict[1])\n",
    "\n"
   ]
  },
  {
   "cell_type": "code",
   "execution_count": 4,
   "id": "88993237-f68f-4e02-9379-9a3d8482a1b6",
   "metadata": {
    "tags": []
   },
   "outputs": [],
   "source": [
    "### streak generator\n",
    "#### using list.extend\n",
    "\n",
    "def streak_gen(streak_size, result_size):    ### number of games\n",
    "  result_streak = []\n",
    "\n",
    "  n_games = result_size\n",
    "\n",
    "  n_games_played = 0\n",
    "\n",
    "  while n_games_played <= n_games:\n",
    "\n",
    "    streak_size = streak_size\n",
    "    streak = random.choices(['WS','LS'], weights=(0.5,0.5))[0]\n",
    "\n",
    "    if streak == 'WS':\n",
    "      wr = 0.85\n",
    "      lr = 0.15\n",
    "      # print(lr,wr)\n",
    "      \n",
    "      streak_games = random.choices([0,1], weights=(lr, wr), k=streak_size)\n",
    "      result_streak.extend(streak_games)\n",
    "\n",
    "    else:\n",
    "      wr = 0.15\n",
    "      lr = 0.85\n",
    "      # print(lr,wr)\n",
    "      streak_games = random.choices([0,1], weights=(lr, wr), k=streak_size)\n",
    "      result_streak.extend(streak_games)\n",
    "\n",
    "    n_games_played += streak_size\n",
    "\n",
    "\n",
    "  return result_streak[:result_size]"
   ]
  },
  {
   "cell_type": "markdown",
   "id": "1e78a03f-605d-40f3-8d1c-41c694cd84c8",
   "metadata": {},
   "source": [
    "# Generate GAME HISTORIES"
   ]
  },
  {
   "cell_type": "markdown",
   "id": "5b7b7e7f-34cb-48bf-a29d-646196b4dfac",
   "metadata": {},
   "source": [
    "## PerfectMM - One Million Games (to use as POPULATION)"
   ]
  },
  {
   "cell_type": "code",
   "execution_count": 5,
   "id": "faa59f04-52f8-4422-b796-f16408549bd2",
   "metadata": {
    "tags": []
   },
   "outputs": [
    {
     "name": "stdout",
     "output_type": "stream",
     "text": [
      "2024-03-03 17:24:59\n",
      "\n",
      "\n",
      "\n",
      "----------------------------------------------------\n",
      "done in 7.146s.\n",
      "2024-03-03 17:25:06\n"
     ]
    }
   ],
   "source": [
    "start = time()\n",
    "print(strftime('%Y-%m-%d %H:%M:%S', localtime()))\n",
    "print('\\n')\n",
    "##############################################################################################################################\n",
    "\n",
    "### set random seed\n",
    "random.seed(135)\n",
    "np.random.seed(135)\n",
    "\n",
    "# prob_list = np.linspace(0.49,0.51, 100)\n",
    "prob_list = [0.5]\n",
    "\n",
    "### when each game is between 49 ~ 51 % (independent)\n",
    "#### 3000 games per player, 1000 players, totalling 3 million games played\n",
    "\n",
    "avg_list_0 = []\n",
    "avg_list_1 = []\n",
    "\n",
    "one_million_games = []\n",
    "\n",
    "# number_of_players = 1000\n",
    "# games_per_player = 3000\n",
    "number_of_players = 1\n",
    "games_per_player = 1000000\n",
    "\n",
    "for _ in range(number_of_players):\n",
    "    result_n = []\n",
    "\n",
    "    for _ in range(games_per_player):\n",
    "        prob_of_0 = random.choice(prob_list)\n",
    "        prob_of_1 = 1 - prob_of_0\n",
    "        \n",
    "        one_game = np.random.choice([0,1], 1, p = [prob_of_0, prob_of_1])[0]\n",
    "        result_n.append(one_game)\n",
    "    \n",
    "    streak_counter_result = streak_counter(result_n)\n",
    "    \n",
    "    ### add to one_million_games (3000 players)\n",
    "    one_million_games.append(result_n)\n",
    "    # print(streak_counter_result)\n",
    "\n",
    "    avg_cal_result = avg_cal(streak_counter_result)\n",
    "    # print(avg_cal_result)\n",
    "    avg_list_0.append(avg_cal_result[0])\n",
    "    avg_list_1.append(avg_cal_result[1])\n",
    "    \n",
    "    \n",
    "##############################################################################################################################\n",
    "print('\\n----------------------------------------------------')\n",
    "print(\"done in %0.3fs.\" % (time() - start))\n",
    "print(strftime('%Y-%m-%d %H:%M:%S', localtime()))"
   ]
  },
  {
   "cell_type": "code",
   "execution_count": 6,
   "id": "fd5eb8a8-7190-4427-801f-7cc26637e9c1",
   "metadata": {
    "tags": []
   },
   "outputs": [
    {
     "name": "stdout",
     "output_type": "stream",
     "text": [
      "1000000\n",
      "1\n"
     ]
    }
   ],
   "source": [
    "### check all records have 3000 games per player across 1000 players\n",
    "\n",
    "### number of games per player\n",
    "print(len(one_million_games[0]))\n",
    "### number of players\n",
    "print(len(one_million_games))"
   ]
  },
  {
   "cell_type": "code",
   "execution_count": 7,
   "id": "164cb372-8fa4-4fcc-81db-5169544fca61",
   "metadata": {
    "tags": []
   },
   "outputs": [
    {
     "data": {
      "text/plain": [
       "(2.003923721884669, 2.0039557691305725)"
      ]
     },
     "execution_count": 7,
     "metadata": {},
     "output_type": "execute_result"
    }
   ],
   "source": [
    "avg_cal_result\n",
    "\n",
    "# (2.000536867578006, 2.0059375951537683)\n",
    "# (1.9972764466627473, 2.0020676609036117)\n",
    "# (1.9998959058989327, 2.003723365922794)\n",
    "# (2.003923721884669, 2.0039557691305725)\n"
   ]
  },
  {
   "cell_type": "code",
   "execution_count": 8,
   "id": "e4bcb1ff-d9b1-483e-a616-fef017cfb296",
   "metadata": {
    "tags": []
   },
   "outputs": [
    {
     "name": "stdout",
     "output_type": "stream",
     "text": [
      "2.003923721884669\n",
      "2.0039557691305725\n"
     ]
    }
   ],
   "source": [
    "print(np.mean(avg_list_0))\n",
    "print(np.mean(avg_list_1))\n",
    "\n",
    "# ### when n=1 games=1000000\n",
    "# print(np.mean(streak_counter_result[0]))\n",
    "# print(np.mean(streak_counter_result[1]))\n",
    "\n",
    "\n",
    "# 2.0018657388686254\n",
    "# 2.0018657388686254"
   ]
  },
  {
   "cell_type": "code",
   "execution_count": 9,
   "id": "47408598-a14c-4801-bbc8-b67d74d3f568",
   "metadata": {
    "tags": []
   },
   "outputs": [
    {
     "name": "stdout",
     "output_type": "stream",
     "text": [
      "17\n",
      "1\n",
      "20\n",
      "1\n",
      "2.003923721884669\n",
      "2.0039557691305725\n",
      "1.4168229150676865\n",
      "1.419380547217041\n"
     ]
    }
   ],
   "source": [
    "print(np.max(streak_counter(one_million_games[0][:])[0]))\n",
    "print(np.min(streak_counter(one_million_games[0][:])[0]))\n",
    "\n",
    "print(np.max(streak_counter(one_million_games[0][:])[1]))\n",
    "print(np.min(streak_counter(one_million_games[0][:])[1]))\n",
    "\n",
    "\n",
    "\n",
    "print(np.mean(streak_counter(one_million_games[0])[0]))\n",
    "print(np.mean(streak_counter(one_million_games[0])[1]))\n",
    "\n",
    "print(np.std(streak_counter(one_million_games[0])[0]))\n",
    "print(np.std(streak_counter(one_million_games[0])[1]))"
   ]
  },
  {
   "cell_type": "code",
   "execution_count": 10,
   "id": "579e95d8-e3c2-4119-9b88-26a73919402c",
   "metadata": {
    "tags": []
   },
   "outputs": [
    {
     "name": "stdout",
     "output_type": "stream",
     "text": [
      "pop_mean_0: 2.003923721884669\n",
      "pop_mean_1: 2.0039557691305725\n",
      "pop_std_0: 1.4168229150676865\n",
      "pop_std_1: 1.419380547217041\n"
     ]
    }
   ],
   "source": [
    "### Metrics from One million games to be used as Population\n",
    "\n",
    "### mean of streak durations\n",
    "## 0 for loss // 1 for win\n",
    "pop_mean_0 = np.mean(streak_counter(one_million_games[0])[0])\n",
    "pop_mean_1 = np.mean(streak_counter(one_million_games[0])[1])\n",
    "\n",
    "### std of streak durations\n",
    "pop_std_0 = np.std(streak_counter(one_million_games[0])[0])\n",
    "pop_std_1 = np.std(streak_counter(one_million_games[0])[1])\n",
    "\n",
    "\n",
    "print(f'pop_mean_0: {pop_mean_0}')\n",
    "print(f'pop_mean_1: {pop_mean_1}')\n",
    "print(f'pop_std_0: {pop_std_0}')\n",
    "print(f'pop_std_1: {pop_std_1}')\n",
    "\n",
    "\n"
   ]
  },
  {
   "cell_type": "code",
   "execution_count": null,
   "id": "6ccedd1f-3837-4e2e-b6bb-302ea72fa079",
   "metadata": {},
   "outputs": [],
   "source": []
  },
  {
   "cell_type": "markdown",
   "id": "96f93bd1-8142-4ee0-acba-d96bb2ce938a",
   "metadata": {},
   "source": [
    "## PerfectMM - 1000 players // 300 games per player (to compare against Population)"
   ]
  },
  {
   "cell_type": "code",
   "execution_count": 11,
   "id": "1aeca391-aace-4eee-9c2d-478131144411",
   "metadata": {
    "tags": []
   },
   "outputs": [
    {
     "name": "stdout",
     "output_type": "stream",
     "text": [
      "2024-03-03 17:25:31\n",
      "\n",
      "\n",
      "\n",
      "----------------------------------------------------\n",
      "done in 2.168s.\n",
      "2024-03-03 17:25:33\n"
     ]
    }
   ],
   "source": [
    "start = time()\n",
    "print(strftime('%Y-%m-%d %H:%M:%S', localtime()))\n",
    "print('\\n')\n",
    "##############################################################################################################################\n",
    "\n",
    "### set random seed\n",
    "random.seed(6565)\n",
    "np.random.seed(6565)\n",
    "\n",
    "prob_list = [0.5]\n",
    "\n",
    "### when each game is between 49 ~ 51 % (independent)\n",
    "#### 3000 games per player, 1000 players, totalling 3 million games played\n",
    "\n",
    "avg_list_0 = []\n",
    "avg_list_1 = []\n",
    "\n",
    "perfect_all_records = []\n",
    "\n",
    "number_of_players = 1000\n",
    "games_per_player = 300\n",
    "\n",
    "\n",
    "for _ in range(number_of_players):\n",
    "    result_n = []\n",
    "\n",
    "    for _ in range(games_per_player):\n",
    "        prob_of_0 = random.choice(prob_list)\n",
    "        prob_of_1 = 1 - prob_of_0\n",
    "\n",
    "        one_game = np.random.choice([0,1], 1, p = [prob_of_0, prob_of_1])[0]\n",
    "        result_n.append(one_game)\n",
    "    \n",
    "    streak_counter_result = streak_counter(result_n)\n",
    "    \n",
    "    ### add to perfect_all_records (3000 players)\n",
    "    perfect_all_records.append(result_n)\n",
    "    # print(streak_counter_result)\n",
    "\n",
    "    avg_cal_result = avg_cal(streak_counter_result)\n",
    "    # print(avg_cal_result)\n",
    "    avg_list_0.append(avg_cal_result[0])\n",
    "    avg_list_1.append(avg_cal_result[1])\n",
    "    \n",
    "    \n",
    "##############################################################################################################################\n",
    "print('\\n----------------------------------------------------')\n",
    "print(\"done in %0.3fs.\" % (time() - start))\n",
    "print(strftime('%Y-%m-%d %H:%M:%S', localtime()))"
   ]
  },
  {
   "cell_type": "code",
   "execution_count": 12,
   "id": "94531b67-9189-4202-ba10-bc1d174643e9",
   "metadata": {
    "tags": []
   },
   "outputs": [
    {
     "data": {
      "text/plain": [
       "300"
      ]
     },
     "execution_count": 12,
     "metadata": {},
     "output_type": "execute_result"
    }
   ],
   "source": [
    "one_perfect = perfect_all_records[400]\n",
    "len(one_perfect)\n"
   ]
  },
  {
   "cell_type": "markdown",
   "id": "423a6b90-d3ff-4c0f-9424-0dbace6455f8",
   "metadata": {},
   "source": [
    "## NearPerfectMM - 1000 players // 300 games per player (to compare against Population)"
   ]
  },
  {
   "cell_type": "code",
   "execution_count": 13,
   "id": "2e0df16f-2a2b-4825-8be3-c609bc316985",
   "metadata": {
    "tags": []
   },
   "outputs": [
    {
     "name": "stdout",
     "output_type": "stream",
     "text": [
      "2024-03-03 17:25:33\n",
      "\n",
      "\n",
      "\n",
      "----------------------------------------------------\n",
      "done in 2.296s.\n",
      "2024-03-03 17:25:35\n"
     ]
    }
   ],
   "source": [
    "start = time()\n",
    "print(strftime('%Y-%m-%d %H:%M:%S', localtime()))\n",
    "print('\\n')\n",
    "##############################################################################################################################\n",
    "\n",
    "### set random seed\n",
    "random.seed(2237)\n",
    "np.random.seed(2237)\n",
    "\n",
    "prob_list = np.linspace(0.49,0.51, 100)\n",
    "\n",
    "### when each game is between 49 ~ 51 % (independent)\n",
    "#### 3000 games per player, 1000 players, totalling 3 million games played\n",
    "\n",
    "avg_list_0 = []\n",
    "avg_list_1 = []\n",
    "\n",
    "nearperfect_all_records = []\n",
    "\n",
    "number_of_players = 1000\n",
    "games_per_player = 300\n",
    "\n",
    "\n",
    "for _ in range(number_of_players):\n",
    "    result_n = []\n",
    "\n",
    "    for _ in range(games_per_player):\n",
    "        prob_of_0 = random.choice(prob_list)\n",
    "        prob_of_1 = 1 - prob_of_0\n",
    "\n",
    "        one_game = np.random.choice([0,1], 1, p = [prob_of_0, prob_of_1])[0]\n",
    "        result_n.append(one_game)\n",
    "    \n",
    "    streak_counter_result = streak_counter(result_n)\n",
    "    \n",
    "    ### add to nearperfect_all_records (3000 players)\n",
    "    nearperfect_all_records.append(result_n)\n",
    "    # print(streak_counter_result)\n",
    "\n",
    "    avg_cal_result = avg_cal(streak_counter_result)\n",
    "    # print(avg_cal_result)\n",
    "    avg_list_0.append(avg_cal_result[0])\n",
    "    avg_list_1.append(avg_cal_result[1])\n",
    "    \n",
    "    \n",
    "##############################################################################################################################\n",
    "print('\\n----------------------------------------------------')\n",
    "print(\"done in %0.3fs.\" % (time() - start))\n",
    "print(strftime('%Y-%m-%d %H:%M:%S', localtime()))"
   ]
  },
  {
   "cell_type": "code",
   "execution_count": 14,
   "id": "87fa5c84-4c65-4bdf-baa5-dadad58aa72e",
   "metadata": {
    "tags": []
   },
   "outputs": [
    {
     "data": {
      "text/plain": [
       "300"
      ]
     },
     "execution_count": 14,
     "metadata": {},
     "output_type": "execute_result"
    }
   ],
   "source": [
    "one_nearperfect = nearperfect_all_records[400]\n",
    "len(one_nearperfect)"
   ]
  },
  {
   "cell_type": "code",
   "execution_count": null,
   "id": "d751f173-5d7d-4cf0-9b53-430567cd110f",
   "metadata": {},
   "outputs": [],
   "source": []
  },
  {
   "cell_type": "markdown",
   "id": "e0c391bc-7b73-4214-ba1f-e256ad0f730b",
   "metadata": {},
   "source": [
    "## StreakMM - 1000 players // 300 games per player (to compare against Population)"
   ]
  },
  {
   "cell_type": "code",
   "execution_count": 15,
   "id": "16c44fa8-8ae0-455d-9f86-6e1ad5ff41e1",
   "metadata": {
    "tags": []
   },
   "outputs": [
    {
     "name": "stdout",
     "output_type": "stream",
     "text": [
      "2024-03-03 17:25:38\n",
      "\n",
      "\n",
      "\n",
      "----------------------------------------------------\n",
      "done in 0.111s.\n",
      "2024-03-03 17:25:38\n"
     ]
    }
   ],
   "source": [
    "start = time()\n",
    "print(strftime('%Y-%m-%d %H:%M:%S', localtime()))\n",
    "print('\\n')\n",
    "##############################################################################################################################\n",
    "\n",
    "### set random seed\n",
    "random.seed(3331)\n",
    "np.random.seed(3331)\n",
    "\n",
    "### when streaks exist\n",
    "### ws:ls = 50:50\n",
    "### 85% of win/loss depending on the streak\n",
    "\n",
    "avg_list_0 = []\n",
    "avg_list_1 = []\n",
    "\n",
    "streak_all_records = []\n",
    "for _ in range(1000):\n",
    "    result_n = streak_gen(6, 300)     # 3000 games played per player\n",
    "    \n",
    "    # streak_all_records.append(pd.Series(result_n))\n",
    "    streak_all_records.append(result_n)\n",
    "    \n",
    "    streak_counter_result = streak_counter(result_n)\n",
    "    # print(streak_counter_result)\n",
    "\n",
    "    avg_cal_result = avg_cal(streak_counter_result)\n",
    "    # print(avg_cal_result)\n",
    "    avg_list_0.append(avg_cal_result[0])\n",
    "    avg_list_1.append(avg_cal_result[1])\n",
    "    \n",
    "    \n",
    "##############################################################################################################################\n",
    "print('\\n----------------------------------------------------')\n",
    "print(\"done in %0.3fs.\" % (time() - start))\n",
    "print(strftime('%Y-%m-%d %H:%M:%S', localtime()))"
   ]
  },
  {
   "cell_type": "code",
   "execution_count": 16,
   "id": "5ce02a37-0667-4f2d-af15-d5663292f66e",
   "metadata": {
    "tags": []
   },
   "outputs": [
    {
     "data": {
      "text/plain": [
       "300"
      ]
     },
     "execution_count": 16,
     "metadata": {},
     "output_type": "execute_result"
    }
   ],
   "source": [
    "one_streakmm = streak_all_records[400]\n",
    "len(one_streakmm)"
   ]
  },
  {
   "cell_type": "markdown",
   "id": "e15725cc-9bdd-4a86-8515-063dccb7223e",
   "metadata": {},
   "source": [
    "# Analysis - Critical Count(s)"
   ]
  },
  {
   "cell_type": "markdown",
   "id": "80463724-ac57-46c8-bba6-ae270daaf446",
   "metadata": {},
   "source": [
    "## The definition of CRITICAL COUNT\n",
    "\n",
    "Critical Count : The frequency in which a record(eg. 300 games) yields streaks of either wins or defeats that surpasses the metrics provided by the Population data within a given sliding window(eg. 100 games for this notebook file). "
   ]
  },
  {
   "cell_type": "markdown",
   "id": "8c54ed9d-4f31-412c-97ef-2df99d1374b3",
   "metadata": {
    "tags": []
   },
   "source": [
    "## PerfectMM vs Population"
   ]
  },
  {
   "cell_type": "markdown",
   "id": "118cb4d0-7a70-4377-b3ab-c6f87bfddbb1",
   "metadata": {},
   "source": [
    "### Single PerfectMM vs Population"
   ]
  },
  {
   "cell_type": "code",
   "execution_count": 30,
   "id": "8f3d6def-5b80-4f34-913c-0ee7a488d29c",
   "metadata": {
    "tags": []
   },
   "outputs": [
    {
     "name": "stdout",
     "output_type": "stream",
     "text": [
      "i ~ i+100 : 79 ~ 179, z_0 : 2.2441808531994556, z_1 : -0.4636926666562605\n",
      "i ~ i+100 : 80 ~ 180, z_0 : 2.2441808531994556, z_1 : -0.4636926666562605\n",
      "i ~ i+100 : 81 ~ 181, z_0 : 2.093702826560943, z_1 : -0.31348579171096774\n",
      "i ~ i+100 : 83 ~ 183, z_0 : 2.1435774919100257, z_1 : -0.013072041820383698\n",
      "i ~ i+100 : 86 ~ 186, z_0 : 1.9895583213310641, z_1 : 0.13713483312490835\n",
      "i ~ i+100 : 87 ~ 187, z_0 : 1.9895583213310641, z_1 : 0.13713483312490835\n",
      "i ~ i+100 : 92 ~ 192, z_0 : 2.1435774919100257, z_1 : -0.013072041820383698\n",
      "i ~ i+100 : 94 ~ 194, z_0 : 2.093702826560943, z_1 : -0.012771494937112288\n",
      "i ~ i+100 : 95 ~ 195, z_0 : 2.093702826560943, z_1 : -0.012771494937112288\n",
      "i ~ i+100 : 96 ~ 196, z_0 : 2.093702826560943, z_1 : -0.012771494937112288\n",
      "i ~ i+100 : 97 ~ 197, z_0 : 2.2975966624889885, z_1 : -0.16327891676567574\n",
      "i ~ i+100 : 98 ~ 198, z_0 : 2.2975966624889885, z_1 : -0.16327891676567574\n",
      "i ~ i+100 : 99 ~ 199, z_0 : 2.093702826560943, z_1 : -0.012771494937112288\n",
      "critical_count : 13\n"
     ]
    }
   ],
   "source": [
    "llen = len(one_perfect)\n",
    "\n",
    "critical_count = 0\n",
    "\n",
    "window_size = 100\n",
    "\n",
    "for i in range(llen-window_size):\n",
    "    # print(i , i+100)\n",
    "    one_window = one_perfect[i:i+window_size]\n",
    "    \n",
    "    streak_counter_result = streak_counter(one_window)\n",
    "    lose_streak = streak_counter_result[0]\n",
    "    win_streak = streak_counter_result[1]\n",
    "    \n",
    "    ### ls = lose streak // ws = win streak\n",
    "    ### means within one window (50 games)\n",
    "    ls_mean = np.mean(lose_streak)\n",
    "    ws_mean = np.mean(win_streak)\n",
    "    \n",
    "    ### standard deviations within one window (50 games)\n",
    "    ls_std = np.std(lose_streak)\n",
    "    ws_std = np.std(win_streak)\n",
    "    \n",
    "    \n",
    "    ### z scores\n",
    "    ### (x_bar_1 - mu1) / (std1/np.sqrt(n1))\n",
    "    z_0 = (ls_mean - pop_mean_0) / (pop_std_0/np.sqrt(len(lose_streak)))\n",
    "    z_1 = (ws_mean - pop_mean_1) / (pop_std_1/np.sqrt(len(win_streak)))\n",
    "    \n",
    "    \n",
    "    if abs(z_0) >= 1.96 or abs(z_1) >= 1.96:\n",
    "        critical_count += 1\n",
    "        print(f'i ~ i+{window_size} : {i} ~ {i+window_size}, z_0 : {z_0}, z_1 : {z_1}')\n",
    "        \n",
    "    # print(f'z_1 : {z_1}')\n",
    "    \n",
    "print(f'critical_count : {critical_count}')"
   ]
  },
  {
   "cell_type": "markdown",
   "id": "83a0a341-3074-4eae-a660-9893af627820",
   "metadata": {},
   "source": [
    "### Critical Counts for all PerfectMM Records"
   ]
  },
  {
   "cell_type": "code",
   "execution_count": 20,
   "id": "922c5c1e-c301-4544-99ba-10c9a5b6321a",
   "metadata": {
    "tags": []
   },
   "outputs": [],
   "source": [
    "crit_count_list = []\n",
    "\n",
    "for item in perfect_all_records:\n",
    "    one_record = item\n",
    "\n",
    "    llen = len(one_record)\n",
    "\n",
    "    critical_count = 0\n",
    "\n",
    "    for i in range(llen-window_size):\n",
    "        # print(i , i+100)\n",
    "        one_window = one_record[i:i+window_size]\n",
    "\n",
    "        streak_counter_result = streak_counter(one_window)\n",
    "        lose_streak = streak_counter_result[0]\n",
    "        win_streak = streak_counter_result[1]\n",
    "\n",
    "        ### ls = lose streak // ws = win streak\n",
    "        ### means within one window (50 games)\n",
    "        ls_mean = np.mean(lose_streak)\n",
    "        ws_mean = np.mean(win_streak)\n",
    "\n",
    "        ### standard deviations within one window (50 games)\n",
    "        ls_std = np.std(lose_streak)\n",
    "        ws_std = np.std(win_streak)\n",
    "\n",
    "\n",
    "        ### z scores\n",
    "        ### (x_bar_1 - mu1) / (std1/np.sqrt(n1))\n",
    "        z_0 = (ls_mean - pop_mean_0) / (pop_std_0/np.sqrt(len(lose_streak)))\n",
    "        z_1 = (ws_mean - pop_mean_1) / (pop_std_1/np.sqrt(len(win_streak)))\n",
    "\n",
    "\n",
    "        if abs(z_0) >= 1.96 or abs(z_1) >= 1.96:\n",
    "            critical_count += 1\n",
    "            # print(f'i ~ i+50 : {i} ~ {i+50}, z_0 : {z_0}, z_1 : {z_1}')\n",
    "\n",
    "        # print(f'z_1 : {z_1}')\n",
    "\n",
    "    crit_count_list.append(critical_count)\n",
    "    # print(f'critical_count : {critical_count}')\n",
    "    \n",
    "# print(crit_count_list)"
   ]
  },
  {
   "cell_type": "code",
   "execution_count": 21,
   "id": "30932885-bd72-4809-913a-db3bbd4f857f",
   "metadata": {
    "tags": []
   },
   "outputs": [
    {
     "name": "stdout",
     "output_type": "stream",
     "text": [
      "18.638\n",
      "25.401711674609647\n"
     ]
    }
   ],
   "source": [
    "print(np.mean(crit_count_list))\n",
    "print(np.std(crit_count_list))"
   ]
  },
  {
   "cell_type": "code",
   "execution_count": 22,
   "id": "b2aa66d8-a761-473c-80d5-adc32cb66036",
   "metadata": {
    "tags": []
   },
   "outputs": [
    {
     "name": "stdout",
     "output_type": "stream",
     "text": [
      "18.638\n",
      "25.401711674609647\n"
     ]
    }
   ],
   "source": [
    "perfectmm_pop_crit_count_mean = np.mean(crit_count_list)\n",
    "perfectmm_pop_crit_count_std = np.std(crit_count_list)\n",
    "\n",
    "print(perfectmm_pop_crit_count_mean)\n",
    "print(perfectmm_pop_crit_count_std)"
   ]
  },
  {
   "cell_type": "code",
   "execution_count": 23,
   "id": "2199f1b7-bf86-4f88-9f51-2b6f52453e0c",
   "metadata": {
    "tags": []
   },
   "outputs": [
    {
     "name": "stdout",
     "output_type": "stream",
     "text": [
      "0.0\n"
     ]
    }
   ],
   "source": [
    "z_crit_count = (np.mean(crit_count_list) - perfectmm_pop_crit_count_mean) / (perfectmm_pop_crit_count_std/np.sqrt(len(crit_count_list)))\n",
    "print(z_crit_count)"
   ]
  },
  {
   "cell_type": "code",
   "execution_count": null,
   "id": "3e911fd9-3add-43a6-804d-7039f339dade",
   "metadata": {},
   "outputs": [],
   "source": []
  },
  {
   "cell_type": "markdown",
   "id": "6646d413-8eb0-452c-893d-98a034645214",
   "metadata": {},
   "source": [
    "## NearPerfctMM vs Population"
   ]
  },
  {
   "cell_type": "markdown",
   "id": "b43b7bc9-4135-4e74-bbbc-05b6c2ba055f",
   "metadata": {},
   "source": [
    "### Single NearPerfectMM vs Population"
   ]
  },
  {
   "cell_type": "code",
   "execution_count": 98,
   "id": "5571cc3e-40cf-4bb6-98f5-f1b6758e24a7",
   "metadata": {
    "tags": []
   },
   "outputs": [
    {
     "data": {
      "text/plain": [
       "300"
      ]
     },
     "execution_count": 98,
     "metadata": {},
     "output_type": "execute_result"
    }
   ],
   "source": [
    "one_nearperfect = nearperfect_all_records[141]\n",
    "len(one_nearperfect)"
   ]
  },
  {
   "cell_type": "code",
   "execution_count": 31,
   "id": "edeb74b4-5835-4c06-8641-e0f8b7036eae",
   "metadata": {
    "tags": []
   },
   "outputs": [
    {
     "name": "stdout",
     "output_type": "stream",
     "text": [
      "i ~ i+100 : 92 ~ 192, z_0 : 2.0393098687946094, z_1 : 1.4425298493525325\n",
      "i ~ i+100 : 93 ~ 193, z_0 : 2.254845777150218, z_1 : 1.247842693148089\n",
      "i ~ i+100 : 94 ~ 194, z_0 : 2.0393098687946094, z_1 : 1.4425298493525325\n",
      "i ~ i+100 : 95 ~ 195, z_0 : 2.0393098687946094, z_1 : 1.4425298493525325\n",
      "i ~ i+100 : 96 ~ 196, z_0 : 2.254845777150218, z_1 : 1.247842693148089\n",
      "i ~ i+100 : 97 ~ 197, z_0 : 2.254845777150218, z_1 : 1.604160734262413\n",
      "i ~ i+100 : 98 ~ 198, z_0 : 2.0929231180579895, z_1 : 1.7657916191722947\n",
      "i ~ i+100 : 101 ~ 201, z_0 : 2.0929231180579895, z_1 : 1.7657916191722947\n",
      "i ~ i+100 : 102 ~ 202, z_0 : 2.0929231180579895, z_1 : 1.4053809926466996\n",
      "i ~ i+100 : 108 ~ 208, z_0 : 1.7690777998735336, z_1 : 2.0890533889920566\n",
      "i ~ i+100 : 109 ~ 209, z_0 : 1.7690777998735336, z_1 : 2.0890533889920566\n",
      "i ~ i+100 : 112 ~ 212, z_0 : 1.7690777998735336, z_1 : 2.0890533889920566\n",
      "i ~ i+100 : 113 ~ 213, z_0 : 1.4080191256199872, z_1 : 2.0890533889920566\n",
      "i ~ i+100 : 114 ~ 214, z_0 : 1.4080191256199872, z_1 : 2.0890533889920566\n",
      "critical_count : 14\n"
     ]
    }
   ],
   "source": [
    "llen = len(one_nearperfect)\n",
    "\n",
    "critical_count = 0\n",
    "\n",
    "for i in range(llen-window_size):\n",
    "    # print(i , i+100)\n",
    "    one_window = one_nearperfect[i:i+window_size]\n",
    "    \n",
    "    streak_counter_result = streak_counter(one_window)\n",
    "    lose_streak = streak_counter_result[0]\n",
    "    win_streak = streak_counter_result[1]\n",
    "    \n",
    "    ### ls = lose streak // ws = win streak\n",
    "    ### means within one window (50 games)\n",
    "    ls_mean = np.mean(lose_streak)\n",
    "    ws_mean = np.mean(win_streak)\n",
    "    \n",
    "    ### standard deviations within one window (50 games)\n",
    "    ls_std = np.std(lose_streak)\n",
    "    ws_std = np.std(win_streak)\n",
    "    \n",
    "    \n",
    "    ### z scores\n",
    "    ### (x_bar_1 - mu1) / (std1/np.sqrt(n1))\n",
    "    z_0 = (ls_mean - pop_mean_0) / (pop_std_0/np.sqrt(len(lose_streak)))\n",
    "    z_1 = (ws_mean - pop_mean_1) / (pop_std_1/np.sqrt(len(win_streak)))\n",
    "    \n",
    "    \n",
    "    if abs(z_0) >= 1.96 or abs(z_1) >= 1.96:\n",
    "        critical_count += 1\n",
    "        print(f'i ~ i+{window_size} : {i} ~ {i+window_size}, z_0 : {z_0}, z_1 : {z_1}')\n",
    "        \n",
    "    # print(f'z_1 : {z_1}')\n",
    "    \n",
    "print(f'critical_count : {critical_count}')"
   ]
  },
  {
   "cell_type": "markdown",
   "id": "484b6196-0155-41e9-a2ca-b5f9a06b00df",
   "metadata": {},
   "source": [
    "### Critical Counts for all NearPerfectMM Records"
   ]
  },
  {
   "cell_type": "code",
   "execution_count": 25,
   "id": "104e6dda-0cf1-4c9b-8b23-515e20bb0c88",
   "metadata": {
    "tags": []
   },
   "outputs": [],
   "source": [
    "crit_count_list = []\n",
    "\n",
    "for item in nearperfect_all_records:\n",
    "    one_record = item\n",
    "\n",
    "    llen = len(one_record)\n",
    "\n",
    "    critical_count = 0\n",
    "\n",
    "    for i in range(llen-window_size):\n",
    "        # print(i , i+100)\n",
    "        one_window = one_record[i:i+window_size]\n",
    "\n",
    "        streak_counter_result = streak_counter(one_window)\n",
    "        lose_streak = streak_counter_result[0]\n",
    "        win_streak = streak_counter_result[1]\n",
    "\n",
    "        ### ls = lose streak // ws = win streak\n",
    "        ### means within one window (50 games)\n",
    "        ls_mean = np.mean(lose_streak)\n",
    "        ws_mean = np.mean(win_streak)\n",
    "\n",
    "        ### standard deviations within one window (50 games)\n",
    "        ls_std = np.std(lose_streak)\n",
    "        ws_std = np.std(win_streak)\n",
    "\n",
    "\n",
    "        ### z scores\n",
    "        ### (x_bar_1 - mu1) / (std1/np.sqrt(n1))\n",
    "        z_0 = (ls_mean - pop_mean_0) / (pop_std_0/np.sqrt(len(lose_streak)))\n",
    "        z_1 = (ws_mean - pop_mean_1) / (pop_std_1/np.sqrt(len(win_streak)))\n",
    "\n",
    "\n",
    "        if abs(z_0) >= 1.96 or abs(z_1) >= 1.96:\n",
    "            critical_count += 1\n",
    "            # print(f'i ~ i+50 : {i} ~ {i+50}, z_0 : {z_0}, z_1 : {z_1}')\n",
    "\n",
    "        # print(f'z_1 : {z_1}')\n",
    "\n",
    "    crit_count_list.append(critical_count)\n",
    "    # print(f'critical_count : {critical_count}')\n",
    "    \n",
    "# print(crit_count_list)"
   ]
  },
  {
   "cell_type": "code",
   "execution_count": 26,
   "id": "7fb5bfd7-4058-4526-8e15-6d61824053dc",
   "metadata": {
    "tags": []
   },
   "outputs": [
    {
     "name": "stdout",
     "output_type": "stream",
     "text": [
      "18.083\n",
      "25.345849975883624\n"
     ]
    }
   ],
   "source": [
    "print(np.mean(crit_count_list))\n",
    "print(np.std(crit_count_list))"
   ]
  },
  {
   "cell_type": "code",
   "execution_count": 27,
   "id": "97d149c5-2962-4462-9734-dcd6a878f86b",
   "metadata": {
    "tags": []
   },
   "outputs": [
    {
     "name": "stdout",
     "output_type": "stream",
     "text": [
      "-0.690923558174129\n"
     ]
    }
   ],
   "source": [
    "z_crit_count = (np.mean(crit_count_list) - perfectmm_pop_crit_count_mean) / (perfectmm_pop_crit_count_std/np.sqrt(len(crit_count_list)))\n",
    "print(z_crit_count)"
   ]
  },
  {
   "cell_type": "code",
   "execution_count": null,
   "id": "0125b2dd-7376-434a-8cd7-e42b42070635",
   "metadata": {},
   "outputs": [],
   "source": []
  },
  {
   "cell_type": "markdown",
   "id": "f3673e28-e1c8-4372-ae14-f2bf4011f78d",
   "metadata": {},
   "source": [
    "## StreakMM vs Population"
   ]
  },
  {
   "cell_type": "markdown",
   "id": "ef078610-617a-4500-be82-b9494eba7191",
   "metadata": {},
   "source": [
    "### Single NearPerfectMM vs Population"
   ]
  },
  {
   "cell_type": "code",
   "execution_count": 103,
   "id": "3ad2dbec-4890-4e85-9167-f555139383b3",
   "metadata": {
    "tags": []
   },
   "outputs": [
    {
     "data": {
      "text/plain": [
       "300"
      ]
     },
     "execution_count": 103,
     "metadata": {},
     "output_type": "execute_result"
    }
   ],
   "source": [
    "one_streakmm = streak_all_records[666]\n",
    "len(one_streakmm)"
   ]
  },
  {
   "cell_type": "code",
   "execution_count": 32,
   "id": "94bdb39e-9f83-48c2-a210-67390ed1369e",
   "metadata": {
    "tags": []
   },
   "outputs": [
    {
     "name": "stdout",
     "output_type": "stream",
     "text": [
      "i ~ i+100 : 0 ~ 100, z_0 : 4.147243459493557, z_1 : 0.4863557384084469\n",
      "i ~ i+100 : 1 ~ 101, z_0 : 4.313603177344575, z_1 : 0.3202957900333244\n",
      "i ~ i+100 : 2 ~ 102, z_0 : 4.479962895195591, z_1 : 0.15423584165820056\n",
      "i ~ i+100 : 3 ~ 103, z_0 : 4.479962895195591, z_1 : -0.1737789997462799\n",
      "i ~ i+100 : 4 ~ 104, z_0 : 4.479962895195591, z_1 : 0.15423584165820056\n",
      "i ~ i+100 : 5 ~ 105, z_0 : 4.479962895195591, z_1 : 0.15423584165820056\n",
      "i ~ i+100 : 6 ~ 106, z_0 : 4.646322613046608, z_1 : 0.33025758809774536\n",
      "i ~ i+100 : 7 ~ 107, z_0 : 4.479962895195591, z_1 : 0.15423584165820056\n",
      "i ~ i+100 : 8 ~ 108, z_0 : 4.035995027164726, z_1 : 0.15423584165820056\n",
      "i ~ i+100 : 9 ~ 109, z_0 : 3.874072368072498, z_1 : -0.012148114836398853\n",
      "i ~ i+100 : 10 ~ 110, z_0 : 3.7121497089802706, z_1 : 0.14948277007348287\n",
      "i ~ i+100 : 11 ~ 111, z_0 : 3.550227049888042, z_1 : 0.3111136549833632\n",
      "i ~ i+100 : 12 ~ 112, z_0 : 3.814524023791523, z_1 : 0.47274453989324494\n",
      "i ~ i+100 : 13 ~ 113, z_0 : 3.814524023791523, z_1 : 0.47274453989324494\n",
      "i ~ i+100 : 14 ~ 114, z_0 : 3.814524023791523, z_1 : 0.47274453989324494\n",
      "i ~ i+100 : 15 ~ 115, z_0 : 3.550227049888042, z_1 : 0.3111136549833632\n",
      "i ~ i+100 : 16 ~ 116, z_0 : 3.550227049888042, z_1 : -0.012463702840789705\n",
      "i ~ i+100 : 17 ~ 117, z_0 : 3.550227049888042, z_1 : -0.012463702840789705\n",
      "i ~ i+100 : 18 ~ 118, z_0 : 3.550227049888042, z_1 : 0.3111136549833632\n",
      "i ~ i+100 : 19 ~ 119, z_0 : 3.3883043907958137, z_1 : 0.47274453989324494\n",
      "i ~ i+100 : 20 ~ 120, z_0 : 3.2263817317035866, z_1 : 0.6343754248031266\n",
      "i ~ i+100 : 21 ~ 121, z_0 : 3.064459072611358, z_1 : 0.796006309713007\n",
      "i ~ i+100 : 22 ~ 122, z_0 : 2.9025364135191296, z_1 : 0.9576371946228887\n",
      "i ~ i+100 : 23 ~ 123, z_0 : 2.740613754426902, z_1 : 1.119268079532769\n",
      "i ~ i+100 : 24 ~ 124, z_0 : 2.3549552403819214, z_1 : 1.119268079532769\n",
      "i ~ i+100 : 25 ~ 125, z_0 : 2.3549552403819214, z_1 : 1.119268079532769\n",
      "i ~ i+100 : 26 ~ 126, z_0 : 2.1971325545882663, z_1 : 0.932766094150869\n",
      "i ~ i+100 : 30 ~ 130, z_0 : 2.1971325545882663, z_1 : 0.932766094150869\n",
      "i ~ i+100 : 31 ~ 131, z_0 : 2.3549552403819214, z_1 : 0.7752277946522597\n",
      "i ~ i+100 : 32 ~ 132, z_0 : 2.5127779261755765, z_1 : 0.6176894951536503\n",
      "i ~ i+100 : 33 ~ 133, z_0 : 2.6706006119692334, z_1 : 0.796006309713007\n",
      "i ~ i+100 : 34 ~ 134, z_0 : 2.6706006119692334, z_1 : 0.796006309713007\n",
      "i ~ i+100 : 35 ~ 135, z_0 : 3.064459072611358, z_1 : 0.796006309713007\n",
      "i ~ i+100 : 36 ~ 136, z_0 : 3.2263817317035866, z_1 : 0.9845355835338171\n",
      "i ~ i+100 : 37 ~ 137, z_0 : 3.6481643059405062, z_1 : 0.9845355835338171\n",
      "i ~ i+100 : 38 ~ 138, z_0 : 3.814524023791523, z_1 : 1.1846289739528952\n",
      "i ~ i+100 : 39 ~ 139, z_0 : 4.096967249304155, z_1 : 0.9845355835338171\n",
      "i ~ i+100 : 40 ~ 140, z_0 : 4.096967249304155, z_1 : 1.3555032511239258\n",
      "i ~ i+100 : 41 ~ 141, z_0 : 3.925784511887217, z_1 : 1.5263775282949552\n",
      "i ~ i+100 : 42 ~ 142, z_0 : 3.754601774470278, z_1 : 1.697251805465986\n",
      "i ~ i+100 : 43 ~ 143, z_0 : 4.04729839662946, z_1 : 1.8681260826370154\n",
      "i ~ i+100 : 44 ~ 144, z_0 : 4.04729839662946, z_1 : 1.8681260826370154\n",
      "i ~ i+100 : 45 ~ 145, z_0 : 3.754601774470278, z_1 : 2.1024502057103307\n",
      "i ~ i+100 : 46 ~ 146, z_0 : 3.754601774470278, z_1 : 2.1024502057103307\n",
      "i ~ i+100 : 47 ~ 147, z_0 : 3.754601774470278, z_1 : 2.1024502057103307\n",
      "i ~ i+100 : 48 ~ 148, z_0 : 4.04729839662946, z_1 : 1.8681260826370154\n",
      "i ~ i+100 : 49 ~ 149, z_0 : 3.754601774470278, z_1 : 1.697251805465986\n",
      "i ~ i+100 : 50 ~ 150, z_0 : 3.925784511887217, z_1 : 1.9263170323410246\n",
      "i ~ i+100 : 51 ~ 151, z_0 : 4.400200650455664, z_1 : 1.9263170323410246\n",
      "i ~ i+100 : 52 ~ 152, z_0 : 4.576651777368767, z_1 : 1.7501838589717182\n",
      "i ~ i+100 : 53 ~ 153, z_0 : 4.753102904281869, z_1 : 1.574050685602412\n",
      "i ~ i+100 : 54 ~ 154, z_0 : 4.9295540311949715, z_1 : 1.8083017091786213\n",
      "i ~ i+100 : 55 ~ 155, z_0 : 5.4564124427159175, z_1 : 1.8083017091786213\n",
      "i ~ i+100 : 56 ~ 156, z_0 : 5.638650382970311, z_1 : 1.6263921499322254\n",
      "i ~ i+100 : 57 ~ 157, z_0 : 5.820888323224706, z_1 : 1.4444825906858283\n",
      "i ~ i+100 : 58 ~ 158, z_0 : 6.003126263479099, z_1 : 1.2625730314394323\n",
      "i ~ i+100 : 59 ~ 159, z_0 : 6.185364203733492, z_1 : 1.080663472193035\n",
      "i ~ i+100 : 60 ~ 160, z_0 : 6.367602143987885, z_1 : 0.8987539129466392\n",
      "i ~ i+100 : 61 ~ 161, z_0 : 6.549840084242281, z_1 : 1.1193378138102836\n",
      "i ~ i+100 : 62 ~ 162, z_0 : 7.157737118625179, z_1 : 1.1193378138102836\n",
      "i ~ i+100 : 63 ~ 163, z_0 : 7.157737118625179, z_1 : 1.1193378138102836\n",
      "i ~ i+100 : 64 ~ 164, z_0 : 6.9691029293626094, z_1 : 1.3076320964369128\n",
      "i ~ i+100 : 65 ~ 165, z_0 : 6.780468740100037, z_1 : 1.495926379063542\n",
      "i ~ i+100 : 66 ~ 166, z_0 : 7.232947985762448, z_1 : 1.6842206616901698\n",
      "i ~ i+100 : 67 ~ 167, z_0 : 6.780468740100037, z_1 : 1.495926379063542\n",
      "i ~ i+100 : 68 ~ 168, z_0 : 6.780468740100037, z_1 : 1.080663472193035\n",
      "i ~ i+100 : 69 ~ 169, z_0 : 6.367602143987885, z_1 : 1.3076320964369128\n",
      "i ~ i+100 : 70 ~ 170, z_0 : 6.9691029293626094, z_1 : 1.3076320964369128\n",
      "i ~ i+100 : 71 ~ 171, z_0 : 7.157737118625179, z_1 : 1.5531691347955596\n",
      "i ~ i+100 : 72 ~ 172, z_0 : 7.820212834099612, z_1 : 1.5531691347955596\n",
      "i ~ i+100 : 73 ~ 173, z_0 : 8.015967783545335, z_1 : 1.8207752883369652\n",
      "i ~ i+100 : 74 ~ 174, z_0 : 8.015967783545335, z_1 : 1.8207752883369652\n",
      "i ~ i+100 : 75 ~ 175, z_0 : 8.547831456470716, z_1 : 1.5531691347955596\n",
      "i ~ i+100 : 76 ~ 176, z_0 : 8.547831456470716, z_1 : 2.0241563584529496\n",
      "i ~ i+100 : 77 ~ 177, z_0 : 9.141561846458364, z_1 : 2.227537428568933\n",
      "i ~ i+100 : 78 ~ 178, z_0 : 8.547831456470716, z_1 : 2.5398518670965915\n",
      "i ~ i+100 : 79 ~ 179, z_0 : 8.344083245226532, z_1 : 2.227537428568933\n",
      "i ~ i+100 : 80 ~ 180, z_0 : 7.624457884653891, z_1 : 2.227537428568933\n",
      "i ~ i+100 : 81 ~ 181, z_0 : 7.624457884653891, z_1 : 2.227537428568933\n",
      "i ~ i+100 : 82 ~ 182, z_0 : 7.428702935208171, z_1 : 1.9439735581144655\n",
      "i ~ i+100 : 83 ~ 183, z_0 : 7.232947985762448, z_1 : 2.139375769773919\n",
      "i ~ i+100 : 84 ~ 184, z_0 : 6.591834550837468, z_1 : 2.139375769773919\n",
      "i ~ i+100 : 85 ~ 185, z_0 : 6.591834550837468, z_1 : 2.139375769773919\n",
      "i ~ i+100 : 86 ~ 186, z_0 : 6.403200361574899, z_1 : 1.872514944316799\n",
      "i ~ i+100 : 87 ~ 187, z_0 : 6.214566172312327, z_1 : 2.060809226943427\n",
      "i ~ i+100 : 88 ~ 188, z_0 : 6.214566172312327, z_1 : 2.060809226943427\n",
      "i ~ i+100 : 89 ~ 189, z_0 : 6.214566172312327, z_1 : 2.060809226943427\n",
      "i ~ i+100 : 90 ~ 190, z_0 : 5.638650382970311, z_1 : 2.060809226943427\n",
      "i ~ i+100 : 91 ~ 191, z_0 : 5.4564124427159175, z_1 : 1.8083017091786213\n",
      "i ~ i+100 : 92 ~ 192, z_0 : 5.2741745024615225, z_1 : 1.9902112684250184\n",
      "i ~ i+100 : 93 ~ 193, z_0 : 4.753102904281869, z_1 : 1.9902112684250184\n",
      "i ~ i+100 : 94 ~ 194, z_0 : 4.753102904281869, z_1 : 1.9902112684250184\n",
      "i ~ i+100 : 95 ~ 195, z_0 : 4.576651777368767, z_1 : 1.7501838589717182\n",
      "i ~ i+100 : 96 ~ 196, z_0 : 4.096967249304155, z_1 : 1.7501838589717182\n",
      "i ~ i+100 : 97 ~ 197, z_0 : 4.096967249304155, z_1 : 1.7501838589717182\n",
      "i ~ i+100 : 98 ~ 198, z_0 : 3.925784511887217, z_1 : 1.5263775282949552\n",
      "i ~ i+100 : 99 ~ 199, z_0 : 3.754601774470278, z_1 : 1.697251805465986\n",
      "i ~ i+100 : 100 ~ 200, z_0 : 3.5834190370533405, z_1 : 1.8681260826370154\n",
      "i ~ i+100 : 101 ~ 201, z_0 : 3.412236299636401, z_1 : 2.039000359808046\n",
      "i ~ i+100 : 102 ~ 202, z_0 : 3.412236299636401, z_1 : 2.039000359808046\n",
      "i ~ i+100 : 103 ~ 203, z_0 : 3.5834190370533405, z_1 : 1.8681260826370154\n",
      "i ~ i+100 : 104 ~ 204, z_0 : 3.5834190370533405, z_1 : 1.8681260826370154\n",
      "i ~ i+100 : 105 ~ 205, z_0 : 3.412236299636401, z_1 : 2.039000359808046\n",
      "i ~ i+100 : 106 ~ 206, z_0 : 3.694396142803255, z_1 : 2.209874636979076\n",
      "i ~ i+100 : 107 ~ 207, z_0 : 3.694396142803255, z_1 : 2.63084972581825\n",
      "i ~ i+100 : 108 ~ 208, z_0 : 3.9985089206807674, z_1 : 2.806982899187556\n",
      "i ~ i+100 : 109 ~ 209, z_0 : 3.694396142803255, z_1 : 2.63084972581825\n",
      "i ~ i+100 : 110 ~ 210, z_0 : 3.694396142803255, z_1 : 2.209874636979076\n",
      "i ~ i+100 : 111 ~ 211, z_0 : 3.412236299636401, z_1 : 2.039000359808046\n",
      "i ~ i+100 : 112 ~ 212, z_0 : 3.5834190370533405, z_1 : 1.8681260826370154\n",
      "i ~ i+100 : 113 ~ 213, z_0 : 3.754601774470278, z_1 : 1.697251805465986\n",
      "i ~ i+100 : 114 ~ 214, z_0 : 3.925784511887217, z_1 : 1.9263170323410246\n",
      "i ~ i+100 : 115 ~ 215, z_0 : 4.400200650455664, z_1 : 1.9263170323410246\n",
      "i ~ i+100 : 116 ~ 216, z_0 : 4.576651777368767, z_1 : 1.7501838589717182\n",
      "i ~ i+100 : 117 ~ 217, z_0 : 4.576651777368767, z_1 : 1.3555032511239258\n",
      "i ~ i+100 : 118 ~ 218, z_0 : 4.576651777368767, z_1 : 1.3555032511239258\n",
      "i ~ i+100 : 119 ~ 219, z_0 : 4.576651777368767, z_1 : 1.3555032511239258\n",
      "i ~ i+100 : 120 ~ 220, z_0 : 4.576651777368767, z_1 : 1.3555032511239258\n",
      "i ~ i+100 : 121 ~ 221, z_0 : 4.268149986721094, z_1 : 1.1846289739528952\n",
      "i ~ i+100 : 122 ~ 222, z_0 : 4.268149986721094, z_1 : 0.8184756351586933\n",
      "i ~ i+100 : 123 ~ 223, z_0 : 3.9808837416425407, z_1 : 1.0137546967818656\n",
      "i ~ i+100 : 124 ~ 224, z_0 : 3.814524023791523, z_1 : 0.8184756351586933\n",
      "i ~ i+100 : 125 ~ 225, z_0 : 4.096967249304155, z_1 : 0.9845355835338171\n",
      "i ~ i+100 : 126 ~ 226, z_0 : 4.096967249304155, z_1 : 1.3555032511239258\n",
      "i ~ i+100 : 127 ~ 227, z_0 : 3.925784511887217, z_1 : 1.5263775282949552\n",
      "i ~ i+100 : 128 ~ 228, z_0 : 3.4818045880894886, z_1 : 1.5263775282949552\n",
      "i ~ i+100 : 129 ~ 229, z_0 : 3.4818045880894886, z_1 : 1.5263775282949552\n",
      "i ~ i+100 : 130 ~ 230, z_0 : 3.4818045880894886, z_1 : 1.5263775282949552\n",
      "i ~ i+100 : 131 ~ 231, z_0 : 3.4818045880894886, z_1 : 1.5263775282949552\n",
      "i ~ i+100 : 132 ~ 232, z_0 : 3.3154448702384722, z_1 : 1.3166554802840633\n",
      "i ~ i+100 : 133 ~ 233, z_0 : 2.9025364135191296, z_1 : 1.3166554802840633\n",
      "i ~ i+100 : 134 ~ 234, z_0 : 2.740613754426902, z_1 : 1.119268079532769\n",
      "i ~ i+100 : 135 ~ 235, z_0 : 2.5786910953346736, z_1 : 1.2808989644426507\n",
      "i ~ i+100 : 136 ~ 236, z_0 : 2.416768436242445, z_1 : 1.4425298493525325\n",
      "i ~ i+100 : 137 ~ 237, z_0 : 2.254845777150218, z_1 : 1.604160734262413\n",
      "i ~ i+100 : 138 ~ 238, z_0 : 2.4836462809833875, z_1 : 1.7657916191722947\n",
      "i ~ i+100 : 139 ~ 239, z_0 : 2.4836462809833875, z_1 : 1.7657916191722947\n",
      "i ~ i+100 : 140 ~ 240, z_0 : 2.254845777150218, z_1 : 1.604160734262413\n",
      "i ~ i+100 : 141 ~ 241, z_0 : 2.254845777150218, z_1 : 1.247842693148089\n",
      "i ~ i+100 : 142 ~ 242, z_0 : 2.254845777150218, z_1 : 1.247842693148089\n",
      "i ~ i+100 : 143 ~ 243, z_0 : 2.0393098687946094, z_1 : 1.0903043936494796\n",
      "i ~ i+100 : 144 ~ 244, z_0 : 2.0393098687946094, z_1 : 1.0903043936494796\n",
      "i ~ i+100 : 149 ~ 249, z_0 : 1.7690777998735336, z_1 : 2.0890533889920566\n",
      "i ~ i+100 : 150 ~ 250, z_0 : 1.6071551407813052, z_1 : 2.250684273901938\n",
      "i ~ i+100 : 151 ~ 251, z_0 : 1.445232481689078, z_1 : 2.412315158811819\n",
      "i ~ i+100 : 152 ~ 252, z_0 : 1.0923737540326752, z_1 : 2.412315158811819\n",
      "i ~ i+100 : 153 ~ 253, z_0 : 1.0923737540326752, z_1 : 2.412315158811819\n",
      "i ~ i+100 : 154 ~ 254, z_0 : 1.0923737540326752, z_1 : 2.412315158811819\n",
      "i ~ i+100 : 155 ~ 255, z_0 : 1.0923737540326752, z_1 : 2.412315158811819\n",
      "i ~ i+100 : 156 ~ 256, z_0 : 1.0923737540326752, z_1 : 2.412315158811819\n",
      "i ~ i+100 : 157 ~ 257, z_0 : 1.0923737540326752, z_1 : 2.412315158811819\n",
      "i ~ i+100 : 158 ~ 258, z_0 : 1.0923737540326752, z_1 : 2.412315158811819\n",
      "i ~ i+100 : 159 ~ 259, z_0 : 1.0923737540326752, z_1 : 2.412315158811819\n",
      "i ~ i+100 : 160 ~ 260, z_0 : 0.9345510682390187, z_1 : 2.193072490139749\n",
      "i ~ i+100 : 161 ~ 261, z_0 : 0.7767283824453635, z_1 : 2.3506107896383583\n",
      "i ~ i+100 : 162 ~ 262, z_0 : 0.9594645044123936, z_1 : 2.5081490891369675\n",
      "i ~ i+100 : 163 ~ 263, z_0 : 0.9594645044123936, z_1 : 2.5081490891369675\n",
      "i ~ i+100 : 164 ~ 264, z_0 : 0.9594645044123936, z_1 : 2.5081490891369675\n",
      "i ~ i+100 : 165 ~ 265, z_0 : 0.7767283824453635, z_1 : 2.3506107896383583\n",
      "i ~ i+100 : 166 ~ 266, z_0 : 0.9345510682390187, z_1 : 2.5739460437217003\n",
      "i ~ i+100 : 167 ~ 267, z_0 : 1.2833098225968493, z_1 : 2.5739460437217003\n",
      "i ~ i+100 : 168 ~ 268, z_0 : 1.2833098225968493, z_1 : 2.5739460437217003\n",
      "i ~ i+100 : 169 ~ 269, z_0 : 0.9345510682390187, z_1 : 2.5739460437217003\n",
      "i ~ i+100 : 170 ~ 270, z_0 : 0.9345510682390187, z_1 : 2.5739460437217003\n",
      "i ~ i+100 : 171 ~ 271, z_0 : 0.7767283824453635, z_1 : 2.3506107896383583\n",
      "i ~ i+100 : 172 ~ 272, z_0 : 0.6189056966517081, z_1 : 2.5081490891369675\n",
      "i ~ i+100 : 173 ~ 273, z_0 : 0.46108301085805153, z_1 : 2.6656873886355785\n",
      "i ~ i+100 : 174 ~ 274, z_0 : 0.6356191862279379, z_1 : 2.8232256881341877\n",
      "i ~ i+100 : 175 ~ 275, z_0 : 0.46108301085805153, z_1 : 2.6656873886355785\n",
      "i ~ i+100 : 176 ~ 276, z_0 : 0.46108301085805153, z_1 : 2.2933530746561064\n",
      "i ~ i+100 : 177 ~ 277, z_0 : 0.29534744496248105, z_1 : 2.5081490891369675\n",
      "i ~ i+100 : 178 ~ 278, z_0 : 0.6189056966517081, z_1 : 2.5081490891369675\n",
      "i ~ i+100 : 179 ~ 279, z_0 : 0.7767283824453635, z_1 : 2.7355769286315823\n",
      "i ~ i+100 : 180 ~ 280, z_0 : 0.7767283824453635, z_1 : 2.7355769286315823\n",
      "i ~ i+100 : 181 ~ 281, z_0 : 1.1213871635046209, z_1 : 2.7355769286315823\n",
      "i ~ i+100 : 182 ~ 282, z_0 : 1.2833098225968493, z_1 : 2.5739460437217003\n",
      "i ~ i+100 : 183 ~ 283, z_0 : 1.2833098225968493, z_1 : 2.5739460437217003\n",
      "i ~ i+100 : 184 ~ 284, z_0 : 1.1213871635046209, z_1 : 2.7355769286315823\n",
      "i ~ i+100 : 185 ~ 285, z_0 : 1.3191282560262683, z_1 : 2.8972078135414625\n",
      "i ~ i+100 : 186 ~ 286, z_0 : 1.3191282560262683, z_1 : 2.8972078135414625\n",
      "i ~ i+100 : 187 ~ 287, z_0 : 1.3191282560262683, z_1 : 3.30937486078554\n",
      "i ~ i+100 : 188 ~ 288, z_0 : 1.529226188050079, z_1 : 3.475434809160663\n",
      "i ~ i+100 : 189 ~ 289, z_0 : 1.3191282560262683, z_1 : 3.747743131518346\n",
      "i ~ i+100 : 190 ~ 290, z_0 : 1.7004089254670183, z_1 : 3.747743131518346\n",
      "i ~ i+100 : 191 ~ 291, z_0 : 1.871591662883956, z_1 : 3.576868854347316\n",
      "i ~ i+100 : 192 ~ 292, z_0 : 2.042774400300895, z_1 : 3.863781939403394\n",
      "i ~ i+100 : 193 ~ 293, z_0 : 2.042774400300895, z_1 : 3.863781939403394\n",
      "i ~ i+100 : 194 ~ 294, z_0 : 2.4592382544115385, z_1 : 3.863781939403394\n",
      "i ~ i+100 : 195 ~ 295, z_0 : 2.6356893813246405, z_1 : 4.173125979381777\n",
      "i ~ i+100 : 196 ~ 296, z_0 : 2.6356893813246405, z_1 : 4.173125979381777\n",
      "i ~ i+100 : 197 ~ 297, z_0 : 3.0873192194087977, z_1 : 4.173125979381777\n",
      "i ~ i+100 : 198 ~ 298, z_0 : 3.2695571596631923, z_1 : 3.9912164201353812\n",
      "i ~ i+100 : 199 ~ 299, z_0 : 3.451795099917585, z_1 : 3.809306860888984\n",
      "critical_count : 193\n"
     ]
    }
   ],
   "source": [
    "llen = len(one_streakmm)\n",
    "\n",
    "critical_count = 0\n",
    "\n",
    "for i in range(llen-window_size):\n",
    "    # print(i , i+100)\n",
    "    one_window = one_streakmm[i:i+100]\n",
    "    \n",
    "    streak_counter_result = streak_counter(one_window)\n",
    "    lose_streak = streak_counter_result[0]\n",
    "    win_streak = streak_counter_result[1]\n",
    "    \n",
    "    ### ls = lose streak // ws = win streak\n",
    "    ### means within one window (50 games)\n",
    "    ls_mean = np.mean(lose_streak)\n",
    "    ws_mean = np.mean(win_streak)\n",
    "    \n",
    "    ### standard deviations within one window (50 games)\n",
    "    ls_std = np.std(lose_streak)\n",
    "    ws_std = np.std(win_streak)\n",
    "    \n",
    "    \n",
    "    ### z scores\n",
    "    ### (x_bar_1 - mu1) / (std1/np.sqrt(number_of_streak_durations))\n",
    "    z_0 = (ls_mean - pop_mean_0) / (pop_std_0/np.sqrt(len(lose_streak)))\n",
    "    z_1 = (ws_mean - pop_mean_1) / (pop_std_1/np.sqrt(len(win_streak)))\n",
    "    \n",
    "    \n",
    "    if abs(z_0) >= 1.96 or abs(z_1) >= 1.96:\n",
    "        critical_count += 1\n",
    "        print(f'i ~ i+{window_size} : {i} ~ {i+window_size}, z_0 : {z_0}, z_1 : {z_1}')\n",
    "        \n",
    "    # print(f'z_1 : {z_1}')\n",
    "    \n",
    "print(f'critical_count : {critical_count}')"
   ]
  },
  {
   "cell_type": "markdown",
   "id": "93a8bc45-d0c3-4d45-a986-f234785db4ab",
   "metadata": {},
   "source": [
    "### Critical Counts for all StreakMM Records"
   ]
  },
  {
   "cell_type": "code",
   "execution_count": 33,
   "id": "c64fcfd4-325f-43cb-acfa-3d5f873792fa",
   "metadata": {
    "tags": []
   },
   "outputs": [],
   "source": [
    "crit_count_list = []\n",
    "\n",
    "for item in streak_all_records:\n",
    "    one_record = item\n",
    "\n",
    "    llen = len(one_record)\n",
    "\n",
    "    critical_count = 0\n",
    "\n",
    "    for i in range(llen-window_size):\n",
    "        # print(i , i+100)\n",
    "        one_window = one_record[i:i+window_size]\n",
    "\n",
    "        streak_counter_result = streak_counter(one_window)\n",
    "        lose_streak = streak_counter_result[0]\n",
    "        win_streak = streak_counter_result[1]\n",
    "\n",
    "        ### ls = lose streak // ws = win streak\n",
    "        ### means within one window (50 games)\n",
    "        ls_mean = np.mean(lose_streak)\n",
    "        ws_mean = np.mean(win_streak)\n",
    "\n",
    "        ### standard deviations within one window (50 games)\n",
    "        ls_std = np.std(lose_streak)\n",
    "        ws_std = np.std(win_streak)\n",
    "\n",
    "\n",
    "        ### z scores\n",
    "        ### (x_bar_1 - mu1) / (std1/np.sqrt(n1))\n",
    "        z_0 = (ls_mean - pop_mean_0) / (pop_std_0/np.sqrt(len(lose_streak)))\n",
    "        z_1 = (ws_mean - pop_mean_1) / (pop_std_1/np.sqrt(len(win_streak)))\n",
    "\n",
    "\n",
    "        if abs(z_0) >= 1.96 or abs(z_1) >= 1.96:\n",
    "            critical_count += 1\n",
    "            # print(f'i ~ i+50 : {i} ~ {i+50}, z_0 : {z_0}, z_1 : {z_1}')\n",
    "\n",
    "        # print(f'z_1 : {z_1}')\n",
    "\n",
    "    crit_count_list.append(critical_count)\n",
    "    # print(f'critical_count : {critical_count}')\n",
    "    \n",
    "# print(crit_count_list)"
   ]
  },
  {
   "cell_type": "code",
   "execution_count": 34,
   "id": "3227a550-cf92-4cce-99e5-05b1a8fd8307",
   "metadata": {
    "tags": []
   },
   "outputs": [
    {
     "name": "stdout",
     "output_type": "stream",
     "text": [
      "194.937\n",
      "12.846518244255913\n"
     ]
    }
   ],
   "source": [
    "print(np.mean(crit_count_list))\n",
    "print(np.std(crit_count_list))"
   ]
  },
  {
   "cell_type": "code",
   "execution_count": 35,
   "id": "e36a570c-0496-4aac-88e7-2a66ffa76d98",
   "metadata": {
    "tags": []
   },
   "outputs": [
    {
     "name": "stdout",
     "output_type": "stream",
     "text": [
      "219.47591420277487\n"
     ]
    }
   ],
   "source": [
    "z_crit_count = (np.mean(crit_count_list) - perfectmm_pop_crit_count_mean) / (perfectmm_pop_crit_count_std/np.sqrt(len(crit_count_list)))\n",
    "print(z_crit_count)"
   ]
  },
  {
   "cell_type": "code",
   "execution_count": null,
   "id": "2363daec-4db9-4395-b3b5-c11713a7ca17",
   "metadata": {},
   "outputs": [],
   "source": []
  },
  {
   "cell_type": "markdown",
   "id": "1190f2a5-2ae1-4c67-be90-669b1fe8a19c",
   "metadata": {},
   "source": [
    "## PerfectMM Critical Count Mean & Standard Deviation to be used as True Population  \n",
    "-> Defined above in 'PerfectMM vs Population'  \n",
    "-> Now renamed as ... true_pop_crit_count_mean & true_pop_crit_count_std  "
   ]
  },
  {
   "cell_type": "code",
   "execution_count": 108,
   "id": "871eec1c-4b15-428a-8c3e-da90e8317fcb",
   "metadata": {
    "tags": []
   },
   "outputs": [
    {
     "name": "stdout",
     "output_type": "stream",
     "text": [
      "22.763\n",
      "20.68953433502069\n"
     ]
    }
   ],
   "source": [
    "# perfectmm_pop_crit_count_mean = np.mean(crit_count_list)\n",
    "# perfectmm_pop_crit_count_std = np.std(crit_count_list)\n",
    "\n",
    "print(perfectmm_pop_crit_count_mean)\n",
    "print(perfectmm_pop_crit_count_std)\n",
    "\n",
    "# perfectmm_pop_crit_count_mean = 22.763\n",
    "# perfectmm_pop_crit_count_std = 20.68953433502069\n",
    "\n",
    "# print(np.mean(crit_count_list))\n",
    "# print(np.std(crit_count_list))"
   ]
  },
  {
   "cell_type": "code",
   "execution_count": 109,
   "id": "65e92279-a578-493a-902f-875f71c2df6b",
   "metadata": {
    "tags": []
   },
   "outputs": [],
   "source": [
    "true_pop_crit_count_mean = perfectmm_pop_crit_count_mean\n",
    "true_pop_crit_count_std = perfectmm_pop_crit_count_std"
   ]
  },
  {
   "cell_type": "code",
   "execution_count": null,
   "id": "48e6ceda-20fa-4805-98d2-a850bbf0b49e",
   "metadata": {},
   "outputs": [],
   "source": []
  },
  {
   "cell_type": "markdown",
   "id": "b4cb0973-cba1-4df3-b238-aad6b25898da",
   "metadata": {},
   "source": [
    "### Live Data - Bronze 0"
   ]
  },
  {
   "cell_type": "code",
   "execution_count": 113,
   "id": "f0fa4c49-ccad-41ee-81a3-1b2713d740f9",
   "metadata": {
    "tags": []
   },
   "outputs": [
    {
     "name": "stdout",
     "output_type": "stream",
     "text": [
      "['live_data/raw/bronze/partition_0\\\\03한주민.txt', 'live_data/raw/bronze/partition_0\\\\0서풋0.txt', 'live_data/raw/bronze/partition_0\\\\1161kk.txt', 'live_data/raw/bronze/partition_0\\\\12312415411213.txt', 'live_data/raw/bronze/partition_0\\\\123세봐넌디짐.txt']\n",
      "len before removal of 0s : 813\n",
      "len after removal of 0s : 625\n",
      "8.766026197748092\n"
     ]
    }
   ],
   "source": [
    "parent_data_folder = 'live_data/raw'\n",
    "\n",
    "datafiles_list = glob.glob(f'{parent_data_folder}/bronze/partition_0/*.txt')\n",
    "print(datafiles_list[:5])\n",
    "\n",
    "\n",
    "crit_count_list = []\n",
    "for one_record_file in datafiles_list:\n",
    "    with open(one_record_file, 'r') as datafile:\n",
    "        one_record = datafile.read()\n",
    "    \n",
    "    one_record = ast.literal_eval(one_record)\n",
    "    # print(f'length : {len(one_record)}')\n",
    "    \n",
    "    \n",
    "    ### critical count analysis\n",
    "    llen = len(one_record)\n",
    "\n",
    "    critical_count = 0\n",
    "    for i in range(llen-50):\n",
    "        # print(i , i+50)\n",
    "        one_window = one_record[i:i+50]\n",
    "    \n",
    "        streak_counter_result = streak_counter(one_window)\n",
    "        lose_streak = streak_counter_result[0]\n",
    "        win_streak = streak_counter_result[1]\n",
    "\n",
    "        ### ls = lose streak // ws = win streak\n",
    "        ### means within one window (50 games)\n",
    "        ls_mean = np.mean(lose_streak)\n",
    "        ws_mean = np.mean(win_streak)\n",
    "\n",
    "        ### standard deviations within one window (50 games)\n",
    "        ls_std = np.std(lose_streak)\n",
    "        ws_std = np.std(win_streak)\n",
    "\n",
    "\n",
    "        ### z scores\n",
    "        ### (x_bar_1 - mu1) / (std1/np.sqrt(number_of_streak_durations))\n",
    "        z_0 = (ls_mean - pop_mean_0) / (pop_std_0/np.sqrt(len(lose_streak)))\n",
    "        z_1 = (ws_mean - pop_mean_1) / (pop_std_1/np.sqrt(len(win_streak)))\n",
    "\n",
    "    \n",
    "\n",
    "        if abs(z_0) >= 1.96 or abs(z_1) >= 1.96:\n",
    "            critical_count += 1\n",
    "            # print(f'i ~ i+50 : {i} ~ {i+50}, z_0 : {z_0}, z_1 : {z_1}')\n",
    "        \n",
    "    crit_count_list.append(critical_count)\n",
    "    \n",
    "    # print(f'critical_count : {critical_count}')\n",
    "    # print('-----------------')\n",
    "        # print(f'z_1 : {z_1}')\n",
    "        \n",
    "print(f'len before removal of 0s : {len(crit_count_list)}')\n",
    "### remove 0s\n",
    "crit_count_list = [x for x in crit_count_list if x != 0]\n",
    "print(f'len after removal of 0s : {len(crit_count_list)}')\n",
    "        \n",
    "z_crit_count = (np.mean(crit_count_list) - true_pop_crit_count_mean) / (true_pop_crit_count_std/np.sqrt(len(crit_count_list)))\n",
    "print(z_crit_count)\n",
    "print('-------------------------')"
   ]
  },
  {
   "cell_type": "markdown",
   "id": "c916b2d7-daa9-4e9d-a41f-2341c50e5cc2",
   "metadata": {},
   "source": [
    "### Live Data - Bronze 1"
   ]
  },
  {
   "cell_type": "code",
   "execution_count": 114,
   "id": "e386f735-d491-4ccd-8f7c-652bc1bf8413",
   "metadata": {
    "tags": []
   },
   "outputs": [
    {
     "name": "stdout",
     "output_type": "stream",
     "text": [
      "['live_data/raw/bronze/partition_1\\\\0l븥린.txt', 'live_data/raw/bronze/partition_1\\\\0tlqkf0.txt', 'live_data/raw/bronze/partition_1\\\\1017번째계정.txt', 'live_data/raw/bronze/partition_1\\\\1249559del.txt', 'live_data/raw/bronze/partition_1\\\\145cm.txt']\n",
      "len before removal of 0s : 985\n",
      "len after removal of 0s : 703\n",
      "8.388446210463274\n",
      "-------------------------\n"
     ]
    }
   ],
   "source": [
    "parent_data_folder = 'live_data/raw'\n",
    "\n",
    "datafiles_list = glob.glob(f'{parent_data_folder}/bronze/partition_1/*.txt')\n",
    "print(datafiles_list[:5])\n",
    "\n",
    "\n",
    "crit_count_list = []\n",
    "for one_record_file in datafiles_list:\n",
    "    with open(one_record_file, 'r') as datafile:\n",
    "        one_record = datafile.read()\n",
    "    \n",
    "    one_record = ast.literal_eval(one_record)\n",
    "    # print(f'length : {len(one_record)}')\n",
    "    \n",
    "    \n",
    "    ### critical count analysis\n",
    "    llen = len(one_record)\n",
    "\n",
    "    critical_count = 0\n",
    "    for i in range(llen-50):\n",
    "        # print(i , i+50)\n",
    "        one_window = one_record[i:i+50]\n",
    "    \n",
    "        streak_counter_result = streak_counter(one_window)\n",
    "        lose_streak = streak_counter_result[0]\n",
    "        win_streak = streak_counter_result[1]\n",
    "\n",
    "        ### ls = lose streak // ws = win streak\n",
    "        ### means within one window (50 games)\n",
    "        ls_mean = np.mean(lose_streak)\n",
    "        ws_mean = np.mean(win_streak)\n",
    "\n",
    "        ### standard deviations within one window (50 games)\n",
    "        ls_std = np.std(lose_streak)\n",
    "        ws_std = np.std(win_streak)\n",
    "\n",
    "\n",
    "        ### z scores\n",
    "        ### (x_bar_1 - mu1) / (std1/np.sqrt(number_of_streak_durations))\n",
    "        z_0 = (ls_mean - pop_mean_0) / (pop_std_0/np.sqrt(len(lose_streak)))\n",
    "        z_1 = (ws_mean - pop_mean_1) / (pop_std_1/np.sqrt(len(win_streak)))\n",
    "\n",
    "    \n",
    "\n",
    "        if abs(z_0) >= 1.96 or abs(z_1) >= 1.96:\n",
    "            critical_count += 1\n",
    "            # print(f'i ~ i+50 : {i} ~ {i+50}, z_0 : {z_0}, z_1 : {z_1}')\n",
    "        \n",
    "    crit_count_list.append(critical_count)\n",
    "    \n",
    "    # print(f'critical_count : {critical_count}')\n",
    "    # print('-----------------')\n",
    "        # print(f'z_1 : {z_1}')\n",
    "        \n",
    "print(f'len before removal of 0s : {len(crit_count_list)}')\n",
    "### remove 0s\n",
    "crit_count_list = [x for x in crit_count_list if x != 0]\n",
    "print(f'len after removal of 0s : {len(crit_count_list)}')\n",
    "        \n",
    "z_crit_count = (np.mean(crit_count_list) - true_pop_crit_count_mean) / (true_pop_crit_count_std/np.sqrt(len(crit_count_list)))\n",
    "print(z_crit_count)\n",
    "print('-------------------------')"
   ]
  },
  {
   "cell_type": "code",
   "execution_count": null,
   "id": "e0ac923b-7435-4434-a845-70f804eda75d",
   "metadata": {},
   "outputs": [],
   "source": []
  },
  {
   "cell_type": "markdown",
   "id": "4eaae535-c721-4d1a-a87c-420d57522a82",
   "metadata": {},
   "source": [
    "### For All the REST of ELOS & PARTITIONS"
   ]
  },
  {
   "cell_type": "code",
   "execution_count": 119,
   "id": "449c3d48-2549-4034-b1fa-044dbec3fdd9",
   "metadata": {
    "tags": []
   },
   "outputs": [
    {
     "name": "stdout",
     "output_type": "stream",
     "text": [
      "2023-12-17 20:40:14\n",
      "\n",
      "\n",
      "live_data/raw\\bronze\n",
      "['live_data/raw\\\\bronze\\\\partition_0', 'live_data/raw\\\\bronze\\\\partition_1', 'live_data/raw\\\\bronze\\\\partition_2', 'live_data/raw\\\\bronze\\\\partition_3', 'live_data/raw\\\\bronze\\\\partition_4']\n",
      "['live_data/raw\\\\bronze\\\\partition_0\\\\03한주민.txt', 'live_data/raw\\\\bronze\\\\partition_0\\\\0서풋0.txt']\n",
      "len before removal of 0s : 813\n",
      "len after removal of 0s : 625\n",
      "8.766026197748092\n",
      "--------End of One Partition-----------------\n",
      "['live_data/raw\\\\bronze\\\\partition_1\\\\0l븥린.txt', 'live_data/raw\\\\bronze\\\\partition_1\\\\0tlqkf0.txt']\n",
      "len before removal of 0s : 985\n",
      "len after removal of 0s : 703\n",
      "8.388446210463274\n",
      "--------End of One Partition-----------------\n",
      "['live_data/raw\\\\bronze\\\\partition_2\\\\00나리00.txt', 'live_data/raw\\\\bronze\\\\partition_2\\\\01031784315.txt']\n",
      "len before removal of 0s : 992\n",
      "len after removal of 0s : 879\n",
      "11.453049635071576\n",
      "--------End of One Partition-----------------\n",
      "['live_data/raw\\\\bronze\\\\partition_3\\\\0120123.txt', 'live_data/raw\\\\bronze\\\\partition_3\\\\081621.txt']\n",
      "len before removal of 0s : 990\n",
      "len after removal of 0s : 886\n",
      "13.48400243197838\n",
      "--------End of One Partition-----------------\n",
      "['live_data/raw\\\\bronze\\\\partition_4\\\\01044024144.txt', 'live_data/raw\\\\bronze\\\\partition_4\\\\07사일원탑.txt']\n",
      "len before removal of 0s : 385\n",
      "len after removal of 0s : 346\n",
      "6.618209651301364\n",
      "--------End of One Partition-----------------\n",
      "live_data/raw\\ch_gm_m\n",
      "['live_data/raw\\\\ch_gm_m\\\\partition_0', 'live_data/raw\\\\ch_gm_m\\\\partition_1', 'live_data/raw\\\\ch_gm_m\\\\partition_2', 'live_data/raw\\\\ch_gm_m\\\\partition_3', 'live_data/raw\\\\ch_gm_m\\\\partition_4', 'live_data/raw\\\\ch_gm_m\\\\partition_5', 'live_data/raw\\\\ch_gm_m\\\\partition_6', 'live_data/raw\\\\ch_gm_m\\\\partition_7']\n",
      "['live_data/raw\\\\ch_gm_m\\\\partition_0\\\\01033431336.txt', 'live_data/raw\\\\ch_gm_m\\\\partition_0\\\\05qwq.txt']\n",
      "len before removal of 0s : 999\n",
      "len after removal of 0s : 847\n",
      "16.394615788049894\n",
      "--------End of One Partition-----------------\n",
      "['live_data/raw\\\\ch_gm_m\\\\partition_1\\\\02영재.txt', 'live_data/raw\\\\ch_gm_m\\\\partition_1\\\\02유부남.txt']\n",
      "len before removal of 0s : 1000\n",
      "len after removal of 0s : 812\n",
      "20.695813419567887\n",
      "--------End of One Partition-----------------\n",
      "['live_data/raw\\\\ch_gm_m\\\\partition_2\\\\00동현.txt', 'live_data/raw\\\\ch_gm_m\\\\partition_2\\\\0102609352.txt']\n",
      "len before removal of 0s : 1000\n",
      "len after removal of 0s : 778\n",
      "19.292421955184757\n",
      "--------End of One Partition-----------------\n",
      "['live_data/raw\\\\ch_gm_m\\\\partition_3\\\\01년생의정부대표.txt', 'live_data/raw\\\\ch_gm_m\\\\partition_3\\\\03aug21.txt']\n",
      "len before removal of 0s : 1000\n",
      "len after removal of 0s : 801\n",
      "14.073572348270117\n",
      "--------End of One Partition-----------------\n",
      "['live_data/raw\\\\ch_gm_m\\\\partition_4\\\\01024891970.txt', 'live_data/raw\\\\ch_gm_m\\\\partition_4\\\\07tophansung.txt']\n",
      "len before removal of 0s : 433\n",
      "len after removal of 0s : 375\n",
      "11.940251469057198\n",
      "--------End of One Partition-----------------\n",
      "['live_data/raw\\\\ch_gm_m\\\\partition_5\\\\03jgl.txt', 'live_data/raw\\\\ch_gm_m\\\\partition_5\\\\08년생자크장인.txt']\n",
      "len before removal of 0s : 999\n",
      "len after removal of 0s : 829\n",
      "12.023613754748128\n",
      "--------End of One Partition-----------------\n",
      "['live_data/raw\\\\ch_gm_m\\\\partition_6\\\\04년생akaps.txt', 'live_data/raw\\\\ch_gm_m\\\\partition_6\\\\04탑.txt']\n",
      "len before removal of 0s : 999\n",
      "len after removal of 0s : 821\n",
      "12.886857256189566\n",
      "--------End of One Partition-----------------\n",
      "['live_data/raw\\\\ch_gm_m\\\\partition_7\\\\01팍순이.txt', 'live_data/raw\\\\ch_gm_m\\\\partition_7\\\\05소년.txt']\n",
      "len before removal of 0s : 902\n",
      "len after removal of 0s : 753\n",
      "14.829827026071555\n",
      "--------End of One Partition-----------------\n",
      "live_data/raw\\diamond\n",
      "['live_data/raw\\\\diamond\\\\partition_0', 'live_data/raw\\\\diamond\\\\partition_1', 'live_data/raw\\\\diamond\\\\partition_10', 'live_data/raw\\\\diamond\\\\partition_11', 'live_data/raw\\\\diamond\\\\partition_12', 'live_data/raw\\\\diamond\\\\partition_13', 'live_data/raw\\\\diamond\\\\partition_14', 'live_data/raw\\\\diamond\\\\partition_15', 'live_data/raw\\\\diamond\\\\partition_16', 'live_data/raw\\\\diamond\\\\partition_17', 'live_data/raw\\\\diamond\\\\partition_18', 'live_data/raw\\\\diamond\\\\partition_19', 'live_data/raw\\\\diamond\\\\partition_2', 'live_data/raw\\\\diamond\\\\partition_20', 'live_data/raw\\\\diamond\\\\partition_21', 'live_data/raw\\\\diamond\\\\partition_22', 'live_data/raw\\\\diamond\\\\partition_23', 'live_data/raw\\\\diamond\\\\partition_3', 'live_data/raw\\\\diamond\\\\partition_4', 'live_data/raw\\\\diamond\\\\partition_5', 'live_data/raw\\\\diamond\\\\partition_6', 'live_data/raw\\\\diamond\\\\partition_7', 'live_data/raw\\\\diamond\\\\partition_8', 'live_data/raw\\\\diamond\\\\partition_9']\n",
      "['live_data/raw\\\\diamond\\\\partition_0\\\\01042834417.txt', 'live_data/raw\\\\diamond\\\\partition_0\\\\01081210087.txt']\n",
      "len before removal of 0s : 999\n",
      "len after removal of 0s : 874\n",
      "17.322085798748418\n",
      "--------End of One Partition-----------------\n",
      "['live_data/raw\\\\diamond\\\\partition_1\\\\01086007430.txt', 'live_data/raw\\\\diamond\\\\partition_1\\\\06061220.txt']\n",
      "len before removal of 0s : 999\n",
      "len after removal of 0s : 888\n",
      "14.309758427565349\n",
      "--------End of One Partition-----------------\n",
      "['live_data/raw\\\\diamond\\\\partition_10\\\\001220.txt', 'live_data/raw\\\\diamond\\\\partition_10\\\\01085172247.txt']\n",
      "len before removal of 0s : 999\n",
      "len after removal of 0s : 870\n",
      "16.65076647156412\n",
      "--------End of One Partition-----------------\n",
      "['live_data/raw\\\\diamond\\\\partition_11\\\\000320.txt', 'live_data/raw\\\\diamond\\\\partition_11\\\\01047040162.txt']\n",
      "len before removal of 0s : 1000\n",
      "len after removal of 0s : 849\n",
      "16.06090714953085\n",
      "--------End of One Partition-----------------\n",
      "['live_data/raw\\\\diamond\\\\partition_12\\\\00xxxx.txt', 'live_data/raw\\\\diamond\\\\partition_12\\\\01년프로준비생.txt']\n",
      "len before removal of 0s : 998\n",
      "len after removal of 0s : 866\n",
      "15.891034646465641\n",
      "--------End of One Partition-----------------\n",
      "['live_data/raw\\\\diamond\\\\partition_13\\\\01092046073.txt', 'live_data/raw\\\\diamond\\\\partition_13\\\\01094583997.txt']\n",
      "len before removal of 0s : 996\n",
      "len after removal of 0s : 864\n",
      "15.252544142287883\n",
      "--------End of One Partition-----------------\n",
      "['live_data/raw\\\\diamond\\\\partition_14\\\\01092823304.txt', 'live_data/raw\\\\diamond\\\\partition_14\\\\01092977049.txt']\n",
      "len before removal of 0s : 998\n",
      "len after removal of 0s : 866\n",
      "19.33852275300928\n",
      "--------End of One Partition-----------------\n",
      "['live_data/raw\\\\diamond\\\\partition_15\\\\00o0o0ooo0o.txt', 'live_data/raw\\\\diamond\\\\partition_15\\\\022220.txt']\n",
      "len before removal of 0s : 1000\n",
      "len after removal of 0s : 859\n",
      "17.45361621613393\n",
      "--------End of One Partition-----------------\n",
      "['live_data/raw\\\\diamond\\\\partition_16\\\\0419.txt', 'live_data/raw\\\\diamond\\\\partition_16\\\\08년건달지망생.txt']\n",
      "len before removal of 0s : 998\n",
      "len after removal of 0s : 853\n",
      "14.89777957631805\n",
      "--------End of One Partition-----------------\n",
      "['live_data/raw\\\\diamond\\\\partition_17\\\\01055097965.txt', 'live_data/raw\\\\diamond\\\\partition_17\\\\04은가뉴.txt']\n",
      "len before removal of 0s : 999\n",
      "len after removal of 0s : 875\n",
      "15.75702822348603\n",
      "--------End of One Partition-----------------\n",
      "['live_data/raw\\\\diamond\\\\partition_18\\\\04년생오성현.txt', 'live_data/raw\\\\diamond\\\\partition_18\\\\06midwtbpro.txt']\n",
      "len before removal of 0s : 1000\n",
      "len after removal of 0s : 859\n",
      "16.858283288332036\n",
      "--------End of One Partition-----------------\n",
      "['live_data/raw\\\\diamond\\\\partition_19\\\\00great.txt', 'live_data/raw\\\\diamond\\\\partition_19\\\\01년생전재욱.txt']\n",
      "len before removal of 0s : 1000\n",
      "len after removal of 0s : 874\n",
      "18.558076954678032\n",
      "--------End of One Partition-----------------\n",
      "['live_data/raw\\\\diamond\\\\partition_2\\\\01040599067.txt', 'live_data/raw\\\\diamond\\\\partition_2\\\\01047224462.txt']\n",
      "len before removal of 0s : 999\n",
      "len after removal of 0s : 848\n",
      "13.976994281602071\n",
      "--------End of One Partition-----------------\n",
      "['live_data/raw\\\\diamond\\\\partition_20\\\\010115.txt', 'live_data/raw\\\\diamond\\\\partition_20\\\\01029326103.txt']\n",
      "len before removal of 0s : 998\n",
      "len after removal of 0s : 856\n",
      "14.768748753947529\n",
      "--------End of One Partition-----------------\n",
      "['live_data/raw\\\\diamond\\\\partition_21\\\\00년식원딜러.txt', 'live_data/raw\\\\diamond\\\\partition_21\\\\01025187458.txt']\n",
      "len before removal of 0s : 1000\n",
      "len after removal of 0s : 882\n",
      "17.537752806186667\n",
      "--------End of One Partition-----------------\n",
      "['live_data/raw\\\\diamond\\\\partition_22\\\\01056852281.txt', 'live_data/raw\\\\diamond\\\\partition_22\\\\024539.txt']\n",
      "len before removal of 0s : 1000\n",
      "len after removal of 0s : 912\n",
      "16.400409955736382\n",
      "--------End of One Partition-----------------\n",
      "['live_data/raw\\\\diamond\\\\partition_23\\\\00년생변창훈.txt', 'live_data/raw\\\\diamond\\\\partition_23\\\\01095888836.txt']\n",
      "len before removal of 0s : 944\n",
      "len after removal of 0s : 827\n",
      "17.971985330884902\n",
      "--------End of One Partition-----------------\n",
      "['live_data/raw\\\\diamond\\\\partition_3\\\\04ruler.txt', 'live_data/raw\\\\diamond\\\\partition_3\\\\08win.txt']\n",
      "len before removal of 0s : 956\n",
      "len after removal of 0s : 816\n",
      "16.156022334273338\n",
      "--------End of One Partition-----------------\n",
      "['live_data/raw\\\\diamond\\\\partition_4\\\\01022957859.txt', 'live_data/raw\\\\diamond\\\\partition_4\\\\01033431336.txt']\n",
      "len before removal of 0s : 1000\n",
      "len after removal of 0s : 862\n",
      "18.028562065551135\n",
      "--------End of One Partition-----------------\n",
      "['live_data/raw\\\\diamond\\\\partition_5\\\\00둥22.txt', 'live_data/raw\\\\diamond\\\\partition_5\\\\02젤리.txt']\n",
      "len before removal of 0s : 999\n",
      "len after removal of 0s : 863\n",
      "14.839792955543318\n",
      "--------End of One Partition-----------------\n",
      "['live_data/raw\\\\diamond\\\\partition_6\\\\06gaoqiqiang.txt', 'live_data/raw\\\\diamond\\\\partition_6\\\\06년생akaps.txt']\n",
      "len before removal of 0s : 988\n",
      "len after removal of 0s : 848\n",
      "18.02686522852189\n",
      "--------End of One Partition-----------------\n",
      "['live_data/raw\\\\diamond\\\\partition_7\\\\0010101100101.txt', 'live_data/raw\\\\diamond\\\\partition_7\\\\04jugmaomao.txt']\n",
      "len before removal of 0s : 1000\n",
      "len after removal of 0s : 854\n",
      "16.399495951866708\n",
      "--------End of One Partition-----------------\n",
      "['live_data/raw\\\\diamond\\\\partition_8\\\\06ruler.txt', 'live_data/raw\\\\diamond\\\\partition_8\\\\06년생독신최준호.txt']\n",
      "len before removal of 0s : 995\n",
      "len after removal of 0s : 859\n",
      "15.972704944205677\n",
      "--------End of One Partition-----------------\n",
      "['live_data/raw\\\\diamond\\\\partition_9\\\\01pnzs.txt', 'live_data/raw\\\\diamond\\\\partition_9\\\\07한정훈.txt']\n",
      "len before removal of 0s : 998\n",
      "len after removal of 0s : 848\n",
      "16.556297335501004\n",
      "--------End of One Partition-----------------\n",
      "live_data/raw\\emerald\n",
      "['live_data/raw\\\\emerald\\\\partition_0', 'live_data/raw\\\\emerald\\\\partition_1', 'live_data/raw\\\\emerald\\\\partition_10', 'live_data/raw\\\\emerald\\\\partition_11', 'live_data/raw\\\\emerald\\\\partition_12', 'live_data/raw\\\\emerald\\\\partition_13', 'live_data/raw\\\\emerald\\\\partition_14', 'live_data/raw\\\\emerald\\\\partition_2', 'live_data/raw\\\\emerald\\\\partition_3', 'live_data/raw\\\\emerald\\\\partition_4', 'live_data/raw\\\\emerald\\\\partition_5', 'live_data/raw\\\\emerald\\\\partition_6', 'live_data/raw\\\\emerald\\\\partition_7', 'live_data/raw\\\\emerald\\\\partition_8', 'live_data/raw\\\\emerald\\\\partition_9']\n",
      "['live_data/raw\\\\emerald\\\\partition_0\\\\01059248681.txt', 'live_data/raw\\\\emerald\\\\partition_0\\\\09김윤재.txt']\n",
      "len before removal of 0s : 991\n",
      "len after removal of 0s : 895\n",
      "14.829912113418432\n",
      "--------End of One Partition-----------------\n",
      "['live_data/raw\\\\emerald\\\\partition_1\\\\00프로바텀지망생.txt', 'live_data/raw\\\\emerald\\\\partition_1\\\\03년생민뚜니.txt']\n",
      "len before removal of 0s : 965\n",
      "len after removal of 0s : 868\n",
      "14.26903634922668\n",
      "--------End of One Partition-----------------\n",
      "['live_data/raw\\\\emerald\\\\partition_10\\\\01045329788.txt', 'live_data/raw\\\\emerald\\\\partition_10\\\\01090763545.txt']\n",
      "len before removal of 0s : 997\n",
      "len after removal of 0s : 868\n",
      "10.892784835989351\n",
      "--------End of One Partition-----------------\n",
      "['live_data/raw\\\\emerald\\\\partition_11\\\\09년생의검.txt', 'live_data/raw\\\\emerald\\\\partition_11\\\\0x제비.txt']\n",
      "len before removal of 0s : 997\n",
      "len after removal of 0s : 876\n",
      "12.051212912135368\n",
      "--------End of One Partition-----------------\n",
      "['live_data/raw\\\\emerald\\\\partition_12\\\\000511.txt', 'live_data/raw\\\\emerald\\\\partition_12\\\\01023770724.txt']\n",
      "len before removal of 0s : 998\n",
      "len after removal of 0s : 872\n",
      "13.018420099401215\n",
      "--------End of One Partition-----------------\n",
      "['live_data/raw\\\\emerald\\\\partition_13\\\\00년생백정러.txt', 'live_data/raw\\\\emerald\\\\partition_13\\\\03최현호.txt']\n",
      "len before removal of 0s : 998\n",
      "len after removal of 0s : 883\n",
      "10.234729079682468\n",
      "--------End of One Partition-----------------\n",
      "['live_data/raw\\\\emerald\\\\partition_14\\\\1swim.txt', 'live_data/raw\\\\emerald\\\\partition_14\\\\22732570del.txt']\n",
      "len before removal of 0s : 167\n",
      "len after removal of 0s : 147\n",
      "4.651591336969133\n",
      "--------End of One Partition-----------------\n",
      "['live_data/raw\\\\emerald\\\\partition_2\\\\00년생양성애자.txt', 'live_data/raw\\\\emerald\\\\partition_2\\\\00프로바텀지망생.txt']\n",
      "len before removal of 0s : 965\n",
      "len after removal of 0s : 841\n",
      "17.002294301457802\n",
      "--------End of One Partition-----------------\n",
      "['live_data/raw\\\\emerald\\\\partition_3\\\\01054753423.txt', 'live_data/raw\\\\emerald\\\\partition_3\\\\04chovy.txt']\n",
      "len before removal of 0s : 998\n",
      "len after removal of 0s : 867\n",
      "14.844831408377468\n",
      "--------End of One Partition-----------------\n",
      "['live_data/raw\\\\emerald\\\\partition_4\\\\03김도현.txt', 'live_data/raw\\\\emerald\\\\partition_4\\\\070517.txt']\n",
      "len before removal of 0s : 997\n",
      "len after removal of 0s : 862\n",
      "12.454361322337034\n",
      "--------End of One Partition-----------------\n",
      "['live_data/raw\\\\emerald\\\\partition_5\\\\02년생원딜지망생.txt', 'live_data/raw\\\\emerald\\\\partition_5\\\\02하쿠나마타타.txt']\n",
      "len before removal of 0s : 996\n",
      "len after removal of 0s : 870\n",
      "12.881841484963388\n",
      "--------End of One Partition-----------------\n",
      "['live_data/raw\\\\emerald\\\\partition_6\\\\01수영.txt', 'live_data/raw\\\\emerald\\\\partition_6\\\\09군필프로지망.txt']\n",
      "len before removal of 0s : 1000\n",
      "len after removal of 0s : 870\n",
      "14.953111564556135\n",
      "--------End of One Partition-----------------\n",
      "['live_data/raw\\\\emerald\\\\partition_7\\\\09년생ja궁폭격기.txt', 'live_data/raw\\\\emerald\\\\partition_7\\\\10존잘러스.txt']\n",
      "len before removal of 0s : 997\n",
      "len after removal of 0s : 862\n",
      "11.295401687599075\n",
      "--------End of One Partition-----------------\n",
      "['live_data/raw\\\\emerald\\\\partition_8\\\\02xiaguqianfen.txt', 'live_data/raw\\\\emerald\\\\partition_8\\\\08팽현숙의컨트롤.txt']\n",
      "len before removal of 0s : 999\n",
      "len after removal of 0s : 875\n",
      "12.518490892007238\n",
      "--------End of One Partition-----------------\n",
      "['live_data/raw\\\\emerald\\\\partition_9\\\\00년생k8오너종환.txt', 'live_data/raw\\\\emerald\\\\partition_9\\\\01021242602.txt']\n",
      "len before removal of 0s : 999\n",
      "len after removal of 0s : 884\n",
      "13.319656764004275\n",
      "--------End of One Partition-----------------\n",
      "live_data/raw\\gold\n",
      "['live_data/raw\\\\gold\\\\partition_0', 'live_data/raw\\\\gold\\\\partition_1', 'live_data/raw\\\\gold\\\\partition_2', 'live_data/raw\\\\gold\\\\partition_3', 'live_data/raw\\\\gold\\\\partition_4', 'live_data/raw\\\\gold\\\\partition_5', 'live_data/raw\\\\gold\\\\partition_6']\n",
      "['live_data/raw\\\\gold\\\\partition_0\\\\04년생임소연.txt', 'live_data/raw\\\\gold\\\\partition_0\\\\04안재헌.txt']\n",
      "len before removal of 0s : 998\n",
      "len after removal of 0s : 892\n",
      "14.693464155558406\n",
      "--------End of One Partition-----------------\n",
      "['live_data/raw\\\\gold\\\\partition_1\\\\0028112600126.txt', 'live_data/raw\\\\gold\\\\partition_1\\\\01022397415.txt']\n",
      "len before removal of 0s : 996\n",
      "len after removal of 0s : 887\n",
      "13.036982449213417\n",
      "--------End of One Partition-----------------\n",
      "['live_data/raw\\\\gold\\\\partition_2\\\\01035703804.txt', 'live_data/raw\\\\gold\\\\partition_2\\\\01년생딸기원딜러.txt']\n",
      "len before removal of 0s : 991\n",
      "len after removal of 0s : 886\n",
      "12.795511412710901\n",
      "--------End of One Partition-----------------\n",
      "['live_data/raw\\\\gold\\\\partition_3\\\\00년생원딜.txt', 'live_data/raw\\\\gold\\\\partition_3\\\\07wnahd.txt']\n",
      "len before removal of 0s : 991\n",
      "len after removal of 0s : 880\n",
      "12.51576427879512\n",
      "--------End of One Partition-----------------\n",
      "['live_data/raw\\\\gold\\\\partition_4\\\\01064947764.txt', 'live_data/raw\\\\gold\\\\partition_4\\\\05요네원탑.txt']\n",
      "len before removal of 0s : 993\n",
      "len after removal of 0s : 876\n",
      "12.645640031070249\n",
      "--------End of One Partition-----------------\n",
      "['live_data/raw\\\\gold\\\\partition_5\\\\01073766621.txt', 'live_data/raw\\\\gold\\\\partition_5\\\\01대장고독진.txt']\n",
      "len before removal of 0s : 994\n",
      "len after removal of 0s : 873\n",
      "12.87393853488139\n",
      "--------End of One Partition-----------------\n",
      "['live_data/raw\\\\gold\\\\partition_6\\\\01098118368.txt', 'live_data/raw\\\\gold\\\\partition_6\\\\01cm.txt']\n",
      "len before removal of 0s : 318\n",
      "len after removal of 0s : 279\n",
      "9.057505076279952\n",
      "--------End of One Partition-----------------\n",
      "live_data/raw\\silver\n",
      "['live_data/raw\\\\silver\\\\partition_0', 'live_data/raw\\\\silver\\\\partition_1', 'live_data/raw\\\\silver\\\\partition_2', 'live_data/raw\\\\silver\\\\partition_3', 'live_data/raw\\\\silver\\\\partition_4', 'live_data/raw\\\\silver\\\\partition_5']\n",
      "['live_data/raw\\\\silver\\\\partition_0\\\\010101001010.txt', 'live_data/raw\\\\silver\\\\partition_0\\\\01040417150.txt']\n",
      "len before removal of 0s : 996\n",
      "len after removal of 0s : 887\n",
      "14.210327569118814\n",
      "--------End of One Partition-----------------\n",
      "['live_data/raw\\\\silver\\\\partition_1\\\\018.txt', 'live_data/raw\\\\silver\\\\partition_1\\\\08손흥민.txt']\n",
      "len before removal of 0s : 992\n",
      "len after removal of 0s : 877\n",
      "13.299819827651962\n",
      "--------End of One Partition-----------------\n",
      "['live_data/raw\\\\silver\\\\partition_2\\\\01032565468.txt', 'live_data/raw\\\\silver\\\\partition_2\\\\04년생만나고싶다.txt']\n",
      "len before removal of 0s : 997\n",
      "len after removal of 0s : 888\n",
      "11.11609961601943\n",
      "--------End of One Partition-----------------\n",
      "['live_data/raw\\\\silver\\\\partition_3\\\\0510.txt', 'live_data/raw\\\\silver\\\\partition_3\\\\07련생원딜유저.txt']\n",
      "len before removal of 0s : 991\n",
      "len after removal of 0s : 888\n",
      "12.689410457664701\n",
      "--------End of One Partition-----------------\n",
      "['live_data/raw\\\\silver\\\\partition_4\\\\03o2.txt', 'live_data/raw\\\\silver\\\\partition_4\\\\08년생312330.txt']\n",
      "len before removal of 0s : 995\n",
      "len after removal of 0s : 867\n",
      "11.364860637641979\n",
      "--------End of One Partition-----------------\n",
      "['live_data/raw\\\\silver\\\\partition_5\\\\01048457943.txt', 'live_data/raw\\\\silver\\\\partition_5\\\\01075408479.txt']\n",
      "len before removal of 0s : 586\n",
      "len after removal of 0s : 524\n",
      "9.238051089879376\n",
      "--------End of One Partition-----------------\n",
      "\n",
      "----------------------------------------------------\n",
      "done in 1281.911s.\n",
      "2023-12-17 21:01:36\n"
     ]
    }
   ],
   "source": [
    "start = time()\n",
    "print(strftime('%Y-%m-%d %H:%M:%S', localtime()))\n",
    "print('\\n')\n",
    "##############################################################################################################################\n",
    "\n",
    "\n",
    "\n",
    "### https://stackoverflow.com/questions/74949556/poetry-fails-to-install-tensorflow\n",
    "\n",
    "### Training image data path\n",
    "# parent of ['saved_lists/perfectmm/', 'saved_lists/nearperfectmm/', 'saved_lists/streakmm/']\n",
    "parent_data_folder = 'live_data/raw'\n",
    "# print(parent_data_folder)\n",
    "\n",
    "elo_list = glob.glob(f'{parent_data_folder}/*') \n",
    "\n",
    "# print(elo_list)\n",
    "\n",
    "for item in elo_list:\n",
    "    partitions_list = glob.glob(f'{item}/*')\n",
    "    print(item)\n",
    "    print(partitions_list)\n",
    "    \n",
    "    for partition in partitions_list:\n",
    "        datafiles_list = glob.glob(f'{partition}/*.txt')\n",
    "        print(datafiles_list[:2])\n",
    "        \n",
    "        crit_count_list = []\n",
    "        for one_record_file in datafiles_list:\n",
    "            with open(one_record_file, 'r') as datafile:\n",
    "                one_record = datafile.read()\n",
    "            \n",
    "            one_record = ast.literal_eval(one_record)\n",
    "            \n",
    "            ### critical count analysis\n",
    "            llen = len(one_record)\n",
    "            \n",
    "            critical_count = 0\n",
    "            for i in range(llen-50):\n",
    "                # print(i , i+50)\n",
    "                one_window = one_record[i:i+50]\n",
    "                \n",
    "                streak_counter_result = streak_counter(one_window)\n",
    "                lose_streak = streak_counter_result[0]\n",
    "                win_streak = streak_counter_result[1]\n",
    "\n",
    "                ### ls = lose streak // ws = win streak\n",
    "                ### means within one window (50 games)\n",
    "                ls_mean = np.mean(lose_streak)\n",
    "                ws_mean = np.mean(win_streak)\n",
    "\n",
    "                ### standard deviations within one window (50 games)\n",
    "                ls_std = np.std(lose_streak)\n",
    "                ws_std = np.std(win_streak)\n",
    "\n",
    "\n",
    "                ### z scores\n",
    "                ### (x_bar_1 - mu1) / (std1/np.sqrt(number_of_streak_durations))\n",
    "                z_0 = (ls_mean - pop_mean_0) / (pop_std_0/np.sqrt(len(lose_streak)))\n",
    "                z_1 = (ws_mean - pop_mean_1) / (pop_std_1/np.sqrt(len(win_streak)))\n",
    "                \n",
    "                if abs(z_0) >= 1.96 or abs(z_1) >= 1.96:\n",
    "                    critical_count += 1\n",
    "                    # print(f'i ~ i+50 : {i} ~ {i+50}, z_0 : {z_0}, z_1 : {z_1}')\n",
    "                    \n",
    "            crit_count_list.append(critical_count)\n",
    "\n",
    "    \n",
    "        print(f'len before removal of 0s : {len(crit_count_list)}')\n",
    "        ### remove 0s\n",
    "        crit_count_list = [x for x in crit_count_list if x != 0]\n",
    "        print(f'len after removal of 0s : {len(crit_count_list)}')\n",
    "\n",
    "        z_crit_count = (np.mean(crit_count_list) - true_pop_crit_count_mean) / (true_pop_crit_count_std/np.sqrt(len(crit_count_list)))\n",
    "        print(z_crit_count)\n",
    "        print('--------End of One Partition-----------------')\n",
    "    \n",
    "    \n",
    "    \n",
    "    \n",
    "    \n",
    "    \n",
    "    \n",
    "##############################################################################################################################\n",
    "print('\\n----------------------------------------------------')\n",
    "print(\"done in %0.3fs.\" % (time() - start))\n",
    "print(strftime('%Y-%m-%d %H:%M:%S', localtime()))"
   ]
  },
  {
   "cell_type": "code",
   "execution_count": null,
   "id": "b0d5ecfd-e425-4dd6-8bb9-33fcb77103b6",
   "metadata": {},
   "outputs": [],
   "source": []
  },
  {
   "cell_type": "code",
   "execution_count": null,
   "id": "bd168ed4-d7c0-444a-aa06-b705a22497b2",
   "metadata": {},
   "outputs": [],
   "source": []
  },
  {
   "cell_type": "code",
   "execution_count": null,
   "id": "6f78edfe-7e01-475d-ae3a-4c6a76b34152",
   "metadata": {},
   "outputs": [],
   "source": []
  },
  {
   "cell_type": "code",
   "execution_count": null,
   "id": "ea6158c0-b89e-43b4-b030-0cbdcca983d7",
   "metadata": {},
   "outputs": [],
   "source": []
  },
  {
   "cell_type": "code",
   "execution_count": null,
   "id": "bddd00dc-b7ba-48d7-b6e9-d6f6f9457df6",
   "metadata": {},
   "outputs": [],
   "source": []
  },
  {
   "cell_type": "code",
   "execution_count": null,
   "id": "7bc5ac0c-84b4-456f-ae2b-9bc804048fc1",
   "metadata": {},
   "outputs": [],
   "source": []
  },
  {
   "cell_type": "code",
   "execution_count": null,
   "id": "f654961c-47f4-4be9-be8a-f3e1ef7f526f",
   "metadata": {},
   "outputs": [],
   "source": []
  }
 ],
 "metadata": {
  "kernelspec": {
   "display_name": "Python 3 (ipykernel)",
   "language": "python",
   "name": "python3"
  },
  "language_info": {
   "codemirror_mode": {
    "name": "ipython",
    "version": 3
   },
   "file_extension": ".py",
   "mimetype": "text/x-python",
   "name": "python",
   "nbconvert_exporter": "python",
   "pygments_lexer": "ipython3",
   "version": "3.11.5"
  }
 },
 "nbformat": 4,
 "nbformat_minor": 5
}
